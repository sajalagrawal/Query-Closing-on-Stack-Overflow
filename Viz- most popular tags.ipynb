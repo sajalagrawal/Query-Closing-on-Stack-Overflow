{
 "cells": [
  {
   "cell_type": "markdown",
   "metadata": {},
   "source": [
    "### MOST POPULAR TAGS"
   ]
  },
  {
   "cell_type": "code",
   "execution_count": 23,
   "metadata": {},
   "outputs": [],
   "source": [
    "import pandas as pd\n",
    "import matplotlib.pyplot as plt\n",
    "import numpy as np"
   ]
  },
  {
   "cell_type": "code",
   "execution_count": 24,
   "metadata": {},
   "outputs": [],
   "source": [
    "closeData=pd.read_csv(\"tagCount5Reasons.csv\") #5 reasons for closure(including duplicate)\n",
    "openData=pd.read_csv(\"tagWithOpenCount.csv\")"
   ]
  },
  {
   "cell_type": "code",
   "execution_count": 25,
   "metadata": {},
   "outputs": [
    {
     "data": {
      "text/plain": [
       "(26709, 3)"
      ]
     },
     "execution_count": 25,
     "metadata": {},
     "output_type": "execute_result"
    }
   ],
   "source": [
    "closeData.shape"
   ]
  },
  {
   "cell_type": "code",
   "execution_count": 26,
   "metadata": {},
   "outputs": [
    {
     "data": {
      "text/plain": [
       "(54126, 3)"
      ]
     },
     "execution_count": 26,
     "metadata": {},
     "output_type": "execute_result"
    }
   ],
   "source": [
    "openData.shape"
   ]
  },
  {
   "cell_type": "code",
   "execution_count": 27,
   "metadata": {},
   "outputs": [
    {
     "name": "stdout",
     "output_type": "stream",
     "text": [
      "   TagId  countOfQuesClosed     TagName  countOfQuesStillOpen\n",
      "0      1             9480.0        .net              263882.0\n",
      "1      2            42206.0        html              747022.0\n",
      "2      3            83529.0  javascript             1645699.0\n",
      "3      4            28584.0         css              535258.0\n",
      "4      5            68799.0         php             1160245.0\n",
      "(54168, 4)\n"
     ]
    }
   ],
   "source": [
    "mostPopularTags=closeData.merge(openData,how=\"outer\")\n",
    "print(mostPopularTags.head())\n",
    "print(mostPopularTags.shape)"
   ]
  },
  {
   "cell_type": "code",
   "execution_count": 28,
   "metadata": {},
   "outputs": [
    {
     "data": {
      "text/html": [
       "<div>\n",
       "<style scoped>\n",
       "    .dataframe tbody tr th:only-of-type {\n",
       "        vertical-align: middle;\n",
       "    }\n",
       "\n",
       "    .dataframe tbody tr th {\n",
       "        vertical-align: top;\n",
       "    }\n",
       "\n",
       "    .dataframe thead th {\n",
       "        text-align: right;\n",
       "    }\n",
       "</style>\n",
       "<table border=\"1\" class=\"dataframe\">\n",
       "  <thead>\n",
       "    <tr style=\"text-align: right;\">\n",
       "      <th></th>\n",
       "      <th>TagId</th>\n",
       "      <th>countOfQuesClosed</th>\n",
       "      <th>TagName</th>\n",
       "      <th>countOfQuesStillOpen</th>\n",
       "    </tr>\n",
       "  </thead>\n",
       "  <tbody>\n",
       "    <tr>\n",
       "      <th>26709</th>\n",
       "      <td>26</td>\n",
       "      <td>NaN</td>\n",
       "      <td>j#</td>\n",
       "      <td>57.0</td>\n",
       "    </tr>\n",
       "  </tbody>\n",
       "</table>\n",
       "</div>"
      ],
      "text/plain": [
       "       TagId  countOfQuesClosed TagName  countOfQuesStillOpen\n",
       "26709     26                NaN      j#                  57.0"
      ]
     },
     "execution_count": 28,
     "metadata": {},
     "output_type": "execute_result"
    }
   ],
   "source": [
    "mostPopularTags[mostPopularTags['TagId']==26]"
   ]
  },
  {
   "cell_type": "code",
   "execution_count": 29,
   "metadata": {},
   "outputs": [],
   "source": [
    "mostPopularTags.replace(np.nan,0,inplace=True)"
   ]
  },
  {
   "cell_type": "code",
   "execution_count": 30,
   "metadata": {},
   "outputs": [
    {
     "data": {
      "text/html": [
       "<div>\n",
       "<style scoped>\n",
       "    .dataframe tbody tr th:only-of-type {\n",
       "        vertical-align: middle;\n",
       "    }\n",
       "\n",
       "    .dataframe tbody tr th {\n",
       "        vertical-align: top;\n",
       "    }\n",
       "\n",
       "    .dataframe thead th {\n",
       "        text-align: right;\n",
       "    }\n",
       "</style>\n",
       "<table border=\"1\" class=\"dataframe\">\n",
       "  <thead>\n",
       "    <tr style=\"text-align: right;\">\n",
       "      <th></th>\n",
       "      <th>TagId</th>\n",
       "      <th>countOfQuesClosed</th>\n",
       "      <th>TagName</th>\n",
       "      <th>countOfQuesStillOpen</th>\n",
       "    </tr>\n",
       "  </thead>\n",
       "  <tbody>\n",
       "    <tr>\n",
       "      <th>26709</th>\n",
       "      <td>26</td>\n",
       "      <td>0.0</td>\n",
       "      <td>j#</td>\n",
       "      <td>57.0</td>\n",
       "    </tr>\n",
       "  </tbody>\n",
       "</table>\n",
       "</div>"
      ],
      "text/plain": [
       "       TagId  countOfQuesClosed TagName  countOfQuesStillOpen\n",
       "26709     26                0.0      j#                  57.0"
      ]
     },
     "execution_count": 30,
     "metadata": {},
     "output_type": "execute_result"
    }
   ],
   "source": [
    "mostPopularTags[mostPopularTags['TagId']==26]"
   ]
  },
  {
   "cell_type": "code",
   "execution_count": 31,
   "metadata": {},
   "outputs": [],
   "source": [
    "mostPopularTags['totalCount']=mostPopularTags['countOfQuesClosed']+mostPopularTags['countOfQuesStillOpen']"
   ]
  },
  {
   "cell_type": "code",
   "execution_count": 32,
   "metadata": {},
   "outputs": [],
   "source": [
    "mostPopularTags.sort_values(by=['totalCount'],ascending=False,inplace=True)"
   ]
  },
  {
   "cell_type": "code",
   "execution_count": 33,
   "metadata": {},
   "outputs": [
    {
     "data": {
      "text/html": [
       "<div>\n",
       "<style scoped>\n",
       "    .dataframe tbody tr th:only-of-type {\n",
       "        vertical-align: middle;\n",
       "    }\n",
       "\n",
       "    .dataframe tbody tr th {\n",
       "        vertical-align: top;\n",
       "    }\n",
       "\n",
       "    .dataframe thead th {\n",
       "        text-align: right;\n",
       "    }\n",
       "</style>\n",
       "<table border=\"1\" class=\"dataframe\">\n",
       "  <thead>\n",
       "    <tr style=\"text-align: right;\">\n",
       "      <th></th>\n",
       "      <th>TagId</th>\n",
       "      <th>countOfQuesClosed</th>\n",
       "      <th>TagName</th>\n",
       "      <th>countOfQuesStillOpen</th>\n",
       "      <th>totalCount</th>\n",
       "    </tr>\n",
       "  </thead>\n",
       "  <tbody>\n",
       "    <tr>\n",
       "      <th>2</th>\n",
       "      <td>3</td>\n",
       "      <td>83529.0</td>\n",
       "      <td>javascript</td>\n",
       "      <td>1645699.0</td>\n",
       "      <td>1729228.0</td>\n",
       "    </tr>\n",
       "    <tr>\n",
       "      <th>11</th>\n",
       "      <td>17</td>\n",
       "      <td>90416.0</td>\n",
       "      <td>java</td>\n",
       "      <td>1392180.0</td>\n",
       "      <td>1482596.0</td>\n",
       "    </tr>\n",
       "    <tr>\n",
       "      <th>6</th>\n",
       "      <td>9</td>\n",
       "      <td>56998.0</td>\n",
       "      <td>c#</td>\n",
       "      <td>1202173.0</td>\n",
       "      <td>1259171.0</td>\n",
       "    </tr>\n",
       "    <tr>\n",
       "      <th>4</th>\n",
       "      <td>5</td>\n",
       "      <td>68799.0</td>\n",
       "      <td>php</td>\n",
       "      <td>1160245.0</td>\n",
       "      <td>1229044.0</td>\n",
       "    </tr>\n",
       "    <tr>\n",
       "      <th>662</th>\n",
       "      <td>1386</td>\n",
       "      <td>35018.0</td>\n",
       "      <td>android</td>\n",
       "      <td>1117943.0</td>\n",
       "      <td>1152961.0</td>\n",
       "    </tr>\n",
       "  </tbody>\n",
       "</table>\n",
       "</div>"
      ],
      "text/plain": [
       "     TagId  countOfQuesClosed     TagName  countOfQuesStillOpen  totalCount\n",
       "2        3            83529.0  javascript             1645699.0   1729228.0\n",
       "11      17            90416.0        java             1392180.0   1482596.0\n",
       "6        9            56998.0          c#             1202173.0   1259171.0\n",
       "4        5            68799.0         php             1160245.0   1229044.0\n",
       "662   1386            35018.0     android             1117943.0   1152961.0"
      ]
     },
     "execution_count": 33,
     "metadata": {},
     "output_type": "execute_result"
    }
   ],
   "source": [
    "mostPopularTags.head()"
   ]
  },
  {
   "cell_type": "code",
   "execution_count": 34,
   "metadata": {},
   "outputs": [
    {
     "name": "stdout",
     "output_type": "stream",
     "text": [
      "[1729228. 1482596. 1259171. 1229044. 1152961. 1086512.  929811.  789228.\n",
      "  588627.  580950.  563842.  538817.  469608.  337764.  299776.  287142.\n",
      "  282023.  280950.  273362.  270081.  257839.  255905.  251134.  248779.\n",
      "  218649.]\n"
     ]
    }
   ],
   "source": [
    "top=25\n",
    "labels=mostPopularTags['TagName'].iloc[0:top]\n",
    "#print(labels)\n",
    "indices=[i for i in range(1,top+1)]\n",
    "#print(indices)\n",
    "total=np.array(mostPopularTags['totalCount'].iloc[0:top] )\n",
    "print(total)"
   ]
  },
  {
   "cell_type": "code",
   "execution_count": 35,
   "metadata": {},
   "outputs": [
    {
     "data": {
      "image/png": "[encoded data removed]",
      "text/plain": [
       "<Figure size 432x288 with 1 Axes>"
      ]
     },
     "metadata": {},
     "output_type": "display_data"
    }
   ],
   "source": [
    "#plt.figure(figsize=(12, 6))\n",
    "plt.bar(indices,total,align='center')\n",
    "plt.ylabel(\"Count of questions for a tag\")\n",
    "plt.title(\"Top \"+str(top)+\" most popular tags\") #open and closed together\n",
    "plt.xticks(indices, labels)\n",
    "plt.xticks(rotation=90)\n",
    "plt.show()\n",
    "#plt.savefig('D:\\SAJAL\\\\foo.png')"
   ]
  },
  {
   "cell_type": "markdown",
   "metadata": {},
   "source": [
    "### MOST CLOSED"
   ]
  },
  {
   "cell_type": "code",
   "execution_count": 36,
   "metadata": {},
   "outputs": [],
   "source": [
    "mostPopularTags.sort_values(by=['countOfQuesClosed'],ascending=False,inplace=True)"
   ]
  },
  {
   "cell_type": "code",
   "execution_count": 37,
   "metadata": {},
   "outputs": [
    {
     "data": {
      "text/html": [
       "<div>\n",
       "<style scoped>\n",
       "    .dataframe tbody tr th:only-of-type {\n",
       "        vertical-align: middle;\n",
       "    }\n",
       "\n",
       "    .dataframe tbody tr th {\n",
       "        vertical-align: top;\n",
       "    }\n",
       "\n",
       "    .dataframe thead th {\n",
       "        text-align: right;\n",
       "    }\n",
       "</style>\n",
       "<table border=\"1\" class=\"dataframe\">\n",
       "  <thead>\n",
       "    <tr style=\"text-align: right;\">\n",
       "      <th></th>\n",
       "      <th>TagId</th>\n",
       "      <th>countOfQuesClosed</th>\n",
       "      <th>TagName</th>\n",
       "      <th>countOfQuesStillOpen</th>\n",
       "      <th>totalCount</th>\n",
       "    </tr>\n",
       "  </thead>\n",
       "  <tbody>\n",
       "    <tr>\n",
       "      <th>11</th>\n",
       "      <td>17</td>\n",
       "      <td>90416.0</td>\n",
       "      <td>java</td>\n",
       "      <td>1392180.0</td>\n",
       "      <td>1482596.0</td>\n",
       "    </tr>\n",
       "    <tr>\n",
       "      <th>2</th>\n",
       "      <td>3</td>\n",
       "      <td>83529.0</td>\n",
       "      <td>javascript</td>\n",
       "      <td>1645699.0</td>\n",
       "      <td>1729228.0</td>\n",
       "    </tr>\n",
       "    <tr>\n",
       "      <th>4</th>\n",
       "      <td>5</td>\n",
       "      <td>68799.0</td>\n",
       "      <td>php</td>\n",
       "      <td>1160245.0</td>\n",
       "      <td>1229044.0</td>\n",
       "    </tr>\n",
       "    <tr>\n",
       "      <th>10</th>\n",
       "      <td>16</td>\n",
       "      <td>63254.0</td>\n",
       "      <td>python</td>\n",
       "      <td>1023258.0</td>\n",
       "      <td>1086512.0</td>\n",
       "    </tr>\n",
       "    <tr>\n",
       "      <th>6</th>\n",
       "      <td>9</td>\n",
       "      <td>56998.0</td>\n",
       "      <td>c#</td>\n",
       "      <td>1202173.0</td>\n",
       "      <td>1259171.0</td>\n",
       "    </tr>\n",
       "  </tbody>\n",
       "</table>\n",
       "</div>"
      ],
      "text/plain": [
       "    TagId  countOfQuesClosed     TagName  countOfQuesStillOpen  totalCount\n",
       "11     17            90416.0        java             1392180.0   1482596.0\n",
       "2       3            83529.0  javascript             1645699.0   1729228.0\n",
       "4       5            68799.0         php             1160245.0   1229044.0\n",
       "10     16            63254.0      python             1023258.0   1086512.0\n",
       "6       9            56998.0          c#             1202173.0   1259171.0"
      ]
     },
     "execution_count": 37,
     "metadata": {},
     "output_type": "execute_result"
    }
   ],
   "source": [
    "mostPopularTags.head()"
   ]
  },
  {
   "cell_type": "code",
   "execution_count": 38,
   "metadata": {},
   "outputs": [
    {
     "name": "stdout",
     "output_type": "stream",
     "text": [
      "[90416. 83529. 68799. 63254. 56998. 42206. 40817. 35018. 32041. 28584.\n",
      " 26604. 24332. 20856. 18580. 18273. 17610. 14605. 11913. 10612. 10389.\n",
      " 10351.  9656.  9480.  8286.  8261.]\n"
     ]
    }
   ],
   "source": [
    "top=25\n",
    "labels=mostPopularTags['TagName'].iloc[0:top]\n",
    "#print(labels)\n",
    "indices=[i for i in range(1,top+1)]\n",
    "#print(indices)\n",
    "total=np.array(mostPopularTags['countOfQuesClosed'].iloc[0:top] )\n",
    "print(total)"
   ]
  },
  {
   "cell_type": "code",
   "execution_count": 39,
   "metadata": {},
   "outputs": [
    {
     "data": {
      "image/png": "[encoded data removed]",
      "text/plain": [
       "<Figure size 432x288 with 1 Axes>"
      ]
     },
     "metadata": {},
     "output_type": "display_data"
    }
   ],
   "source": [
    "#plt.figure(figsize=(12, 6))\n",
    "plt.bar(indices,total,align='center')\n",
    "plt.ylabel(\"Count of closed questions for a tag\")\n",
    "plt.title(\"Top \"+str(top)+\" most closed tags\")\n",
    "plt.xticks(indices, labels)\n",
    "plt.xticks(rotation=90)\n",
    "plt.show()\n",
    "#plt.savefig('D:\\SAJAL\\\\foo.png')"
   ]
  },
  {
   "cell_type": "markdown",
   "metadata": {},
   "source": [
    "### MOST OPEN"
   ]
  },
  {
   "cell_type": "code",
   "execution_count": 40,
   "metadata": {},
   "outputs": [],
   "source": [
    "mostPopularTags.sort_values(by=['countOfQuesStillOpen'],ascending=False,inplace=True)"
   ]
  },
  {
   "cell_type": "code",
   "execution_count": 41,
   "metadata": {},
   "outputs": [
    {
     "data": {
      "text/html": [
       "<div>\n",
       "<style scoped>\n",
       "    .dataframe tbody tr th:only-of-type {\n",
       "        vertical-align: middle;\n",
       "    }\n",
       "\n",
       "    .dataframe tbody tr th {\n",
       "        vertical-align: top;\n",
       "    }\n",
       "\n",
       "    .dataframe thead th {\n",
       "        text-align: right;\n",
       "    }\n",
       "</style>\n",
       "<table border=\"1\" class=\"dataframe\">\n",
       "  <thead>\n",
       "    <tr style=\"text-align: right;\">\n",
       "      <th></th>\n",
       "      <th>TagId</th>\n",
       "      <th>countOfQuesClosed</th>\n",
       "      <th>TagName</th>\n",
       "      <th>countOfQuesStillOpen</th>\n",
       "      <th>totalCount</th>\n",
       "    </tr>\n",
       "  </thead>\n",
       "  <tbody>\n",
       "    <tr>\n",
       "      <th>2</th>\n",
       "      <td>3</td>\n",
       "      <td>83529.0</td>\n",
       "      <td>javascript</td>\n",
       "      <td>1645699.0</td>\n",
       "      <td>1729228.0</td>\n",
       "    </tr>\n",
       "    <tr>\n",
       "      <th>11</th>\n",
       "      <td>17</td>\n",
       "      <td>90416.0</td>\n",
       "      <td>java</td>\n",
       "      <td>1392180.0</td>\n",
       "      <td>1482596.0</td>\n",
       "    </tr>\n",
       "    <tr>\n",
       "      <th>6</th>\n",
       "      <td>9</td>\n",
       "      <td>56998.0</td>\n",
       "      <td>c#</td>\n",
       "      <td>1202173.0</td>\n",
       "      <td>1259171.0</td>\n",
       "    </tr>\n",
       "    <tr>\n",
       "      <th>4</th>\n",
       "      <td>5</td>\n",
       "      <td>68799.0</td>\n",
       "      <td>php</td>\n",
       "      <td>1160245.0</td>\n",
       "      <td>1229044.0</td>\n",
       "    </tr>\n",
       "    <tr>\n",
       "      <th>662</th>\n",
       "      <td>1386</td>\n",
       "      <td>35018.0</td>\n",
       "      <td>android</td>\n",
       "      <td>1117943.0</td>\n",
       "      <td>1152961.0</td>\n",
       "    </tr>\n",
       "  </tbody>\n",
       "</table>\n",
       "</div>"
      ],
      "text/plain": [
       "     TagId  countOfQuesClosed     TagName  countOfQuesStillOpen  totalCount\n",
       "2        3            83529.0  javascript             1645699.0   1729228.0\n",
       "11      17            90416.0        java             1392180.0   1482596.0\n",
       "6        9            56998.0          c#             1202173.0   1259171.0\n",
       "4        5            68799.0         php             1160245.0   1229044.0\n",
       "662   1386            35018.0     android             1117943.0   1152961.0"
      ]
     },
     "execution_count": 41,
     "metadata": {},
     "output_type": "execute_result"
    }
   ],
   "source": [
    "mostPopularTags.head()"
   ]
  },
  {
   "cell_type": "code",
   "execution_count": 42,
   "metadata": {},
   "outputs": [
    {
     "name": "stdout",
     "output_type": "stream",
     "text": [
      "[1645699. 1392180. 1202173. 1160245. 1117943. 1023258.  897770.  747022.\n",
      "  562370.  547810.  535258.  512213.  451998.  329674.  295513.  272944.\n",
      "  263882.  262810.  261167.  251808.  250524.  250412.  240522.  240518.\n",
      "  209781.]\n"
     ]
    }
   ],
   "source": [
    "top=25\n",
    "labels=mostPopularTags['TagName'].iloc[0:top]\n",
    "#print(labels)\n",
    "indices=[i for i in range(1,top+1)]\n",
    "#print(indices)\n",
    "total=np.array(mostPopularTags['countOfQuesStillOpen'].iloc[0:top] )\n",
    "print(total)"
   ]
  },
  {
   "cell_type": "code",
   "execution_count": 43,
   "metadata": {},
   "outputs": [
    {
     "data": {
      "image/png": "[encoded data removed]",
      "text/plain": [
       "<Figure size 432x288 with 1 Axes>"
      ]
     },
     "metadata": {},
     "output_type": "display_data"
    }
   ],
   "source": [
    "#plt.figure(figsize=(12, 6))\n",
    "plt.bar(indices,total,align='center')\n",
    "plt.ylabel(\"Count of non-closed questions for a tag\")\n",
    "plt.title(\"Top \"+str(top)+\" most non-closed tags\")\n",
    "plt.xticks(indices, labels)\n",
    "plt.xticks(rotation=90)\n",
    "plt.show()\n",
    "#plt.savefig('D:\\SAJAL\\\\foo.png')"
   ]
  },
  {
   "cell_type": "code",
   "execution_count": 44,
   "metadata": {},
   "outputs": [],
   "source": [
    "# These plots shows that some tags such as Java, Javascript, C#, php, python etc are the most \n",
    "# commonly used tags and have high presence in closed as well as in open questions. Hence, we can't directly take \n",
    "# into account the count of closed questions for a tag as a feature for closure and need another metric \n",
    "# to account for the proportion of closed and open questions for a tag. Hence, we calculate the ratio of count of closed\n",
    "# questions to that of open questions for each tag as a feature."
   ]
  },
  {
   "cell_type": "code",
   "execution_count": null,
   "metadata": {},
   "outputs": [],
   "source": []
  }
 ],
 "metadata": {
  "kernelspec": {
   "display_name": "Python 3",
   "language": "python",
   "name": "python3"
  },
  "language_info": {
   "codemirror_mode": {
    "name": "ipython",
    "version": 3
   },
   "file_extension": ".py",
   "mimetype": "text/x-python",
   "name": "python",
   "nbconvert_exporter": "python",
   "pygments_lexer": "ipython3",
   "version": "3.6.5"
  }
 },
 "nbformat": 4,
 "nbformat_minor": 2
}
