{
 "cells": [
  {
   "cell_type": "code",
   "execution_count": 34,
   "metadata": {},
   "outputs": [],
   "source": [
    "import pandas as pd\n",
    "import numpy as np\n",
    "from sklearn.linear_model import LogisticRegression\n",
    "from sklearn.model_selection import train_test_split\n",
    "from sklearn.metrics import classification_report\n",
    "from sklearn.metrics import precision_score\n",
    "from sklearn.metrics import recall_score\n",
    "from sklearn.metrics import f1_score\n",
    "from sklearn.metrics import precision_recall_fscore_support"
   ]
  },
  {
   "cell_type": "code",
   "execution_count": 35,
   "metadata": {},
   "outputs": [
    {
     "data": {
      "text/html": [
       "<div>\n",
       "<style scoped>\n",
       "    .dataframe tbody tr th:only-of-type {\n",
       "        vertical-align: middle;\n",
       "    }\n",
       "\n",
       "    .dataframe tbody tr th {\n",
       "        vertical-align: top;\n",
       "    }\n",
       "\n",
       "    .dataframe thead th {\n",
       "        text-align: right;\n",
       "    }\n",
       "</style>\n",
       "<table border=\"1\" class=\"dataframe\">\n",
       "  <thead>\n",
       "    <tr style=\"text-align: right;\">\n",
       "      <th></th>\n",
       "      <th>Unnamed: 0</th>\n",
       "      <th>PostId</th>\n",
       "      <th>UserId</th>\n",
       "      <th>Comment</th>\n",
       "      <th>Body</th>\n",
       "      <th>Title</th>\n",
       "      <th>Tags</th>\n",
       "      <th>Reputation</th>\n",
       "      <th>experienceInTime</th>\n",
       "      <th>WebsiteUrl</th>\n",
       "      <th>...</th>\n",
       "      <th>locationFilled</th>\n",
       "      <th>aboutMeFilled</th>\n",
       "      <th>profileImageUrlFilled</th>\n",
       "      <th>tagWeightSum</th>\n",
       "      <th>gunningFog</th>\n",
       "      <th>fleschReadingEase</th>\n",
       "      <th>daleChallReadabilityScore</th>\n",
       "      <th>smogIndex</th>\n",
       "      <th>colemanLiauIndex</th>\n",
       "      <th>userProfileFilled</th>\n",
       "    </tr>\n",
       "  </thead>\n",
       "  <tbody>\n",
       "    <tr>\n",
       "      <th>0</th>\n",
       "      <td>0</td>\n",
       "      <td>21170255</td>\n",
       "      <td>5921</td>\n",
       "      <td>102</td>\n",
       "      <td>&lt;p&gt;I tried to Google for this, but was (surpri...</td>\n",
       "      <td>Can anyone point me to (or post) an array of e...</td>\n",
       "      <td>&lt;javascript&gt;&lt;html&gt;&lt;arrays&gt;&lt;tags&gt;</td>\n",
       "      <td>17527</td>\n",
       "      <td>1953</td>\n",
       "      <td>NaN</td>\n",
       "      <td>...</td>\n",
       "      <td>1</td>\n",
       "      <td>1</td>\n",
       "      <td>0</td>\n",
       "      <td>-207.161031</td>\n",
       "      <td>71.70</td>\n",
       "      <td>-80.10</td>\n",
       "      <td>13.96</td>\n",
       "      <td>0.0</td>\n",
       "      <td>9.83</td>\n",
       "      <td>2</td>\n",
       "    </tr>\n",
       "    <tr>\n",
       "      <th>1</th>\n",
       "      <td>1</td>\n",
       "      <td>38290647</td>\n",
       "      <td>1601251</td>\n",
       "      <td>102</td>\n",
       "      <td>&lt;p&gt;I am at a decision fork where i have to pic...</td>\n",
       "      <td>RESTful API with either Tomcat or Node.js?</td>\n",
       "      <td>&lt;java&gt;&lt;node.js&gt;&lt;rest&gt;&lt;tomcat&gt;&lt;typescript&gt;</td>\n",
       "      <td>151</td>\n",
       "      <td>1425</td>\n",
       "      <td>NaN</td>\n",
       "      <td>...</td>\n",
       "      <td>0</td>\n",
       "      <td>0</td>\n",
       "      <td>0</td>\n",
       "      <td>-536.990588</td>\n",
       "      <td>52.99</td>\n",
       "      <td>-26.31</td>\n",
       "      <td>12.32</td>\n",
       "      <td>0.0</td>\n",
       "      <td>11.98</td>\n",
       "      <td>0</td>\n",
       "    </tr>\n",
       "    <tr>\n",
       "      <th>2</th>\n",
       "      <td>2</td>\n",
       "      <td>6496114</td>\n",
       "      <td>52924</td>\n",
       "      <td>102</td>\n",
       "      <td>&lt;p&gt;Does anyone know of a good tool to test Sch...</td>\n",
       "      <td>Tool for testing Schema.org markup</td>\n",
       "      <td>&lt;testing&gt;&lt;markup&gt;&lt;schema.org&gt;</td>\n",
       "      <td>1639</td>\n",
       "      <td>900</td>\n",
       "      <td>http://www.agendarecife.com</td>\n",
       "      <td>...</td>\n",
       "      <td>1</td>\n",
       "      <td>1</td>\n",
       "      <td>0</td>\n",
       "      <td>-160.004636</td>\n",
       "      <td>17.06</td>\n",
       "      <td>64.54</td>\n",
       "      <td>7.83</td>\n",
       "      <td>0.0</td>\n",
       "      <td>14.97</td>\n",
       "      <td>3</td>\n",
       "    </tr>\n",
       "    <tr>\n",
       "      <th>3</th>\n",
       "      <td>3</td>\n",
       "      <td>25982771</td>\n",
       "      <td>1968462</td>\n",
       "      <td>102</td>\n",
       "      <td>&lt;p&gt;The &lt;a href=\"http://www.postgresql.org/docs...</td>\n",
       "      <td>Inserting into simple Postgres views</td>\n",
       "      <td>&lt;sql&gt;&lt;postgresql&gt;</td>\n",
       "      <td>2669</td>\n",
       "      <td>620</td>\n",
       "      <td>https://katrinahoffert.github.io/</td>\n",
       "      <td>...</td>\n",
       "      <td>1</td>\n",
       "      <td>1</td>\n",
       "      <td>1</td>\n",
       "      <td>-188.646160</td>\n",
       "      <td>26.89</td>\n",
       "      <td>32.23</td>\n",
       "      <td>9.16</td>\n",
       "      <td>0.0</td>\n",
       "      <td>17.02</td>\n",
       "      <td>4</td>\n",
       "    </tr>\n",
       "    <tr>\n",
       "      <th>4</th>\n",
       "      <td>4</td>\n",
       "      <td>10142243</td>\n",
       "      <td>383479</td>\n",
       "      <td>102</td>\n",
       "      <td>&lt;p&gt;Which frameworks would you recommend for wr...</td>\n",
       "      <td>Frameworks for Unittests for Multithreading in...</td>\n",
       "      <td>&lt;java&gt;&lt;multithreading&gt;&lt;unit-testing&gt;&lt;concurrency&gt;</td>\n",
       "      <td>245</td>\n",
       "      <td>648</td>\n",
       "      <td>NaN</td>\n",
       "      <td>...</td>\n",
       "      <td>0</td>\n",
       "      <td>0</td>\n",
       "      <td>0</td>\n",
       "      <td>-274.409048</td>\n",
       "      <td>21.25</td>\n",
       "      <td>45.43</td>\n",
       "      <td>8.34</td>\n",
       "      <td>0.0</td>\n",
       "      <td>9.41</td>\n",
       "      <td>0</td>\n",
       "    </tr>\n",
       "  </tbody>\n",
       "</table>\n",
       "<p>5 rows × 42 columns</p>\n",
       "</div>"
      ],
      "text/plain": [
       "   Unnamed: 0    PostId   UserId  Comment  \\\n",
       "0           0  21170255     5921      102   \n",
       "1           1  38290647  1601251      102   \n",
       "2           2   6496114    52924      102   \n",
       "3           3  25982771  1968462      102   \n",
       "4           4  10142243   383479      102   \n",
       "\n",
       "                                                Body  \\\n",
       "0  <p>I tried to Google for this, but was (surpri...   \n",
       "1  <p>I am at a decision fork where i have to pic...   \n",
       "2  <p>Does anyone know of a good tool to test Sch...   \n",
       "3  <p>The <a href=\"http://www.postgresql.org/docs...   \n",
       "4  <p>Which frameworks would you recommend for wr...   \n",
       "\n",
       "                                               Title  \\\n",
       "0  Can anyone point me to (or post) an array of e...   \n",
       "1         RESTful API with either Tomcat or Node.js?   \n",
       "2                 Tool for testing Schema.org markup   \n",
       "3               Inserting into simple Postgres views   \n",
       "4  Frameworks for Unittests for Multithreading in...   \n",
       "\n",
       "                                                Tags  Reputation  \\\n",
       "0                   <javascript><html><arrays><tags>       17527   \n",
       "1          <java><node.js><rest><tomcat><typescript>         151   \n",
       "2                      <testing><markup><schema.org>        1639   \n",
       "3                                  <sql><postgresql>        2669   \n",
       "4  <java><multithreading><unit-testing><concurrency>         245   \n",
       "\n",
       "   experienceInTime                         WebsiteUrl        ...          \\\n",
       "0              1953                                NaN        ...           \n",
       "1              1425                                NaN        ...           \n",
       "2               900        http://www.agendarecife.com        ...           \n",
       "3               620  https://katrinahoffert.github.io/        ...           \n",
       "4               648                                NaN        ...           \n",
       "\n",
       "  locationFilled aboutMeFilled  profileImageUrlFilled  tagWeightSum  \\\n",
       "0              1             1                      0   -207.161031   \n",
       "1              0             0                      0   -536.990588   \n",
       "2              1             1                      0   -160.004636   \n",
       "3              1             1                      1   -188.646160   \n",
       "4              0             0                      0   -274.409048   \n",
       "\n",
       "   gunningFog fleschReadingEase  daleChallReadabilityScore  smogIndex  \\\n",
       "0       71.70            -80.10                      13.96        0.0   \n",
       "1       52.99            -26.31                      12.32        0.0   \n",
       "2       17.06             64.54                       7.83        0.0   \n",
       "3       26.89             32.23                       9.16        0.0   \n",
       "4       21.25             45.43                       8.34        0.0   \n",
       "\n",
       "   colemanLiauIndex  userProfileFilled  \n",
       "0              9.83                  2  \n",
       "1             11.98                  0  \n",
       "2             14.97                  3  \n",
       "3             17.02                  4  \n",
       "4              9.41                  0  \n",
       "\n",
       "[5 rows x 42 columns]"
      ]
     },
     "execution_count": 35,
     "metadata": {},
     "output_type": "execute_result"
    }
   ],
   "source": [
    "#3 rows deleted:\n",
    "#20484\t,RegEx used to extract tokens from an ASCIIMath expression\"\t11\t\t1\t0\t0\thttps://i.stack.imgur.com/6VcaB.png\t\t\t\t\t\t\t\t\t0\t1\t\t0\t0\t0\t0\t0\t1\t0\t0\t0\t1\t1\t0\t0\t0\t0\t0\n",
    "#71350\t,Bootstrap modal wont trigger on mobile\"\t443\tLake Mary, FL, United States\t85\t165\t11\thttps://i.stack.imgur.com/TLzJW.png?s=128&g=1\t\t\t\t\t\t\t\t\t0\t1\t\t0\t0\t0\t0\t0\t3\t0\t0\t0\t1\t1\t0\t0\t0\t0\t0\n",
    "#60036\t<p>from group \"\"Value\"\" i can get the value of hour and it gives output as 1\t3\t2\t4\t5\t6 and so on for each generator name but since no of hour is common to all i need that i get it only once that is i should get 1\t2\t5\t6 only once</p>\t\t\t\t\t\t\t0\t1\t\t0\t0\t0\t0\t0\t1\t0\t0\t0\t1\t1\t0\t1\t0\t0\t0\n",
    "\n",
    "openCloseData=pd.read_csv(\"openCloseData8.csv\",index_col=False)\n",
    "openCloseData.head()"
   ]
  },
  {
   "cell_type": "code",
   "execution_count": 36,
   "metadata": {},
   "outputs": [
    {
     "name": "stdout",
     "output_type": "stream",
     "text": [
      "   Unnamed: 0    PostId   UserId  Comment  \\\n",
      "0           0  21170255     5921      102   \n",
      "1           1  38290647  1601251      102   \n",
      "2           2   6496114    52924      102   \n",
      "3           3  25982771  1968462      102   \n",
      "4           4  10142243   383479      102   \n",
      "\n",
      "                                                Body  \\\n",
      "0  <p>I tried to Google for this, but was (surpri...   \n",
      "1  <p>I am at a decision fork where i have to pic...   \n",
      "2  <p>Does anyone know of a good tool to test Sch...   \n",
      "3  <p>The <a href=\"http://www.postgresql.org/docs...   \n",
      "4  <p>Which frameworks would you recommend for wr...   \n",
      "\n",
      "                                               Title  \\\n",
      "0  Can anyone point me to (or post) an array of e...   \n",
      "1         RESTful API with either Tomcat or Node.js?   \n",
      "2                 Tool for testing Schema.org markup   \n",
      "3               Inserting into simple Postgres views   \n",
      "4  Frameworks for Unittests for Multithreading in...   \n",
      "\n",
      "                                                Tags  Reputation  \\\n",
      "0                   <javascript><html><arrays><tags>       17527   \n",
      "1          <java><node.js><rest><tomcat><typescript>         151   \n",
      "2                      <testing><markup><schema.org>        1639   \n",
      "3                                  <sql><postgresql>        2669   \n",
      "4  <java><multithreading><unit-testing><concurrency>         245   \n",
      "\n",
      "   experienceInTime                         WebsiteUrl        ...          \\\n",
      "0              1953                                NaN        ...           \n",
      "1              1425                                NaN        ...           \n",
      "2               900        http://www.agendarecife.com        ...           \n",
      "3               620  https://katrinahoffert.github.io/        ...           \n",
      "4               648                                NaN        ...           \n",
      "\n",
      "  locationFilled aboutMeFilled  profileImageUrlFilled  tagWeightSum  \\\n",
      "0              1             1                      0   -207.161031   \n",
      "1              0             0                      0   -536.990588   \n",
      "2              1             1                      0   -160.004636   \n",
      "3              1             1                      1   -188.646160   \n",
      "4              0             0                      0   -274.409048   \n",
      "\n",
      "   gunningFog fleschReadingEase  daleChallReadabilityScore  smogIndex  \\\n",
      "0       71.70            -80.10                      13.96        0.0   \n",
      "1       52.99            -26.31                      12.32        0.0   \n",
      "2       17.06             64.54                       7.83        0.0   \n",
      "3       26.89             32.23                       9.16        0.0   \n",
      "4       21.25             45.43                       8.34        0.0   \n",
      "\n",
      "   colemanLiauIndex  userProfileFilled  \n",
      "0              9.83                  2  \n",
      "1             11.98                  0  \n",
      "2             14.97                  3  \n",
      "3             17.02                  4  \n",
      "4              9.41                  0  \n",
      "\n",
      "[5 rows x 42 columns]\n"
     ]
    }
   ],
   "source": [
    "print(openCloseData.head())"
   ]
  },
  {
   "cell_type": "code",
   "execution_count": 37,
   "metadata": {},
   "outputs": [
    {
     "name": "stdout",
     "output_type": "stream",
     "text": [
      "(159996, 42)\n",
      "(159996, 41)\n"
     ]
    }
   ],
   "source": [
    "print(openCloseData.shape)\n",
    "openCloseData.drop(['Unnamed: 0'],inplace=True,axis=1)\n",
    "print(openCloseData.shape)\n",
    "#Actually 4 rows are removed"
   ]
  },
  {
   "cell_type": "code",
   "execution_count": 38,
   "metadata": {},
   "outputs": [
    {
     "data": {
      "text/plain": [
       "Index(['PostId', 'UserId', 'Comment', 'Body', 'Title', 'Tags', 'Reputation',\n",
       "       'experienceInTime', 'WebsiteUrl', 'Location', 'AboutMe', 'Views',\n",
       "       'Upvotes', 'Downvotes', 'ProfileImageUrl', 'tagCount', 'closed',\n",
       "       'lowerUpperRatio', 'sentenceCount', 'firstLineLength', 'codeLength',\n",
       "       'urlCount', 'SOUrlCount', 'titleLengthInChars',\n",
       "       'countOfInterrogativeSent', 'sentencesStartWithYouCount',\n",
       "       'sentencesStartWithICount', 'shortWordCount', 'bodyWordCount',\n",
       "       'punctuationCount', 'websiteUrlFilled', 'locationFilled',\n",
       "       'aboutMeFilled', 'profileImageUrlFilled', 'tagWeightSum', 'gunningFog',\n",
       "       'fleschReadingEase', 'daleChallReadabilityScore', 'smogIndex',\n",
       "       'colemanLiauIndex', 'userProfileFilled'],\n",
       "      dtype='object')"
      ]
     },
     "execution_count": 38,
     "metadata": {},
     "output_type": "execute_result"
    }
   ],
   "source": [
    "openCloseData.columns"
   ]
  },
  {
   "cell_type": "code",
   "execution_count": 39,
   "metadata": {},
   "outputs": [
    {
     "name": "stdout",
     "output_type": "stream",
     "text": [
      "(159996, 41)\n"
     ]
    }
   ],
   "source": [
    "#https://stackoverflow.com/questions/33961028/remove-non-numeric-rows-in-one-column-with-pandas\n",
    "print(openCloseData.shape)\n",
    "#openCloseData[openCloseData.Reputation.apply(lambda x: x.isnumeric())]\n",
    "#print(openCloseData.dtypes)\n",
    "#print(openCloseData.shape)"
   ]
  },
  {
   "cell_type": "code",
   "execution_count": 40,
   "metadata": {},
   "outputs": [],
   "source": [
    "#openCloseData['codeTextRatio']=openCloseData['codeLength']/(openCloseData['bodyWordCount']+1)"
   ]
  },
  {
   "cell_type": "markdown",
   "metadata": {},
   "source": [
    "### ADDING MORE FEATURES"
   ]
  },
  {
   "cell_type": "code",
   "execution_count": 41,
   "metadata": {},
   "outputs": [],
   "source": [
    "# tagWeightData=pd.read_csv(\"tagWeightData.csv\")\n",
    "# print(tagWeightData.head())"
   ]
  },
  {
   "cell_type": "code",
   "execution_count": 42,
   "metadata": {},
   "outputs": [],
   "source": [
    "# import re\n",
    "# idx=0\n",
    "# def calculateTagWeight(tags):\n",
    "#     forClosed=re.findall('<(.*?)>',tags)\n",
    "#     forOpen=tags.split('|')\n",
    "#     #print(forClosed)\n",
    "#     #print(forOpen)\n",
    "#     if(len(forClosed) ):  #if we pass tags for open in close it won't work, but vice versa will work hence \n",
    "#         # this particular order of if-else \n",
    "#         tagList=forClosed\n",
    "#     elif(len(forOpen) ):\n",
    "#         tagList=forOpen\n",
    "#     #print(tagList)\n",
    "#     wt=0\n",
    "# #     for t in tagList:\n",
    "# #         #print(t)\n",
    "# #         try:\n",
    "            \n",
    "# #         except:\n",
    "# #             print(t)\n",
    "# #         print(wt)\n",
    "# #     print(\"check\")\n",
    "# #     if(idx%1000==0)print(idx)\n",
    "# #     idx+=1\n",
    "#     try:\n",
    "#         for t in tagList:\n",
    "#             wt=wt+tagWeightData[tagWeightData['TagName']==t][['tagWeight']].values[0]\n",
    "#     except:\n",
    "#         #print(tagList)\n",
    "#         pass\n",
    "#     return wt"
   ]
  },
  {
   "cell_type": "code",
   "execution_count": 43,
   "metadata": {},
   "outputs": [],
   "source": [
    "# import time\n",
    "# tic=time.time()\n",
    "# openCloseData['tagWeightSum']=openCloseData['Tags'].apply(calculateTagWeight) #tagClosingWeightSum\n",
    "# toc=time.time()\n",
    "# print(str((toc-tic)/60)+\"mins\")"
   ]
  },
  {
   "cell_type": "code",
   "execution_count": 44,
   "metadata": {},
   "outputs": [
    {
     "data": {
      "text/plain": [
       "Index(['PostId', 'UserId', 'Comment', 'Body', 'Title', 'Tags', 'Reputation',\n",
       "       'experienceInTime', 'WebsiteUrl', 'Location', 'AboutMe', 'Views',\n",
       "       'Upvotes', 'Downvotes', 'ProfileImageUrl', 'tagCount', 'closed',\n",
       "       'lowerUpperRatio', 'sentenceCount', 'firstLineLength', 'codeLength',\n",
       "       'urlCount', 'SOUrlCount', 'titleLengthInChars',\n",
       "       'countOfInterrogativeSent', 'sentencesStartWithYouCount',\n",
       "       'sentencesStartWithICount', 'shortWordCount', 'bodyWordCount',\n",
       "       'punctuationCount', 'websiteUrlFilled', 'locationFilled',\n",
       "       'aboutMeFilled', 'profileImageUrlFilled', 'tagWeightSum', 'gunningFog',\n",
       "       'fleschReadingEase', 'daleChallReadabilityScore', 'smogIndex',\n",
       "       'colemanLiauIndex', 'userProfileFilled'],\n",
       "      dtype='object')"
      ]
     },
     "execution_count": 44,
     "metadata": {},
     "output_type": "execute_result"
    }
   ],
   "source": [
    "openCloseData.columns"
   ]
  },
  {
   "cell_type": "code",
   "execution_count": 45,
   "metadata": {},
   "outputs": [],
   "source": [
    "# openCloseData['tagWeightSum'][0][0]"
   ]
  },
  {
   "cell_type": "code",
   "execution_count": 46,
   "metadata": {},
   "outputs": [],
   "source": [
    "# openCloseData.head()"
   ]
  },
  {
   "cell_type": "code",
   "execution_count": 47,
   "metadata": {},
   "outputs": [],
   "source": [
    "# def getInitialEle(ar):\n",
    "#     #print(type(ar))\n",
    "#     return float(ar)\n",
    "\n",
    "# openCloseData['tagWeightSum']=openCloseData['tagWeightSum'].apply(getInitialEle)\n",
    "# print(openCloseData.head())"
   ]
  },
  {
   "cell_type": "code",
   "execution_count": 48,
   "metadata": {},
   "outputs": [],
   "source": [
    "# openCloseData.to_csv(\"openCloseData[35 cols].csv\")"
   ]
  },
  {
   "cell_type": "code",
   "execution_count": 49,
   "metadata": {},
   "outputs": [
    {
     "name": "stdout",
     "output_type": "stream",
     "text": [
      "(159996, 27)\n",
      "<class 'pandas.core.frame.DataFrame'>\n"
     ]
    }
   ],
   "source": [
    "X = openCloseData.loc[:,['Reputation',\n",
    "       'experienceInTime', 'Views',\n",
    "       'Upvotes', 'Downvotes', 'tagCount', 'closed',\n",
    "       'lowerUpperRatio', 'sentenceCount', 'firstLineLength', 'codeLength',\n",
    "       'urlCount', 'SOUrlCount', 'titleLengthInChars',\n",
    "       'countOfInterrogativeSent', 'sentencesStartWithYouCount',\n",
    "       'sentencesStartWithICount', 'shortWordCount', 'bodyWordCount',\n",
    "       'punctuationCount', 'tagWeightSum', 'gunningFog',\n",
    "       'fleschReadingEase', 'daleChallReadabilityScore', 'smogIndex',\n",
    "       'colemanLiauIndex', 'userProfileFilled'] ]\n",
    "\n",
    "\n",
    "X.replace(np.nan,0,inplace=True)  #replacing NaN to 0\n",
    "X.lowerUpperRatio.replace(np.inf,0,inplace=True)  #replacing infinity to 0\n",
    "print(X.shape)\n",
    "print(type(X))"
   ]
  },
  {
   "cell_type": "code",
   "execution_count": 50,
   "metadata": {},
   "outputs": [
    {
     "data": {
      "text/html": [
       "<div>\n",
       "<style scoped>\n",
       "    .dataframe tbody tr th:only-of-type {\n",
       "        vertical-align: middle;\n",
       "    }\n",
       "\n",
       "    .dataframe tbody tr th {\n",
       "        vertical-align: top;\n",
       "    }\n",
       "\n",
       "    .dataframe thead th {\n",
       "        text-align: right;\n",
       "    }\n",
       "</style>\n",
       "<table border=\"1\" class=\"dataframe\">\n",
       "  <thead>\n",
       "    <tr style=\"text-align: right;\">\n",
       "      <th></th>\n",
       "      <th>Reputation</th>\n",
       "      <th>experienceInTime</th>\n",
       "      <th>Views</th>\n",
       "      <th>Upvotes</th>\n",
       "      <th>Downvotes</th>\n",
       "      <th>tagCount</th>\n",
       "      <th>closed</th>\n",
       "      <th>lowerUpperRatio</th>\n",
       "      <th>sentenceCount</th>\n",
       "      <th>firstLineLength</th>\n",
       "      <th>...</th>\n",
       "      <th>shortWordCount</th>\n",
       "      <th>bodyWordCount</th>\n",
       "      <th>punctuationCount</th>\n",
       "      <th>tagWeightSum</th>\n",
       "      <th>gunningFog</th>\n",
       "      <th>fleschReadingEase</th>\n",
       "      <th>daleChallReadabilityScore</th>\n",
       "      <th>smogIndex</th>\n",
       "      <th>colemanLiauIndex</th>\n",
       "      <th>userProfileFilled</th>\n",
       "    </tr>\n",
       "  </thead>\n",
       "  <tbody>\n",
       "    <tr>\n",
       "      <th>0</th>\n",
       "      <td>17527</td>\n",
       "      <td>1953</td>\n",
       "      <td>2765</td>\n",
       "      <td>2005</td>\n",
       "      <td>119</td>\n",
       "      <td>4</td>\n",
       "      <td>1</td>\n",
       "      <td>26.153846</td>\n",
       "      <td>6</td>\n",
       "      <td>69</td>\n",
       "      <td>...</td>\n",
       "      <td>84</td>\n",
       "      <td>168</td>\n",
       "      <td>50</td>\n",
       "      <td>-207.161031</td>\n",
       "      <td>71.70</td>\n",
       "      <td>-80.10</td>\n",
       "      <td>13.96</td>\n",
       "      <td>0.0</td>\n",
       "      <td>9.83</td>\n",
       "      <td>2</td>\n",
       "    </tr>\n",
       "    <tr>\n",
       "      <th>1</th>\n",
       "      <td>151</td>\n",
       "      <td>1425</td>\n",
       "      <td>32</td>\n",
       "      <td>16</td>\n",
       "      <td>0</td>\n",
       "      <td>5</td>\n",
       "      <td>1</td>\n",
       "      <td>16.448276</td>\n",
       "      <td>10</td>\n",
       "      <td>75</td>\n",
       "      <td>...</td>\n",
       "      <td>51</td>\n",
       "      <td>113</td>\n",
       "      <td>19</td>\n",
       "      <td>-536.990588</td>\n",
       "      <td>52.99</td>\n",
       "      <td>-26.31</td>\n",
       "      <td>12.32</td>\n",
       "      <td>0.0</td>\n",
       "      <td>11.98</td>\n",
       "      <td>0</td>\n",
       "    </tr>\n",
       "    <tr>\n",
       "      <th>2</th>\n",
       "      <td>1639</td>\n",
       "      <td>900</td>\n",
       "      <td>208</td>\n",
       "      <td>75</td>\n",
       "      <td>1</td>\n",
       "      <td>3</td>\n",
       "      <td>1</td>\n",
       "      <td>18.916667</td>\n",
       "      <td>4</td>\n",
       "      <td>79</td>\n",
       "      <td>...</td>\n",
       "      <td>15</td>\n",
       "      <td>47</td>\n",
       "      <td>17</td>\n",
       "      <td>-160.004636</td>\n",
       "      <td>17.06</td>\n",
       "      <td>64.54</td>\n",
       "      <td>7.83</td>\n",
       "      <td>0.0</td>\n",
       "      <td>14.97</td>\n",
       "      <td>3</td>\n",
       "    </tr>\n",
       "    <tr>\n",
       "      <th>3</th>\n",
       "      <td>2669</td>\n",
       "      <td>620</td>\n",
       "      <td>658</td>\n",
       "      <td>282</td>\n",
       "      <td>11</td>\n",
       "      <td>2</td>\n",
       "      <td>1</td>\n",
       "      <td>12.272727</td>\n",
       "      <td>5</td>\n",
       "      <td>210</td>\n",
       "      <td>...</td>\n",
       "      <td>46</td>\n",
       "      <td>94</td>\n",
       "      <td>45</td>\n",
       "      <td>-188.646160</td>\n",
       "      <td>26.89</td>\n",
       "      <td>32.23</td>\n",
       "      <td>9.16</td>\n",
       "      <td>0.0</td>\n",
       "      <td>17.02</td>\n",
       "      <td>4</td>\n",
       "    </tr>\n",
       "    <tr>\n",
       "      <th>4</th>\n",
       "      <td>245</td>\n",
       "      <td>648</td>\n",
       "      <td>78</td>\n",
       "      <td>14</td>\n",
       "      <td>0</td>\n",
       "      <td>4</td>\n",
       "      <td>1</td>\n",
       "      <td>98.000000</td>\n",
       "      <td>2</td>\n",
       "      <td>92</td>\n",
       "      <td>...</td>\n",
       "      <td>31</td>\n",
       "      <td>68</td>\n",
       "      <td>11</td>\n",
       "      <td>-274.409048</td>\n",
       "      <td>21.25</td>\n",
       "      <td>45.43</td>\n",
       "      <td>8.34</td>\n",
       "      <td>0.0</td>\n",
       "      <td>9.41</td>\n",
       "      <td>0</td>\n",
       "    </tr>\n",
       "  </tbody>\n",
       "</table>\n",
       "<p>5 rows × 27 columns</p>\n",
       "</div>"
      ],
      "text/plain": [
       "   Reputation  experienceInTime  Views  Upvotes  Downvotes  tagCount  closed  \\\n",
       "0       17527              1953   2765     2005        119         4       1   \n",
       "1         151              1425     32       16          0         5       1   \n",
       "2        1639               900    208       75          1         3       1   \n",
       "3        2669               620    658      282         11         2       1   \n",
       "4         245               648     78       14          0         4       1   \n",
       "\n",
       "   lowerUpperRatio  sentenceCount  firstLineLength        ...          \\\n",
       "0        26.153846              6               69        ...           \n",
       "1        16.448276             10               75        ...           \n",
       "2        18.916667              4               79        ...           \n",
       "3        12.272727              5              210        ...           \n",
       "4        98.000000              2               92        ...           \n",
       "\n",
       "   shortWordCount  bodyWordCount  punctuationCount  tagWeightSum  gunningFog  \\\n",
       "0              84            168                50   -207.161031       71.70   \n",
       "1              51            113                19   -536.990588       52.99   \n",
       "2              15             47                17   -160.004636       17.06   \n",
       "3              46             94                45   -188.646160       26.89   \n",
       "4              31             68                11   -274.409048       21.25   \n",
       "\n",
       "   fleschReadingEase  daleChallReadabilityScore  smogIndex  colemanLiauIndex  \\\n",
       "0             -80.10                      13.96        0.0              9.83   \n",
       "1             -26.31                      12.32        0.0             11.98   \n",
       "2              64.54                       7.83        0.0             14.97   \n",
       "3              32.23                       9.16        0.0             17.02   \n",
       "4              45.43                       8.34        0.0              9.41   \n",
       "\n",
       "   userProfileFilled  \n",
       "0                  2  \n",
       "1                  0  \n",
       "2                  3  \n",
       "3                  4  \n",
       "4                  0  \n",
       "\n",
       "[5 rows x 27 columns]"
      ]
     },
     "execution_count": 50,
     "metadata": {},
     "output_type": "execute_result"
    }
   ],
   "source": [
    "X.head()"
   ]
  },
  {
   "cell_type": "code",
   "execution_count": 51,
   "metadata": {},
   "outputs": [
    {
     "data": {
      "text/html": [
       "<div>\n",
       "<style scoped>\n",
       "    .dataframe tbody tr th:only-of-type {\n",
       "        vertical-align: middle;\n",
       "    }\n",
       "\n",
       "    .dataframe tbody tr th {\n",
       "        vertical-align: top;\n",
       "    }\n",
       "\n",
       "    .dataframe thead th {\n",
       "        text-align: right;\n",
       "    }\n",
       "</style>\n",
       "<table border=\"1\" class=\"dataframe\">\n",
       "  <thead>\n",
       "    <tr style=\"text-align: right;\">\n",
       "      <th></th>\n",
       "      <th>Reputation</th>\n",
       "      <th>experienceInTime</th>\n",
       "      <th>Views</th>\n",
       "      <th>Upvotes</th>\n",
       "      <th>Downvotes</th>\n",
       "      <th>tagCount</th>\n",
       "      <th>closed</th>\n",
       "      <th>lowerUpperRatio</th>\n",
       "      <th>sentenceCount</th>\n",
       "      <th>firstLineLength</th>\n",
       "      <th>...</th>\n",
       "      <th>shortWordCount</th>\n",
       "      <th>bodyWordCount</th>\n",
       "      <th>punctuationCount</th>\n",
       "      <th>tagWeightSum</th>\n",
       "      <th>gunningFog</th>\n",
       "      <th>fleschReadingEase</th>\n",
       "      <th>daleChallReadabilityScore</th>\n",
       "      <th>smogIndex</th>\n",
       "      <th>colemanLiauIndex</th>\n",
       "      <th>userProfileFilled</th>\n",
       "    </tr>\n",
       "  </thead>\n",
       "  <tbody>\n",
       "  </tbody>\n",
       "</table>\n",
       "<p>0 rows × 27 columns</p>\n",
       "</div>"
      ],
      "text/plain": [
       "Empty DataFrame\n",
       "Columns: [Reputation, experienceInTime, Views, Upvotes, Downvotes, tagCount, closed, lowerUpperRatio, sentenceCount, firstLineLength, codeLength, urlCount, SOUrlCount, titleLengthInChars, countOfInterrogativeSent, sentencesStartWithYouCount, sentencesStartWithICount, shortWordCount, bodyWordCount, punctuationCount, tagWeightSum, gunningFog, fleschReadingEase, daleChallReadabilityScore, smogIndex, colemanLiauIndex, userProfileFilled]\n",
       "Index: []\n",
       "\n",
       "[0 rows x 27 columns]"
      ]
     },
     "execution_count": 51,
     "metadata": {},
     "output_type": "execute_result"
    }
   ],
   "source": [
    "X[np.isinf(X).any(axis=1)]"
   ]
  },
  {
   "cell_type": "code",
   "execution_count": 52,
   "metadata": {},
   "outputs": [
    {
     "name": "stdout",
     "output_type": "stream",
     "text": [
      "(159996,)\n"
     ]
    }
   ],
   "source": [
    "y = X.closed\n",
    "X.drop(['closed'],inplace=True,axis=1)\n",
    "print(y.shape)"
   ]
  },
  {
   "cell_type": "markdown",
   "metadata": {},
   "source": [
    "### MEAN NORMALIZATION of X"
   ]
  },
  {
   "cell_type": "code",
   "execution_count": 53,
   "metadata": {},
   "outputs": [
    {
     "data": {
      "text/plain": [
       "Index(['Reputation', 'experienceInTime', 'Views', 'Upvotes', 'Downvotes',\n",
       "       'tagCount', 'lowerUpperRatio', 'sentenceCount', 'firstLineLength',\n",
       "       'codeLength', 'urlCount', 'SOUrlCount', 'titleLengthInChars',\n",
       "       'countOfInterrogativeSent', 'sentencesStartWithYouCount',\n",
       "       'sentencesStartWithICount', 'shortWordCount', 'bodyWordCount',\n",
       "       'punctuationCount', 'tagWeightSum', 'gunningFog', 'fleschReadingEase',\n",
       "       'daleChallReadabilityScore', 'smogIndex', 'colemanLiauIndex',\n",
       "       'userProfileFilled'],\n",
       "      dtype='object')"
      ]
     },
     "execution_count": 53,
     "metadata": {},
     "output_type": "execute_result"
    }
   ],
   "source": [
    "X.columns"
   ]
  },
  {
   "cell_type": "code",
   "execution_count": 54,
   "metadata": {},
   "outputs": [
    {
     "name": "stdout",
     "output_type": "stream",
     "text": [
      "<class 'pandas.core.frame.DataFrame'>\n",
      "   Reputation  experienceInTime  Views  Upvotes  Downvotes  tagCount  \\\n",
      "0       17527              1953   2765     2005        119         4   \n",
      "1         151              1425     32       16          0         5   \n",
      "2        1639               900    208       75          1         3   \n",
      "3        2669               620    658      282         11         2   \n",
      "4         245               648     78       14          0         4   \n",
      "\n",
      "   lowerUpperRatio  sentenceCount  firstLineLength  codeLength  \\\n",
      "0        26.153846              6               69          40   \n",
      "1        16.448276             10               75           0   \n",
      "2        18.916667              4               79           0   \n",
      "3        12.272727              5              210         661   \n",
      "4        98.000000              2               92           0   \n",
      "\n",
      "         ...          shortWordCount  bodyWordCount  punctuationCount  \\\n",
      "0        ...                      84            168                50   \n",
      "1        ...                      51            113                19   \n",
      "2        ...                      15             47                17   \n",
      "3        ...                      46             94                45   \n",
      "4        ...                      31             68                11   \n",
      "\n",
      "   tagWeightSum  gunningFog  fleschReadingEase  daleChallReadabilityScore  \\\n",
      "0   -207.161031       71.70             -80.10                      13.96   \n",
      "1   -536.990588       52.99             -26.31                      12.32   \n",
      "2   -160.004636       17.06              64.54                       7.83   \n",
      "3   -188.646160       26.89              32.23                       9.16   \n",
      "4   -274.409048       21.25              45.43                       8.34   \n",
      "\n",
      "   smogIndex  colemanLiauIndex  userProfileFilled  \n",
      "0        0.0              9.83                  2  \n",
      "1        0.0             11.98                  0  \n",
      "2        0.0             14.97                  3  \n",
      "3        0.0             17.02                  4  \n",
      "4        0.0              9.41                  0  \n",
      "\n",
      "[5 rows x 26 columns]\n"
     ]
    }
   ],
   "source": [
    "print(type(X))\n",
    "print(X.head())"
   ]
  },
  {
   "cell_type": "code",
   "execution_count": 55,
   "metadata": {},
   "outputs": [
    {
     "name": "stdout",
     "output_type": "stream",
     "text": [
      "<class 'numpy.ndarray'>\n"
     ]
    }
   ],
   "source": [
    "# x=(x-u)/std\n",
    "\n",
    "from sklearn.preprocessing import StandardScaler\n",
    "scaler = StandardScaler()\n",
    "#print(scaler.fit(X))\n",
    "#print(scaler.mean_)\n",
    "X=scaler.fit_transform(X)\n",
    "print(type(X))\n",
    "X = pd.DataFrame(X, columns=['Reputation', 'experienceInTime', 'Views', 'Upvotes', 'Downvotes',\n",
    "       'tagCount', 'lowerUpperRatio', 'sentenceCount', 'firstLineLength',\n",
    "       'codeLength', 'urlCount', 'SOUrlCount', 'titleLengthInChars',\n",
    "       'countOfInterrogativeSent', 'sentencesStartWithYouCount',\n",
    "       'sentencesStartWithICount', 'shortWordCount', 'bodyWordCount',\n",
    "       'punctuationCount', 'tagWeightSum', 'gunningFog',\n",
    "       'fleschReadingEase', 'daleChallReadabilityScore', 'smogIndex',\n",
    "       'colemanLiauIndex', 'userProfileFilled'])"
   ]
  },
  {
   "cell_type": "code",
   "execution_count": 56,
   "metadata": {},
   "outputs": [
    {
     "name": "stdout",
     "output_type": "stream",
     "text": [
      "<class 'pandas.core.frame.DataFrame'>\n",
      "   Reputation  experienceInTime     Views   Upvotes  Downvotes  tagCount  \\\n",
      "0    1.432738          2.465146  1.435231  2.289324   0.290707  0.892056   \n",
      "1   -0.172483          1.563097 -0.156726 -0.270553  -0.065531  1.707299   \n",
      "2   -0.035019          0.666172 -0.054207 -0.194619  -0.062537  0.076813   \n",
      "3    0.060134          0.187813  0.207916  0.071794  -0.032601 -0.738430   \n",
      "4   -0.163799          0.235649 -0.129931 -0.273127  -0.065531  0.892056   \n",
      "\n",
      "   lowerUpperRatio  sentenceCount  firstLineLength  codeLength  \\\n",
      "0        -0.148165       0.003536        -0.329537   -0.366570   \n",
      "1        -0.524678       0.364392        -0.265402   -0.394312   \n",
      "2        -0.428920      -0.176891        -0.222645   -0.394312   \n",
      "3        -0.686662      -0.086677         1.177640    0.064136   \n",
      "4         2.638998      -0.357319        -0.083685   -0.394312   \n",
      "\n",
      "         ...          shortWordCount  bodyWordCount  punctuationCount  \\\n",
      "0        ...                1.233166       1.204831          0.046470   \n",
      "1        ...                0.287032       0.402707         -0.170823   \n",
      "2        ...               -0.745114      -0.559842         -0.184842   \n",
      "3        ...                0.143679       0.125610          0.011423   \n",
      "4        ...               -0.286382      -0.253576         -0.226899   \n",
      "\n",
      "   tagWeightSum  gunningFog  fleschReadingEase  daleChallReadabilityScore  \\\n",
      "0      0.176386    4.754973          -3.624203                   3.398255   \n",
      "1     -1.362468    3.068809          -2.172798                   2.505256   \n",
      "2      0.396399   -0.169238           0.278589                   0.060400   \n",
      "3      0.262769    0.716652          -0.593225                   0.784600   \n",
      "4     -0.137367    0.208369          -0.237052                   0.338101   \n",
      "\n",
      "   smogIndex  colemanLiauIndex  userProfileFilled  \n",
      "0  -1.016662          0.001299           0.413572  \n",
      "1  -1.016662          0.372791          -1.386184  \n",
      "2  -1.016662          0.889424           1.313449  \n",
      "3  -1.016662          1.243637           2.213327  \n",
      "4  -1.016662         -0.071271          -1.386184  \n",
      "\n",
      "[5 rows x 26 columns]\n"
     ]
    }
   ],
   "source": [
    "print(type(X))\n",
    "print(X.head())"
   ]
  },
  {
   "cell_type": "markdown",
   "metadata": {},
   "source": [
    "### Conduct Principal Component Analysis"
   ]
  },
  {
   "cell_type": "code",
   "execution_count": 57,
   "metadata": {},
   "outputs": [],
   "source": [
    "# print('Original number of features:', X.shape[1])\n",
    "# from sklearn.decomposition import PCA\n",
    "# pca = PCA(n_components=0.99)\n",
    "# X = pca.fit_transform(X)\n",
    "# print('Reduced number of features:', X.shape[1])\n",
    "# print(type(X))\n",
    "# X = pd.DataFrame(X)"
   ]
  },
  {
   "cell_type": "code",
   "execution_count": 58,
   "metadata": {},
   "outputs": [
    {
     "data": {
      "text/html": [
       "<div>\n",
       "<style scoped>\n",
       "    .dataframe tbody tr th:only-of-type {\n",
       "        vertical-align: middle;\n",
       "    }\n",
       "\n",
       "    .dataframe tbody tr th {\n",
       "        vertical-align: top;\n",
       "    }\n",
       "\n",
       "    .dataframe thead th {\n",
       "        text-align: right;\n",
       "    }\n",
       "</style>\n",
       "<table border=\"1\" class=\"dataframe\">\n",
       "  <thead>\n",
       "    <tr style=\"text-align: right;\">\n",
       "      <th></th>\n",
       "      <th>Reputation</th>\n",
       "      <th>experienceInTime</th>\n",
       "      <th>Views</th>\n",
       "      <th>Upvotes</th>\n",
       "      <th>Downvotes</th>\n",
       "      <th>tagCount</th>\n",
       "      <th>lowerUpperRatio</th>\n",
       "      <th>sentenceCount</th>\n",
       "      <th>firstLineLength</th>\n",
       "      <th>codeLength</th>\n",
       "      <th>...</th>\n",
       "      <th>shortWordCount</th>\n",
       "      <th>bodyWordCount</th>\n",
       "      <th>punctuationCount</th>\n",
       "      <th>tagWeightSum</th>\n",
       "      <th>gunningFog</th>\n",
       "      <th>fleschReadingEase</th>\n",
       "      <th>daleChallReadabilityScore</th>\n",
       "      <th>smogIndex</th>\n",
       "      <th>colemanLiauIndex</th>\n",
       "      <th>userProfileFilled</th>\n",
       "    </tr>\n",
       "  </thead>\n",
       "  <tbody>\n",
       "    <tr>\n",
       "      <th>0</th>\n",
       "      <td>1.432738</td>\n",
       "      <td>2.465146</td>\n",
       "      <td>1.435231</td>\n",
       "      <td>2.289324</td>\n",
       "      <td>0.290707</td>\n",
       "      <td>0.892056</td>\n",
       "      <td>-0.148165</td>\n",
       "      <td>0.003536</td>\n",
       "      <td>-0.329537</td>\n",
       "      <td>-0.366570</td>\n",
       "      <td>...</td>\n",
       "      <td>1.233166</td>\n",
       "      <td>1.204831</td>\n",
       "      <td>0.046470</td>\n",
       "      <td>0.176386</td>\n",
       "      <td>4.754973</td>\n",
       "      <td>-3.624203</td>\n",
       "      <td>3.398255</td>\n",
       "      <td>-1.016662</td>\n",
       "      <td>0.001299</td>\n",
       "      <td>0.413572</td>\n",
       "    </tr>\n",
       "    <tr>\n",
       "      <th>1</th>\n",
       "      <td>-0.172483</td>\n",
       "      <td>1.563097</td>\n",
       "      <td>-0.156726</td>\n",
       "      <td>-0.270553</td>\n",
       "      <td>-0.065531</td>\n",
       "      <td>1.707299</td>\n",
       "      <td>-0.524678</td>\n",
       "      <td>0.364392</td>\n",
       "      <td>-0.265402</td>\n",
       "      <td>-0.394312</td>\n",
       "      <td>...</td>\n",
       "      <td>0.287032</td>\n",
       "      <td>0.402707</td>\n",
       "      <td>-0.170823</td>\n",
       "      <td>-1.362468</td>\n",
       "      <td>3.068809</td>\n",
       "      <td>-2.172798</td>\n",
       "      <td>2.505256</td>\n",
       "      <td>-1.016662</td>\n",
       "      <td>0.372791</td>\n",
       "      <td>-1.386184</td>\n",
       "    </tr>\n",
       "    <tr>\n",
       "      <th>2</th>\n",
       "      <td>-0.035019</td>\n",
       "      <td>0.666172</td>\n",
       "      <td>-0.054207</td>\n",
       "      <td>-0.194619</td>\n",
       "      <td>-0.062537</td>\n",
       "      <td>0.076813</td>\n",
       "      <td>-0.428920</td>\n",
       "      <td>-0.176891</td>\n",
       "      <td>-0.222645</td>\n",
       "      <td>-0.394312</td>\n",
       "      <td>...</td>\n",
       "      <td>-0.745114</td>\n",
       "      <td>-0.559842</td>\n",
       "      <td>-0.184842</td>\n",
       "      <td>0.396399</td>\n",
       "      <td>-0.169238</td>\n",
       "      <td>0.278589</td>\n",
       "      <td>0.060400</td>\n",
       "      <td>-1.016662</td>\n",
       "      <td>0.889424</td>\n",
       "      <td>1.313449</td>\n",
       "    </tr>\n",
       "    <tr>\n",
       "      <th>3</th>\n",
       "      <td>0.060134</td>\n",
       "      <td>0.187813</td>\n",
       "      <td>0.207916</td>\n",
       "      <td>0.071794</td>\n",
       "      <td>-0.032601</td>\n",
       "      <td>-0.738430</td>\n",
       "      <td>-0.686662</td>\n",
       "      <td>-0.086677</td>\n",
       "      <td>1.177640</td>\n",
       "      <td>0.064136</td>\n",
       "      <td>...</td>\n",
       "      <td>0.143679</td>\n",
       "      <td>0.125610</td>\n",
       "      <td>0.011423</td>\n",
       "      <td>0.262769</td>\n",
       "      <td>0.716652</td>\n",
       "      <td>-0.593225</td>\n",
       "      <td>0.784600</td>\n",
       "      <td>-1.016662</td>\n",
       "      <td>1.243637</td>\n",
       "      <td>2.213327</td>\n",
       "    </tr>\n",
       "    <tr>\n",
       "      <th>4</th>\n",
       "      <td>-0.163799</td>\n",
       "      <td>0.235649</td>\n",
       "      <td>-0.129931</td>\n",
       "      <td>-0.273127</td>\n",
       "      <td>-0.065531</td>\n",
       "      <td>0.892056</td>\n",
       "      <td>2.638998</td>\n",
       "      <td>-0.357319</td>\n",
       "      <td>-0.083685</td>\n",
       "      <td>-0.394312</td>\n",
       "      <td>...</td>\n",
       "      <td>-0.286382</td>\n",
       "      <td>-0.253576</td>\n",
       "      <td>-0.226899</td>\n",
       "      <td>-0.137367</td>\n",
       "      <td>0.208369</td>\n",
       "      <td>-0.237052</td>\n",
       "      <td>0.338101</td>\n",
       "      <td>-1.016662</td>\n",
       "      <td>-0.071271</td>\n",
       "      <td>-1.386184</td>\n",
       "    </tr>\n",
       "  </tbody>\n",
       "</table>\n",
       "<p>5 rows × 26 columns</p>\n",
       "</div>"
      ],
      "text/plain": [
       "   Reputation  experienceInTime     Views   Upvotes  Downvotes  tagCount  \\\n",
       "0    1.432738          2.465146  1.435231  2.289324   0.290707  0.892056   \n",
       "1   -0.172483          1.563097 -0.156726 -0.270553  -0.065531  1.707299   \n",
       "2   -0.035019          0.666172 -0.054207 -0.194619  -0.062537  0.076813   \n",
       "3    0.060134          0.187813  0.207916  0.071794  -0.032601 -0.738430   \n",
       "4   -0.163799          0.235649 -0.129931 -0.273127  -0.065531  0.892056   \n",
       "\n",
       "   lowerUpperRatio  sentenceCount  firstLineLength  codeLength  \\\n",
       "0        -0.148165       0.003536        -0.329537   -0.366570   \n",
       "1        -0.524678       0.364392        -0.265402   -0.394312   \n",
       "2        -0.428920      -0.176891        -0.222645   -0.394312   \n",
       "3        -0.686662      -0.086677         1.177640    0.064136   \n",
       "4         2.638998      -0.357319        -0.083685   -0.394312   \n",
       "\n",
       "         ...          shortWordCount  bodyWordCount  punctuationCount  \\\n",
       "0        ...                1.233166       1.204831          0.046470   \n",
       "1        ...                0.287032       0.402707         -0.170823   \n",
       "2        ...               -0.745114      -0.559842         -0.184842   \n",
       "3        ...                0.143679       0.125610          0.011423   \n",
       "4        ...               -0.286382      -0.253576         -0.226899   \n",
       "\n",
       "   tagWeightSum  gunningFog  fleschReadingEase  daleChallReadabilityScore  \\\n",
       "0      0.176386    4.754973          -3.624203                   3.398255   \n",
       "1     -1.362468    3.068809          -2.172798                   2.505256   \n",
       "2      0.396399   -0.169238           0.278589                   0.060400   \n",
       "3      0.262769    0.716652          -0.593225                   0.784600   \n",
       "4     -0.137367    0.208369          -0.237052                   0.338101   \n",
       "\n",
       "   smogIndex  colemanLiauIndex  userProfileFilled  \n",
       "0  -1.016662          0.001299           0.413572  \n",
       "1  -1.016662          0.372791          -1.386184  \n",
       "2  -1.016662          0.889424           1.313449  \n",
       "3  -1.016662          1.243637           2.213327  \n",
       "4  -1.016662         -0.071271          -1.386184  \n",
       "\n",
       "[5 rows x 26 columns]"
      ]
     },
     "execution_count": 58,
     "metadata": {},
     "output_type": "execute_result"
    }
   ],
   "source": [
    "X.head()"
   ]
  },
  {
   "cell_type": "markdown",
   "metadata": {},
   "source": [
    "#### Train/Test Split  "
   ]
  },
  {
   "cell_type": "code",
   "execution_count": 59,
   "metadata": {},
   "outputs": [
    {
     "name": "stdout",
     "output_type": "stream",
     "text": [
      "(111997, 26)\n",
      "(111997,)\n",
      "(47999, 26)\n",
      "(47999,)\n"
     ]
    }
   ],
   "source": [
    "X_train,X_test,y_train,y_test=train_test_split(X,y,test_size=0.3,random_state=42)\n",
    "print(X_train.shape)\n",
    "print(y_train.shape)\n",
    "print(X_test.shape)\n",
    "print(y_test.shape)"
   ]
  },
  {
   "cell_type": "code",
   "execution_count": 60,
   "metadata": {},
   "outputs": [
    {
     "data": {
      "text/html": [
       "<div>\n",
       "<style scoped>\n",
       "    .dataframe tbody tr th:only-of-type {\n",
       "        vertical-align: middle;\n",
       "    }\n",
       "\n",
       "    .dataframe tbody tr th {\n",
       "        vertical-align: top;\n",
       "    }\n",
       "\n",
       "    .dataframe thead th {\n",
       "        text-align: right;\n",
       "    }\n",
       "</style>\n",
       "<table border=\"1\" class=\"dataframe\">\n",
       "  <thead>\n",
       "    <tr style=\"text-align: right;\">\n",
       "      <th></th>\n",
       "      <th>Reputation</th>\n",
       "      <th>experienceInTime</th>\n",
       "      <th>Views</th>\n",
       "      <th>Upvotes</th>\n",
       "      <th>Downvotes</th>\n",
       "      <th>tagCount</th>\n",
       "      <th>lowerUpperRatio</th>\n",
       "      <th>sentenceCount</th>\n",
       "      <th>firstLineLength</th>\n",
       "      <th>codeLength</th>\n",
       "      <th>...</th>\n",
       "      <th>shortWordCount</th>\n",
       "      <th>bodyWordCount</th>\n",
       "      <th>punctuationCount</th>\n",
       "      <th>tagWeightSum</th>\n",
       "      <th>gunningFog</th>\n",
       "      <th>fleschReadingEase</th>\n",
       "      <th>daleChallReadabilityScore</th>\n",
       "      <th>smogIndex</th>\n",
       "      <th>colemanLiauIndex</th>\n",
       "      <th>userProfileFilled</th>\n",
       "    </tr>\n",
       "  </thead>\n",
       "  <tbody>\n",
       "    <tr>\n",
       "      <th>29416</th>\n",
       "      <td>-0.115114</td>\n",
       "      <td>0.452619</td>\n",
       "      <td>-0.010520</td>\n",
       "      <td>0.398696</td>\n",
       "      <td>-0.053556</td>\n",
       "      <td>-0.738430</td>\n",
       "      <td>0.363113</td>\n",
       "      <td>-0.447533</td>\n",
       "      <td>0.536288</td>\n",
       "      <td>-0.049610</td>\n",
       "      <td>...</td>\n",
       "      <td>-0.773785</td>\n",
       "      <td>-0.749435</td>\n",
       "      <td>0.579190</td>\n",
       "      <td>0.783278</td>\n",
       "      <td>-0.080018</td>\n",
       "      <td>0.246750</td>\n",
       "      <td>-0.288087</td>\n",
       "      <td>-1.016662</td>\n",
       "      <td>-0.021163</td>\n",
       "      <td>1.313449</td>\n",
       "    </tr>\n",
       "    <tr>\n",
       "      <th>58063</th>\n",
       "      <td>-0.183569</td>\n",
       "      <td>0.678131</td>\n",
       "      <td>-0.169540</td>\n",
       "      <td>-0.230655</td>\n",
       "      <td>-0.065531</td>\n",
       "      <td>-1.553673</td>\n",
       "      <td>-0.593793</td>\n",
       "      <td>-0.447533</td>\n",
       "      <td>-0.532632</td>\n",
       "      <td>-0.394312</td>\n",
       "      <td>...</td>\n",
       "      <td>-1.060492</td>\n",
       "      <td>-1.099452</td>\n",
       "      <td>-0.296994</td>\n",
       "      <td>0.772687</td>\n",
       "      <td>-0.264766</td>\n",
       "      <td>0.648524</td>\n",
       "      <td>0.626692</td>\n",
       "      <td>-1.016662</td>\n",
       "      <td>1.374955</td>\n",
       "      <td>-0.486306</td>\n",
       "    </tr>\n",
       "    <tr>\n",
       "      <th>62206</th>\n",
       "      <td>-0.116962</td>\n",
       "      <td>0.013553</td>\n",
       "      <td>-0.106049</td>\n",
       "      <td>-0.059482</td>\n",
       "      <td>0.003322</td>\n",
       "      <td>0.892056</td>\n",
       "      <td>1.022602</td>\n",
       "      <td>0.364392</td>\n",
       "      <td>-0.286780</td>\n",
       "      <td>-0.394312</td>\n",
       "      <td>...</td>\n",
       "      <td>-0.429736</td>\n",
       "      <td>-0.428585</td>\n",
       "      <td>-0.086710</td>\n",
       "      <td>-0.013216</td>\n",
       "      <td>1.259180</td>\n",
       "      <td>-1.268874</td>\n",
       "      <td>1.606812</td>\n",
       "      <td>-1.016662</td>\n",
       "      <td>2.776257</td>\n",
       "      <td>1.313449</td>\n",
       "    </tr>\n",
       "    <tr>\n",
       "      <th>14790</th>\n",
       "      <td>-0.178488</td>\n",
       "      <td>-0.871412</td>\n",
       "      <td>-0.170123</td>\n",
       "      <td>-0.291145</td>\n",
       "      <td>-0.065531</td>\n",
       "      <td>-1.553673</td>\n",
       "      <td>-0.373039</td>\n",
       "      <td>-0.086677</td>\n",
       "      <td>0.322504</td>\n",
       "      <td>-0.394312</td>\n",
       "      <td>...</td>\n",
       "      <td>-0.143029</td>\n",
       "      <td>-0.224408</td>\n",
       "      <td>-0.226899</td>\n",
       "      <td>0.813817</td>\n",
       "      <td>1.125801</td>\n",
       "      <td>-0.994729</td>\n",
       "      <td>0.403442</td>\n",
       "      <td>-1.016662</td>\n",
       "      <td>-0.028074</td>\n",
       "      <td>-0.486306</td>\n",
       "    </tr>\n",
       "    <tr>\n",
       "      <th>152752</th>\n",
       "      <td>-0.172206</td>\n",
       "      <td>-0.000114</td>\n",
       "      <td>-0.132261</td>\n",
       "      <td>-0.273127</td>\n",
       "      <td>-0.062537</td>\n",
       "      <td>1.707299</td>\n",
       "      <td>0.170762</td>\n",
       "      <td>-0.176891</td>\n",
       "      <td>-0.190577</td>\n",
       "      <td>-0.345069</td>\n",
       "      <td>...</td>\n",
       "      <td>-0.487078</td>\n",
       "      <td>-0.399417</td>\n",
       "      <td>-0.275965</td>\n",
       "      <td>-0.997714</td>\n",
       "      <td>-0.326949</td>\n",
       "      <td>0.165531</td>\n",
       "      <td>-0.070283</td>\n",
       "      <td>0.960018</td>\n",
       "      <td>0.206916</td>\n",
       "      <td>1.313449</td>\n",
       "    </tr>\n",
       "  </tbody>\n",
       "</table>\n",
       "<p>5 rows × 26 columns</p>\n",
       "</div>"
      ],
      "text/plain": [
       "        Reputation  experienceInTime     Views   Upvotes  Downvotes  tagCount  \\\n",
       "29416    -0.115114          0.452619 -0.010520  0.398696  -0.053556 -0.738430   \n",
       "58063    -0.183569          0.678131 -0.169540 -0.230655  -0.065531 -1.553673   \n",
       "62206    -0.116962          0.013553 -0.106049 -0.059482   0.003322  0.892056   \n",
       "14790    -0.178488         -0.871412 -0.170123 -0.291145  -0.065531 -1.553673   \n",
       "152752   -0.172206         -0.000114 -0.132261 -0.273127  -0.062537  1.707299   \n",
       "\n",
       "        lowerUpperRatio  sentenceCount  firstLineLength  codeLength  \\\n",
       "29416          0.363113      -0.447533         0.536288   -0.049610   \n",
       "58063         -0.593793      -0.447533        -0.532632   -0.394312   \n",
       "62206          1.022602       0.364392        -0.286780   -0.394312   \n",
       "14790         -0.373039      -0.086677         0.322504   -0.394312   \n",
       "152752         0.170762      -0.176891        -0.190577   -0.345069   \n",
       "\n",
       "              ...          shortWordCount  bodyWordCount  punctuationCount  \\\n",
       "29416         ...               -0.773785      -0.749435          0.579190   \n",
       "58063         ...               -1.060492      -1.099452         -0.296994   \n",
       "62206         ...               -0.429736      -0.428585         -0.086710   \n",
       "14790         ...               -0.143029      -0.224408         -0.226899   \n",
       "152752        ...               -0.487078      -0.399417         -0.275965   \n",
       "\n",
       "        tagWeightSum  gunningFog  fleschReadingEase  \\\n",
       "29416       0.783278   -0.080018           0.246750   \n",
       "58063       0.772687   -0.264766           0.648524   \n",
       "62206      -0.013216    1.259180          -1.268874   \n",
       "14790       0.813817    1.125801          -0.994729   \n",
       "152752     -0.997714   -0.326949           0.165531   \n",
       "\n",
       "        daleChallReadabilityScore  smogIndex  colemanLiauIndex  \\\n",
       "29416                   -0.288087  -1.016662         -0.021163   \n",
       "58063                    0.626692  -1.016662          1.374955   \n",
       "62206                    1.606812  -1.016662          2.776257   \n",
       "14790                    0.403442  -1.016662         -0.028074   \n",
       "152752                  -0.070283   0.960018          0.206916   \n",
       "\n",
       "        userProfileFilled  \n",
       "29416            1.313449  \n",
       "58063           -0.486306  \n",
       "62206            1.313449  \n",
       "14790           -0.486306  \n",
       "152752           1.313449  \n",
       "\n",
       "[5 rows x 26 columns]"
      ]
     },
     "execution_count": 60,
     "metadata": {},
     "output_type": "execute_result"
    }
   ],
   "source": [
    "X_train.head()"
   ]
  },
  {
   "cell_type": "markdown",
   "metadata": {},
   "source": [
    "### LOGISTIC REGRESSION"
   ]
  },
  {
   "cell_type": "code",
   "execution_count": 61,
   "metadata": {},
   "outputs": [
    {
     "data": {
      "text/plain": [
       "LogisticRegression(C=1.0, class_weight=None, dual=False, fit_intercept=True,\n",
       "          intercept_scaling=1, max_iter=100, multi_class='ovr', n_jobs=1,\n",
       "          penalty='l2', random_state=None, solver='liblinear', tol=0.0001,\n",
       "          verbose=0, warm_start=False)"
      ]
     },
     "execution_count": 61,
     "metadata": {},
     "output_type": "execute_result"
    }
   ],
   "source": [
    "logreg=LogisticRegression()\n",
    "logreg.fit(X_train,y_train)"
   ]
  },
  {
   "cell_type": "code",
   "execution_count": 62,
   "metadata": {},
   "outputs": [
    {
     "name": "stdout",
     "output_type": "stream",
     "text": [
      "(47999,)\n"
     ]
    }
   ],
   "source": [
    "y_pred=logreg.predict(X_test)\n",
    "print(y_pred.shape)"
   ]
  },
  {
   "cell_type": "code",
   "execution_count": 63,
   "metadata": {},
   "outputs": [
    {
     "data": {
      "text/plain": [
       "0.8864976353674034"
      ]
     },
     "execution_count": 63,
     "metadata": {},
     "output_type": "execute_result"
    }
   ],
   "source": [
    "#Accuracy\n",
    "np.mean(y_pred==y_test)\n",
    "\n",
    "#26 columns with Scaling: 0.8864976353674034"
   ]
  },
  {
   "cell_type": "code",
   "execution_count": 31,
   "metadata": {},
   "outputs": [
    {
     "name": "stdout",
     "output_type": "stream",
     "text": [
      "             precision    recall  f1-score   support\n",
      "\n",
      "          0       0.89      0.88      0.89     24085\n",
      "          1       0.88      0.89      0.89     23914\n",
      "\n",
      "avg / total       0.89      0.89      0.89     47999\n",
      "\n",
      "Precision: 0.8873913633946493\n",
      "Recall: 0.8873865140134614\n",
      "F1 Score:0.8873725937122617\n",
      "(0.8873913633946493, 0.8873865140134614, 0.8873725937122617, None)\n"
     ]
    }
   ],
   "source": [
    "print(classification_report(y_test,y_pred) )\n",
    "print(\"Precision: \"+str(precision_score(y_test, y_pred, average='macro')) )\n",
    "print(\"Recall: \"+str(recall_score(y_test, y_pred, average='macro')) )\n",
    "print(\"F1 Score:\"+str(f1_score(y_test, y_pred, average='macro')) )\n",
    "print(precision_recall_fscore_support(y_test, y_pred, average='macro') )\n",
    "# Precision, recall, fscore, support in order\n",
    "\n",
    "#26 cols with Scaling:\n",
    "# Precision: 0.8873913633946493\n",
    "# Recall: 0.8873865140134614\n",
    "# F1 Score:0.8873725937122617"
   ]
  },
  {
   "cell_type": "markdown",
   "metadata": {},
   "source": [
    "### LASSO REGULARIZATION"
   ]
  },
  {
   "cell_type": "code",
   "execution_count": null,
   "metadata": {},
   "outputs": [],
   "source": [
    "#lambdas=list(range(1,50,1))\n",
    "lambdas=[0.01,0.1,1,10,100,1000]\n",
    "print(lambdas)\n",
    "for l in lambdas:\n",
    "    print(l)\n",
    "    lassoLogReg=LogisticRegression(penalty=\"l1\",C=1/l)\n",
    "    lassoLogReg.fit(X_train,y_train)\n",
    "    y_pred=lassoLogReg.predict(X_test)\n",
    "    #print(y_pred.shape)\n",
    "    #Accuracy\n",
    "    print(\"lambda=\"+str(l)+\" c=\"+str(1/l)+\" Accuracy:\"+str(np.mean(y_pred==y_test)))\n",
    "#for 23 features: highest accuracy obt was for lambda=650 c=0.0015384615384615385 Accuracy:0.8463926331798579\n",
    "#for 24 features: highest accuracy obt was for lambda=500 c=0.002 Accuracy:0.8551636492426925\n",
    "#if we increase lambda very much then too accuracy will reduce because of underfitting\n",
    "\n",
    "#After scaling:\n",
    "#29 features: \n"
   ]
  },
  {
   "cell_type": "code",
   "execution_count": null,
   "metadata": {},
   "outputs": [],
   "source": [
    "#print(classification_report(y_test,y_pred))"
   ]
  },
  {
   "cell_type": "markdown",
   "metadata": {},
   "source": [
    "### RIGDE REGULARIZATION"
   ]
  },
  {
   "cell_type": "code",
   "execution_count": 30,
   "metadata": {},
   "outputs": [
    {
     "name": "stdout",
     "output_type": "stream",
     "text": [
      "[0.001, 0.01, 0.1, 1, 10, 100, 1000]\n",
      "lambda=0.001 c=1000.0 Accuracy:0.8540594595720744\n",
      "lambda=0.01 c=100.0 Accuracy:0.8540594595720744\n",
      "lambda=0.1 c=10.0 Accuracy:0.8540177920373341\n",
      "lambda=1 c=1.0 Accuracy:0.85345528031834\n",
      "lambda=10 c=0.1 Accuracy:0.8510802308381424\n",
      "lambda=100 c=0.01 Accuracy:0.8373299443738411\n",
      "lambda=1000 c=0.001 Accuracy:0.7960999187483072\n"
     ]
    }
   ],
   "source": [
    "#lambdas=list(range(1,50,2))\n",
    "lambdas=[0.001, 0.01, 0.1, 1, 10, 100, 1000]\n",
    "print(lambdas)\n",
    "for l in lambdas:\n",
    "    ridgeLogReg=LogisticRegression(penalty=\"l2\",C=1/l)\n",
    "    ridgeLogReg.fit(X_train,y_train)\n",
    "    y_pred=ridgeLogReg.predict(X_test)\n",
    "    #print(y_pred.shape)\n",
    "    #Accuracy\n",
    "    print(\"lambda=\"+str(l)+\" c=\"+str(1/l)+\" Accuracy:\"+str(np.mean(y_pred==y_test)))\n",
    "    \n",
    "#for 24 features: highest accuracy obt was for:lambda=0.01 c=100.0 Accuracy:0.8533927790162295\n",
    "\n",
    "#After PCA: \n",
    "# 29 features to 26 features: lambda=0.001 c=1000.0 Accuracy:0.8504343840496676"
   ]
  },
  {
   "cell_type": "markdown",
   "metadata": {},
   "source": [
    "### GRID SEARCH CV"
   ]
  },
  {
   "cell_type": "code",
   "execution_count": null,
   "metadata": {},
   "outputs": [],
   "source": [
    "# from sklearn.model_selection import GridSearchCV\n",
    "# param_grid={'C': [0.001, 0.01, 0.1, 1, 10, 100, 1000],'penalty':['l1','l2'] }\n",
    "# gridSearch=GridSearchCV(LogisticRegression(), param_grid,cv=5) #5 fold cross validation\n",
    "# gridSearch.fit(X_train,y_train) \n",
    "# print(gridSearch.best_params_)"
   ]
  },
  {
   "cell_type": "code",
   "execution_count": null,
   "metadata": {},
   "outputs": [],
   "source": [
    "# #print(gridSearch.best_score_)\n",
    "# y_pred=gridSearch.predict(X_test)\n",
    "# #Accuracy on never seen before test set\n",
    "# print(np.mean(y_pred==y_test))"
   ]
  },
  {
   "cell_type": "code",
   "execution_count": null,
   "metadata": {},
   "outputs": [],
   "source": [
    "#Best params obtained: {'C': 0.01, 'penalty': 'l1'}\n",
    "#Accuracy obt: 0.845038438300798\n",
    "#Accuracy obt for 24 features: 0.8547469738952895"
   ]
  },
  {
   "cell_type": "markdown",
   "metadata": {},
   "source": [
    "### STOCHASTIC GRADIENT DESCENT"
   ]
  },
  {
   "cell_type": "code",
   "execution_count": 92,
   "metadata": {},
   "outputs": [
    {
     "data": {
      "text/plain": [
       "SGDClassifier(alpha=0.0001, average=False, class_weight=None, epsilon=0.1,\n",
       "       eta0=0.0, fit_intercept=True, l1_ratio=0.15,\n",
       "       learning_rate='optimal', loss='log', max_iter=5000, n_iter=None,\n",
       "       n_jobs=1, penalty='l2', power_t=0.5, random_state=None,\n",
       "       shuffle=True, tol=None, verbose=0, warm_start=False)"
      ]
     },
     "execution_count": 92,
     "metadata": {},
     "output_type": "execute_result"
    }
   ],
   "source": [
    "#https://scikit-learn.org/stable/modules/generated/sklearn.linear_model.SGDClassifier.html#sklearn.linear_model.SGDClassifier\n",
    "from sklearn.linear_model import SGDClassifier\n",
    "sgd=SGDClassifier(loss=\"log\",max_iter=5000) #logistic regression\n",
    "sgd.fit(X_train,y_train)"
   ]
  },
  {
   "cell_type": "code",
   "execution_count": 93,
   "metadata": {},
   "outputs": [
    {
     "name": "stdout",
     "output_type": "stream",
     "text": [
      "(47999,)\n"
     ]
    }
   ],
   "source": [
    "y_pred=sgd.predict(X_test)\n",
    "print(y_pred.shape)"
   ]
  },
  {
   "cell_type": "code",
   "execution_count": 94,
   "metadata": {},
   "outputs": [
    {
     "data": {
      "text/plain": [
       "0.88601845871789"
      ]
     },
     "execution_count": 94,
     "metadata": {},
     "output_type": "execute_result"
    }
   ],
   "source": [
    "#Accuracy\n",
    "np.mean(y_pred==y_test)\n",
    "#for 23 features: with max_iter=5000 Accuracy is:0.8080793349861456\n",
    "#for 24 features: with max_iter=5000 Accuracy is:0.8219962915894081\n",
    "#After scaling:\n",
    "#24 features: with max_iter=5000 Accuracy is: 0.8508718931644409\n",
    "#29 features: with max_iter=5000 Accuracy is: 0.8507260567928498\n",
    "\n",
    "#PCA: \n",
    "#29 features to 26 features: 0.8446634304881352\n"
   ]
  },
  {
   "cell_type": "code",
   "execution_count": 29,
   "metadata": {},
   "outputs": [
    {
     "name": "stdout",
     "output_type": "stream",
     "text": [
      "             precision    recall  f1-score   support\n",
      "\n",
      "          0       0.88      0.81      0.84     24085\n",
      "          1       0.82      0.89      0.86     23914\n",
      "\n",
      "avg / total       0.85      0.85      0.85     47999\n",
      "\n",
      "Precision: 0.8533320912052453\n",
      "Recall: 0.8508790651450169\n",
      "F1 Score:0.850487823093065\n",
      "(0.8533320912052453, 0.8508790651450169, 0.850487823093065, None)\n"
     ]
    }
   ],
   "source": [
    "print(classification_report(y_test,y_pred) )\n",
    "print(\"Precision: \"+str(precision_score(y_test, y_pred, average='macro')) )\n",
    "print(\"Recall: \"+str(recall_score(y_test, y_pred, average='macro')) )\n",
    "print(\"F1 Score:\"+str(f1_score(y_test, y_pred, average='macro')) )\n",
    "print(precision_recall_fscore_support(y_test, y_pred, average='macro') )\n",
    "# Precision, recall, fscore, support in order"
   ]
  },
  {
   "cell_type": "code",
   "execution_count": null,
   "metadata": {
    "scrolled": true
   },
   "outputs": [],
   "source": [
    "sgd.get_params() "
   ]
  },
  {
   "cell_type": "code",
   "execution_count": null,
   "metadata": {},
   "outputs": [],
   "source": [
    "sgd.coef_"
   ]
  },
  {
   "cell_type": "code",
   "execution_count": null,
   "metadata": {},
   "outputs": [],
   "source": [
    "whos"
   ]
  },
  {
   "cell_type": "code",
   "execution_count": null,
   "metadata": {},
   "outputs": [],
   "source": []
  }
 ],
 "metadata": {
  "kernelspec": {
   "display_name": "Python 3",
   "language": "python",
   "name": "python3"
  },
  "language_info": {
   "codemirror_mode": {
    "name": "ipython",
    "version": 3
   },
   "file_extension": ".py",
   "mimetype": "text/x-python",
   "name": "python",
   "nbconvert_exporter": "python",
   "pygments_lexer": "ipython3",
   "version": "3.6.5"
  }
 },
 "nbformat": 4,
 "nbformat_minor": 2
}
