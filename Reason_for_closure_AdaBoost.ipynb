{
 "cells": [
  {
   "cell_type": "code",
   "execution_count": 32,
   "metadata": {},
   "outputs": [],
   "source": [
    "import pandas as pd\n",
    "import numpy as np\n",
    "from sklearn.model_selection import train_test_split\n",
    "from sklearn.metrics import classification_report\n",
    "from sklearn.model_selection import GridSearchCV\n",
    "from sklearn.model_selection import KFold,cross_val_score\n",
    "from sklearn.ensemble import AdaBoostClassifier\n",
    "from sklearn.svm import LinearSVC"
   ]
  },
  {
   "cell_type": "code",
   "execution_count": 33,
   "metadata": {},
   "outputs": [
    {
     "data": {
      "text/html": [
       "<div>\n",
       "<style scoped>\n",
       "    .dataframe tbody tr th:only-of-type {\n",
       "        vertical-align: middle;\n",
       "    }\n",
       "\n",
       "    .dataframe tbody tr th {\n",
       "        vertical-align: top;\n",
       "    }\n",
       "\n",
       "    .dataframe thead th {\n",
       "        text-align: right;\n",
       "    }\n",
       "</style>\n",
       "<table border=\"1\" class=\"dataframe\">\n",
       "  <thead>\n",
       "    <tr style=\"text-align: right;\">\n",
       "      <th></th>\n",
       "      <th>Unnamed: 0</th>\n",
       "      <th>PostId</th>\n",
       "      <th>UserId</th>\n",
       "      <th>Comment</th>\n",
       "      <th>Body</th>\n",
       "      <th>Title</th>\n",
       "      <th>Tags</th>\n",
       "      <th>Reputation</th>\n",
       "      <th>experienceInTime</th>\n",
       "      <th>WebsiteUrl</th>\n",
       "      <th>...</th>\n",
       "      <th>locationFilled</th>\n",
       "      <th>aboutMeFilled</th>\n",
       "      <th>profileImageUrlFilled</th>\n",
       "      <th>tagWeightSum</th>\n",
       "      <th>gunningFog</th>\n",
       "      <th>fleschReadingEase</th>\n",
       "      <th>daleChallReadabilityScore</th>\n",
       "      <th>smogIndex</th>\n",
       "      <th>colemanLiauIndex</th>\n",
       "      <th>userProfileFilled</th>\n",
       "    </tr>\n",
       "  </thead>\n",
       "  <tbody>\n",
       "    <tr>\n",
       "      <th>0</th>\n",
       "      <td>0</td>\n",
       "      <td>21170255</td>\n",
       "      <td>5921</td>\n",
       "      <td>102</td>\n",
       "      <td>&lt;p&gt;I tried to Google for this, but was (surpri...</td>\n",
       "      <td>Can anyone point me to (or post) an array of e...</td>\n",
       "      <td>&lt;javascript&gt;&lt;html&gt;&lt;arrays&gt;&lt;tags&gt;</td>\n",
       "      <td>17527</td>\n",
       "      <td>1953</td>\n",
       "      <td>NaN</td>\n",
       "      <td>...</td>\n",
       "      <td>1</td>\n",
       "      <td>1</td>\n",
       "      <td>0</td>\n",
       "      <td>-207.161031</td>\n",
       "      <td>71.70</td>\n",
       "      <td>-80.10</td>\n",
       "      <td>13.96</td>\n",
       "      <td>0.0</td>\n",
       "      <td>9.83</td>\n",
       "      <td>2</td>\n",
       "    </tr>\n",
       "    <tr>\n",
       "      <th>1</th>\n",
       "      <td>1</td>\n",
       "      <td>38290647</td>\n",
       "      <td>1601251</td>\n",
       "      <td>102</td>\n",
       "      <td>&lt;p&gt;I am at a decision fork where i have to pic...</td>\n",
       "      <td>RESTful API with either Tomcat or Node.js?</td>\n",
       "      <td>&lt;java&gt;&lt;node.js&gt;&lt;rest&gt;&lt;tomcat&gt;&lt;typescript&gt;</td>\n",
       "      <td>151</td>\n",
       "      <td>1425</td>\n",
       "      <td>NaN</td>\n",
       "      <td>...</td>\n",
       "      <td>0</td>\n",
       "      <td>0</td>\n",
       "      <td>0</td>\n",
       "      <td>-536.990588</td>\n",
       "      <td>52.99</td>\n",
       "      <td>-26.31</td>\n",
       "      <td>12.32</td>\n",
       "      <td>0.0</td>\n",
       "      <td>11.98</td>\n",
       "      <td>0</td>\n",
       "    </tr>\n",
       "    <tr>\n",
       "      <th>2</th>\n",
       "      <td>2</td>\n",
       "      <td>6496114</td>\n",
       "      <td>52924</td>\n",
       "      <td>102</td>\n",
       "      <td>&lt;p&gt;Does anyone know of a good tool to test Sch...</td>\n",
       "      <td>Tool for testing Schema.org markup</td>\n",
       "      <td>&lt;testing&gt;&lt;markup&gt;&lt;schema.org&gt;</td>\n",
       "      <td>1639</td>\n",
       "      <td>900</td>\n",
       "      <td>http://www.agendarecife.com</td>\n",
       "      <td>...</td>\n",
       "      <td>1</td>\n",
       "      <td>1</td>\n",
       "      <td>0</td>\n",
       "      <td>-160.004636</td>\n",
       "      <td>17.06</td>\n",
       "      <td>64.54</td>\n",
       "      <td>7.83</td>\n",
       "      <td>0.0</td>\n",
       "      <td>14.97</td>\n",
       "      <td>3</td>\n",
       "    </tr>\n",
       "    <tr>\n",
       "      <th>3</th>\n",
       "      <td>3</td>\n",
       "      <td>25982771</td>\n",
       "      <td>1968462</td>\n",
       "      <td>102</td>\n",
       "      <td>&lt;p&gt;The &lt;a href=\"http://www.postgresql.org/docs...</td>\n",
       "      <td>Inserting into simple Postgres views</td>\n",
       "      <td>&lt;sql&gt;&lt;postgresql&gt;</td>\n",
       "      <td>2669</td>\n",
       "      <td>620</td>\n",
       "      <td>https://katrinahoffert.github.io/</td>\n",
       "      <td>...</td>\n",
       "      <td>1</td>\n",
       "      <td>1</td>\n",
       "      <td>1</td>\n",
       "      <td>-188.646160</td>\n",
       "      <td>26.89</td>\n",
       "      <td>32.23</td>\n",
       "      <td>9.16</td>\n",
       "      <td>0.0</td>\n",
       "      <td>17.02</td>\n",
       "      <td>4</td>\n",
       "    </tr>\n",
       "    <tr>\n",
       "      <th>4</th>\n",
       "      <td>4</td>\n",
       "      <td>10142243</td>\n",
       "      <td>383479</td>\n",
       "      <td>102</td>\n",
       "      <td>&lt;p&gt;Which frameworks would you recommend for wr...</td>\n",
       "      <td>Frameworks for Unittests for Multithreading in...</td>\n",
       "      <td>&lt;java&gt;&lt;multithreading&gt;&lt;unit-testing&gt;&lt;concurrency&gt;</td>\n",
       "      <td>245</td>\n",
       "      <td>648</td>\n",
       "      <td>NaN</td>\n",
       "      <td>...</td>\n",
       "      <td>0</td>\n",
       "      <td>0</td>\n",
       "      <td>0</td>\n",
       "      <td>-274.409048</td>\n",
       "      <td>21.25</td>\n",
       "      <td>45.43</td>\n",
       "      <td>8.34</td>\n",
       "      <td>0.0</td>\n",
       "      <td>9.41</td>\n",
       "      <td>0</td>\n",
       "    </tr>\n",
       "  </tbody>\n",
       "</table>\n",
       "<p>5 rows × 42 columns</p>\n",
       "</div>"
      ],
      "text/plain": [
       "   Unnamed: 0    PostId   UserId  Comment  \\\n",
       "0           0  21170255     5921      102   \n",
       "1           1  38290647  1601251      102   \n",
       "2           2   6496114    52924      102   \n",
       "3           3  25982771  1968462      102   \n",
       "4           4  10142243   383479      102   \n",
       "\n",
       "                                                Body  \\\n",
       "0  <p>I tried to Google for this, but was (surpri...   \n",
       "1  <p>I am at a decision fork where i have to pic...   \n",
       "2  <p>Does anyone know of a good tool to test Sch...   \n",
       "3  <p>The <a href=\"http://www.postgresql.org/docs...   \n",
       "4  <p>Which frameworks would you recommend for wr...   \n",
       "\n",
       "                                               Title  \\\n",
       "0  Can anyone point me to (or post) an array of e...   \n",
       "1         RESTful API with either Tomcat or Node.js?   \n",
       "2                 Tool for testing Schema.org markup   \n",
       "3               Inserting into simple Postgres views   \n",
       "4  Frameworks for Unittests for Multithreading in...   \n",
       "\n",
       "                                                Tags  Reputation  \\\n",
       "0                   <javascript><html><arrays><tags>       17527   \n",
       "1          <java><node.js><rest><tomcat><typescript>         151   \n",
       "2                      <testing><markup><schema.org>        1639   \n",
       "3                                  <sql><postgresql>        2669   \n",
       "4  <java><multithreading><unit-testing><concurrency>         245   \n",
       "\n",
       "   experienceInTime                         WebsiteUrl        ...          \\\n",
       "0              1953                                NaN        ...           \n",
       "1              1425                                NaN        ...           \n",
       "2               900        http://www.agendarecife.com        ...           \n",
       "3               620  https://katrinahoffert.github.io/        ...           \n",
       "4               648                                NaN        ...           \n",
       "\n",
       "  locationFilled aboutMeFilled  profileImageUrlFilled  tagWeightSum  \\\n",
       "0              1             1                      0   -207.161031   \n",
       "1              0             0                      0   -536.990588   \n",
       "2              1             1                      0   -160.004636   \n",
       "3              1             1                      1   -188.646160   \n",
       "4              0             0                      0   -274.409048   \n",
       "\n",
       "   gunningFog fleschReadingEase  daleChallReadabilityScore  smogIndex  \\\n",
       "0       71.70            -80.10                      13.96        0.0   \n",
       "1       52.99            -26.31                      12.32        0.0   \n",
       "2       17.06             64.54                       7.83        0.0   \n",
       "3       26.89             32.23                       9.16        0.0   \n",
       "4       21.25             45.43                       8.34        0.0   \n",
       "\n",
       "   colemanLiauIndex  userProfileFilled  \n",
       "0              9.83                  2  \n",
       "1             11.98                  0  \n",
       "2             14.97                  3  \n",
       "3             17.02                  4  \n",
       "4              9.41                  0  \n",
       "\n",
       "[5 rows x 42 columns]"
      ]
     },
     "execution_count": 33,
     "metadata": {},
     "output_type": "execute_result"
    }
   ],
   "source": [
    "openCloseData=pd.read_csv(\"openCloseData8.csv\")\n",
    "openCloseData.head()"
   ]
  },
  {
   "cell_type": "code",
   "execution_count": 34,
   "metadata": {},
   "outputs": [
    {
     "name": "stdout",
     "output_type": "stream",
     "text": [
      "(159996, 42)\n",
      "(159996, 41)\n"
     ]
    }
   ],
   "source": [
    "print(openCloseData.shape)\n",
    "openCloseData.drop(['Unnamed: 0'],inplace=True,axis=1)\n",
    "print(openCloseData.shape)"
   ]
  },
  {
   "cell_type": "code",
   "execution_count": 35,
   "metadata": {},
   "outputs": [
    {
     "data": {
      "text/plain": [
       "Index(['PostId', 'UserId', 'Comment', 'Body', 'Title', 'Tags', 'Reputation',\n",
       "       'experienceInTime', 'WebsiteUrl', 'Location', 'AboutMe', 'Views',\n",
       "       'Upvotes', 'Downvotes', 'ProfileImageUrl', 'tagCount', 'closed',\n",
       "       'lowerUpperRatio', 'sentenceCount', 'firstLineLength', 'codeLength',\n",
       "       'urlCount', 'SOUrlCount', 'titleLengthInChars',\n",
       "       'countOfInterrogativeSent', 'sentencesStartWithYouCount',\n",
       "       'sentencesStartWithICount', 'shortWordCount', 'bodyWordCount',\n",
       "       'punctuationCount', 'websiteUrlFilled', 'locationFilled',\n",
       "       'aboutMeFilled', 'profileImageUrlFilled', 'tagWeightSum', 'gunningFog',\n",
       "       'fleschReadingEase', 'daleChallReadabilityScore', 'smogIndex',\n",
       "       'colemanLiauIndex', 'userProfileFilled'],\n",
       "      dtype='object')"
      ]
     },
     "execution_count": 35,
     "metadata": {},
     "output_type": "execute_result"
    }
   ],
   "source": [
    "openCloseData.columns"
   ]
  },
  {
   "cell_type": "code",
   "execution_count": 36,
   "metadata": {},
   "outputs": [
    {
     "data": {
      "text/plain": [
       "(79996, 41)"
      ]
     },
     "execution_count": 36,
     "metadata": {},
     "output_type": "execute_result"
    }
   ],
   "source": [
    "# closeData = openCloseData[80001:]\n",
    "closeData = openCloseData[openCloseData['closed'] == 1]\n",
    "closeData.shape"
   ]
  },
  {
   "cell_type": "code",
   "execution_count": 37,
   "metadata": {},
   "outputs": [
    {
     "name": "stdout",
     "output_type": "stream",
     "text": [
      "(79996, 26)\n",
      "<class 'pandas.core.frame.DataFrame'>\n"
     ]
    }
   ],
   "source": [
    "X = closeData.loc[:,['Comment', 'Reputation',\n",
    "       'experienceInTime', 'Views',\n",
    "       'Upvotes', 'Downvotes', 'tagCount',\n",
    "       'lowerUpperRatio', 'sentenceCount', 'firstLineLength', 'codeLength',\n",
    "       'urlCount', 'SOUrlCount', 'titleLengthInChars',\n",
    "       'countOfInterrogativeSent', 'sentencesStartWithYouCount',\n",
    "       'sentencesStartWithICount', 'shortWordCount', 'bodyWordCount',\n",
    "       'punctuationCount', 'gunningFog',\n",
    "       'fleschReadingEase', 'daleChallReadabilityScore', 'smogIndex',\n",
    "       'colemanLiauIndex', 'userProfileFilled'] ]\n",
    "X.replace(np.nan,0,inplace=True)  #replacing NaN to 0\n",
    "X.lowerUpperRatio.replace(np.inf,0,inplace=True)  #replacing infinity to 0\n",
    "print(X.shape)\n",
    "print(type(X))"
   ]
  },
  {
   "cell_type": "code",
   "execution_count": 38,
   "metadata": {},
   "outputs": [
    {
     "data": {
      "text/html": [
       "<div>\n",
       "<style scoped>\n",
       "    .dataframe tbody tr th:only-of-type {\n",
       "        vertical-align: middle;\n",
       "    }\n",
       "\n",
       "    .dataframe tbody tr th {\n",
       "        vertical-align: top;\n",
       "    }\n",
       "\n",
       "    .dataframe thead th {\n",
       "        text-align: right;\n",
       "    }\n",
       "</style>\n",
       "<table border=\"1\" class=\"dataframe\">\n",
       "  <thead>\n",
       "    <tr style=\"text-align: right;\">\n",
       "      <th></th>\n",
       "      <th>Comment</th>\n",
       "      <th>Reputation</th>\n",
       "      <th>experienceInTime</th>\n",
       "      <th>Views</th>\n",
       "      <th>Upvotes</th>\n",
       "      <th>Downvotes</th>\n",
       "      <th>tagCount</th>\n",
       "      <th>lowerUpperRatio</th>\n",
       "      <th>sentenceCount</th>\n",
       "      <th>firstLineLength</th>\n",
       "      <th>...</th>\n",
       "      <th>sentencesStartWithICount</th>\n",
       "      <th>shortWordCount</th>\n",
       "      <th>bodyWordCount</th>\n",
       "      <th>punctuationCount</th>\n",
       "      <th>gunningFog</th>\n",
       "      <th>fleschReadingEase</th>\n",
       "      <th>daleChallReadabilityScore</th>\n",
       "      <th>smogIndex</th>\n",
       "      <th>colemanLiauIndex</th>\n",
       "      <th>userProfileFilled</th>\n",
       "    </tr>\n",
       "  </thead>\n",
       "  <tbody>\n",
       "    <tr>\n",
       "      <th>0</th>\n",
       "      <td>102</td>\n",
       "      <td>17527</td>\n",
       "      <td>1953</td>\n",
       "      <td>2765</td>\n",
       "      <td>2005</td>\n",
       "      <td>119</td>\n",
       "      <td>4</td>\n",
       "      <td>26.153846</td>\n",
       "      <td>6</td>\n",
       "      <td>69</td>\n",
       "      <td>...</td>\n",
       "      <td>4</td>\n",
       "      <td>84</td>\n",
       "      <td>168</td>\n",
       "      <td>50</td>\n",
       "      <td>71.70</td>\n",
       "      <td>-80.10</td>\n",
       "      <td>13.96</td>\n",
       "      <td>0.0</td>\n",
       "      <td>9.83</td>\n",
       "      <td>2</td>\n",
       "    </tr>\n",
       "    <tr>\n",
       "      <th>1</th>\n",
       "      <td>102</td>\n",
       "      <td>151</td>\n",
       "      <td>1425</td>\n",
       "      <td>32</td>\n",
       "      <td>16</td>\n",
       "      <td>0</td>\n",
       "      <td>5</td>\n",
       "      <td>16.448276</td>\n",
       "      <td>10</td>\n",
       "      <td>75</td>\n",
       "      <td>...</td>\n",
       "      <td>1</td>\n",
       "      <td>51</td>\n",
       "      <td>113</td>\n",
       "      <td>19</td>\n",
       "      <td>52.99</td>\n",
       "      <td>-26.31</td>\n",
       "      <td>12.32</td>\n",
       "      <td>0.0</td>\n",
       "      <td>11.98</td>\n",
       "      <td>0</td>\n",
       "    </tr>\n",
       "    <tr>\n",
       "      <th>2</th>\n",
       "      <td>102</td>\n",
       "      <td>1639</td>\n",
       "      <td>900</td>\n",
       "      <td>208</td>\n",
       "      <td>75</td>\n",
       "      <td>1</td>\n",
       "      <td>3</td>\n",
       "      <td>18.916667</td>\n",
       "      <td>4</td>\n",
       "      <td>79</td>\n",
       "      <td>...</td>\n",
       "      <td>0</td>\n",
       "      <td>15</td>\n",
       "      <td>47</td>\n",
       "      <td>17</td>\n",
       "      <td>17.06</td>\n",
       "      <td>64.54</td>\n",
       "      <td>7.83</td>\n",
       "      <td>0.0</td>\n",
       "      <td>14.97</td>\n",
       "      <td>3</td>\n",
       "    </tr>\n",
       "    <tr>\n",
       "      <th>3</th>\n",
       "      <td>102</td>\n",
       "      <td>2669</td>\n",
       "      <td>620</td>\n",
       "      <td>658</td>\n",
       "      <td>282</td>\n",
       "      <td>11</td>\n",
       "      <td>2</td>\n",
       "      <td>12.272727</td>\n",
       "      <td>5</td>\n",
       "      <td>210</td>\n",
       "      <td>...</td>\n",
       "      <td>2</td>\n",
       "      <td>46</td>\n",
       "      <td>94</td>\n",
       "      <td>45</td>\n",
       "      <td>26.89</td>\n",
       "      <td>32.23</td>\n",
       "      <td>9.16</td>\n",
       "      <td>0.0</td>\n",
       "      <td>17.02</td>\n",
       "      <td>4</td>\n",
       "    </tr>\n",
       "    <tr>\n",
       "      <th>4</th>\n",
       "      <td>102</td>\n",
       "      <td>245</td>\n",
       "      <td>648</td>\n",
       "      <td>78</td>\n",
       "      <td>14</td>\n",
       "      <td>0</td>\n",
       "      <td>4</td>\n",
       "      <td>98.000000</td>\n",
       "      <td>2</td>\n",
       "      <td>92</td>\n",
       "      <td>...</td>\n",
       "      <td>0</td>\n",
       "      <td>31</td>\n",
       "      <td>68</td>\n",
       "      <td>11</td>\n",
       "      <td>21.25</td>\n",
       "      <td>45.43</td>\n",
       "      <td>8.34</td>\n",
       "      <td>0.0</td>\n",
       "      <td>9.41</td>\n",
       "      <td>0</td>\n",
       "    </tr>\n",
       "  </tbody>\n",
       "</table>\n",
       "<p>5 rows × 26 columns</p>\n",
       "</div>"
      ],
      "text/plain": [
       "   Comment  Reputation  experienceInTime  Views  Upvotes  Downvotes  tagCount  \\\n",
       "0      102       17527              1953   2765     2005        119         4   \n",
       "1      102         151              1425     32       16          0         5   \n",
       "2      102        1639               900    208       75          1         3   \n",
       "3      102        2669               620    658      282         11         2   \n",
       "4      102         245               648     78       14          0         4   \n",
       "\n",
       "   lowerUpperRatio  sentenceCount  firstLineLength        ...          \\\n",
       "0        26.153846              6               69        ...           \n",
       "1        16.448276             10               75        ...           \n",
       "2        18.916667              4               79        ...           \n",
       "3        12.272727              5              210        ...           \n",
       "4        98.000000              2               92        ...           \n",
       "\n",
       "   sentencesStartWithICount  shortWordCount  bodyWordCount  punctuationCount  \\\n",
       "0                         4              84            168                50   \n",
       "1                         1              51            113                19   \n",
       "2                         0              15             47                17   \n",
       "3                         2              46             94                45   \n",
       "4                         0              31             68                11   \n",
       "\n",
       "   gunningFog  fleschReadingEase  daleChallReadabilityScore  smogIndex  \\\n",
       "0       71.70             -80.10                      13.96        0.0   \n",
       "1       52.99             -26.31                      12.32        0.0   \n",
       "2       17.06              64.54                       7.83        0.0   \n",
       "3       26.89              32.23                       9.16        0.0   \n",
       "4       21.25              45.43                       8.34        0.0   \n",
       "\n",
       "   colemanLiauIndex  userProfileFilled  \n",
       "0              9.83                  2  \n",
       "1             11.98                  0  \n",
       "2             14.97                  3  \n",
       "3             17.02                  4  \n",
       "4              9.41                  0  \n",
       "\n",
       "[5 rows x 26 columns]"
      ]
     },
     "execution_count": 38,
     "metadata": {},
     "output_type": "execute_result"
    }
   ],
   "source": [
    "X.head()"
   ]
  },
  {
   "cell_type": "code",
   "execution_count": 39,
   "metadata": {},
   "outputs": [
    {
     "name": "stdout",
     "output_type": "stream",
     "text": [
      "(79996, 25) (79996,)\n",
      "Index(['Reputation', 'experienceInTime', 'Views', 'Upvotes', 'Downvotes',\n",
      "       'tagCount', 'lowerUpperRatio', 'sentenceCount', 'firstLineLength',\n",
      "       'codeLength', 'urlCount', 'SOUrlCount', 'titleLengthInChars',\n",
      "       'countOfInterrogativeSent', 'sentencesStartWithYouCount',\n",
      "       'sentencesStartWithICount', 'shortWordCount', 'bodyWordCount',\n",
      "       'punctuationCount', 'gunningFog', 'fleschReadingEase',\n",
      "       'daleChallReadabilityScore', 'smogIndex', 'colemanLiauIndex',\n",
      "       'userProfileFilled'],\n",
      "      dtype='object')\n"
     ]
    }
   ],
   "source": [
    "y = X['Comment'] - 102\n",
    "X.drop(['Comment'],inplace=True,axis=1)\n",
    "print(X.shape, y.shape)\n",
    "print(X.columns)"
   ]
  },
  {
   "cell_type": "code",
   "execution_count": 40,
   "metadata": {},
   "outputs": [
    {
     "name": "stdout",
     "output_type": "stream",
     "text": [
      "<class 'numpy.ndarray'>\n"
     ]
    }
   ],
   "source": [
    "from sklearn.preprocessing import StandardScaler\n",
    "scaler = StandardScaler()\n",
    "X=scaler.fit_transform(X)\n",
    "print(type(X))\n",
    "X = pd.DataFrame(X, columns=['Reputation', 'experienceInTime', 'Views',\n",
    "       'Upvotes', 'Downvotes', 'tagCount', 'lowerUpperRatio', 'sentenceCount', 'firstLineLength', 'codeLength',\n",
    "       'urlCount', 'SOUrlCount', 'titleLengthInChars', 'countOfInterrogativeSent', 'sentencesStartWithYouCount',\n",
    "       'sentencesStartWithICount', 'shortWordCount', 'bodyWordCount', 'punctuationCount', 'gunningFog',\n",
    "       'fleschReadingEase', 'daleChallReadabilityScore', 'smogIndex', 'colemanLiauIndex', 'userProfileFilled'])"
   ]
  },
  {
   "cell_type": "code",
   "execution_count": 41,
   "metadata": {},
   "outputs": [
    {
     "name": "stdout",
     "output_type": "stream",
     "text": [
      "(55997, 25)\n",
      "(55997,)\n",
      "(23999, 25)\n",
      "(23999,)\n"
     ]
    }
   ],
   "source": [
    "#Train/Test Split\n",
    "X_train,X_test,y_train,y_test=train_test_split(X,y,test_size=0.3,random_state=42)\n",
    "print(X_train.shape)\n",
    "print(y_train.shape)\n",
    "print(X_test.shape)\n",
    "print(y_test.shape)"
   ]
  },
  {
   "cell_type": "markdown",
   "metadata": {},
   "source": [
    "## AdaBoost Using Decision Tree(Default)"
   ]
  },
  {
   "cell_type": "code",
   "execution_count": 42,
   "metadata": {},
   "outputs": [
    {
     "name": "stdout",
     "output_type": "stream",
     "text": [
      "Accuracy: 0.427101129214\n"
     ]
    }
   ],
   "source": [
    "ada_boost_dec_tree = AdaBoostClassifier()\n",
    "ada_boost_dec_tree.fit(X_train, y_train)\n",
    "y_predicted = ada_boost_dec_tree.predict(X_test)\n",
    "print('Accuracy: ' + str(np.mean(y_test==y_predicted))) "
   ]
  },
  {
   "cell_type": "code",
   "execution_count": 43,
   "metadata": {},
   "outputs": [
    {
     "name": "stdout",
     "output_type": "stream",
     "text": [
      "             precision    recall  f1-score   support\n",
      "\n",
      "          0       0.35      0.20      0.26      5925\n",
      "          1       0.43      0.51      0.47      6074\n",
      "          2       0.39      0.38      0.38      6011\n",
      "          3       0.49      0.61      0.54      5989\n",
      "\n",
      "avg / total       0.41      0.43      0.41     23999\n",
      "\n"
     ]
    }
   ],
   "source": [
    "print(classification_report(y_test,y_predicted))"
   ]
  },
  {
   "cell_type": "markdown",
   "metadata": {},
   "source": [
    "## AdaBoost Using Linear SVM Classifier"
   ]
  },
  {
   "cell_type": "code",
   "execution_count": 44,
   "metadata": {},
   "outputs": [
    {
     "name": "stdout",
     "output_type": "stream",
     "text": [
      "Accuracy: 0.40614192258\n"
     ]
    }
   ],
   "source": [
    "ada_boost_svm = AdaBoostClassifier(LinearSVC(), algorithm='SAMME')\n",
    "ada_boost_svm.fit(X_train, y_train)\n",
    "y_predicted = ada_boost_svm.predict(X_test)\n",
    "print('Accuracy: ' + str(np.mean(y_test==y_predicted)))"
   ]
  },
  {
   "cell_type": "code",
   "execution_count": 45,
   "metadata": {},
   "outputs": [
    {
     "name": "stdout",
     "output_type": "stream",
     "text": [
      "             precision    recall  f1-score   support\n",
      "\n",
      "          0       0.37      0.19      0.25      5925\n",
      "          1       0.39      0.56      0.46      6074\n",
      "          2       0.36      0.22      0.28      6011\n",
      "          3       0.46      0.64      0.54      5989\n",
      "\n",
      "avg / total       0.39      0.41      0.38     23999\n",
      "\n"
     ]
    }
   ],
   "source": [
    "print(classification_report(y_test,y_predicted))"
   ]
  },
  {
   "cell_type": "code",
   "execution_count": 46,
   "metadata": {},
   "outputs": [],
   "source": [
    "k_fold = KFold(n_splits=5)"
   ]
  },
  {
   "cell_type": "code",
   "execution_count": 47,
   "metadata": {},
   "outputs": [],
   "source": [
    "# cross_val_score(ada_boost_svm,X,y,cv=k_fold,scoring='accuracy',n_jobs=-1)"
   ]
  },
  {
   "cell_type": "markdown",
   "metadata": {},
   "source": [
    "## AdaBoost + Random Forest"
   ]
  },
  {
   "cell_type": "code",
   "execution_count": 48,
   "metadata": {},
   "outputs": [],
   "source": [
    "from sklearn.ensemble import RandomForestClassifier"
   ]
  },
  {
   "cell_type": "code",
   "execution_count": 49,
   "metadata": {},
   "outputs": [
    {
     "name": "stdout",
     "output_type": "stream",
     "text": [
      "Accuracy: 0.406600275011\n"
     ]
    }
   ],
   "source": [
    "ada_boost_rand_forest = AdaBoostClassifier(RandomForestClassifier())\n",
    "ada_boost_rand_forest.fit(X_train, y_train)\n",
    "y_predicted = ada_boost_rand_forest.predict(X_test)\n",
    "print('Accuracy: ' + str(np.mean(y_test==y_predicted)))"
   ]
  },
  {
   "cell_type": "code",
   "execution_count": 50,
   "metadata": {},
   "outputs": [
    {
     "name": "stdout",
     "output_type": "stream",
     "text": [
      "             precision    recall  f1-score   support\n",
      "\n",
      "          0       0.34      0.26      0.29      5925\n",
      "          1       0.41      0.44      0.42      6074\n",
      "          2       0.36      0.33      0.34      6011\n",
      "          3       0.48      0.60      0.53      5989\n",
      "\n",
      "avg / total       0.40      0.41      0.40     23999\n",
      "\n"
     ]
    }
   ],
   "source": [
    "print(classification_report(y_test,y_predicted))"
   ]
  },
  {
   "cell_type": "markdown",
   "metadata": {},
   "source": [
    "## AdaBoost Using Logistic Regression"
   ]
  },
  {
   "cell_type": "code",
   "execution_count": 51,
   "metadata": {},
   "outputs": [],
   "source": [
    "from sklearn.linear_model import LogisticRegression"
   ]
  },
  {
   "cell_type": "code",
   "execution_count": 52,
   "metadata": {},
   "outputs": [
    {
     "name": "stdout",
     "output_type": "stream",
     "text": [
      "Accuracy: 0.391099629151\n"
     ]
    }
   ],
   "source": [
    "ada_boost_log_reg = AdaBoostClassifier(LogisticRegression())\n",
    "ada_boost_log_reg.fit(X_train, y_train)\n",
    "y_predicted = ada_boost_log_reg.predict(X_test)\n",
    "print('Accuracy: ' + str(np.mean(y_test==y_predicted)))"
   ]
  },
  {
   "cell_type": "code",
   "execution_count": 53,
   "metadata": {},
   "outputs": [
    {
     "name": "stdout",
     "output_type": "stream",
     "text": [
      "             precision    recall  f1-score   support\n",
      "\n",
      "          0       0.34      0.22      0.26      5925\n",
      "          1       0.38      0.52      0.44      6074\n",
      "          2       0.33      0.29      0.31      6011\n",
      "          3       0.49      0.54      0.51      5989\n",
      "\n",
      "avg / total       0.38      0.39      0.38     23999\n",
      "\n"
     ]
    }
   ],
   "source": [
    "print(classification_report(y_test,y_predicted))"
   ]
  },
  {
   "cell_type": "code",
   "execution_count": null,
   "metadata": {},
   "outputs": [],
   "source": []
  }
 ],
 "metadata": {
  "kernelspec": {
   "display_name": "Python 3",
   "language": "python",
   "name": "python3"
  },
  "language_info": {
   "codemirror_mode": {
    "name": "ipython",
    "version": 3
   },
   "file_extension": ".py",
   "mimetype": "text/x-python",
   "name": "python",
   "nbconvert_exporter": "python",
   "pygments_lexer": "ipython3",
   "version": "3.6.8"
  }
 },
 "nbformat": 4,
 "nbformat_minor": 2
}
