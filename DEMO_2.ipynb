{
 "cells": [
  {
   "cell_type": "markdown",
   "metadata": {},
   "source": [
    "# CLASSIFICATION OF REASON FOR CLOSURE"
   ]
  },
  {
   "cell_type": "code",
   "execution_count": 103,
   "metadata": {},
   "outputs": [],
   "source": [
    "import numpy as np\n",
    "import pandas as pd\n",
    "import math\n",
    "import nltk\n",
    "import re\n",
    "import string\n",
    "import textstat\n",
    "from sklearn.metrics import classification_report\n",
    "from sklearn.metrics import precision_score\n",
    "from sklearn.metrics import recall_score\n",
    "from sklearn.metrics import f1_score"
   ]
  },
  {
   "cell_type": "markdown",
   "metadata": {},
   "source": [
    "## READING TEST DATA"
   ]
  },
  {
   "cell_type": "code",
   "execution_count": 104,
   "metadata": {},
   "outputs": [],
   "source": [
    "demoData=pd.read_csv(\"demoData2.csv\")"
   ]
  },
  {
   "cell_type": "code",
   "execution_count": 105,
   "metadata": {},
   "outputs": [
    {
     "data": {
      "text/plain": [
       "(400, 18)"
      ]
     },
     "execution_count": 105,
     "metadata": {},
     "output_type": "execute_result"
    }
   ],
   "source": [
    "demoData.shape"
   ]
  },
  {
   "cell_type": "code",
   "execution_count": 106,
   "metadata": {},
   "outputs": [
    {
     "data": {
      "text/plain": [
       "Index(['Unnamed: 0', 'PostId', 'UserId', 'Comment', 'Body', 'Title', 'Tags',\n",
       "       'Reputation', 'experienceInTime', 'WebsiteUrl', 'Location', 'AboutMe',\n",
       "       'Views', 'Upvotes', 'Downvotes', 'ProfileImageUrl', 'tagCount',\n",
       "       'closed'],\n",
       "      dtype='object')"
      ]
     },
     "execution_count": 106,
     "metadata": {},
     "output_type": "execute_result"
    }
   ],
   "source": [
    "demoData.columns"
   ]
  },
  {
   "cell_type": "code",
   "execution_count": 107,
   "metadata": {},
   "outputs": [
    {
     "data": {
      "text/html": [
       "<div>\n",
       "<style scoped>\n",
       "    .dataframe tbody tr th:only-of-type {\n",
       "        vertical-align: middle;\n",
       "    }\n",
       "\n",
       "    .dataframe tbody tr th {\n",
       "        vertical-align: top;\n",
       "    }\n",
       "\n",
       "    .dataframe thead th {\n",
       "        text-align: right;\n",
       "    }\n",
       "</style>\n",
       "<table border=\"1\" class=\"dataframe\">\n",
       "  <thead>\n",
       "    <tr style=\"text-align: right;\">\n",
       "      <th></th>\n",
       "      <th>Unnamed: 0</th>\n",
       "      <th>PostId</th>\n",
       "      <th>UserId</th>\n",
       "      <th>Comment</th>\n",
       "      <th>Body</th>\n",
       "      <th>Title</th>\n",
       "      <th>Tags</th>\n",
       "      <th>Reputation</th>\n",
       "      <th>experienceInTime</th>\n",
       "      <th>WebsiteUrl</th>\n",
       "      <th>Location</th>\n",
       "      <th>AboutMe</th>\n",
       "      <th>Views</th>\n",
       "      <th>Upvotes</th>\n",
       "      <th>Downvotes</th>\n",
       "      <th>ProfileImageUrl</th>\n",
       "      <th>tagCount</th>\n",
       "      <th>closed</th>\n",
       "    </tr>\n",
       "  </thead>\n",
       "  <tbody>\n",
       "    <tr>\n",
       "      <th>0</th>\n",
       "      <td>34467</td>\n",
       "      <td>49779049</td>\n",
       "      <td>8875256</td>\n",
       "      <td>103</td>\n",
       "      <td>&lt;p&gt;I have the below table. I only want to retu...</td>\n",
       "      <td>Return rolling 12 months of current (string) m...</td>\n",
       "      <td>&lt;sql&gt;&lt;oracle&gt;</td>\n",
       "      <td>85</td>\n",
       "      <td>160</td>\n",
       "      <td>NaN</td>\n",
       "      <td>NaN</td>\n",
       "      <td>NaN</td>\n",
       "      <td>64</td>\n",
       "      <td>21</td>\n",
       "      <td>0</td>\n",
       "      <td>https://www.gravatar.com/avatar/648315974a4a6f...</td>\n",
       "      <td>2</td>\n",
       "      <td>1</td>\n",
       "    </tr>\n",
       "    <tr>\n",
       "      <th>1</th>\n",
       "      <td>55833</td>\n",
       "      <td>38345565</td>\n",
       "      <td>6108368</td>\n",
       "      <td>104</td>\n",
       "      <td>&lt;p&gt;I want to read ticker info without authenti...</td>\n",
       "      <td>How to get bitfinex ticker with c#</td>\n",
       "      <td>&lt;c#&gt;&lt;api&gt;&lt;ticker&gt;</td>\n",
       "      <td>34</td>\n",
       "      <td>111</td>\n",
       "      <td>NaN</td>\n",
       "      <td>NaN</td>\n",
       "      <td>NaN</td>\n",
       "      <td>7</td>\n",
       "      <td>5</td>\n",
       "      <td>0</td>\n",
       "      <td>https://lh3.googleusercontent.com/-hOCKrh-IeAg...</td>\n",
       "      <td>3</td>\n",
       "      <td>1</td>\n",
       "    </tr>\n",
       "    <tr>\n",
       "      <th>2</th>\n",
       "      <td>73244</td>\n",
       "      <td>4117463</td>\n",
       "      <td>493325</td>\n",
       "      <td>105</td>\n",
       "      <td>&lt;p&gt;What is the best way to display results and...</td>\n",
       "      <td>What is the best way to display results and da...</td>\n",
       "      <td>&lt;php&gt;&lt;database&gt;&lt;list&gt;&lt;report&gt;</td>\n",
       "      <td>339</td>\n",
       "      <td>6</td>\n",
       "      <td>NaN</td>\n",
       "      <td>NaN</td>\n",
       "      <td>&lt;p&gt;I am a simple youngman&lt;/p&gt;\\r\\r\\r\\r\\r\\r\\r\\n\\...</td>\n",
       "      <td>298</td>\n",
       "      <td>22</td>\n",
       "      <td>1</td>\n",
       "      <td>NaN</td>\n",
       "      <td>4</td>\n",
       "      <td>1</td>\n",
       "    </tr>\n",
       "    <tr>\n",
       "      <th>3</th>\n",
       "      <td>62520</td>\n",
       "      <td>25799820</td>\n",
       "      <td>3622907</td>\n",
       "      <td>105</td>\n",
       "      <td>&lt;p&gt;Suppose it's this code:&lt;/p&gt;\\r\\r\\r\\r\\r\\r\\r\\n...</td>\n",
       "      <td>Is it okay to add \"transition: all\" when in fa...</td>\n",
       "      <td>&lt;css&gt;</td>\n",
       "      <td>196</td>\n",
       "      <td>125</td>\n",
       "      <td>NaN</td>\n",
       "      <td>Kolkata, India</td>\n",
       "      <td>NaN</td>\n",
       "      <td>152</td>\n",
       "      <td>8</td>\n",
       "      <td>0</td>\n",
       "      <td>https://i.stack.imgur.com/hrHz7.jpg</td>\n",
       "      <td>1</td>\n",
       "      <td>1</td>\n",
       "    </tr>\n",
       "    <tr>\n",
       "      <th>4</th>\n",
       "      <td>18326</td>\n",
       "      <td>6825778</td>\n",
       "      <td>529215</td>\n",
       "      <td>102</td>\n",
       "      <td>&lt;p&gt;Using Java Android, I am trying to find a w...</td>\n",
       "      <td>Face recognition API</td>\n",
       "      <td>&lt;java&gt;&lt;android&gt;&lt;face-recognition&gt;</td>\n",
       "      <td>1944</td>\n",
       "      <td>235</td>\n",
       "      <td>https://www.linkedin.com/profile/view?id=56518...</td>\n",
       "      <td>Colombo, Sri Lanka</td>\n",
       "      <td>&lt;p&gt;Open source developer at WSO2.&lt;/p&gt;\\r\\r\\r\\r\\...</td>\n",
       "      <td>455</td>\n",
       "      <td>695</td>\n",
       "      <td>43</td>\n",
       "      <td>NaN</td>\n",
       "      <td>3</td>\n",
       "      <td>1</td>\n",
       "    </tr>\n",
       "  </tbody>\n",
       "</table>\n",
       "</div>"
      ],
      "text/plain": [
       "   Unnamed: 0    PostId   UserId  Comment  \\\n",
       "0       34467  49779049  8875256      103   \n",
       "1       55833  38345565  6108368      104   \n",
       "2       73244   4117463   493325      105   \n",
       "3       62520  25799820  3622907      105   \n",
       "4       18326   6825778   529215      102   \n",
       "\n",
       "                                                Body  \\\n",
       "0  <p>I have the below table. I only want to retu...   \n",
       "1  <p>I want to read ticker info without authenti...   \n",
       "2  <p>What is the best way to display results and...   \n",
       "3  <p>Suppose it's this code:</p>\\r\\r\\r\\r\\r\\r\\r\\n...   \n",
       "4  <p>Using Java Android, I am trying to find a w...   \n",
       "\n",
       "                                               Title  \\\n",
       "0  Return rolling 12 months of current (string) m...   \n",
       "1                 How to get bitfinex ticker with c#   \n",
       "2  What is the best way to display results and da...   \n",
       "3  Is it okay to add \"transition: all\" when in fa...   \n",
       "4                               Face recognition API   \n",
       "\n",
       "                                Tags  Reputation  experienceInTime  \\\n",
       "0                      <sql><oracle>          85               160   \n",
       "1                  <c#><api><ticker>          34               111   \n",
       "2      <php><database><list><report>         339                 6   \n",
       "3                              <css>         196               125   \n",
       "4  <java><android><face-recognition>        1944               235   \n",
       "\n",
       "                                          WebsiteUrl            Location  \\\n",
       "0                                                NaN                 NaN   \n",
       "1                                                NaN                 NaN   \n",
       "2                                                NaN                 NaN   \n",
       "3                                                NaN      Kolkata, India   \n",
       "4  https://www.linkedin.com/profile/view?id=56518...  Colombo, Sri Lanka   \n",
       "\n",
       "                                             AboutMe  Views  Upvotes  \\\n",
       "0                                                NaN     64       21   \n",
       "1                                                NaN      7        5   \n",
       "2  <p>I am a simple youngman</p>\\r\\r\\r\\r\\r\\r\\r\\n\\...    298       22   \n",
       "3                                                NaN    152        8   \n",
       "4  <p>Open source developer at WSO2.</p>\\r\\r\\r\\r\\...    455      695   \n",
       "\n",
       "   Downvotes                                    ProfileImageUrl  tagCount  \\\n",
       "0          0  https://www.gravatar.com/avatar/648315974a4a6f...         2   \n",
       "1          0  https://lh3.googleusercontent.com/-hOCKrh-IeAg...         3   \n",
       "2          1                                                NaN         4   \n",
       "3          0                https://i.stack.imgur.com/hrHz7.jpg         1   \n",
       "4         43                                                NaN         3   \n",
       "\n",
       "   closed  \n",
       "0       1  \n",
       "1       1  \n",
       "2       1  \n",
       "3       1  \n",
       "4       1  "
      ]
     },
     "execution_count": 107,
     "metadata": {},
     "output_type": "execute_result"
    }
   ],
   "source": [
    "demoData.head()"
   ]
  },
  {
   "cell_type": "markdown",
   "metadata": {},
   "source": [
    "## FEATURE ENGINEERING"
   ]
  },
  {
   "cell_type": "code",
   "execution_count": 108,
   "metadata": {},
   "outputs": [],
   "source": [
    "#Credits: https://stackoverflow.com/questions/4576077/python-split-text-on-sentences\n",
    "\n",
    "alphabets= \"([A-Za-z])\"\n",
    "prefixes = \"(Mr|St|Mrs|Ms|Dr)[.]\"\n",
    "suffixes = \"(Inc|Ltd|Jr|Sr|Co)\"\n",
    "starters = \"(Mr|Mrs|Ms|Dr|He\\s|She\\s|It\\s|They\\s|Their\\s|Our\\s|We\\s|But\\s|However\\s|That\\s|This\\s|Wherever)\"\n",
    "acronyms = \"([A-Z][.][A-Z][.](?:[A-Z][.])?)\"\n",
    "websites = \"[.](com|net|org|io|gov)\"\n",
    "digits = \"([0-9])\" \n",
    "\n",
    "def split_into_sentences(text):\n",
    "    #text=body\n",
    "    text=striphtml(text)\n",
    "    text = \" \" + text + \"  \"\n",
    "    text = text.replace(\"\\n\",\" \")\n",
    "    text = re.sub(prefixes,\"\\\\1<prd>\",text)\n",
    "    text = re.sub(websites,\"<prd>\\\\1\",text)\n",
    "    if \"Ph.D\" in text: text = text.replace(\"Ph.D.\",\"Ph<prd>D<prd>\")\n",
    "    text = re.sub(\"\\s\" + alphabets + \"[.] \",\" \\\\1<prd> \",text)\n",
    "    text = re.sub(acronyms+\" \"+starters,\"\\\\1<stop> \\\\2\",text)\n",
    "    text = re.sub(alphabets + \"[.]\" + alphabets + \"[.]\" + alphabets + \"[.]\",\"\\\\1<prd>\\\\2<prd>\\\\3<prd>\",text)\n",
    "    text = re.sub(alphabets + \"[.]\" + alphabets + \"[.]\",\"\\\\1<prd>\\\\2<prd>\",text)\n",
    "    text = re.sub(\" \"+suffixes+\"[.] \"+starters,\" \\\\1<stop> \\\\2\",text)\n",
    "    text = re.sub(\" \"+suffixes+\"[.]\",\" \\\\1<prd>\",text)\n",
    "    text = re.sub(\" \" + alphabets + \"[.]\",\" \\\\1<prd>\",text)\n",
    "    text = re.sub(digits + \"[.]\" + digits,\"\\\\1<prd>\\\\2\",text)\n",
    "    if \"”\" in text: text = text.replace(\".”\",\"”.\")\n",
    "    if \"\\\"\" in text: text = text.replace(\".\\\"\",\"\\\".\")\n",
    "    if \"!\" in text: text = text.replace(\"!\\\"\",\"\\\"!\")\n",
    "    if \"?\" in text: text = text.replace(\"?\\\"\",\"\\\"?\")\n",
    "    text = text.replace(\".\",\".<stop>\")\n",
    "    text = text.replace(\"?\",\"?<stop>\")\n",
    "    text = text.replace(\"!\",\"!<stop>\")\n",
    "    text = text.replace(\"<prd>\",\".\")\n",
    "    sentences = text.split(\"<stop>\")\n",
    "    sentences = sentences[:-1]\n",
    "    sentences = [s.strip() for s in sentences]\n",
    "    #print(text)\n",
    "    return sentences"
   ]
  },
  {
   "cell_type": "code",
   "execution_count": 109,
   "metadata": {},
   "outputs": [],
   "source": [
    "#METHODS FOR FEATURE CREATION\n",
    "\n",
    "#Removes all occurence of <code>    \n",
    "def removeCode(text):\n",
    "    #make sure you don't strip HTML beforehand\n",
    "    textWithoutCode=re.sub(r\"<code>(.*?)</code>\",\"\",text,flags= re.DOTALL)\n",
    "    #print(codes)\n",
    "    return textWithoutCode\n",
    "\n",
    "#Removes HTML from query data but doesn't remove the content bw opening and closing tag\n",
    "#Attributes are removed eg:<a href=\"this is all removed\">not removed</a>\n",
    "#https://stackoverflow.com/questions/3398852/using-python-remove-html-tags-formatting-from-a-string\n",
    "def striphtml(data):\n",
    "    p = re.compile(r'<.*?>')\n",
    "    return p.sub('', data)\n",
    "  \n",
    "    \n",
    "#Returns number of lowercase chars in the text\n",
    "def lowercaseCount(text):\n",
    "    text=removeCode(text)\n",
    "    text=striphtml(text)\n",
    "    lowercount=0\n",
    "    try:\n",
    "        for w in text:\n",
    "            for char in w:\n",
    "                if(char.islower()):\n",
    "                    lowercount+=1\n",
    "        return lowercount\n",
    "    except:\n",
    "        #print(type(text))\n",
    "        print(text)\n",
    "\n",
    "#Returns number of uppercase chars in the text\n",
    "def uppercaseCount(text):\n",
    "    text=removeCode(text)\n",
    "    text=striphtml(text)\n",
    "    uppercount=0\n",
    "    try:    \n",
    "        for w in text:\n",
    "            for char in w:\n",
    "                if(char.isupper()):\n",
    "                    uppercount+=1\n",
    "        return uppercount\n",
    "    except:\n",
    "        print(text)\n",
    "    \n",
    "    \n",
    "#Count of sentences in the post body\n",
    "def getSentenceCount(text):\n",
    "    text=removeCode(text)\n",
    "    return len(split_into_sentences(text))\n",
    "\n",
    "def getFirstLineLength(text):\n",
    "    text=removeCode(text)\n",
    "    sentences=split_into_sentences(text)\n",
    "    #print(len(sentences))\n",
    "    if(len(sentences)==0):\n",
    "        #print(text)\n",
    "        return 0\n",
    "    firstLine=sentences[0]\n",
    "    return len(firstLine)\n",
    " \n",
    "#Returns the length of total code present in the post\n",
    "def codeLength(text):\n",
    "    #make sure you don't strip HTML beforehand\n",
    "    codes=re.findall(r\"<code>(.*?)</code>\",text,flags= re.DOTALL)\n",
    "    #print(codes)\n",
    "    return len(''.join(codes))\n",
    "\n",
    "#https://stackoverflow.com/questions/6883049/regex-to-extract-urls-from-href-attribute-in-html-with-python\n",
    "#https://stackoverflow.com/questions/1374457/find-out-how-many-times-a-regex-matches-in-a-string-in-python\n",
    "#Returns count of url in a given post\n",
    "def urlCount(text):\n",
    "    urls=re.findall(r'https://?|ftp://',text)\n",
    "    #print(urls)\n",
    "    return len(urls)\n",
    "\n",
    "\n",
    "#Returns count of URls pointing to Stack Overflow \n",
    "def SOUrlCount(text):\n",
    "    SOUrls=re.findall(r'https://stackoverflow.com',text)\n",
    "    #print(SOUrls)\n",
    "    return len(SOUrls)\n",
    "       \n",
    "    \n",
    "def countOfInterrogativeSent(text):\n",
    "    text=text.lower()\n",
    "    #tokens=text.split() #1D list of words \n",
    "    interrogatives=re.findall(r'\\b[a-z]*[^.!][?]',text)\n",
    "    return len(interrogatives)\n",
    "    \n",
    "    \n",
    "\n",
    "def sentencesStartWithYouCount(text):\n",
    "    count=0\n",
    "    text=text.lower()\n",
    "    #text=re.sub('<.*>','',text)\n",
    "    text=removeCode(text)\n",
    "    text=striphtml(text)\n",
    "    sentences=split_into_sentences(text)\n",
    "    for sentence in sentences:\n",
    "        tokens=re.split('[\\s;\\',.\\-\\%]',sentence)\n",
    "        #print(tokens)\n",
    "        if(tokens[0]==\"you\"):\n",
    "            #print(\"token0=\"+tokens[0])\n",
    "            count+=1\n",
    "    return count;\n",
    "\n",
    "def sentencesStartWithICount(text):\n",
    "    count=0\n",
    "    text=text.lower()\n",
    "    text=removeCode(text)\n",
    "    text=striphtml(text)\n",
    "    sentences=split_into_sentences(text)\n",
    "    for sentence in sentences:\n",
    "        tokens=re.split('[\\s;\\',.\\-\\%]',sentence)\n",
    "        #print(tokens)\n",
    "        if(tokens[0]==\"i\"):\n",
    "            #print(\"token0=\"+tokens[0])\n",
    "            count+=1\n",
    "        if(len(tokens)>=2): #But I don't have, So I switched \n",
    "            if(tokens[1]==\"i\"):\n",
    "                count+=1\n",
    "        if(len(tokens)>=3):\n",
    "            if(tokens[2]==\"i\"): #As such I had amended...\n",
    "                count+=1\n",
    "    return count;\n",
    "\n",
    "\n",
    "#https://stackoverflow.com/questions/12628958/remove-small-words-using-python\n",
    "def countShortWords(text):\n",
    "    text=removeCode(text)\n",
    "    text=striphtml(text)\n",
    "    shortwords = re.findall(r'\\W*\\b\\w{1,3}\\b',text)\n",
    "    #print(shortwords)\n",
    "    return len(shortwords)\n",
    "\n",
    "   \n",
    "#Returns count of total number of words in the query\n",
    "#https://stackoverflow.com/questions/19410018/how-to-count-the-number-of-words-in-a-sentence-ignoring-numbers-punctuation-an\n",
    "def countWords(text):\n",
    "    text=removeCode(text)\n",
    "    text=striphtml(text)\n",
    "    return len(text.split())\n",
    "\n",
    "\n",
    "#Returns count of punctuations in the post body\n",
    "#https://stackoverflow.com/questions/265960/best-way-to-strip-punctuation-from-a-string-in-python\n",
    "def countPunctuations(text):\n",
    "    #remove all code in the post\n",
    "    text=re.sub('<code>.*?</code>','',text)\n",
    "    \n",
    "    text=striphtml(text)  #will also remove all URLs as URL is mentioned in href=\" \" attribute\n",
    "    puncs=re.findall(r'[^\\w\\s]',text)\n",
    "    #print(puncs)\n",
    "    return len(puncs)\n",
    "\n",
    "def makeBinary(text):\n",
    "    if(pd.isnull(text)):\n",
    "        return 0\n",
    "    return 1\n"
   ]
  },
  {
   "cell_type": "code",
   "execution_count": 110,
   "metadata": {},
   "outputs": [],
   "source": [
    "#Adding necessary feature cJolumns\n",
    "#https://stackoverflow.com/questions/40045632/adding-a-column-in-pandas-df-using-a-function\n",
    "\n",
    "demoData['lowerUpperRatio']=(demoData['Body'].apply(lowercaseCount))/(demoData['Body'].apply(uppercaseCount))\n",
    "\n",
    "demoData['sentenceCount']=demoData['Body'].apply(getSentenceCount)\n",
    "\n",
    "demoData['firstLineLength']=demoData['Body'].apply(getFirstLineLength)\n",
    "\n",
    "demoData['codeLength']=demoData['Body'].apply(codeLength)\n",
    "\n",
    "demoData['urlCount']=demoData['Body'].apply(urlCount)\n",
    "\n",
    "demoData['SOUrlCount']=demoData['Body'].apply(SOUrlCount)\n",
    "\n",
    "demoData['titleLengthInChars']=demoData['Title'].apply(len)\n",
    "\n",
    "demoData['countOfInterrogativeSent']=demoData['Body'].apply(countOfInterrogativeSent)\n",
    "\n",
    "demoData['sentencesStartWithYouCount']=demoData['Body'].apply(sentencesStartWithYouCount)\n",
    "demoData['sentencesStartWithICount']=demoData['Body'].apply(sentencesStartWithICount)\n",
    "\n",
    "demoData['shortWordCount']=demoData['Body'].apply(countShortWords)\n",
    "demoData['bodyWordCount']=demoData['Body'].apply(countWords)\n",
    "demoData['punctuationCount']=demoData['Body'].apply(countPunctuations)\n",
    "\n",
    "demoData['websiteUrlFilled']=demoData['WebsiteUrl'].apply(makeBinary)\n",
    "demoData['locationFilled']=demoData['Location'].apply(makeBinary) \n",
    "demoData['aboutMeFilled']=demoData['AboutMe'].apply(makeBinary)\n",
    "demoData['profileImageUrlFilled']=demoData['ProfileImageUrl'].apply(makeBinary)"
   ]
  },
  {
   "cell_type": "code",
   "execution_count": 111,
   "metadata": {},
   "outputs": [],
   "source": [
    "def gunningFog(text):\n",
    "    text=removeCode(text)\n",
    "    text=striphtml(text)\n",
    "    return textstat.gunning_fog(text)\n",
    "\n",
    "def fleschReadingEase(text):\n",
    "    text=removeCode(text)\n",
    "    text=striphtml(text)\n",
    "    return textstat.flesch_reading_ease(text)\n",
    "\n",
    "def daleChallReadabilityScore(text):\n",
    "    text=removeCode(text)\n",
    "    text=striphtml(text)\n",
    "    return textstat.dale_chall_readability_score(text)\n",
    "\n",
    "\n",
    "def smogIndex(text):\n",
    "    text=removeCode(text)\n",
    "    text=striphtml(text)\n",
    "    return textstat.smog_index(text)\n",
    "\n",
    "def colemanLiauIndex(text):\n",
    "    text=removeCode(text)\n",
    "    text=striphtml(text)\n",
    "    return textstat.coleman_liau_index(text)\n"
   ]
  },
  {
   "cell_type": "code",
   "execution_count": 112,
   "metadata": {},
   "outputs": [],
   "source": [
    "#https://en.wikipedia.org/wiki/Gunning_fog_index\n",
    "demoData['gunningFog']=demoData['Body'].apply(gunningFog)\n",
    "#https://en.wikipedia.org/wiki/Flesch%E2%80%93Kincaid_readability_tests#Flesch_reading_ease\n",
    "demoData['fleschReadingEase']=demoData['Body'].apply(fleschReadingEase)\n",
    "#https://en.wikipedia.org/wiki/Dale%E2%80%93Chall_readability_formula\n",
    "demoData['daleChallReadabilityScore']=demoData['Body'].apply(daleChallReadabilityScore)\n",
    "#https://en.wikipedia.org/wiki/SMOG\n",
    "demoData['smogIndex']=demoData['Body'].apply(smogIndex)\n",
    "#https://en.wikipedia.org/wiki/Coleman%E2%80%93Liau_index\n",
    "demoData['colemanLiauIndex']=demoData['Body'].apply(colemanLiauIndex)"
   ]
  },
  {
   "cell_type": "code",
   "execution_count": 113,
   "metadata": {},
   "outputs": [
    {
     "name": "stdout",
     "output_type": "stream",
     "text": [
      "   Unnamed: 0    PostId   UserId  Comment  \\\n",
      "0       34467  49779049  8875256      103   \n",
      "1       55833  38345565  6108368      104   \n",
      "2       73244   4117463   493325      105   \n",
      "3       62520  25799820  3622907      105   \n",
      "4       18326   6825778   529215      102   \n",
      "\n",
      "                                                Body  \\\n",
      "0  <p>I have the below table. I only want to retu...   \n",
      "1  <p>I want to read ticker info without authenti...   \n",
      "2  <p>What is the best way to display results and...   \n",
      "3  <p>Suppose it's this code:</p>\\r\\r\\r\\r\\r\\r\\r\\n...   \n",
      "4  <p>Using Java Android, I am trying to find a w...   \n",
      "\n",
      "                                               Title  \\\n",
      "0  Return rolling 12 months of current (string) m...   \n",
      "1                 How to get bitfinex ticker with c#   \n",
      "2  What is the best way to display results and da...   \n",
      "3  Is it okay to add \"transition: all\" when in fa...   \n",
      "4                               Face recognition API   \n",
      "\n",
      "                                Tags  Reputation  experienceInTime  \\\n",
      "0                      <sql><oracle>          85               160   \n",
      "1                  <c#><api><ticker>          34               111   \n",
      "2      <php><database><list><report>         339                 6   \n",
      "3                              <css>         196               125   \n",
      "4  <java><android><face-recognition>        1944               235   \n",
      "\n",
      "                                          WebsiteUrl  ... websiteUrlFilled  \\\n",
      "0                                                NaN  ...                0   \n",
      "1                                                NaN  ...                0   \n",
      "2                                                NaN  ...                0   \n",
      "3                                                NaN  ...                0   \n",
      "4  https://www.linkedin.com/profile/view?id=56518...  ...                1   \n",
      "\n",
      "  locationFilled  aboutMeFilled  profileImageUrlFilled  gunningFog  \\\n",
      "0              0              0                      1        9.28   \n",
      "1              0              0                      1       14.00   \n",
      "2              0              1                      0       23.60   \n",
      "3              1              0                      1       15.08   \n",
      "4              1              1                      0       15.60   \n",
      "\n",
      "  fleschReadingEase  daleChallReadabilityScore  smogIndex  colemanLiauIndex  \\\n",
      "0             86.40                       6.18        6.4             15.87   \n",
      "1             59.64                       7.00        0.0              7.95   \n",
      "2             53.89                       9.27        0.0             12.72   \n",
      "3             71.65                       7.80        0.0             17.05   \n",
      "4             74.19                       8.28        0.0             11.94   \n",
      "\n",
      "   userProfileFilled  \n",
      "0                  1  \n",
      "1                  1  \n",
      "2                  1  \n",
      "3                  2  \n",
      "4                  3  \n",
      "\n",
      "[5 rows x 41 columns]\n"
     ]
    }
   ],
   "source": [
    "demoData['userProfileFilled']=demoData['websiteUrlFilled']+demoData['locationFilled']+demoData['aboutMeFilled']+demoData['profileImageUrlFilled']\n",
    "print(demoData.head())"
   ]
  },
  {
   "cell_type": "markdown",
   "metadata": {},
   "source": [
    "### FROM 18 Columns to 41 Columns"
   ]
  },
  {
   "cell_type": "code",
   "execution_count": 114,
   "metadata": {},
   "outputs": [
    {
     "data": {
      "text/plain": [
       "Index(['Unnamed: 0', 'PostId', 'UserId', 'Comment', 'Body', 'Title', 'Tags',\n",
       "       'Reputation', 'experienceInTime', 'WebsiteUrl', 'Location', 'AboutMe',\n",
       "       'Views', 'Upvotes', 'Downvotes', 'ProfileImageUrl', 'tagCount',\n",
       "       'closed', 'lowerUpperRatio', 'sentenceCount', 'firstLineLength',\n",
       "       'codeLength', 'urlCount', 'SOUrlCount', 'titleLengthInChars',\n",
       "       'countOfInterrogativeSent', 'sentencesStartWithYouCount',\n",
       "       'sentencesStartWithICount', 'shortWordCount', 'bodyWordCount',\n",
       "       'punctuationCount', 'websiteUrlFilled', 'locationFilled',\n",
       "       'aboutMeFilled', 'profileImageUrlFilled', 'gunningFog',\n",
       "       'fleschReadingEase', 'daleChallReadabilityScore', 'smogIndex',\n",
       "       'colemanLiauIndex', 'userProfileFilled'],\n",
       "      dtype='object')"
      ]
     },
     "execution_count": 114,
     "metadata": {},
     "output_type": "execute_result"
    }
   ],
   "source": [
    "demoData.columns"
   ]
  },
  {
   "cell_type": "code",
   "execution_count": 115,
   "metadata": {},
   "outputs": [
    {
     "data": {
      "text/plain": [
       "(400, 41)"
      ]
     },
     "execution_count": 115,
     "metadata": {},
     "output_type": "execute_result"
    }
   ],
   "source": [
    "demoData.shape"
   ]
  },
  {
   "cell_type": "code",
   "execution_count": 116,
   "metadata": {},
   "outputs": [],
   "source": [
    "X = demoData.loc[:,['Comment', 'Reputation',\n",
    "       'experienceInTime', 'Views',\n",
    "       'Upvotes', 'Downvotes', 'tagCount',\n",
    "       'lowerUpperRatio', 'sentenceCount', 'firstLineLength', 'codeLength',\n",
    "       'urlCount', 'SOUrlCount', 'titleLengthInChars',\n",
    "       'countOfInterrogativeSent', 'sentencesStartWithYouCount',\n",
    "       'sentencesStartWithICount', 'shortWordCount', 'bodyWordCount',\n",
    "       'punctuationCount', 'gunningFog',\n",
    "       'fleschReadingEase', 'daleChallReadabilityScore', 'smogIndex',\n",
    "       'colemanLiauIndex', 'userProfileFilled'] ]\n",
    "\n",
    "X.replace(np.nan,0,inplace=True)  #replacing NaN to 0\n",
    "X.lowerUpperRatio.replace(np.inf,0,inplace=True)  #replacing infinity to 0"
   ]
  },
  {
   "cell_type": "code",
   "execution_count": 117,
   "metadata": {},
   "outputs": [
    {
     "name": "stdout",
     "output_type": "stream",
     "text": [
      "Shape of X: (400, 25)\n",
      "Shape of y: (400,)\n"
     ]
    }
   ],
   "source": [
    "y = X.Comment-102\n",
    "X.drop(['Comment'],inplace=True,axis=1)\n",
    "print(\"Shape of X: \"+str(X.shape))\n",
    "print(\"Shape of y: \"+str(y.shape))"
   ]
  },
  {
   "cell_type": "markdown",
   "metadata": {},
   "source": [
    "## FEATURE SCALING"
   ]
  },
  {
   "cell_type": "code",
   "execution_count": 118,
   "metadata": {},
   "outputs": [
    {
     "name": "stdout",
     "output_type": "stream",
     "text": [
      "   Reputation  experienceInTime  Views  Upvotes  Downvotes  tagCount  \\\n",
      "0          85               160     64       21          0         2   \n",
      "1          34               111      7        5          0         3   \n",
      "2         339                 6    298       22          1         4   \n",
      "3         196               125    152        8          0         1   \n",
      "4        1944               235    455      695         43         3   \n",
      "\n",
      "   lowerUpperRatio  sentenceCount  firstLineLength  codeLength  ...  \\\n",
      "0        19.833333              3               23         193  ...   \n",
      "1        30.600000              3               72           0  ...   \n",
      "2         8.838710              4               94           0  ...   \n",
      "3        30.400000              2              142         164  ...   \n",
      "4        12.333333              3              102           0  ...   \n",
      "\n",
      "   sentencesStartWithICount  shortWordCount  bodyWordCount  punctuationCount  \\\n",
      "0                         2              12             31                 6   \n",
      "1                         3              21             40                 8   \n",
      "2                         0              27             68                 5   \n",
      "3                         0              14             34                21   \n",
      "4                         0              12             28                 4   \n",
      "\n",
      "   gunningFog  fleschReadingEase  daleChallReadabilityScore  smogIndex  \\\n",
      "0        9.28              86.40                       6.18        6.4   \n",
      "1       14.00              59.64                       7.00        0.0   \n",
      "2       23.60              53.89                       9.27        0.0   \n",
      "3       15.08              71.65                       7.80        0.0   \n",
      "4       15.60              74.19                       8.28        0.0   \n",
      "\n",
      "   colemanLiauIndex  userProfileFilled  \n",
      "0             15.87                  1  \n",
      "1              7.95                  1  \n",
      "2             12.72                  1  \n",
      "3             17.05                  2  \n",
      "4             11.94                  3  \n",
      "\n",
      "[5 rows x 25 columns]\n",
      "   Reputation  experienceInTime     Views   Upvotes  Downvotes  tagCount  \\\n",
      "0   -0.175812         -0.482161 -0.138492 -0.266651  -0.055221 -0.645333   \n",
      "1   -0.179762         -0.568345 -0.167004 -0.287450  -0.055221  0.168182   \n",
      "2   -0.156142         -0.753026 -0.021446 -0.265351  -0.052620  0.981698   \n",
      "3   -0.167216         -0.543721 -0.094475 -0.283550  -0.055221 -1.458849   \n",
      "4   -0.031847         -0.350246  0.057085  0.609493   0.056607  0.168182   \n",
      "\n",
      "   lowerUpperRatio  sentenceCount  firstLineLength  codeLength  ...  \\\n",
      "0        -0.429635      -0.311516        -0.690231   -0.136081  ...   \n",
      "1        -0.032851      -0.311516        -0.251847   -0.294237  ...   \n",
      "2        -0.834820      -0.179250        -0.055022   -0.294237  ...   \n",
      "3        -0.040222      -0.443782         0.374415   -0.159845  ...   \n",
      "4        -0.706032      -0.311516         0.016551   -0.294237  ...   \n",
      "\n",
      "   sentencesStartWithICount  shortWordCount  bodyWordCount  punctuationCount  \\\n",
      "0                  0.126952       -0.751461      -0.680389         -0.333541   \n",
      "1                  0.747676       -0.488557      -0.553843         -0.323243   \n",
      "2                 -1.114496       -0.313288      -0.160145         -0.338690   \n",
      "3                 -1.114496       -0.693038      -0.638207         -0.256305   \n",
      "4                 -1.114496       -0.751461      -0.722571         -0.343839   \n",
      "\n",
      "   gunningFog  fleschReadingEase  daleChallReadabilityScore  smogIndex  \\\n",
      "0   -0.888147           0.797909                  -0.835949   0.373301   \n",
      "1   -0.541765           0.199209                  -0.457747  -0.741272   \n",
      "2    0.162741           0.070565                   0.589227  -0.741272   \n",
      "3   -0.462508           0.467908                  -0.088769  -0.741272   \n",
      "4   -0.424347           0.524735                   0.132617  -0.741272   \n",
      "\n",
      "   colemanLiauIndex  userProfileFilled  \n",
      "0          0.761957          -0.479770  \n",
      "1         -0.567842          -0.479770  \n",
      "2          0.233060          -0.479770  \n",
      "3          0.960084           0.423961  \n",
      "4          0.102095           1.327692  \n",
      "\n",
      "[5 rows x 25 columns]\n"
     ]
    }
   ],
   "source": [
    "#(x-u)/std\n",
    "\n",
    "mean=[2.35523230e+03, 4.34132119e+02, 3.40874919e+02, 2.26129319e+02,\n",
    " 2.12335492e+01, 2.79326466e+00, 3.14914157e+01, 5.35521776e+00,\n",
    " 1.00150008e+02, 3.59061591e+02, 2.09772989e-01, 2.95014751e-02,\n",
    " 4.99136832e+01, 1.21304815e+00, 9.32546627e-03, 1.79547727e+00,\n",
    " 3.77248362e+01, 7.93895445e+01, 7.07764763e+01, 2.13824006e+01,\n",
    " 5.07359859e+01, 7.99246512e+00, 4.25646657e+00, 1.13319457e+01,\n",
    " 1.53087654e+00]\n",
    "\n",
    "var=[1.66741102e+08, 3.23248073e+05, 3.99683595e+06, 5.91791687e+05,\n",
    " 1.47856693e+05, 1.51101319e+00, 7.36299857e+02, 5.71612347e+01,\n",
    " 1.24934731e+04, 1.48916971e+06, 6.45592273e-01, 5.61825156e-02,\n",
    " 4.11095792e+02, 2.71061078e+00, 1.26386720e-02, 2.59538982e+00,\n",
    " 1.17190623e+03, 5.05811079e+03, 3.77168621e+04, 1.85683474e+02,\n",
    " 1.99780688e+03, 4.70088956e+00, 3.29718449e+01, 3.54714047e+01,\n",
    " 1.22439541e+00]\n",
    "\n",
    "print(X.head())\n",
    "X=(X-mean)/np.sqrt(var)\n",
    "print(X.head())"
   ]
  },
  {
   "cell_type": "code",
   "execution_count": 119,
   "metadata": {},
   "outputs": [
    {
     "name": "stdout",
     "output_type": "stream",
     "text": [
      "[2355.2323, 434.132119, 340.874919, 226.129319, 21.2335492, 2.79326466, 31.4914157, 5.35521776, 100.150008, 359.061591, 0.209772989, 0.0295014751, 49.9136832, 1.21304815, 0.00932546627, 1.79547727, 37.7248362, 79.3895445, 70.7764763, 21.3824006, 50.7359859, 7.99246512, 4.25646657, 11.3319457, 1.53087654]\n",
      "[1.29128270e+04 5.68549095e+02 1.99920883e+03 7.69279980e+02\n",
      " 3.84521382e+02 1.22923276e+00 2.71348458e+01 7.56050492e+00\n",
      " 1.11774206e+02 1.22031541e+03 8.03487569e-01 2.37028512e-01\n",
      " 2.02754973e+01 1.64639326e+00 1.12421848e-01 1.61102136e+00\n",
      " 3.42331160e+01 7.11203964e+01 1.94208296e+02 1.36265723e+01\n",
      " 4.46968330e+01 2.16815349e+00 5.74211154e+00 5.95578750e+00\n",
      " 1.10652402e+00]\n"
     ]
    }
   ],
   "source": [
    "print(mean)\n",
    "print(np.sqrt(var))"
   ]
  },
  {
   "cell_type": "markdown",
   "metadata": {},
   "source": [
    "## IMPORTING PRETRAINED MODEL"
   ]
  },
  {
   "cell_type": "code",
   "execution_count": 120,
   "metadata": {},
   "outputs": [],
   "source": [
    "from joblib import dump, load\n",
    "svm=load('rbf_svm_2.joblib') "
   ]
  },
  {
   "cell_type": "code",
   "execution_count": 121,
   "metadata": {},
   "outputs": [
    {
     "name": "stdout",
     "output_type": "stream",
     "text": [
      "SVC(C=1.0, cache_size=200, class_weight=None, coef0=0.0,\n",
      "  decision_function_shape='ovr', degree=3, gamma='auto', kernel='rbf',\n",
      "  max_iter=-1, probability=False, random_state=None, shrinking=True,\n",
      "  tol=0.001, verbose=False)\n"
     ]
    }
   ],
   "source": [
    "print(svm)"
   ]
  },
  {
   "cell_type": "markdown",
   "metadata": {},
   "source": [
    "## PREDICTION"
   ]
  },
  {
   "cell_type": "code",
   "execution_count": 122,
   "metadata": {},
   "outputs": [
    {
     "name": "stdout",
     "output_type": "stream",
     "text": [
      "Actual Predicted\n",
      "1\t1\n",
      "2\t2\n",
      "3\t3\n",
      "3\t1\n",
      "0\t3\n",
      "2\t2\n",
      "3\t0\n",
      "1\t1\n",
      "2\t1\n",
      "2\t2\n",
      "0\t1\n",
      "0\t2\n",
      "1\t1\n",
      "3\t3\n",
      "1\t1\n",
      "0\t1\n",
      "2\t0\n",
      "1\t1\n",
      "3\t3\n",
      "0\t0\n",
      "0\t1\n",
      "2\t2\n",
      "2\t2\n",
      "2\t2\n",
      "0\t0\n"
     ]
    }
   ],
   "source": [
    "y_pred=svm.predict(X)\n",
    "print(\"Actual Predicted\")\n",
    "for i in range(0,25):\n",
    "    print(str(y[i])+\"\\t\"+str(y_pred[i]))"
   ]
  },
  {
   "cell_type": "markdown",
   "metadata": {},
   "source": [
    "## MODEL PERFORMANCE"
   ]
  },
  {
   "cell_type": "code",
   "execution_count": 123,
   "metadata": {},
   "outputs": [
    {
     "name": "stdout",
     "output_type": "stream",
     "text": [
      "Accuracy: 0.4575\n"
     ]
    }
   ],
   "source": [
    "print(\"Accuracy: \"+str(np.mean(y_pred==y)))"
   ]
  },
  {
   "cell_type": "code",
   "execution_count": 124,
   "metadata": {},
   "outputs": [],
   "source": [
    "# wholeData=pd.read_csv(\"openCloseData8.csv\")\n",
    "# wholeData=wholeData[wholeData['closed']==1]\n",
    "# print(wholeData.shape)\n",
    "# sample=wholeData.sample(n=400)\n",
    "# print(sample.shape)\n",
    "# sample.to_csv(\"demoData2.csv\")"
   ]
  }
 ],
 "metadata": {
  "kernelspec": {
   "display_name": "Python 3",
   "language": "python",
   "name": "python3"
  },
  "language_info": {
   "codemirror_mode": {
    "name": "ipython",
    "version": 3
   },
   "file_extension": ".py",
   "mimetype": "text/x-python",
   "name": "python",
   "nbconvert_exporter": "python",
   "pygments_lexer": "ipython3",
   "version": "3.6.5"
  }
 },
 "nbformat": 4,
 "nbformat_minor": 2
}
