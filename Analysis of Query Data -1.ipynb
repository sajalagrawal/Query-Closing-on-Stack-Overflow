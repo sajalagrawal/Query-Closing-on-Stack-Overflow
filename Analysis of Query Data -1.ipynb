{
 "cells": [
  {
   "cell_type": "code",
   "execution_count": 46,
   "metadata": {},
   "outputs": [],
   "source": [
    "import numpy as np\n",
    "import pandas as pd\n",
    "import matplotlib.pyplot as plt\n",
    "import statistics as stat\n",
    "import scipy.stats as stats\n"
   ]
  },
  {
   "cell_type": "code",
   "execution_count": 2,
   "metadata": {},
   "outputs": [
    {
     "name": "stdout",
     "output_type": "stream",
     "text": [
      "(159996, 35)\n"
     ]
    }
   ],
   "source": [
    "openCloseData = pd.read_csv('openCloseData-34col.csv')\n",
    "print(openCloseData.shape)"
   ]
  },
  {
   "cell_type": "code",
   "execution_count": 3,
   "metadata": {},
   "outputs": [
    {
     "data": {
      "text/plain": [
       "Index(['Unnamed: 0', 'PostId', 'UserId', 'Comment', 'Body', 'Title', 'Tags',\n",
       "       'Reputation', 'experienceInTime', 'WebsiteUrl', 'Location', 'AboutMe',\n",
       "       'Views', 'Upvotes', 'Downvotes', 'ProfileImageUrl', 'tagCount',\n",
       "       'closed', 'lowerUpperRatio', 'sentenceCount', 'firstLineLength',\n",
       "       'codeLength', 'urlCount', 'SOUrlCount', 'titleLengthInChars',\n",
       "       'countOfInterrogativeSent', 'sentencesStartWithYouCount',\n",
       "       'sentencesStartWithICount', 'shortWordCount', 'bodyWordCount',\n",
       "       'punctuationCount', 'websiteUrlFilled', 'locationFilled',\n",
       "       'aboutMeFilled', 'profileImageUrlFilled'],\n",
       "      dtype='object')"
      ]
     },
     "execution_count": 3,
     "metadata": {},
     "output_type": "execute_result"
    }
   ],
   "source": [
    "openCloseData.columns"
   ]
  },
  {
   "cell_type": "code",
   "execution_count": 4,
   "metadata": {},
   "outputs": [],
   "source": [
    "openCloseData.replace(np.nan, 0, inplace=True)\n",
    "openCloseData.lowerUpperRatio.replace(np.inf, 0, inplace=True)"
   ]
  },
  {
   "cell_type": "code",
   "execution_count": 5,
   "metadata": {},
   "outputs": [
    {
     "name": "stdout",
     "output_type": "stream",
     "text": [
      "(80000, 35)\n",
      "(79996, 35)\n"
     ]
    }
   ],
   "source": [
    "openData = openCloseData[openCloseData['closed'] == 0]\n",
    "closeData = openCloseData[openCloseData['closed'] == 1]\n",
    "print(openData.shape)\n",
    "print(closeData.shape)"
   ]
  },
  {
   "cell_type": "markdown",
   "metadata": {},
   "source": [
    "### Count of interrogative sentences (irrelevant)"
   ]
  },
  {
   "cell_type": "code",
   "execution_count": 6,
   "metadata": {},
   "outputs": [
    {
     "name": "stdout",
     "output_type": "stream",
     "text": [
      "Value\t\tOpen\t\tClose\n",
      "Maximum\t\t464\t\t115\n",
      "Minimum\t\t0\t\t0\n",
      "Average\t\t1.1777875\t1.2130481524076204\n",
      "Mode\t\t1\t\t1\n",
      "Median\t\t1.0\t\t1.0\n"
     ]
    }
   ],
   "source": [
    "max_interro_o = np.max(openData['countOfInterrogativeSent'])\n",
    "min_interro_o = np.min(openData['countOfInterrogativeSent'])\n",
    "avg_interro_o = np.mean(openData['countOfInterrogativeSent'])\n",
    "mode_interro_o = stat.mode(openData['countOfInterrogativeSent'])\n",
    "median_interro_o = stat.median(openData['countOfInterrogativeSent'])\n",
    "\n",
    "max_interro_c = np.max(closeData['countOfInterrogativeSent'])\n",
    "min_interro_c = np.min(closeData['countOfInterrogativeSent'])\n",
    "avg_interro_c = np.mean(closeData['countOfInterrogativeSent'])\n",
    "mode_interro_c = stat.mode(closeData['countOfInterrogativeSent'])\n",
    "median_interro_c = stat.median(closeData['countOfInterrogativeSent'])\n",
    "\n",
    "print('Value\\t\\tOpen\\t\\tClose')\n",
    "print('Maximum\\t\\t' + str(max_interro_o) + '\\t\\t' + str(max_interro_c))\n",
    "print('Minimum\\t\\t' + str(min_interro_o) + '\\t\\t' + str(min_interro_c))\n",
    "print('Average\\t\\t' + str(avg_interro_o) + '\\t' + str(avg_interro_c))\n",
    "print('Mode\\t\\t' + str(mode_interro_o) + '\\t\\t' + str(mode_interro_c))\n",
    "print('Median\\t\\t' + str(median_interro_o) + '\\t\\t' + str(median_interro_c))"
   ]
  },
  {
   "cell_type": "code",
   "execution_count": 140,
   "metadata": {},
   "outputs": [
    {
     "data": {
      "image/png": "[encoded data removed]",
      "text/plain": [
       "<Figure size 432x288 with 1 Axes>"
      ]
     },
     "metadata": {},
     "output_type": "display_data"
    }
   ],
   "source": [
    "#plt.figure()\n",
    "\n",
    "#plt.plot(openData['countOfInterrogativeSent'], label = 'open')\n",
    "#plt.plot(closeData['countOfInterrogativeSent'], label = 'close')\n",
    "#plt.xlabel('# of interrogative sentences')\n",
    "#plt.legend()\n",
    "#plt.grid(True)\n",
    "\n",
    "#plt.show()    \n",
    "\n",
    "fig2, ax2 = plt.subplots()\n",
    "data = [closeData['countOfInterrogativeSent'],openData['countOfInterrogativeSent']]\n",
    "ax2.set_title('# interrogative sentences')\n",
    "ax2.boxplot(data, showfliers=False, labels=['closed', 'open'], vert=False)\n",
    "plt.grid(True, linestyle='--', color='b', alpha=0.4)\n",
    "plt.show()"
   ]
  },
  {
   "cell_type": "markdown",
   "metadata": {},
   "source": [
    "### count of short words"
   ]
  },
  {
   "cell_type": "code",
   "execution_count": 9,
   "metadata": {},
   "outputs": [
    {
     "name": "stdout",
     "output_type": "stream",
     "text": [
      "Value\t\tOpen\t\tClose\n",
      "Maximum\t\t5319\t\t3692\n",
      "Minimum\t\t1\t\t0\n",
      "Average\t\t86.716775\t57.164608230411524\n",
      "Mode\t\t33\t\t20\n",
      "Median\t\t59.0\t\t39.0\n"
     ]
    }
   ],
   "source": [
    "max_shortwords_o = np.max(openData['shortWordCount'])\n",
    "min_shortwords_o = np.min(openData['shortWordCount'])\n",
    "avg_shortwords_o = np.mean(openData['shortWordCount'])\n",
    "mode_shortwords_o = stat.mode(openData['shortWordCount'])\n",
    "median_shortwords_o = stat.median(openData['shortWordCount'])\n",
    "\n",
    "max_shortwords_c = np.max(closeData['shortWordCount'])\n",
    "min_shortwords_c = np.min(closeData['shortWordCount'])\n",
    "avg_shortwords_c = np.mean(closeData['shortWordCount'])\n",
    "mode_shortwords_c = stat.mode(closeData['shortWordCount'])\n",
    "median_shortwords_c = stat.median(closeData['shortWordCount'])\n",
    "\n",
    "print('Value\\t\\tOpen\\t\\tClose')\n",
    "print('Maximum\\t\\t' + str(max_shortwords_o) + '\\t\\t' + str(max_shortwords_c))\n",
    "print('Minimum\\t\\t' + str(min_shortwords_o) + '\\t\\t' + str(min_shortwords_c))\n",
    "print('Average\\t\\t' + str(avg_shortwords_o) + '\\t' + str(avg_shortwords_c))\n",
    "print('Mode\\t\\t' + str(mode_shortwords_o) + '\\t\\t' + str(mode_shortwords_c))\n",
    "print('Median\\t\\t' + str(median_shortwords_o) + '\\t\\t' + str(median_shortwords_c))"
   ]
  },
  {
   "cell_type": "code",
   "execution_count": 142,
   "metadata": {},
   "outputs": [
    {
     "data": {
      "image/png": "[encoded data removed]",
      "text/plain": [
       "<Figure size 432x288 with 1 Axes>"
      ]
     },
     "metadata": {},
     "output_type": "display_data"
    }
   ],
   "source": [
    "#plt.figure()\n",
    "\n",
    "#plt.plot(openData['shortWordCount'], label = 'open')\n",
    "#plt.plot(closeData['shortWordCount'], label = 'close')\n",
    "#plt.xlabel('short word count')\n",
    "#plt.legend()\n",
    "#plt.grid(True)\n",
    "#plt.show()\n",
    "\n",
    "fig2, ax2 = plt.subplots()\n",
    "data = [closeData['shortWordCount'],openData['shortWordCount']]\n",
    "ax2.set_title('# words in body')\n",
    "ax2.boxplot(data, showfliers=False, labels=['closed', 'open'], vert=False)\n",
    "plt.grid(True, linestyle='--', color='b', alpha=0.4)\n",
    "plt.show()"
   ]
  },
  {
   "cell_type": "markdown",
   "metadata": {},
   "source": [
    "### # words in body"
   ]
  },
  {
   "cell_type": "code",
   "execution_count": 11,
   "metadata": {},
   "outputs": [
    {
     "name": "stdout",
     "output_type": "stream",
     "text": [
      "Value\t\tOpen\t\tClose\n",
      "Maximum\t\t4384\t\t6588\n",
      "Minimum\t\t5\t\t2\n",
      "Average\t\t175.2183125\t114.50507525376268\n",
      "Mode\t\t92\t\t51\n",
      "Median\t\t129.0\t\t82.0\n"
     ]
    }
   ],
   "source": [
    "max_bodywords_o = np.max(openData['bodyWordCount'])\n",
    "min_bodywords_o = np.min(openData['bodyWordCount'])\n",
    "avg_bodywords_o = np.mean(openData['bodyWordCount'])\n",
    "mode_bodywords_o = stat.mode(openData['bodyWordCount'])\n",
    "median_bodywords_o = stat.median(openData['bodyWordCount'])\n",
    "\n",
    "max_bodywords_c = np.max(closeData['bodyWordCount'])\n",
    "min_bodywords_c = np.min(closeData['bodyWordCount'])\n",
    "avg_bodywords_c = np.mean(closeData['bodyWordCount'])\n",
    "mode_bodywords_c = stat.mode(closeData['bodyWordCount'])\n",
    "median_bodywords_c = stat.median(closeData['bodyWordCount'])\n",
    "\n",
    "print('Value\\t\\tOpen\\t\\tClose')\n",
    "print('Maximum\\t\\t' + str(max_bodywords_o) + '\\t\\t' + str(max_bodywords_c))\n",
    "print('Minimum\\t\\t' + str(min_bodywords_o) + '\\t\\t' + str(min_bodywords_c))\n",
    "print('Average\\t\\t' + str(avg_bodywords_o) + '\\t' + str(avg_bodywords_c))\n",
    "print('Mode\\t\\t' + str(mode_bodywords_o) + '\\t\\t' + str(mode_bodywords_c))\n",
    "print('Median\\t\\t' + str(median_bodywords_o) + '\\t\\t' + str(median_bodywords_c))"
   ]
  },
  {
   "cell_type": "code",
   "execution_count": 143,
   "metadata": {},
   "outputs": [
    {
     "data": {
      "image/png": "[encoded data removed]",
      "text/plain": [
       "<Figure size 432x288 with 1 Axes>"
      ]
     },
     "metadata": {},
     "output_type": "display_data"
    }
   ],
   "source": [
    "#plt.figure()\n",
    "\n",
    "#plt.plot(openData['bodyWordCount'], label = 'open')\n",
    "#plt.plot(closeData['bodyWordCount'], label = 'close')\n",
    "#plt.xlabel('body word count')\n",
    "#plt.legend()\n",
    "#plt.grid(True)\n",
    "\n",
    "#plt.show()\n",
    "\n",
    "\n",
    "fig1, ax1 = plt.subplots()\n",
    "data = [closeData['bodyWordCount'],openData['bodyWordCount']]\n",
    "ax1.set_title('# words in body')\n",
    "ax1.boxplot(data, showfliers=False, labels=['closed', 'open'], vert=False)\n",
    "plt.grid(True, linestyle='--', color='b', alpha=0.4)\n",
    "plt.show()"
   ]
  },
  {
   "cell_type": "markdown",
   "metadata": {},
   "source": [
    "### # punctuations"
   ]
  },
  {
   "cell_type": "code",
   "execution_count": 13,
   "metadata": {},
   "outputs": [
    {
     "name": "stdout",
     "output_type": "stream",
     "text": [
      "Value\t\tOpen\t\tClose\n",
      "Maximum\t\t3343\t\t7475\n",
      "Minimum\t\t0\t\t0\n",
      "Average\t\t15.9656\t70.7764763238162\n",
      "Mode\t\t6\t\t5\n",
      "Median\t\t11.0\t\t21.0\n"
     ]
    }
   ],
   "source": [
    "max_punct_o = np.max(openData['punctuationCount'])\n",
    "min_punc_o = np.min(openData['punctuationCount'])\n",
    "avg_punc_o = np.mean(openData['punctuationCount'])\n",
    "mode_punc_o = stat.mode(openData['punctuationCount'])\n",
    "median_punc_o = stat.median(openData['punctuationCount'])\n",
    "\n",
    "max_punc_c = np.max(closeData['punctuationCount'])\n",
    "min_punc_c = np.min(closeData['punctuationCount'])\n",
    "avg_punc_c = np.mean(closeData['punctuationCount'])\n",
    "mode_punc_c = stat.mode(closeData['punctuationCount'])\n",
    "median_punc_c = stat.median(closeData['punctuationCount'])\n",
    "\n",
    "print('Value\\t\\tOpen\\t\\tClose')\n",
    "print('Maximum\\t\\t' + str(max_punct_o) + '\\t\\t' + str(max_punc_c))\n",
    "print('Minimum\\t\\t' + str(min_punc_o) + '\\t\\t' + str(min_punc_c))\n",
    "print('Average\\t\\t' + str(avg_punc_o) + '\\t' + str(avg_punc_c))\n",
    "print('Mode\\t\\t' + str(mode_punc_o) + '\\t\\t' + str(mode_punc_c))\n",
    "print('Median\\t\\t' + str(median_punc_o) + '\\t\\t' + str(median_punc_c))"
   ]
  },
  {
   "cell_type": "code",
   "execution_count": 144,
   "metadata": {},
   "outputs": [
    {
     "data": {
      "image/png": "[encoded data removed]",
      "text/plain": [
       "<Figure size 432x288 with 1 Axes>"
      ]
     },
     "metadata": {},
     "output_type": "display_data"
    }
   ],
   "source": [
    "#plt.figure()\n",
    "#plt.plot(openData['punctuationCount'], label = 'open')\n",
    "#plt.plot(closeData['punctuationCount'], label = 'close')\n",
    "#plt.xlabel('punctuation count')\n",
    "#plt.legend()\n",
    "#plt.grid(True)\n",
    "#plt.show()\n",
    " \n",
    "#plt.figure()    \n",
    "#plt.hist(closeData['punctuationCount'], bins=100, rwidth=0.5)\n",
    "#plt.boxplot(closeData['punctuationCount'], showfliers=False, labels=['closed'], vert=False)\n",
    "#plt.grid(True)\n",
    "#plt.show()\n",
    "\n",
    "#plt.figure()\n",
    "#plt.hist(openData['punctuationCount'])\n",
    "#plt.boxplot(openData['punctuationCount'], showfliers=False, labels=['open'], vert=False)\n",
    "#plt.grid(True)\n",
    "#plt.show()\n",
    "\n",
    "fig, ax = plt.subplots()\n",
    "data = [closeData['punctuationCount'],openData['punctuationCount']]\n",
    "ax.set_title('# punctuations')\n",
    "plt.boxplot(data, showfliers=False, labels=['closed', 'open'], vert=False)\n",
    "plt.grid(True, linestyle='--', color='b', alpha=0.4)\n",
    "plt.show()\n",
    "\n",
    "\n",
    "\n",
    "#plt.figure(figsize=(16,12))    \n",
    "#std_c = np.std(closeData['punctuationCount'])\n",
    "#distribution = stats.norm.pdf(closeData['punctuationCount'], avg_punc_c, std_c)\n",
    "#plt.plot(distribution, closeData['punctuationCount'])\n",
    "#plt.show()"
   ]
  },
  {
   "cell_type": "code",
   "execution_count": null,
   "metadata": {},
   "outputs": [],
   "source": []
  },
  {
   "cell_type": "code",
   "execution_count": null,
   "metadata": {},
   "outputs": [],
   "source": []
  }
 ],
 "metadata": {
  "kernelspec": {
   "display_name": "Python 3",
   "language": "python",
   "name": "python3"
  },
  "language_info": {
   "codemirror_mode": {
    "name": "ipython",
    "version": 3
   },
   "file_extension": ".py",
   "mimetype": "text/x-python",
   "name": "python",
   "nbconvert_exporter": "python",
   "pygments_lexer": "ipython3",
   "version": "3.6.5"
  }
 },
 "nbformat": 4,
 "nbformat_minor": 2
}
