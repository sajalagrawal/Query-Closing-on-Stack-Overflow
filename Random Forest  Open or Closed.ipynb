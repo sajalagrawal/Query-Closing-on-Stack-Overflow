{
 "cells": [
  {
   "cell_type": "code",
   "execution_count": 1,
   "metadata": {},
   "outputs": [],
   "source": [
    "import pandas as pd\n",
    "import numpy as np\n",
    "from sklearn.linear_model import LogisticRegression\n",
    "from sklearn.model_selection import train_test_split\n",
    "from sklearn.metrics import classification_report\n",
    "from sklearn.metrics import precision_score\n",
    "from sklearn.metrics import recall_score\n",
    "from sklearn.metrics import f1_score\n",
    "from sklearn.metrics import precision_recall_fscore_support"
   ]
  },
  {
   "cell_type": "code",
   "execution_count": 2,
   "metadata": {},
   "outputs": [
    {
     "data": {
      "text/html": [
       "<div>\n",
       "<style scoped>\n",
       "    .dataframe tbody tr th:only-of-type {\n",
       "        vertical-align: middle;\n",
       "    }\n",
       "\n",
       "    .dataframe tbody tr th {\n",
       "        vertical-align: top;\n",
       "    }\n",
       "\n",
       "    .dataframe thead th {\n",
       "        text-align: right;\n",
       "    }\n",
       "</style>\n",
       "<table border=\"1\" class=\"dataframe\">\n",
       "  <thead>\n",
       "    <tr style=\"text-align: right;\">\n",
       "      <th></th>\n",
       "      <th>Unnamed: 0</th>\n",
       "      <th>PostId</th>\n",
       "      <th>UserId</th>\n",
       "      <th>Comment</th>\n",
       "      <th>Body</th>\n",
       "      <th>Title</th>\n",
       "      <th>Tags</th>\n",
       "      <th>Reputation</th>\n",
       "      <th>experienceInTime</th>\n",
       "      <th>WebsiteUrl</th>\n",
       "      <th>...</th>\n",
       "      <th>locationFilled</th>\n",
       "      <th>aboutMeFilled</th>\n",
       "      <th>profileImageUrlFilled</th>\n",
       "      <th>tagWeightSum</th>\n",
       "      <th>gunningFog</th>\n",
       "      <th>fleschReadingEase</th>\n",
       "      <th>daleChallReadabilityScore</th>\n",
       "      <th>smogIndex</th>\n",
       "      <th>colemanLiauIndex</th>\n",
       "      <th>userProfileFilled</th>\n",
       "    </tr>\n",
       "  </thead>\n",
       "  <tbody>\n",
       "    <tr>\n",
       "      <th>0</th>\n",
       "      <td>0</td>\n",
       "      <td>21170255</td>\n",
       "      <td>5921</td>\n",
       "      <td>102</td>\n",
       "      <td>&lt;p&gt;I tried to Google for this, but was (surpri...</td>\n",
       "      <td>Can anyone point me to (or post) an array of e...</td>\n",
       "      <td>&lt;javascript&gt;&lt;html&gt;&lt;arrays&gt;&lt;tags&gt;</td>\n",
       "      <td>17527</td>\n",
       "      <td>1953</td>\n",
       "      <td>NaN</td>\n",
       "      <td>...</td>\n",
       "      <td>1</td>\n",
       "      <td>1</td>\n",
       "      <td>0</td>\n",
       "      <td>-207.161031</td>\n",
       "      <td>71.70</td>\n",
       "      <td>-80.10</td>\n",
       "      <td>13.96</td>\n",
       "      <td>0.0</td>\n",
       "      <td>9.83</td>\n",
       "      <td>2</td>\n",
       "    </tr>\n",
       "    <tr>\n",
       "      <th>1</th>\n",
       "      <td>1</td>\n",
       "      <td>38290647</td>\n",
       "      <td>1601251</td>\n",
       "      <td>102</td>\n",
       "      <td>&lt;p&gt;I am at a decision fork where i have to pic...</td>\n",
       "      <td>RESTful API with either Tomcat or Node.js?</td>\n",
       "      <td>&lt;java&gt;&lt;node.js&gt;&lt;rest&gt;&lt;tomcat&gt;&lt;typescript&gt;</td>\n",
       "      <td>151</td>\n",
       "      <td>1425</td>\n",
       "      <td>NaN</td>\n",
       "      <td>...</td>\n",
       "      <td>0</td>\n",
       "      <td>0</td>\n",
       "      <td>0</td>\n",
       "      <td>-536.990588</td>\n",
       "      <td>52.99</td>\n",
       "      <td>-26.31</td>\n",
       "      <td>12.32</td>\n",
       "      <td>0.0</td>\n",
       "      <td>11.98</td>\n",
       "      <td>0</td>\n",
       "    </tr>\n",
       "    <tr>\n",
       "      <th>2</th>\n",
       "      <td>2</td>\n",
       "      <td>6496114</td>\n",
       "      <td>52924</td>\n",
       "      <td>102</td>\n",
       "      <td>&lt;p&gt;Does anyone know of a good tool to test Sch...</td>\n",
       "      <td>Tool for testing Schema.org markup</td>\n",
       "      <td>&lt;testing&gt;&lt;markup&gt;&lt;schema.org&gt;</td>\n",
       "      <td>1639</td>\n",
       "      <td>900</td>\n",
       "      <td>http://www.agendarecife.com</td>\n",
       "      <td>...</td>\n",
       "      <td>1</td>\n",
       "      <td>1</td>\n",
       "      <td>0</td>\n",
       "      <td>-160.004636</td>\n",
       "      <td>17.06</td>\n",
       "      <td>64.54</td>\n",
       "      <td>7.83</td>\n",
       "      <td>0.0</td>\n",
       "      <td>14.97</td>\n",
       "      <td>3</td>\n",
       "    </tr>\n",
       "    <tr>\n",
       "      <th>3</th>\n",
       "      <td>3</td>\n",
       "      <td>25982771</td>\n",
       "      <td>1968462</td>\n",
       "      <td>102</td>\n",
       "      <td>&lt;p&gt;The &lt;a href=\"http://www.postgresql.org/docs...</td>\n",
       "      <td>Inserting into simple Postgres views</td>\n",
       "      <td>&lt;sql&gt;&lt;postgresql&gt;</td>\n",
       "      <td>2669</td>\n",
       "      <td>620</td>\n",
       "      <td>https://katrinahoffert.github.io/</td>\n",
       "      <td>...</td>\n",
       "      <td>1</td>\n",
       "      <td>1</td>\n",
       "      <td>1</td>\n",
       "      <td>-188.646160</td>\n",
       "      <td>26.89</td>\n",
       "      <td>32.23</td>\n",
       "      <td>9.16</td>\n",
       "      <td>0.0</td>\n",
       "      <td>17.02</td>\n",
       "      <td>4</td>\n",
       "    </tr>\n",
       "    <tr>\n",
       "      <th>4</th>\n",
       "      <td>4</td>\n",
       "      <td>10142243</td>\n",
       "      <td>383479</td>\n",
       "      <td>102</td>\n",
       "      <td>&lt;p&gt;Which frameworks would you recommend for wr...</td>\n",
       "      <td>Frameworks for Unittests for Multithreading in...</td>\n",
       "      <td>&lt;java&gt;&lt;multithreading&gt;&lt;unit-testing&gt;&lt;concurrency&gt;</td>\n",
       "      <td>245</td>\n",
       "      <td>648</td>\n",
       "      <td>NaN</td>\n",
       "      <td>...</td>\n",
       "      <td>0</td>\n",
       "      <td>0</td>\n",
       "      <td>0</td>\n",
       "      <td>-274.409048</td>\n",
       "      <td>21.25</td>\n",
       "      <td>45.43</td>\n",
       "      <td>8.34</td>\n",
       "      <td>0.0</td>\n",
       "      <td>9.41</td>\n",
       "      <td>0</td>\n",
       "    </tr>\n",
       "  </tbody>\n",
       "</table>\n",
       "<p>5 rows × 42 columns</p>\n",
       "</div>"
      ],
      "text/plain": [
       "   Unnamed: 0    PostId   UserId  Comment  \\\n",
       "0           0  21170255     5921      102   \n",
       "1           1  38290647  1601251      102   \n",
       "2           2   6496114    52924      102   \n",
       "3           3  25982771  1968462      102   \n",
       "4           4  10142243   383479      102   \n",
       "\n",
       "                                                Body  \\\n",
       "0  <p>I tried to Google for this, but was (surpri...   \n",
       "1  <p>I am at a decision fork where i have to pic...   \n",
       "2  <p>Does anyone know of a good tool to test Sch...   \n",
       "3  <p>The <a href=\"http://www.postgresql.org/docs...   \n",
       "4  <p>Which frameworks would you recommend for wr...   \n",
       "\n",
       "                                               Title  \\\n",
       "0  Can anyone point me to (or post) an array of e...   \n",
       "1         RESTful API with either Tomcat or Node.js?   \n",
       "2                 Tool for testing Schema.org markup   \n",
       "3               Inserting into simple Postgres views   \n",
       "4  Frameworks for Unittests for Multithreading in...   \n",
       "\n",
       "                                                Tags  Reputation  \\\n",
       "0                   <javascript><html><arrays><tags>       17527   \n",
       "1          <java><node.js><rest><tomcat><typescript>         151   \n",
       "2                      <testing><markup><schema.org>        1639   \n",
       "3                                  <sql><postgresql>        2669   \n",
       "4  <java><multithreading><unit-testing><concurrency>         245   \n",
       "\n",
       "   experienceInTime                         WebsiteUrl        ...          \\\n",
       "0              1953                                NaN        ...           \n",
       "1              1425                                NaN        ...           \n",
       "2               900        http://www.agendarecife.com        ...           \n",
       "3               620  https://katrinahoffert.github.io/        ...           \n",
       "4               648                                NaN        ...           \n",
       "\n",
       "  locationFilled aboutMeFilled  profileImageUrlFilled  tagWeightSum  \\\n",
       "0              1             1                      0   -207.161031   \n",
       "1              0             0                      0   -536.990588   \n",
       "2              1             1                      0   -160.004636   \n",
       "3              1             1                      1   -188.646160   \n",
       "4              0             0                      0   -274.409048   \n",
       "\n",
       "   gunningFog fleschReadingEase  daleChallReadabilityScore  smogIndex  \\\n",
       "0       71.70            -80.10                      13.96        0.0   \n",
       "1       52.99            -26.31                      12.32        0.0   \n",
       "2       17.06             64.54                       7.83        0.0   \n",
       "3       26.89             32.23                       9.16        0.0   \n",
       "4       21.25             45.43                       8.34        0.0   \n",
       "\n",
       "   colemanLiauIndex  userProfileFilled  \n",
       "0              9.83                  2  \n",
       "1             11.98                  0  \n",
       "2             14.97                  3  \n",
       "3             17.02                  4  \n",
       "4              9.41                  0  \n",
       "\n",
       "[5 rows x 42 columns]"
      ]
     },
     "execution_count": 2,
     "metadata": {},
     "output_type": "execute_result"
    }
   ],
   "source": [
    "#3 rows deleted:\n",
    "#20484\t,RegEx used to extract tokens from an ASCIIMath expression\"\t11\t\t1\t0\t0\thttps://i.stack.imgur.com/6VcaB.png\t\t\t\t\t\t\t\t\t0\t1\t\t0\t0\t0\t0\t0\t1\t0\t0\t0\t1\t1\t0\t0\t0\t0\t0\n",
    "#71350\t,Bootstrap modal wont trigger on mobile\"\t443\tLake Mary, FL, United States\t85\t165\t11\thttps://i.stack.imgur.com/TLzJW.png?s=128&g=1\t\t\t\t\t\t\t\t\t0\t1\t\t0\t0\t0\t0\t0\t3\t0\t0\t0\t1\t1\t0\t0\t0\t0\t0\n",
    "#60036\t<p>from group \"\"Value\"\" i can get the value of hour and it gives output as 1\t3\t2\t4\t5\t6 and so on for each generator name but since no of hour is common to all i need that i get it only once that is i should get 1\t2\t5\t6 only once</p>\t\t\t\t\t\t\t0\t1\t\t0\t0\t0\t0\t0\t1\t0\t0\t0\t1\t1\t0\t1\t0\t0\t0\n",
    "\n",
    "openCloseData=pd.read_csv(\"openCloseData8.csv\")\n",
    "openCloseData.head()\n",
    "\n",
    "#openCloseData.drop(20484,inplace=True)\n",
    "#openCloseData.drop(71350,inplace=True)\n",
    "#openCloseData.drop(60036,inplace=True)\n",
    "#print(20484 in openCloseData.iloc[:,1])"
   ]
  },
  {
   "cell_type": "code",
   "execution_count": 3,
   "metadata": {},
   "outputs": [
    {
     "name": "stdout",
     "output_type": "stream",
     "text": [
      "(159996, 42)\n",
      "(159996, 41)\n"
     ]
    }
   ],
   "source": [
    "print(openCloseData.shape)\n",
    "openCloseData.drop(['Unnamed: 0'],inplace=True,axis=1)\n",
    "print(openCloseData.shape)\n",
    "#Actually 4 rows are removed"
   ]
  },
  {
   "cell_type": "code",
   "execution_count": 4,
   "metadata": {},
   "outputs": [
    {
     "data": {
      "text/plain": [
       "Index(['PostId', 'UserId', 'Comment', 'Body', 'Title', 'Tags', 'Reputation',\n",
       "       'experienceInTime', 'WebsiteUrl', 'Location', 'AboutMe', 'Views',\n",
       "       'Upvotes', 'Downvotes', 'ProfileImageUrl', 'tagCount', 'closed',\n",
       "       'lowerUpperRatio', 'sentenceCount', 'firstLineLength', 'codeLength',\n",
       "       'urlCount', 'SOUrlCount', 'titleLengthInChars',\n",
       "       'countOfInterrogativeSent', 'sentencesStartWithYouCount',\n",
       "       'sentencesStartWithICount', 'shortWordCount', 'bodyWordCount',\n",
       "       'punctuationCount', 'websiteUrlFilled', 'locationFilled',\n",
       "       'aboutMeFilled', 'profileImageUrlFilled', 'tagWeightSum', 'gunningFog',\n",
       "       'fleschReadingEase', 'daleChallReadabilityScore', 'smogIndex',\n",
       "       'colemanLiauIndex', 'userProfileFilled'],\n",
       "      dtype='object')"
      ]
     },
     "execution_count": 4,
     "metadata": {},
     "output_type": "execute_result"
    }
   ],
   "source": [
    "openCloseData.columns"
   ]
  },
  {
   "cell_type": "code",
   "execution_count": 5,
   "metadata": {},
   "outputs": [
    {
     "name": "stdout",
     "output_type": "stream",
     "text": [
      "(159996, 27)\n",
      "<class 'pandas.core.frame.DataFrame'>\n"
     ]
    }
   ],
   "source": [
    "X = openCloseData.loc[:,['Reputation',\n",
    "       'experienceInTime', 'Views',\n",
    "       'Upvotes', 'Downvotes', 'tagCount', 'closed',\n",
    "       'lowerUpperRatio', 'sentenceCount', 'firstLineLength', 'codeLength',\n",
    "       'urlCount', 'SOUrlCount', 'titleLengthInChars',\n",
    "       'countOfInterrogativeSent', 'sentencesStartWithYouCount',\n",
    "       'sentencesStartWithICount', 'shortWordCount', 'bodyWordCount',\n",
    "       'punctuationCount', 'tagWeightSum', 'gunningFog',\n",
    "       'fleschReadingEase', 'daleChallReadabilityScore', 'smogIndex',\n",
    "       'colemanLiauIndex', 'userProfileFilled'] ]\n",
    "\n",
    "\n",
    "X.replace(np.nan,0,inplace=True)  #replacing NaN to 0\n",
    "X.lowerUpperRatio.replace(np.inf,0,inplace=True)  #replacing infinity to 0\n",
    "print(X.shape)\n",
    "print(type(X))"
   ]
  },
  {
   "cell_type": "code",
   "execution_count": 6,
   "metadata": {},
   "outputs": [
    {
     "data": {
      "text/html": [
       "<div>\n",
       "<style scoped>\n",
       "    .dataframe tbody tr th:only-of-type {\n",
       "        vertical-align: middle;\n",
       "    }\n",
       "\n",
       "    .dataframe tbody tr th {\n",
       "        vertical-align: top;\n",
       "    }\n",
       "\n",
       "    .dataframe thead th {\n",
       "        text-align: right;\n",
       "    }\n",
       "</style>\n",
       "<table border=\"1\" class=\"dataframe\">\n",
       "  <thead>\n",
       "    <tr style=\"text-align: right;\">\n",
       "      <th></th>\n",
       "      <th>Reputation</th>\n",
       "      <th>experienceInTime</th>\n",
       "      <th>Views</th>\n",
       "      <th>Upvotes</th>\n",
       "      <th>Downvotes</th>\n",
       "      <th>tagCount</th>\n",
       "      <th>closed</th>\n",
       "      <th>lowerUpperRatio</th>\n",
       "      <th>sentenceCount</th>\n",
       "      <th>firstLineLength</th>\n",
       "      <th>...</th>\n",
       "      <th>shortWordCount</th>\n",
       "      <th>bodyWordCount</th>\n",
       "      <th>punctuationCount</th>\n",
       "      <th>tagWeightSum</th>\n",
       "      <th>gunningFog</th>\n",
       "      <th>fleschReadingEase</th>\n",
       "      <th>daleChallReadabilityScore</th>\n",
       "      <th>smogIndex</th>\n",
       "      <th>colemanLiauIndex</th>\n",
       "      <th>userProfileFilled</th>\n",
       "    </tr>\n",
       "  </thead>\n",
       "  <tbody>\n",
       "    <tr>\n",
       "      <th>0</th>\n",
       "      <td>17527</td>\n",
       "      <td>1953</td>\n",
       "      <td>2765</td>\n",
       "      <td>2005</td>\n",
       "      <td>119</td>\n",
       "      <td>4</td>\n",
       "      <td>1</td>\n",
       "      <td>26.153846</td>\n",
       "      <td>6</td>\n",
       "      <td>69</td>\n",
       "      <td>...</td>\n",
       "      <td>84</td>\n",
       "      <td>168</td>\n",
       "      <td>50</td>\n",
       "      <td>-207.161031</td>\n",
       "      <td>71.70</td>\n",
       "      <td>-80.10</td>\n",
       "      <td>13.96</td>\n",
       "      <td>0.0</td>\n",
       "      <td>9.83</td>\n",
       "      <td>2</td>\n",
       "    </tr>\n",
       "    <tr>\n",
       "      <th>1</th>\n",
       "      <td>151</td>\n",
       "      <td>1425</td>\n",
       "      <td>32</td>\n",
       "      <td>16</td>\n",
       "      <td>0</td>\n",
       "      <td>5</td>\n",
       "      <td>1</td>\n",
       "      <td>16.448276</td>\n",
       "      <td>10</td>\n",
       "      <td>75</td>\n",
       "      <td>...</td>\n",
       "      <td>51</td>\n",
       "      <td>113</td>\n",
       "      <td>19</td>\n",
       "      <td>-536.990588</td>\n",
       "      <td>52.99</td>\n",
       "      <td>-26.31</td>\n",
       "      <td>12.32</td>\n",
       "      <td>0.0</td>\n",
       "      <td>11.98</td>\n",
       "      <td>0</td>\n",
       "    </tr>\n",
       "    <tr>\n",
       "      <th>2</th>\n",
       "      <td>1639</td>\n",
       "      <td>900</td>\n",
       "      <td>208</td>\n",
       "      <td>75</td>\n",
       "      <td>1</td>\n",
       "      <td>3</td>\n",
       "      <td>1</td>\n",
       "      <td>18.916667</td>\n",
       "      <td>4</td>\n",
       "      <td>79</td>\n",
       "      <td>...</td>\n",
       "      <td>15</td>\n",
       "      <td>47</td>\n",
       "      <td>17</td>\n",
       "      <td>-160.004636</td>\n",
       "      <td>17.06</td>\n",
       "      <td>64.54</td>\n",
       "      <td>7.83</td>\n",
       "      <td>0.0</td>\n",
       "      <td>14.97</td>\n",
       "      <td>3</td>\n",
       "    </tr>\n",
       "    <tr>\n",
       "      <th>3</th>\n",
       "      <td>2669</td>\n",
       "      <td>620</td>\n",
       "      <td>658</td>\n",
       "      <td>282</td>\n",
       "      <td>11</td>\n",
       "      <td>2</td>\n",
       "      <td>1</td>\n",
       "      <td>12.272727</td>\n",
       "      <td>5</td>\n",
       "      <td>210</td>\n",
       "      <td>...</td>\n",
       "      <td>46</td>\n",
       "      <td>94</td>\n",
       "      <td>45</td>\n",
       "      <td>-188.646160</td>\n",
       "      <td>26.89</td>\n",
       "      <td>32.23</td>\n",
       "      <td>9.16</td>\n",
       "      <td>0.0</td>\n",
       "      <td>17.02</td>\n",
       "      <td>4</td>\n",
       "    </tr>\n",
       "    <tr>\n",
       "      <th>4</th>\n",
       "      <td>245</td>\n",
       "      <td>648</td>\n",
       "      <td>78</td>\n",
       "      <td>14</td>\n",
       "      <td>0</td>\n",
       "      <td>4</td>\n",
       "      <td>1</td>\n",
       "      <td>98.000000</td>\n",
       "      <td>2</td>\n",
       "      <td>92</td>\n",
       "      <td>...</td>\n",
       "      <td>31</td>\n",
       "      <td>68</td>\n",
       "      <td>11</td>\n",
       "      <td>-274.409048</td>\n",
       "      <td>21.25</td>\n",
       "      <td>45.43</td>\n",
       "      <td>8.34</td>\n",
       "      <td>0.0</td>\n",
       "      <td>9.41</td>\n",
       "      <td>0</td>\n",
       "    </tr>\n",
       "  </tbody>\n",
       "</table>\n",
       "<p>5 rows × 27 columns</p>\n",
       "</div>"
      ],
      "text/plain": [
       "   Reputation  experienceInTime  Views  Upvotes  Downvotes  tagCount  closed  \\\n",
       "0       17527              1953   2765     2005        119         4       1   \n",
       "1         151              1425     32       16          0         5       1   \n",
       "2        1639               900    208       75          1         3       1   \n",
       "3        2669               620    658      282         11         2       1   \n",
       "4         245               648     78       14          0         4       1   \n",
       "\n",
       "   lowerUpperRatio  sentenceCount  firstLineLength        ...          \\\n",
       "0        26.153846              6               69        ...           \n",
       "1        16.448276             10               75        ...           \n",
       "2        18.916667              4               79        ...           \n",
       "3        12.272727              5              210        ...           \n",
       "4        98.000000              2               92        ...           \n",
       "\n",
       "   shortWordCount  bodyWordCount  punctuationCount  tagWeightSum  gunningFog  \\\n",
       "0              84            168                50   -207.161031       71.70   \n",
       "1              51            113                19   -536.990588       52.99   \n",
       "2              15             47                17   -160.004636       17.06   \n",
       "3              46             94                45   -188.646160       26.89   \n",
       "4              31             68                11   -274.409048       21.25   \n",
       "\n",
       "   fleschReadingEase  daleChallReadabilityScore  smogIndex  colemanLiauIndex  \\\n",
       "0             -80.10                      13.96        0.0              9.83   \n",
       "1             -26.31                      12.32        0.0             11.98   \n",
       "2              64.54                       7.83        0.0             14.97   \n",
       "3              32.23                       9.16        0.0             17.02   \n",
       "4              45.43                       8.34        0.0              9.41   \n",
       "\n",
       "   userProfileFilled  \n",
       "0                  2  \n",
       "1                  0  \n",
       "2                  3  \n",
       "3                  4  \n",
       "4                  0  \n",
       "\n",
       "[5 rows x 27 columns]"
      ]
     },
     "execution_count": 6,
     "metadata": {},
     "output_type": "execute_result"
    }
   ],
   "source": [
    "X.head()"
   ]
  },
  {
   "cell_type": "code",
   "execution_count": 7,
   "metadata": {},
   "outputs": [
    {
     "data": {
      "text/html": [
       "<div>\n",
       "<style scoped>\n",
       "    .dataframe tbody tr th:only-of-type {\n",
       "        vertical-align: middle;\n",
       "    }\n",
       "\n",
       "    .dataframe tbody tr th {\n",
       "        vertical-align: top;\n",
       "    }\n",
       "\n",
       "    .dataframe thead th {\n",
       "        text-align: right;\n",
       "    }\n",
       "</style>\n",
       "<table border=\"1\" class=\"dataframe\">\n",
       "  <thead>\n",
       "    <tr style=\"text-align: right;\">\n",
       "      <th></th>\n",
       "      <th>Reputation</th>\n",
       "      <th>experienceInTime</th>\n",
       "      <th>Views</th>\n",
       "      <th>Upvotes</th>\n",
       "      <th>Downvotes</th>\n",
       "      <th>tagCount</th>\n",
       "      <th>closed</th>\n",
       "      <th>lowerUpperRatio</th>\n",
       "      <th>sentenceCount</th>\n",
       "      <th>firstLineLength</th>\n",
       "      <th>...</th>\n",
       "      <th>shortWordCount</th>\n",
       "      <th>bodyWordCount</th>\n",
       "      <th>punctuationCount</th>\n",
       "      <th>tagWeightSum</th>\n",
       "      <th>gunningFog</th>\n",
       "      <th>fleschReadingEase</th>\n",
       "      <th>daleChallReadabilityScore</th>\n",
       "      <th>smogIndex</th>\n",
       "      <th>colemanLiauIndex</th>\n",
       "      <th>userProfileFilled</th>\n",
       "    </tr>\n",
       "  </thead>\n",
       "  <tbody>\n",
       "  </tbody>\n",
       "</table>\n",
       "<p>0 rows × 27 columns</p>\n",
       "</div>"
      ],
      "text/plain": [
       "Empty DataFrame\n",
       "Columns: [Reputation, experienceInTime, Views, Upvotes, Downvotes, tagCount, closed, lowerUpperRatio, sentenceCount, firstLineLength, codeLength, urlCount, SOUrlCount, titleLengthInChars, countOfInterrogativeSent, sentencesStartWithYouCount, sentencesStartWithICount, shortWordCount, bodyWordCount, punctuationCount, tagWeightSum, gunningFog, fleschReadingEase, daleChallReadabilityScore, smogIndex, colemanLiauIndex, userProfileFilled]\n",
       "Index: []\n",
       "\n",
       "[0 rows x 27 columns]"
      ]
     },
     "execution_count": 7,
     "metadata": {},
     "output_type": "execute_result"
    }
   ],
   "source": [
    "X[np.isinf(X).any(axis=1)]"
   ]
  },
  {
   "cell_type": "code",
   "execution_count": 8,
   "metadata": {},
   "outputs": [
    {
     "name": "stdout",
     "output_type": "stream",
     "text": [
      "(159996,)\n"
     ]
    }
   ],
   "source": [
    "y = X.closed\n",
    "X.drop(['closed'],inplace=True,axis=1)\n",
    "print(y.shape)"
   ]
  },
  {
   "cell_type": "code",
   "execution_count": 9,
   "metadata": {},
   "outputs": [
    {
     "data": {
      "text/plain": [
       "Index(['Reputation', 'experienceInTime', 'Views', 'Upvotes', 'Downvotes',\n",
       "       'tagCount', 'lowerUpperRatio', 'sentenceCount', 'firstLineLength',\n",
       "       'codeLength', 'urlCount', 'SOUrlCount', 'titleLengthInChars',\n",
       "       'countOfInterrogativeSent', 'sentencesStartWithYouCount',\n",
       "       'sentencesStartWithICount', 'shortWordCount', 'bodyWordCount',\n",
       "       'punctuationCount', 'tagWeightSum', 'gunningFog', 'fleschReadingEase',\n",
       "       'daleChallReadabilityScore', 'smogIndex', 'colemanLiauIndex',\n",
       "       'userProfileFilled'],\n",
       "      dtype='object')"
      ]
     },
     "execution_count": 9,
     "metadata": {},
     "output_type": "execute_result"
    }
   ],
   "source": [
    "X.columns"
   ]
  },
  {
   "cell_type": "code",
   "execution_count": 10,
   "metadata": {},
   "outputs": [
    {
     "name": "stdout",
     "output_type": "stream",
     "text": [
      "<class 'numpy.ndarray'>\n"
     ]
    }
   ],
   "source": [
    "# x=(x-u)/std\n",
    "\n",
    "from sklearn.preprocessing import StandardScaler\n",
    "scaler = StandardScaler()\n",
    "#print(scaler.fit(X))\n",
    "#print(scaler.mean_)\n",
    "X=scaler.fit_transform(X)\n",
    "print(type(X))\n",
    "X = pd.DataFrame(X, columns=['Reputation', 'experienceInTime', 'Views', 'Upvotes', 'Downvotes',\n",
    "       'tagCount', 'lowerUpperRatio', 'sentenceCount', 'firstLineLength',\n",
    "       'codeLength', 'urlCount', 'SOUrlCount', 'titleLengthInChars',\n",
    "       'countOfInterrogativeSent', 'sentencesStartWithYouCount',\n",
    "       'sentencesStartWithICount', 'shortWordCount', 'bodyWordCount',\n",
    "       'punctuationCount', 'tagWeightSum', 'gunningFog',\n",
    "       'fleschReadingEase', 'daleChallReadabilityScore', 'smogIndex',\n",
    "       'colemanLiauIndex', 'userProfileFilled'])"
   ]
  },
  {
   "cell_type": "markdown",
   "metadata": {},
   "source": [
    "### Splitting data to Train - Test sets"
   ]
  },
  {
   "cell_type": "code",
   "execution_count": 11,
   "metadata": {},
   "outputs": [
    {
     "name": "stdout",
     "output_type": "stream",
     "text": [
      "(111997, 26)\n",
      "(111997,)\n",
      "(47999, 26)\n",
      "(47999,)\n"
     ]
    }
   ],
   "source": [
    "#Train/Test Split\n",
    "X_train,X_test,y_train,y_test=train_test_split(X,y,test_size=0.3,random_state=42)\n",
    "print(X_train.shape)\n",
    "print(y_train.shape)\n",
    "print(X_test.shape)\n",
    "print(y_test.shape)"
   ]
  },
  {
   "cell_type": "markdown",
   "metadata": {},
   "source": [
    "### Training Random Forest Classifier"
   ]
  },
  {
   "cell_type": "code",
   "execution_count": 12,
   "metadata": {},
   "outputs": [],
   "source": [
    "from sklearn.ensemble import RandomForestClassifier\n",
    "from sklearn.metrics import precision_recall_fscore_support as score\n",
    "from sklearn.model_selection import train_test_split\n",
    "\n",
    "\n",
    "rf = RandomForestClassifier(n_estimators=50, max_depth = 20 , n_jobs = -1)\n",
    "rf_model = rf.fit(X_train,y_train)"
   ]
  },
  {
   "cell_type": "code",
   "execution_count": 13,
   "metadata": {},
   "outputs": [
    {
     "name": "stdout",
     "output_type": "stream",
     "text": [
      "Precision : 0.88 / Recall : 0.924 / Accuracy : 0.9 / \n"
     ]
    }
   ],
   "source": [
    "y_pred = rf_model.predict(X_test)\n",
    "\n",
    "precision,recall,fscore,support = score(y_test,y_pred,pos_label=1,average='binary')\n",
    "print(\"Precision : {} / Recall : {} / Accuracy : {} / \".format(round(precision,3),\n",
    "                                                                round(recall,3),\n",
    "                                                                round((y_pred==y_test).sum()/len(y_pred),3)))"
   ]
  },
  {
   "cell_type": "markdown",
   "metadata": {},
   "source": [
    "### Evaluating Model's Performance"
   ]
  },
  {
   "cell_type": "code",
   "execution_count": 14,
   "metadata": {},
   "outputs": [
    {
     "data": {
      "text/plain": [
       "0.89962290881060025"
      ]
     },
     "execution_count": 14,
     "metadata": {},
     "output_type": "execute_result"
    }
   ],
   "source": [
    "#Accuracy\n",
    "np.mean(y_pred==y_test)"
   ]
  },
  {
   "cell_type": "code",
   "execution_count": 15,
   "metadata": {},
   "outputs": [
    {
     "name": "stdout",
     "output_type": "stream",
     "text": [
      "             precision    recall  f1-score   support\n",
      "\n",
      "          0       0.92      0.88      0.90     24085\n",
      "          1       0.88      0.92      0.90     23914\n",
      "\n",
      "avg / total       0.90      0.90      0.90     47999\n",
      "\n",
      "Precision: 0.90055003589\n",
      "Recall: 0.899709811483\n",
      "F1 Score:0.899577826399\n",
      "(0.90055003589025384, 0.89970981148298179, 0.89957782639854356, None)\n"
     ]
    }
   ],
   "source": [
    "print(classification_report(y_test,y_pred) )\n",
    "print(\"Precision: \"+str(precision_score(y_test, y_pred, average='macro')) )\n",
    "print(\"Recall: \"+str(recall_score(y_test, y_pred, average='macro')) )\n",
    "print(\"F1 Score:\"+str(f1_score(y_test, y_pred, average='macro')) )\n",
    "print(precision_recall_fscore_support(y_test, y_pred, average='macro') )\n",
    "# Precision, recall, fscore, support in order"
   ]
  },
  {
   "cell_type": "code",
   "execution_count": 16,
   "metadata": {},
   "outputs": [],
   "source": [
    "#print(classification_report(y_test,y_pred))"
   ]
  },
  {
   "cell_type": "markdown",
   "metadata": {},
   "source": [
    "### 5 Fold Cross Validation"
   ]
  },
  {
   "cell_type": "code",
   "execution_count": 18,
   "metadata": {},
   "outputs": [
    {
     "data": {
      "text/plain": [
       "array([ 0.89925   ,  0.81999437,  0.88921529,  0.82046314,  0.82280696])"
      ]
     },
     "execution_count": 18,
     "metadata": {},
     "output_type": "execute_result"
    }
   ],
   "source": [
    "from sklearn.model_selection import GridSearchCV\n",
    "from sklearn.model_selection import KFold,cross_val_score\n",
    "k_fold = KFold(n_splits=5)\n",
    "    \n",
    "cross_val_score(rf,X,y,cv=k_fold,scoring='accuracy',n_jobs=-1)"
   ]
  },
  {
   "cell_type": "markdown",
   "metadata": {},
   "source": [
    "### Inspecting feature importance "
   ]
  },
  {
   "cell_type": "code",
   "execution_count": 20,
   "metadata": {},
   "outputs": [
    {
     "data": {
      "text/plain": [
       "[(0.19110506878467429, 'codeLength'),\n",
       " (0.18372233704301993, 'punctuationCount'),\n",
       " (0.13330144079822703, 'colemanLiauIndex'),\n",
       " (0.062462347365268005, 'tagWeightSum'),\n",
       " (0.057880201983287111, 'smogIndex'),\n",
       " (0.051292635728992675, 'fleschReadingEase'),\n",
       " (0.044691591276876504, 'gunningFog'),\n",
       " (0.026635291560319029, 'bodyWordCount'),\n",
       " (0.026503573023059782, 'daleChallReadabilityScore'),\n",
       " (0.025270659607863375, 'experienceInTime')]"
      ]
     },
     "execution_count": 20,
     "metadata": {},
     "output_type": "execute_result"
    }
   ],
   "source": [
    "sorted(zip(rf_model.feature_importances_,X_train.columns),reverse=True)[0:10]"
   ]
  },
  {
   "cell_type": "code",
   "execution_count": null,
   "metadata": {},
   "outputs": [],
   "source": []
  }
 ],
 "metadata": {
  "kernelspec": {
   "display_name": "Python 3",
   "language": "python",
   "name": "python3"
  },
  "language_info": {
   "codemirror_mode": {
    "name": "ipython",
    "version": 3
   },
   "file_extension": ".py",
   "mimetype": "text/x-python",
   "name": "python",
   "nbconvert_exporter": "python",
   "pygments_lexer": "ipython3",
   "version": "3.6.8"
  }
 },
 "nbformat": 4,
 "nbformat_minor": 2
}
