{
 "cells": [
  {
   "cell_type": "code",
   "execution_count": 1,
   "metadata": {},
   "outputs": [],
   "source": [
    "import pandas as pd\n",
    "import numpy as np\n",
    "from lxml import html\n",
    "import requests\n",
    "import time"
   ]
  },
  {
   "cell_type": "code",
   "execution_count": 2,
   "metadata": {
    "scrolled": true
   },
   "outputs": [
    {
     "data": {
      "text/plain": [
       "Index(['Unnamed: 0', 'PostId', 'UserId', 'Comment', 'Body', 'Title', 'Tags',\n",
       "       'Reputation', 'experienceInTime', 'WebsiteUrl', 'Location', 'AboutMe',\n",
       "       'Views', 'Upvotes', 'Downvotes', 'ProfileImageUrl', 'tagCount',\n",
       "       'closed', 'lowerUpperRatio', 'sentenceCount', 'firstLineLength',\n",
       "       'codeLength', 'urlCount', 'SOUrlCount', 'titleLengthInChars',\n",
       "       'countOfInterrogativeSent', 'sentencesStartWithYouCount',\n",
       "       'sentencesStartWithICount', 'shortWordCount', 'bodyWordCount',\n",
       "       'punctuationCount', 'websiteUrlFilled', 'locationFilled',\n",
       "       'aboutMeFilled', 'profileImageUrlFilled'],\n",
       "      dtype='object')"
      ]
     },
     "execution_count": 2,
     "metadata": {},
     "output_type": "execute_result"
    }
   ],
   "source": [
    "openCloseData = pd.read_csv('openCloseData.csv')\n",
    "openCloseData.columns"
   ]
  },
  {
   "cell_type": "code",
   "execution_count": 3,
   "metadata": {},
   "outputs": [
    {
     "name": "stdout",
     "output_type": "stream",
     "text": [
      "159996\n",
      "134911\n"
     ]
    }
   ],
   "source": [
    "userIds = openCloseData['UserId']\n",
    "print(len(userIds))\n",
    "uId = list(set(userIds))\n",
    "print(len(uId))"
   ]
  },
  {
   "cell_type": "code",
   "execution_count": 4,
   "metadata": {},
   "outputs": [
    {
     "name": "stdout",
     "output_type": "stream",
     "text": [
      "72268\n",
      "66689\n"
     ]
    }
   ],
   "source": [
    "uId = uId[10000:] # 10000 users data is already extracted\n",
    "closeUId = openCloseData[openCloseData.closed == 1]\n",
    "closeUId = list(set(closeUId['UserId']))\n",
    "print(len(closeUId))\n",
    "closeUserId = list(set(uId) & set(closeUId)) #To extract data of users whose questions are closed\n",
    "print(len(closeUserId))"
   ]
  },
  {
   "cell_type": "code",
   "execution_count": 7,
   "metadata": {},
   "outputs": [],
   "source": [
    "uId1 = closeUserId[22000:23000] # indices to be changed\n",
    "ques1 = []\n",
    "ans1 = []\n",
    "pr1 = []\n",
    "\n",
    "tic = time.time()\n",
    "for u in uId1:\n",
    "    page = requests.get('https://stackoverflow.com/users/' + str(u) + '/')\n",
    "    tree = html.fromstring(page.content)\n",
    "    result = tree.xpath('//div[@class=\"grid--cell fs-body3 fc-dark fw-bold\"]/text()')\n",
    "    if len(result) == 3:\n",
    "        ans1.append(result[0])\n",
    "        ques1.append(result[1])\n",
    "        pr1.append(result[2])\n",
    "    else:\n",
    "        ans1.append(0)\n",
    "        ques1.append(0)\n",
    "        pr1.append(0)\n",
    "toc = time.time()"
   ]
  },
  {
   "cell_type": "code",
   "execution_count": 8,
   "metadata": {},
   "outputs": [
    {
     "name": "stdout",
     "output_type": "stream",
     "text": [
      "26.542442806561787 minutes.\n"
     ]
    }
   ],
   "source": [
    "# Just to maintain a record.\n",
    "print(str((toc-tic)/60) + ' minutes.')\n",
    "# 1st 1000 Users: 24.23958336909612 minutes.  # 2nd 1000 Users: 32.08068216641744 minutes.\n",
    "# 3rd 1000 Users: 28.128330274422964 minutes. # 4th 1000 Users: 29.824597867329917 minutes.\n",
    "# 5th 1000 Users: 36.259993139902754 minutes. # 6th 1000 Users: 40.50961256424586 minutes.\n",
    "# 7th 1000 Users: 37.168746733665465 minutes. # 8th 1000 19.687886130809783 minutes.\n",
    "# 9th 2000 54.31850963433583 minutes.         # 10th 1000 14.976558180650075 minutes.\n",
    "# 11th 2000 22.327342176437377 minutes.       # 12th 1000 40.37518444458644 minutes.\n",
    "# 13th 1000 28.56112007300059 minutes.        # 14th 1000 33.4242790778478 minutes.\n",
    "# 15th 1000 32.7480065981547 minutes.         # 16th 1000 38.45446219444275 minutes.\n",
    "# 17th 1000 39.53294971386592 minutes.        # 18th 1000 45.41099920272827 minutes.\n",
    "# 19th 1000 26.185287030537925 minutes.       # 20th 1000 28.772326687971752 minutes.\n",
    "# 21st 1000 26.542442806561787 minutes.       # 22nd 1000 "
   ]
  },
  {
   "cell_type": "code",
   "execution_count": 9,
   "metadata": {},
   "outputs": [],
   "source": [
    "# Remember to change the name of .csv file\n",
    "pd.DataFrame({'UserId' : uId1, 'numAns' : ans1, 'numQues': ques1, 'numPeopleReached': pr1}).to_csv('UserDataClose21-1000.csv')"
   ]
  }
 ],
 "metadata": {
  "kernelspec": {
   "display_name": "Python 3",
   "language": "python",
   "name": "python3"
  },
  "language_info": {
   "codemirror_mode": {
    "name": "ipython",
    "version": 3
   },
   "file_extension": ".py",
   "mimetype": "text/x-python",
   "name": "python",
   "nbconvert_exporter": "python",
   "pygments_lexer": "ipython3",
   "version": "3.6.8"
  }
 },
 "nbformat": 4,
 "nbformat_minor": 2
}
