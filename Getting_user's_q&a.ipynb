{
 "cells": [
  {
   "cell_type": "code",
   "execution_count": 1,
   "metadata": {},
   "outputs": [],
   "source": [
    "import pandas as pd\n",
    "import numpy as np\n",
    "from lxml import html\n",
    "import requests\n",
    "import time\n",
    "import csv"
   ]
  },
  {
   "cell_type": "code",
   "execution_count": 2,
   "metadata": {
    "scrolled": true
   },
   "outputs": [
    {
     "data": {
      "text/plain": [
       "Index(['Unnamed: 0', 'PostId', 'UserId', 'Comment', 'Body', 'Title', 'Tags',\n",
       "       'Reputation', 'experienceInTime', 'WebsiteUrl', 'Location', 'AboutMe',\n",
       "       'Views', 'Upvotes', 'Downvotes', 'ProfileImageUrl', 'tagCount',\n",
       "       'closed', 'lowerUpperRatio', 'sentenceCount', 'firstLineLength',\n",
       "       'codeLength', 'urlCount', 'SOUrlCount', 'titleLengthInChars',\n",
       "       'countOfInterrogativeSent', 'sentencesStartWithYouCount',\n",
       "       'sentencesStartWithICount', 'shortWordCount', 'bodyWordCount',\n",
       "       'punctuationCount', 'websiteUrlFilled', 'locationFilled',\n",
       "       'aboutMeFilled', 'profileImageUrlFilled', 'tagWeightSum', 'gunningFog',\n",
       "       'fleschReadingEase', 'daleChallReadabilityScore', 'smogIndex',\n",
       "       'colemanLiauIndex', 'userProfileFilled'],\n",
       "      dtype='object')"
      ]
     },
     "execution_count": 2,
     "metadata": {},
     "output_type": "execute_result"
    }
   ],
   "source": [
    "openCloseData = pd.read_csv('openCloseData8.csv')\n",
    "openCloseData.columns"
   ]
  },
  {
   "cell_type": "code",
   "execution_count": 3,
   "metadata": {},
   "outputs": [
    {
     "name": "stdout",
     "output_type": "stream",
     "text": [
      "159996\n",
      "134911\n"
     ]
    }
   ],
   "source": [
    "userIds = openCloseData['UserId']\n",
    "print(len(userIds))\n",
    "uId = list(set(userIds))\n",
    "print(len(uId))"
   ]
  },
  {
   "cell_type": "code",
   "execution_count": 4,
   "metadata": {},
   "outputs": [
    {
     "name": "stdout",
     "output_type": "stream",
     "text": [
      "69672\n",
      "64731\n"
     ]
    }
   ],
   "source": [
    "uId = uId[10000:] # 10000 users data is already extracted\n",
    "closeUId = openCloseData[openCloseData.closed == 0]\n",
    "closeUId = list(set(closeUId['UserId']))\n",
    "print(len(closeUId))\n",
    "closeUserId = list(set(uId) & set(closeUId)) #To extract data of users whose questions are closed\n",
    "print(len(closeUserId))"
   ]
  },
  {
   "cell_type": "code",
   "execution_count": 32,
   "metadata": {},
   "outputs": [
    {
     "data": {
      "text/plain": [
       "64730"
      ]
     },
     "execution_count": 32,
     "metadata": {},
     "output_type": "execute_result"
    }
   ],
   "source": [
    "56439+120+119+235+230 +875 +165+2668 +475 +2420 +819 +121 +44"
   ]
  },
  {
   "cell_type": "code",
   "execution_count": 31,
   "metadata": {
    "scrolled": false
   },
   "outputs": [
    {
     "name": "stdout",
     "output_type": "stream",
     "text": [
      "0 3276721\n",
      "['3276721' '37' '23' '~439k']\n",
      "1 5373874\n",
      "['5373874' '0' '3' '~427']\n",
      "2 3669940\n",
      "['3669940' '149' '6' '~172k']\n",
      "3 1966006\n",
      "['1966006' '0' '2' '~3k']\n",
      "4 6160311\n",
      "['6160311' '0' '1' '~64']\n",
      "5 1572796\n",
      "['1572796' '47' '93' '~103k']\n",
      "6 1179581\n",
      "['1179581' '21' '86' '~115k']\n",
      "7 655293\n",
      "['655293' '45' '50' '~287k']\n",
      "8 3932098\n",
      "['3932098' '6' '2' '~58k']\n",
      "9 524226\n",
      "['524226' '7' '88' '~184k']\n",
      "10 3801027\n",
      "['3801027' '0' '2' '~91']\n",
      "11 4325317\n",
      "['4325317' '8' '7' '~30k']\n",
      "12 5111750\n",
      "['5111750' '4' '6' '~29k']\n",
      "13 1179593\n",
      "['1179593' '16' '171' '~284k']\n",
      "14 3407821\n",
      "['3407821' '0' '4' '~529']\n",
      "15 131021\n",
      "['131021' '823' '103' '~635k']\n",
      "16 3145679\n",
      "['3145679' '18' '37' '~53k']\n",
      "17 6422479\n",
      "['6422479' '0' '1' '~106']\n",
      "18 4718546\n",
      "['4718546' '0' '21' '~7k']\n",
      "19 5898201\n",
      "['5898201' '2' '26' '~4k']\n",
      "20 5111771\n",
      "[5111771.]\n",
      "21 917467\n",
      "['917467' '313' '294' '~1.3m']\n",
      "22 3407838\n",
      "['3407838' '12' '8' '~95k']\n",
      "23 3407839\n",
      "['3407839' '27' '3' '~22k']\n",
      "24 3276768\n",
      "['3276768' '0' '41' '~89k']\n",
      "25 4980705\n",
      "['4980705' '13' '47' '~36k']\n",
      "26 5373923\n",
      "['5373923' '1' '1' '~46']\n",
      "27 2097126\n",
      "['2097126' '0' '79' '~228k']\n",
      "28 262119\n",
      "['262119' '60' '17' '~243k']\n",
      "29 5505001\n",
      "['5505001' '3' '2' '~13k']\n",
      "30 3801066\n",
      "['3801066' '0' '5' '~923']\n",
      "31 1441771\n",
      "['1441771' '1' '50' '~151k']\n",
      "32 5242860\n",
      "['5242860' '4' '18' '~15k']\n",
      "33 2228201\n",
      "['2228201' '6' '33' '~34k']\n",
      "34 4587502\n",
      "['4587502' '0' '2' '~2k']\n",
      "35 5242864\n",
      "['5242864' '37' '8' '~403k']\n",
      "36 4194289\n",
      "['4194289' '35' '13' '~118k']\n",
      "37 786418\n",
      "['786418' '4' '40' '~69k']\n",
      "38 1310708\n",
      "['1310708' '33' '16' '~42k']\n",
      "39 4718580\n",
      "['4718580' '0' '1' '~223']\n",
      "40 917494\n",
      "['917494' '34' '10' '~68k']\n",
      "41 3801079\n",
      "['3801079' '0' '1' '~480']\n",
      "42 1310713\n",
      "['1310713' '13' '35' '~185k']\n",
      "43 2228221\n",
      "['2228221' '3' '15' '~11k']\n",
      "44 3801087\n",
      "['3801087' '21' '199' '~372k']\n",
      "2.0917054255803427 minutes.\n"
     ]
    }
   ],
   "source": [
    "uId1 = closeUserId[64686:] #indices to be changed\n",
    "ques1 = []\n",
    "ans1 = []\n",
    "pr1 = []\n",
    "\n",
    "tic = time.time()\n",
    "idx=0\n",
    "for u in uId1:\n",
    "    print(str(idx)+\" \"+str(u))\n",
    "    idx+=1\n",
    "#     try:\n",
    "    page = requests.get('https://stackoverflow.com/users/' + str(u) + '/')\n",
    "    tree = html.fromstring(page.content)\n",
    "    result=np.array(u)\n",
    "    result = np.append(result,tree.xpath('//div[@class=\"grid--cell fs-body3 fc-dark fw-bold\"]/text()'))\n",
    "    print(result)\n",
    "    if len(result) == 4:\n",
    "        pass\n",
    "    else:\n",
    "        result=[u,'0','0','0']\n",
    "#     except:\n",
    "#         result=[u,'0','0','0']\n",
    "    \n",
    "    with open('UserDataOpen2000-3000.csv', 'a',newline='') as csvFile:\n",
    "        writer = csv.writer(csvFile)\n",
    "        writer.writerow(result)\n",
    "toc = time.time()\n",
    "print(str((toc-tic)/60) + ' minutes.')"
   ]
  },
  {
   "cell_type": "code",
   "execution_count": null,
   "metadata": {},
   "outputs": [],
   "source": [
    "# # Just to maintain a record.\n",
    "# print(str((toc-tic)/60) + ' minutes.')\n",
    "# # 1st 1000 Users: 24.23958336909612 minutes.  # 2nd 1000 Users: 32.08068216641744 minutes.\n",
    "# # 3rd 1000 Users: 28.128330274422964 minutes. # 4th 1000 Users: 29.824597867329917 minutes.\n",
    "# # 5th 1000 Users: 36.259993139902754 minutes. # 6th 1000 Users: 40.50961256424586 minutes.\n",
    "# # 7th 1000 Users: 37.168746733665465 minutes. # 8th 1000 19.687886130809783 minutes.\n",
    "# # 9th 2000 54.31850963433583 minutes.         # 10th 1000 14.976558180650075 minutes.\n",
    "# # 11th 2000 22.327342176437377 minutes.       # 12th 1000 40.37518444458644 minutes.\n",
    "# # 13th 1000 28.56112007300059 minutes.        # 14th 1000 33.4242790778478 minutes.\n",
    "# # 15th 1000 32.7480065981547 minutes.         # 16th 1000 38.45446219444275 minutes.\n",
    "# # 17th 1000 39.53294971386592 minutes.        # 18th 1000 45.41099920272827 minutes.\n",
    "# # 19th 1000 26.185287030537925 minutes.       # 20th 1000 28.772326687971752 minutes.\n",
    "# # 21st 1000 26.542442806561787 minutes.       # 22nd 1000 \n"
   ]
  },
  {
   "cell_type": "code",
   "execution_count": null,
   "metadata": {},
   "outputs": [],
   "source": [
    "# # Remember to change the name of .csv file\n",
    "# pd.DataFrame({'UserId' : uId1, 'numAns' : ans1, 'numQues': ques1, 'numPeopleReached': pr1}).to_csv('UserDataOpen2000-3000.csv')"
   ]
  }
 ],
 "metadata": {
  "kernelspec": {
   "display_name": "Python 3",
   "language": "python",
   "name": "python3"
  },
  "language_info": {
   "codemirror_mode": {
    "name": "ipython",
    "version": 3
   },
   "file_extension": ".py",
   "mimetype": "text/x-python",
   "name": "python",
   "nbconvert_exporter": "python",
   "pygments_lexer": "ipython3",
   "version": "3.6.5"
  }
 },
 "nbformat": 4,
 "nbformat_minor": 2
}
