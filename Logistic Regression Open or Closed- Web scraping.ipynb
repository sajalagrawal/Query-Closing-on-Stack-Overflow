{
 "cells": [
  {
   "cell_type": "code",
   "execution_count": 1,
   "metadata": {},
   "outputs": [],
   "source": [
    "import pandas as pd\n",
    "import numpy as np\n",
    "from sklearn.linear_model import LogisticRegression\n",
    "from sklearn.model_selection import train_test_split\n",
    "from sklearn.metrics import classification_report\n",
    "from sklearn.metrics import precision_score\n",
    "from sklearn.metrics import recall_score\n",
    "from sklearn.metrics import f1_score\n",
    "from sklearn.metrics import precision_recall_fscore_support"
   ]
  },
  {
   "cell_type": "code",
   "execution_count": 2,
   "metadata": {},
   "outputs": [
    {
     "data": {
      "text/html": [
       "<div>\n",
       "<style scoped>\n",
       "    .dataframe tbody tr th:only-of-type {\n",
       "        vertical-align: middle;\n",
       "    }\n",
       "\n",
       "    .dataframe tbody tr th {\n",
       "        vertical-align: top;\n",
       "    }\n",
       "\n",
       "    .dataframe thead th {\n",
       "        text-align: right;\n",
       "    }\n",
       "</style>\n",
       "<table border=\"1\" class=\"dataframe\">\n",
       "  <thead>\n",
       "    <tr style=\"text-align: right;\">\n",
       "      <th></th>\n",
       "      <th>Unnamed: 0</th>\n",
       "      <th>AboutMe</th>\n",
       "      <th>Body</th>\n",
       "      <th>Comment</th>\n",
       "      <th>Downvotes</th>\n",
       "      <th>Location</th>\n",
       "      <th>PostId</th>\n",
       "      <th>ProfileImageUrl</th>\n",
       "      <th>Reputation</th>\n",
       "      <th>SOUrlCount</th>\n",
       "      <th>...</th>\n",
       "      <th>sentencesStartWithICount</th>\n",
       "      <th>sentencesStartWithYouCount</th>\n",
       "      <th>shortWordCount</th>\n",
       "      <th>smogIndex</th>\n",
       "      <th>tagCount</th>\n",
       "      <th>tagWeightSum</th>\n",
       "      <th>titleLengthInChars</th>\n",
       "      <th>urlCount</th>\n",
       "      <th>userProfileFilled</th>\n",
       "      <th>websiteUrlFilled</th>\n",
       "    </tr>\n",
       "  </thead>\n",
       "  <tbody>\n",
       "    <tr>\n",
       "      <th>0</th>\n",
       "      <td>0</td>\n",
       "      <td>NaN</td>\n",
       "      <td>&lt;p&gt;Please someone explain complete step by ste...</td>\n",
       "      <td>100</td>\n",
       "      <td>0</td>\n",
       "      <td>NaN</td>\n",
       "      <td>32203002</td>\n",
       "      <td>https://lh4.googleusercontent.com/-_GtduZ_HroM...</td>\n",
       "      <td>6</td>\n",
       "      <td>0</td>\n",
       "      <td>...</td>\n",
       "      <td>0</td>\n",
       "      <td>0</td>\n",
       "      <td>6</td>\n",
       "      <td>0.0</td>\n",
       "      <td>2</td>\n",
       "      <td>-110.462467</td>\n",
       "      <td>33</td>\n",
       "      <td>0</td>\n",
       "      <td>1</td>\n",
       "      <td>0</td>\n",
       "    </tr>\n",
       "    <tr>\n",
       "      <th>1</th>\n",
       "      <td>1</td>\n",
       "      <td>NaN</td>\n",
       "      <td>&lt;p&gt;I've used SFST language for my project on N...</td>\n",
       "      <td>100</td>\n",
       "      <td>0</td>\n",
       "      <td>NaN</td>\n",
       "      <td>31961877</td>\n",
       "      <td>https://lh4.googleusercontent.com/-_GtduZ_HroM...</td>\n",
       "      <td>6</td>\n",
       "      <td>0</td>\n",
       "      <td>...</td>\n",
       "      <td>3</td>\n",
       "      <td>0</td>\n",
       "      <td>27</td>\n",
       "      <td>0.0</td>\n",
       "      <td>4</td>\n",
       "      <td>-157.135019</td>\n",
       "      <td>25</td>\n",
       "      <td>2</td>\n",
       "      <td>1</td>\n",
       "      <td>0</td>\n",
       "    </tr>\n",
       "    <tr>\n",
       "      <th>2</th>\n",
       "      <td>2</td>\n",
       "      <td>&lt;p&gt;Currently a software developer at HiQ Finla...</td>\n",
       "      <td>&lt;p&gt;The following JSON is returned from SharePo...</td>\n",
       "      <td>100</td>\n",
       "      <td>2413</td>\n",
       "      <td>Helsinki, Finland</td>\n",
       "      <td>22080350</td>\n",
       "      <td>https://i.stack.imgur.com/w2whQ.png</td>\n",
       "      <td>33857</td>\n",
       "      <td>0</td>\n",
       "      <td>...</td>\n",
       "      <td>0</td>\n",
       "      <td>0</td>\n",
       "      <td>25</td>\n",
       "      <td>0.0</td>\n",
       "      <td>3</td>\n",
       "      <td>-279.862500</td>\n",
       "      <td>134</td>\n",
       "      <td>0</td>\n",
       "      <td>4</td>\n",
       "      <td>1</td>\n",
       "    </tr>\n",
       "    <tr>\n",
       "      <th>3</th>\n",
       "      <td>3</td>\n",
       "      <td>&lt;p&gt;Love the computer science &amp;amp; technology ...</td>\n",
       "      <td>&lt;p&gt;What's the benifit of allocating a chunk of...</td>\n",
       "      <td>100</td>\n",
       "      <td>3</td>\n",
       "      <td>中国Shanghai Shi</td>\n",
       "      <td>28019349</td>\n",
       "      <td>https://www.gravatar.com/avatar/a33ac21cad99e5...</td>\n",
       "      <td>1470</td>\n",
       "      <td>0</td>\n",
       "      <td>...</td>\n",
       "      <td>0</td>\n",
       "      <td>0</td>\n",
       "      <td>10</td>\n",
       "      <td>0.0</td>\n",
       "      <td>5</td>\n",
       "      <td>-234.970000</td>\n",
       "      <td>78</td>\n",
       "      <td>0</td>\n",
       "      <td>3</td>\n",
       "      <td>0</td>\n",
       "    </tr>\n",
       "    <tr>\n",
       "      <th>4</th>\n",
       "      <td>4</td>\n",
       "      <td>NaN</td>\n",
       "      <td>&lt;p&gt;I'm using an S3 bucket as the origin or a C...</td>\n",
       "      <td>100</td>\n",
       "      <td>77</td>\n",
       "      <td>NaN</td>\n",
       "      <td>32211159</td>\n",
       "      <td>NaN</td>\n",
       "      <td>10992</td>\n",
       "      <td>0</td>\n",
       "      <td>...</td>\n",
       "      <td>2</td>\n",
       "      <td>0</td>\n",
       "      <td>35</td>\n",
       "      <td>10.7</td>\n",
       "      <td>4</td>\n",
       "      <td>-527.002535</td>\n",
       "      <td>59</td>\n",
       "      <td>0</td>\n",
       "      <td>0</td>\n",
       "      <td>0</td>\n",
       "    </tr>\n",
       "  </tbody>\n",
       "</table>\n",
       "<p>5 rows × 47 columns</p>\n",
       "</div>"
      ],
      "text/plain": [
       "   Unnamed: 0                                            AboutMe  \\\n",
       "0           0                                                NaN   \n",
       "1           1                                                NaN   \n",
       "2           2  <p>Currently a software developer at HiQ Finla...   \n",
       "3           3  <p>Love the computer science &amp; technology ...   \n",
       "4           4                                                NaN   \n",
       "\n",
       "                                                Body  Comment  Downvotes  \\\n",
       "0  <p>Please someone explain complete step by ste...      100          0   \n",
       "1  <p>I've used SFST language for my project on N...      100          0   \n",
       "2  <p>The following JSON is returned from SharePo...      100       2413   \n",
       "3  <p>What's the benifit of allocating a chunk of...      100          3   \n",
       "4  <p>I'm using an S3 bucket as the origin or a C...      100         77   \n",
       "\n",
       "            Location    PostId  \\\n",
       "0                NaN  32203002   \n",
       "1                NaN  31961877   \n",
       "2  Helsinki, Finland  22080350   \n",
       "3     中国Shanghai Shi  28019349   \n",
       "4                NaN  32211159   \n",
       "\n",
       "                                     ProfileImageUrl  Reputation  SOUrlCount  \\\n",
       "0  https://lh4.googleusercontent.com/-_GtduZ_HroM...           6           0   \n",
       "1  https://lh4.googleusercontent.com/-_GtduZ_HroM...           6           0   \n",
       "2                https://i.stack.imgur.com/w2whQ.png       33857           0   \n",
       "3  https://www.gravatar.com/avatar/a33ac21cad99e5...        1470           0   \n",
       "4                                                NaN       10992           0   \n",
       "\n",
       "   ... sentencesStartWithICount sentencesStartWithYouCount  shortWordCount  \\\n",
       "0  ...                        0                          0               6   \n",
       "1  ...                        3                          0              27   \n",
       "2  ...                        0                          0              25   \n",
       "3  ...                        0                          0              10   \n",
       "4  ...                        2                          0              35   \n",
       "\n",
       "   smogIndex  tagCount  tagWeightSum titleLengthInChars  urlCount  \\\n",
       "0        0.0         2   -110.462467                 33         0   \n",
       "1        0.0         4   -157.135019                 25         2   \n",
       "2        0.0         3   -279.862500                134         0   \n",
       "3        0.0         5   -234.970000                 78         0   \n",
       "4       10.7         4   -527.002535                 59         0   \n",
       "\n",
       "   userProfileFilled  websiteUrlFilled  \n",
       "0                  1                 0  \n",
       "1                  1                 0  \n",
       "2                  4                 1  \n",
       "3                  3                 0  \n",
       "4                  0                 0  \n",
       "\n",
       "[5 rows x 47 columns]"
      ]
     },
     "execution_count": 2,
     "metadata": {},
     "output_type": "execute_result"
    }
   ],
   "source": [
    "#3 rows deleted:\n",
    "#20484\t,RegEx used to extract tokens from an ASCIIMath expression\"\t11\t\t1\t0\t0\thttps://i.stack.imgur.com/6VcaB.png\t\t\t\t\t\t\t\t\t0\t1\t\t0\t0\t0\t0\t0\t1\t0\t0\t0\t1\t1\t0\t0\t0\t0\t0\n",
    "#71350\t,Bootstrap modal wont trigger on mobile\"\t443\tLake Mary, FL, United States\t85\t165\t11\thttps://i.stack.imgur.com/TLzJW.png?s=128&g=1\t\t\t\t\t\t\t\t\t0\t1\t\t0\t0\t0\t0\t0\t3\t0\t0\t0\t1\t1\t0\t0\t0\t0\t0\n",
    "#60036\t<p>from group \"\"Value\"\" i can get the value of hour and it gives output as 1\t3\t2\t4\t5\t6 and so on for each generator name but since no of hour is common to all i need that i get it only once that is i should get 1\t2\t5\t6 only once</p>\t\t\t\t\t\t\t0\t1\t\t0\t0\t0\t0\t0\t1\t0\t0\t0\t1\t1\t0\t1\t0\t0\t0\n",
    "\n",
    "openCloseData=pd.read_csv(\"openCloseData9.csv\",index_col=False)\n",
    "openCloseData.head()"
   ]
  },
  {
   "cell_type": "code",
   "execution_count": 3,
   "metadata": {},
   "outputs": [
    {
     "name": "stdout",
     "output_type": "stream",
     "text": [
      "   Unnamed: 0                                            AboutMe  \\\n",
      "0           0                                                NaN   \n",
      "1           1                                                NaN   \n",
      "2           2  <p>Currently a software developer at HiQ Finla...   \n",
      "3           3  <p>Love the computer science &amp; technology ...   \n",
      "4           4                                                NaN   \n",
      "\n",
      "                                                Body  Comment  Downvotes  \\\n",
      "0  <p>Please someone explain complete step by ste...      100          0   \n",
      "1  <p>I've used SFST language for my project on N...      100          0   \n",
      "2  <p>The following JSON is returned from SharePo...      100       2413   \n",
      "3  <p>What's the benifit of allocating a chunk of...      100          3   \n",
      "4  <p>I'm using an S3 bucket as the origin or a C...      100         77   \n",
      "\n",
      "            Location    PostId  \\\n",
      "0                NaN  32203002   \n",
      "1                NaN  31961877   \n",
      "2  Helsinki, Finland  22080350   \n",
      "3     中国Shanghai Shi  28019349   \n",
      "4                NaN  32211159   \n",
      "\n",
      "                                     ProfileImageUrl  Reputation  SOUrlCount  \\\n",
      "0  https://lh4.googleusercontent.com/-_GtduZ_HroM...           6           0   \n",
      "1  https://lh4.googleusercontent.com/-_GtduZ_HroM...           6           0   \n",
      "2                https://i.stack.imgur.com/w2whQ.png       33857           0   \n",
      "3  https://www.gravatar.com/avatar/a33ac21cad99e5...        1470           0   \n",
      "4                                                NaN       10992           0   \n",
      "\n",
      "   ... sentencesStartWithICount sentencesStartWithYouCount  shortWordCount  \\\n",
      "0  ...                        0                          0               6   \n",
      "1  ...                        3                          0              27   \n",
      "2  ...                        0                          0              25   \n",
      "3  ...                        0                          0              10   \n",
      "4  ...                        2                          0              35   \n",
      "\n",
      "   smogIndex  tagCount  tagWeightSum titleLengthInChars  urlCount  \\\n",
      "0        0.0         2   -110.462467                 33         0   \n",
      "1        0.0         4   -157.135019                 25         2   \n",
      "2        0.0         3   -279.862500                134         0   \n",
      "3        0.0         5   -234.970000                 78         0   \n",
      "4       10.7         4   -527.002535                 59         0   \n",
      "\n",
      "   userProfileFilled  websiteUrlFilled  \n",
      "0                  1                 0  \n",
      "1                  1                 0  \n",
      "2                  4                 1  \n",
      "3                  3                 0  \n",
      "4                  0                 0  \n",
      "\n",
      "[5 rows x 47 columns]\n"
     ]
    }
   ],
   "source": [
    "print(openCloseData.head())"
   ]
  },
  {
   "cell_type": "code",
   "execution_count": 4,
   "metadata": {},
   "outputs": [
    {
     "name": "stdout",
     "output_type": "stream",
     "text": [
      "(159996, 47)\n",
      "(159996, 46)\n"
     ]
    }
   ],
   "source": [
    "print(openCloseData.shape)\n",
    "openCloseData.drop(['Unnamed: 0'],inplace=True,axis=1)\n",
    "print(openCloseData.shape)\n",
    "#Actually 4 rows are removed"
   ]
  },
  {
   "cell_type": "code",
   "execution_count": 5,
   "metadata": {},
   "outputs": [
    {
     "data": {
      "text/plain": [
       "Index(['AboutMe', 'Body', 'Comment', 'Downvotes', 'Location', 'PostId',\n",
       "       'ProfileImageUrl', 'Reputation', 'SOUrlCount', 'Tags', 'Title',\n",
       "       'Unnamed: 0.1', 'Upvotes', 'UserId', 'Views', 'WebsiteUrl',\n",
       "       'aboutMeFilled', 'bodyWordCount', 'closed', 'codeLength',\n",
       "       'colemanLiauIndex', 'countOfInterrogativeSent',\n",
       "       'daleChallReadabilityScore', 'experienceInTime', 'firstLineLength',\n",
       "       'fleschReadingEase', 'gunningFog', 'locationFilled', 'lowerUpperRatio',\n",
       "       'numAns', 'numPR', 'numPeopleReached', 'numQues',\n",
       "       'profileImageUrlFilled', 'punctuationCount', 'sentenceCount',\n",
       "       'sentencesStartWithICount', 'sentencesStartWithYouCount',\n",
       "       'shortWordCount', 'smogIndex', 'tagCount', 'tagWeightSum',\n",
       "       'titleLengthInChars', 'urlCount', 'userProfileFilled',\n",
       "       'websiteUrlFilled'],\n",
       "      dtype='object')"
      ]
     },
     "execution_count": 5,
     "metadata": {},
     "output_type": "execute_result"
    }
   ],
   "source": [
    "openCloseData.columns"
   ]
  },
  {
   "cell_type": "code",
   "execution_count": 6,
   "metadata": {},
   "outputs": [
    {
     "name": "stdout",
     "output_type": "stream",
     "text": [
      "(159996, 46)\n"
     ]
    }
   ],
   "source": [
    "#https://stackoverflow.com/questions/33961028/remove-non-numeric-rows-in-one-column-with-pandas\n",
    "print(openCloseData.shape)\n",
    "#openCloseData[openCloseData.Reputation.apply(lambda x: x.isnumeric())]\n",
    "#print(openCloseData.dtypes)\n",
    "#print(openCloseData.shape)"
   ]
  },
  {
   "cell_type": "code",
   "execution_count": 30,
   "metadata": {},
   "outputs": [],
   "source": [
    "#openCloseData['codeTextRatio']=openCloseData['codeLength']/(openCloseData['bodyWordCount']+1)"
   ]
  },
  {
   "cell_type": "markdown",
   "metadata": {},
   "source": [
    "### ADDING MORE FEATURES"
   ]
  },
  {
   "cell_type": "code",
   "execution_count": 31,
   "metadata": {},
   "outputs": [],
   "source": [
    "# tagWeightData=pd.read_csv(\"tagWeightData.csv\")\n",
    "# print(tagWeightData.head())"
   ]
  },
  {
   "cell_type": "code",
   "execution_count": 32,
   "metadata": {},
   "outputs": [],
   "source": [
    "# import re\n",
    "# idx=0\n",
    "# def calculateTagWeight(tags):\n",
    "#     forClosed=re.findall('<(.*?)>',tags)\n",
    "#     forOpen=tags.split('|')\n",
    "#     #print(forClosed)\n",
    "#     #print(forOpen)\n",
    "#     if(len(forClosed) ):  #if we pass tags for open in close it won't work, but vice versa will work hence \n",
    "#         # this particular order of if-else \n",
    "#         tagList=forClosed\n",
    "#     elif(len(forOpen) ):\n",
    "#         tagList=forOpen\n",
    "#     #print(tagList)\n",
    "#     wt=0\n",
    "# #     for t in tagList:\n",
    "# #         #print(t)\n",
    "# #         try:\n",
    "            \n",
    "# #         except:\n",
    "# #             print(t)\n",
    "# #         print(wt)\n",
    "# #     print(\"check\")\n",
    "# #     if(idx%1000==0)print(idx)\n",
    "# #     idx+=1\n",
    "#     try:\n",
    "#         for t in tagList:\n",
    "#             wt=wt+tagWeightData[tagWeightData['TagName']==t][['tagWeight']].values[0]\n",
    "#     except:\n",
    "#         #print(tagList)\n",
    "#         pass\n",
    "#     return wt"
   ]
  },
  {
   "cell_type": "code",
   "execution_count": 33,
   "metadata": {},
   "outputs": [],
   "source": [
    "# import time\n",
    "# tic=time.time()\n",
    "# openCloseData['tagWeightSum']=openCloseData['Tags'].apply(calculateTagWeight) #tagClosingWeightSum\n",
    "# toc=time.time()\n",
    "# print(str((toc-tic)/60)+\"mins\")"
   ]
  },
  {
   "cell_type": "code",
   "execution_count": 7,
   "metadata": {},
   "outputs": [
    {
     "data": {
      "text/plain": [
       "Index(['AboutMe', 'Body', 'Comment', 'Downvotes', 'Location', 'PostId',\n",
       "       'ProfileImageUrl', 'Reputation', 'SOUrlCount', 'Tags', 'Title',\n",
       "       'Unnamed: 0.1', 'Upvotes', 'UserId', 'Views', 'WebsiteUrl',\n",
       "       'aboutMeFilled', 'bodyWordCount', 'closed', 'codeLength',\n",
       "       'colemanLiauIndex', 'countOfInterrogativeSent',\n",
       "       'daleChallReadabilityScore', 'experienceInTime', 'firstLineLength',\n",
       "       'fleschReadingEase', 'gunningFog', 'locationFilled', 'lowerUpperRatio',\n",
       "       'numAns', 'numPR', 'numPeopleReached', 'numQues',\n",
       "       'profileImageUrlFilled', 'punctuationCount', 'sentenceCount',\n",
       "       'sentencesStartWithICount', 'sentencesStartWithYouCount',\n",
       "       'shortWordCount', 'smogIndex', 'tagCount', 'tagWeightSum',\n",
       "       'titleLengthInChars', 'urlCount', 'userProfileFilled',\n",
       "       'websiteUrlFilled'],\n",
       "      dtype='object')"
      ]
     },
     "execution_count": 7,
     "metadata": {},
     "output_type": "execute_result"
    }
   ],
   "source": [
    "openCloseData.columns"
   ]
  },
  {
   "cell_type": "code",
   "execution_count": 35,
   "metadata": {},
   "outputs": [],
   "source": [
    "# openCloseData['tagWeightSum'][0][0]"
   ]
  },
  {
   "cell_type": "code",
   "execution_count": 36,
   "metadata": {},
   "outputs": [],
   "source": [
    "# openCloseData.head()"
   ]
  },
  {
   "cell_type": "code",
   "execution_count": 37,
   "metadata": {},
   "outputs": [],
   "source": [
    "# def getInitialEle(ar):\n",
    "#     #print(type(ar))\n",
    "#     return float(ar)\n",
    "\n",
    "# openCloseData['tagWeightSum']=openCloseData['tagWeightSum'].apply(getInitialEle)\n",
    "# print(openCloseData.head())"
   ]
  },
  {
   "cell_type": "code",
   "execution_count": 38,
   "metadata": {},
   "outputs": [],
   "source": [
    "# openCloseData.to_csv(\"openCloseData[35 cols].csv\")"
   ]
  },
  {
   "cell_type": "code",
   "execution_count": 8,
   "metadata": {},
   "outputs": [
    {
     "name": "stdout",
     "output_type": "stream",
     "text": [
      "(159996, 29)\n",
      "<class 'pandas.core.frame.DataFrame'>\n"
     ]
    }
   ],
   "source": [
    "X = openCloseData.loc[:,['Downvotes', \n",
    "       'Reputation', 'SOUrlCount',\n",
    "       'Upvotes', 'Views',\n",
    "       'bodyWordCount', 'closed', 'codeLength',\n",
    "       'colemanLiauIndex', 'countOfInterrogativeSent',\n",
    "       'daleChallReadabilityScore', 'experienceInTime', 'firstLineLength',\n",
    "       'fleschReadingEase', 'gunningFog', 'lowerUpperRatio',\n",
    "       'numAns', 'numQues',\n",
    "       'punctuationCount', 'sentenceCount',\n",
    "       'sentencesStartWithICount', 'sentencesStartWithYouCount',\n",
    "       'shortWordCount', 'smogIndex', 'tagCount', 'tagWeightSum',\n",
    "       'titleLengthInChars', 'urlCount', 'userProfileFilled'] ]\n",
    "\n",
    "\n",
    "X.replace(np.nan,0,inplace=True)  #replacing NaN to 0\n",
    "X.lowerUpperRatio.replace(np.inf,0,inplace=True)  #replacing infinity to 0\n",
    "print(X.shape)\n",
    "print(type(X))"
   ]
  },
  {
   "cell_type": "code",
   "execution_count": 9,
   "metadata": {},
   "outputs": [
    {
     "data": {
      "text/html": [
       "<div>\n",
       "<style scoped>\n",
       "    .dataframe tbody tr th:only-of-type {\n",
       "        vertical-align: middle;\n",
       "    }\n",
       "\n",
       "    .dataframe tbody tr th {\n",
       "        vertical-align: top;\n",
       "    }\n",
       "\n",
       "    .dataframe thead th {\n",
       "        text-align: right;\n",
       "    }\n",
       "</style>\n",
       "<table border=\"1\" class=\"dataframe\">\n",
       "  <thead>\n",
       "    <tr style=\"text-align: right;\">\n",
       "      <th></th>\n",
       "      <th>Downvotes</th>\n",
       "      <th>Reputation</th>\n",
       "      <th>SOUrlCount</th>\n",
       "      <th>Upvotes</th>\n",
       "      <th>Views</th>\n",
       "      <th>bodyWordCount</th>\n",
       "      <th>closed</th>\n",
       "      <th>codeLength</th>\n",
       "      <th>colemanLiauIndex</th>\n",
       "      <th>countOfInterrogativeSent</th>\n",
       "      <th>...</th>\n",
       "      <th>sentenceCount</th>\n",
       "      <th>sentencesStartWithICount</th>\n",
       "      <th>sentencesStartWithYouCount</th>\n",
       "      <th>shortWordCount</th>\n",
       "      <th>smogIndex</th>\n",
       "      <th>tagCount</th>\n",
       "      <th>tagWeightSum</th>\n",
       "      <th>titleLengthInChars</th>\n",
       "      <th>urlCount</th>\n",
       "      <th>userProfileFilled</th>\n",
       "    </tr>\n",
       "  </thead>\n",
       "  <tbody>\n",
       "    <tr>\n",
       "      <th>0</th>\n",
       "      <td>0</td>\n",
       "      <td>6</td>\n",
       "      <td>0</td>\n",
       "      <td>0</td>\n",
       "      <td>8</td>\n",
       "      <td>17</td>\n",
       "      <td>0</td>\n",
       "      <td>0</td>\n",
       "      <td>9.74</td>\n",
       "      <td>0</td>\n",
       "      <td>...</td>\n",
       "      <td>1</td>\n",
       "      <td>0</td>\n",
       "      <td>0</td>\n",
       "      <td>6</td>\n",
       "      <td>0.0</td>\n",
       "      <td>2</td>\n",
       "      <td>-110.462467</td>\n",
       "      <td>33</td>\n",
       "      <td>0</td>\n",
       "      <td>1</td>\n",
       "    </tr>\n",
       "    <tr>\n",
       "      <th>1</th>\n",
       "      <td>0</td>\n",
       "      <td>6</td>\n",
       "      <td>0</td>\n",
       "      <td>0</td>\n",
       "      <td>8</td>\n",
       "      <td>41</td>\n",
       "      <td>0</td>\n",
       "      <td>0</td>\n",
       "      <td>18.39</td>\n",
       "      <td>1</td>\n",
       "      <td>...</td>\n",
       "      <td>9</td>\n",
       "      <td>3</td>\n",
       "      <td>0</td>\n",
       "      <td>27</td>\n",
       "      <td>0.0</td>\n",
       "      <td>4</td>\n",
       "      <td>-157.135019</td>\n",
       "      <td>25</td>\n",
       "      <td>2</td>\n",
       "      <td>1</td>\n",
       "    </tr>\n",
       "    <tr>\n",
       "      <th>2</th>\n",
       "      <td>2413</td>\n",
       "      <td>33857</td>\n",
       "      <td>0</td>\n",
       "      <td>1574</td>\n",
       "      <td>2438</td>\n",
       "      <td>70</td>\n",
       "      <td>0</td>\n",
       "      <td>18555</td>\n",
       "      <td>15.11</td>\n",
       "      <td>1</td>\n",
       "      <td>...</td>\n",
       "      <td>2</td>\n",
       "      <td>0</td>\n",
       "      <td>0</td>\n",
       "      <td>25</td>\n",
       "      <td>0.0</td>\n",
       "      <td>3</td>\n",
       "      <td>-279.862500</td>\n",
       "      <td>134</td>\n",
       "      <td>0</td>\n",
       "      <td>4</td>\n",
       "    </tr>\n",
       "    <tr>\n",
       "      <th>3</th>\n",
       "      <td>3</td>\n",
       "      <td>1470</td>\n",
       "      <td>0</td>\n",
       "      <td>362</td>\n",
       "      <td>312</td>\n",
       "      <td>25</td>\n",
       "      <td>0</td>\n",
       "      <td>0</td>\n",
       "      <td>13.41</td>\n",
       "      <td>3</td>\n",
       "      <td>...</td>\n",
       "      <td>3</td>\n",
       "      <td>0</td>\n",
       "      <td>0</td>\n",
       "      <td>10</td>\n",
       "      <td>0.0</td>\n",
       "      <td>5</td>\n",
       "      <td>-234.970000</td>\n",
       "      <td>78</td>\n",
       "      <td>0</td>\n",
       "      <td>3</td>\n",
       "    </tr>\n",
       "    <tr>\n",
       "      <th>4</th>\n",
       "      <td>77</td>\n",
       "      <td>10992</td>\n",
       "      <td>0</td>\n",
       "      <td>269</td>\n",
       "      <td>667</td>\n",
       "      <td>70</td>\n",
       "      <td>0</td>\n",
       "      <td>0</td>\n",
       "      <td>8.70</td>\n",
       "      <td>1</td>\n",
       "      <td>...</td>\n",
       "      <td>4</td>\n",
       "      <td>2</td>\n",
       "      <td>0</td>\n",
       "      <td>35</td>\n",
       "      <td>10.7</td>\n",
       "      <td>4</td>\n",
       "      <td>-527.002535</td>\n",
       "      <td>59</td>\n",
       "      <td>0</td>\n",
       "      <td>0</td>\n",
       "    </tr>\n",
       "  </tbody>\n",
       "</table>\n",
       "<p>5 rows × 29 columns</p>\n",
       "</div>"
      ],
      "text/plain": [
       "   Downvotes  Reputation  SOUrlCount  Upvotes  Views  bodyWordCount  closed  \\\n",
       "0          0           6           0        0      8             17       0   \n",
       "1          0           6           0        0      8             41       0   \n",
       "2       2413       33857           0     1574   2438             70       0   \n",
       "3          3        1470           0      362    312             25       0   \n",
       "4         77       10992           0      269    667             70       0   \n",
       "\n",
       "   codeLength  colemanLiauIndex  countOfInterrogativeSent  ...  sentenceCount  \\\n",
       "0           0              9.74                         0  ...              1   \n",
       "1           0             18.39                         1  ...              9   \n",
       "2       18555             15.11                         1  ...              2   \n",
       "3           0             13.41                         3  ...              3   \n",
       "4           0              8.70                         1  ...              4   \n",
       "\n",
       "   sentencesStartWithICount  sentencesStartWithYouCount  shortWordCount  \\\n",
       "0                         0                           0               6   \n",
       "1                         3                           0              27   \n",
       "2                         0                           0              25   \n",
       "3                         0                           0              10   \n",
       "4                         2                           0              35   \n",
       "\n",
       "   smogIndex  tagCount  tagWeightSum  titleLengthInChars  urlCount  \\\n",
       "0        0.0         2   -110.462467                  33         0   \n",
       "1        0.0         4   -157.135019                  25         2   \n",
       "2        0.0         3   -279.862500                 134         0   \n",
       "3        0.0         5   -234.970000                  78         0   \n",
       "4       10.7         4   -527.002535                  59         0   \n",
       "\n",
       "   userProfileFilled  \n",
       "0                  1  \n",
       "1                  1  \n",
       "2                  4  \n",
       "3                  3  \n",
       "4                  0  \n",
       "\n",
       "[5 rows x 29 columns]"
      ]
     },
     "execution_count": 9,
     "metadata": {},
     "output_type": "execute_result"
    }
   ],
   "source": [
    "X.head()"
   ]
  },
  {
   "cell_type": "code",
   "execution_count": 10,
   "metadata": {},
   "outputs": [
    {
     "data": {
      "text/html": [
       "<div>\n",
       "<style scoped>\n",
       "    .dataframe tbody tr th:only-of-type {\n",
       "        vertical-align: middle;\n",
       "    }\n",
       "\n",
       "    .dataframe tbody tr th {\n",
       "        vertical-align: top;\n",
       "    }\n",
       "\n",
       "    .dataframe thead th {\n",
       "        text-align: right;\n",
       "    }\n",
       "</style>\n",
       "<table border=\"1\" class=\"dataframe\">\n",
       "  <thead>\n",
       "    <tr style=\"text-align: right;\">\n",
       "      <th></th>\n",
       "      <th>Downvotes</th>\n",
       "      <th>Reputation</th>\n",
       "      <th>SOUrlCount</th>\n",
       "      <th>Upvotes</th>\n",
       "      <th>Views</th>\n",
       "      <th>bodyWordCount</th>\n",
       "      <th>closed</th>\n",
       "      <th>codeLength</th>\n",
       "      <th>colemanLiauIndex</th>\n",
       "      <th>countOfInterrogativeSent</th>\n",
       "      <th>...</th>\n",
       "      <th>sentenceCount</th>\n",
       "      <th>sentencesStartWithICount</th>\n",
       "      <th>sentencesStartWithYouCount</th>\n",
       "      <th>shortWordCount</th>\n",
       "      <th>smogIndex</th>\n",
       "      <th>tagCount</th>\n",
       "      <th>tagWeightSum</th>\n",
       "      <th>titleLengthInChars</th>\n",
       "      <th>urlCount</th>\n",
       "      <th>userProfileFilled</th>\n",
       "    </tr>\n",
       "  </thead>\n",
       "  <tbody>\n",
       "  </tbody>\n",
       "</table>\n",
       "<p>0 rows × 29 columns</p>\n",
       "</div>"
      ],
      "text/plain": [
       "Empty DataFrame\n",
       "Columns: [Downvotes, Reputation, SOUrlCount, Upvotes, Views, bodyWordCount, closed, codeLength, colemanLiauIndex, countOfInterrogativeSent, daleChallReadabilityScore, experienceInTime, firstLineLength, fleschReadingEase, gunningFog, lowerUpperRatio, numAns, numQues, punctuationCount, sentenceCount, sentencesStartWithICount, sentencesStartWithYouCount, shortWordCount, smogIndex, tagCount, tagWeightSum, titleLengthInChars, urlCount, userProfileFilled]\n",
       "Index: []\n",
       "\n",
       "[0 rows x 29 columns]"
      ]
     },
     "execution_count": 10,
     "metadata": {},
     "output_type": "execute_result"
    }
   ],
   "source": [
    "X[np.isinf(X).any(axis=1)]"
   ]
  },
  {
   "cell_type": "code",
   "execution_count": 11,
   "metadata": {},
   "outputs": [
    {
     "name": "stdout",
     "output_type": "stream",
     "text": [
      "(159996,)\n"
     ]
    }
   ],
   "source": [
    "y = X.closed\n",
    "X.drop(['closed'],inplace=True,axis=1)\n",
    "print(y.shape)"
   ]
  },
  {
   "cell_type": "markdown",
   "metadata": {},
   "source": [
    "### MEAN NORMALIZATION of X"
   ]
  },
  {
   "cell_type": "code",
   "execution_count": 12,
   "metadata": {},
   "outputs": [
    {
     "data": {
      "text/plain": [
       "Index(['Downvotes', 'Reputation', 'SOUrlCount', 'Upvotes', 'Views',\n",
       "       'bodyWordCount', 'codeLength', 'colemanLiauIndex',\n",
       "       'countOfInterrogativeSent', 'daleChallReadabilityScore',\n",
       "       'experienceInTime', 'firstLineLength', 'fleschReadingEase',\n",
       "       'gunningFog', 'lowerUpperRatio', 'numAns', 'numQues',\n",
       "       'punctuationCount', 'sentenceCount', 'sentencesStartWithICount',\n",
       "       'sentencesStartWithYouCount', 'shortWordCount', 'smogIndex', 'tagCount',\n",
       "       'tagWeightSum', 'titleLengthInChars', 'urlCount', 'userProfileFilled'],\n",
       "      dtype='object')"
      ]
     },
     "execution_count": 12,
     "metadata": {},
     "output_type": "execute_result"
    }
   ],
   "source": [
    "X.columns"
   ]
  },
  {
   "cell_type": "code",
   "execution_count": 13,
   "metadata": {},
   "outputs": [
    {
     "name": "stdout",
     "output_type": "stream",
     "text": [
      "<class 'pandas.core.frame.DataFrame'>\n",
      "   Downvotes  Reputation  SOUrlCount  Upvotes  Views  bodyWordCount  \\\n",
      "0          0           6           0        0      8             17   \n",
      "1          0           6           0        0      8             41   \n",
      "2       2413       33857           0     1574   2438             70   \n",
      "3          3        1470           0      362    312             25   \n",
      "4         77       10992           0      269    667             70   \n",
      "\n",
      "   codeLength  colemanLiauIndex  countOfInterrogativeSent  \\\n",
      "0           0              9.74                         0   \n",
      "1           0             18.39                         1   \n",
      "2       18555             15.11                         1   \n",
      "3           0             13.41                         3   \n",
      "4           0              8.70                         1   \n",
      "\n",
      "   daleChallReadabilityScore  ...  sentenceCount  sentencesStartWithICount  \\\n",
      "0                       7.27  ...              1                         0   \n",
      "1                       9.66  ...              9                         3   \n",
      "2                      10.95  ...              2                         0   \n",
      "3                       8.67  ...              3                         0   \n",
      "4                       7.66  ...              4                         2   \n",
      "\n",
      "   sentencesStartWithYouCount  shortWordCount  smogIndex  tagCount  \\\n",
      "0                           0               6        0.0         2   \n",
      "1                           0              27        0.0         4   \n",
      "2                           0              25        0.0         3   \n",
      "3                           0              10        0.0         5   \n",
      "4                           0              35       10.7         4   \n",
      "\n",
      "   tagWeightSum  titleLengthInChars  urlCount  userProfileFilled  \n",
      "0   -110.462467                  33         0                  1  \n",
      "1   -157.135019                  25         2                  1  \n",
      "2   -279.862500                 134         0                  4  \n",
      "3   -234.970000                  78         0                  3  \n",
      "4   -527.002535                  59         0                  0  \n",
      "\n",
      "[5 rows x 28 columns]\n"
     ]
    }
   ],
   "source": [
    "print(type(X))\n",
    "print(X.head())"
   ]
  },
  {
   "cell_type": "code",
   "execution_count": 14,
   "metadata": {},
   "outputs": [
    {
     "name": "stdout",
     "output_type": "stream",
     "text": [
      "StandardScaler(copy=True, with_mean=True, with_std=True)\n",
      "[ 2.18902723e+01  2.01807416e+03  1.54941374e-02  2.26216980e+02\n",
      "  3.01059583e+02  8.53872034e+01  5.68528057e+02  9.82247931e+00\n",
      "  1.19541739e+00  7.71907479e+00  5.10066908e+02  9.98289770e+01\n",
      "  5.42152991e+01  1.89378949e+01  2.99731747e+01  3.25230693e+01\n",
      "  4.77225618e+01  4.33703530e+01  5.96079902e+00  2.02549439e+00\n",
      "  8.63771594e-03  4.09886685e+01  5.76047464e+00  2.90577889e+00\n",
      " -2.44966593e+02  5.12481187e+01  1.91942299e-01  1.54041351e+00]\n",
      "[1.11587341e+05 1.17173655e+08 2.93294209e-02 6.03714126e+05\n",
      " 2.94724961e+06 4.70156550e+03 2.07884824e+06 3.34948687e+01\n",
      " 4.61051576e+00 3.37276468e+00 3.42615432e+05 8.75204965e+03\n",
      " 1.37349155e+03 1.23125524e+02 6.64480756e+02 3.60008314e+04\n",
      " 1.52441460e+04 2.03530533e+04 1.22872198e+02 2.81215161e+00\n",
      " 1.12006717e-02 1.21652922e+03 3.21043352e+01 1.50461647e+00\n",
      " 4.59393389e+04 4.03492388e+02 8.66455736e-01 1.23490391e+00]\n",
      "<class 'numpy.ndarray'>\n"
     ]
    }
   ],
   "source": [
    "# x=(x-u)/std\n",
    "\n",
    "from sklearn.preprocessing import StandardScaler\n",
    "scaler = StandardScaler()\n",
    "print(scaler.fit(X))\n",
    "print(scaler.mean_)\n",
    "print(scaler.var_)\n",
    "X=scaler.fit_transform(X)\n",
    "print(type(X))\n",
    "X = pd.DataFrame(X, columns=['Downvotes', 'Reputation', 'SOUrlCount', 'Upvotes', 'Views',\n",
    "       'bodyWordCount', 'codeLength', 'colemanLiauIndex',\n",
    "       'countOfInterrogativeSent', 'daleChallReadabilityScore',\n",
    "       'experienceInTime', 'firstLineLength', 'fleschReadingEase',\n",
    "       'gunningFog', 'lowerUpperRatio', 'numAns', 'numQues',\n",
    "       'punctuationCount', 'sentenceCount', 'sentencesStartWithICount',\n",
    "       'sentencesStartWithYouCount', 'shortWordCount', 'smogIndex', 'tagCount',\n",
    "       'tagWeightSum', 'titleLengthInChars', 'urlCount', 'userProfileFilled'])"
   ]
  },
  {
   "cell_type": "code",
   "execution_count": 15,
   "metadata": {},
   "outputs": [
    {
     "name": "stdout",
     "output_type": "stream",
     "text": [
      "<class 'pandas.core.frame.DataFrame'>\n",
      "   Downvotes  Reputation  SOUrlCount   Upvotes     Views  bodyWordCount  \\\n",
      "0  -0.065531   -0.185878   -0.090472 -0.291145 -0.170705      -0.997364   \n",
      "1  -0.065531   -0.185878   -0.090472 -0.291145 -0.170705      -0.647346   \n",
      "2   7.158006    2.941328   -0.090472  1.734620  1.244755      -0.224408   \n",
      "3  -0.056550   -0.050632   -0.090472  0.174755  0.006373      -0.880691   \n",
      "4   0.164976    0.829025   -0.090472  0.055062  0.213158      -0.224408   \n",
      "\n",
      "   codeLength  colemanLiauIndex  countOfInterrogativeSent  \\\n",
      "0   -0.394312         -0.014251                 -0.556730   \n",
      "1   -0.394312          1.480356                 -0.091010   \n",
      "2   12.474829          0.913614                 -0.091010   \n",
      "3   -0.394312          0.619877                  0.840431   \n",
      "4   -0.394312         -0.193950                 -0.091010   \n",
      "\n",
      "   daleChallReadabilityScore  ...  sentenceCount  sentencesStartWithICount  \\\n",
      "0                  -0.244526  ...      -0.447533                 -1.207846   \n",
      "1                   1.056856  ...       0.274178                  0.581119   \n",
      "2                   1.759276  ...      -0.357319                 -1.207846   \n",
      "3                   0.517790  ...      -0.267105                 -1.207846   \n",
      "4                  -0.032167  ...      -0.176891                 -0.015203   \n",
      "\n",
      "   sentencesStartWithYouCount  shortWordCount  smogIndex  tagCount  \\\n",
      "0                   -0.081616       -1.003151  -1.016662 -0.738430   \n",
      "1                   -0.081616       -0.401065  -1.016662  0.892056   \n",
      "2                   -0.081616       -0.458407  -1.016662  0.076813   \n",
      "3                   -0.081616       -0.888468  -1.016662  1.707299   \n",
      "4                   -0.081616       -0.171699   0.871773  0.892056   \n",
      "\n",
      "   tagWeightSum  titleLengthInChars  urlCount  userProfileFilled  \n",
      "0      0.627543           -0.908449 -0.206204          -0.486306  \n",
      "1      0.409787           -1.306714  1.942402          -0.486306  \n",
      "2     -0.162810            4.119649 -0.206204           2.213327  \n",
      "3      0.046640            1.331793 -0.206204           1.313449  \n",
      "4     -1.315867            0.385913 -0.206204          -1.386184  \n",
      "\n",
      "[5 rows x 28 columns]\n"
     ]
    }
   ],
   "source": [
    "print(type(X))\n",
    "print(X.head())"
   ]
  },
  {
   "cell_type": "markdown",
   "metadata": {},
   "source": [
    "### Conduct Principal Component Analysis"
   ]
  },
  {
   "cell_type": "code",
   "execution_count": 47,
   "metadata": {},
   "outputs": [],
   "source": [
    "# print('Original number of features:', X.shape[1])\n",
    "# from sklearn.decomposition import PCA\n",
    "# pca = PCA(n_components=0.99)\n",
    "# X = pca.fit_transform(X)\n",
    "# print('Reduced number of features:', X.shape[1])\n",
    "# print(type(X))\n",
    "# X = pd.DataFrame(X)"
   ]
  },
  {
   "cell_type": "code",
   "execution_count": 16,
   "metadata": {},
   "outputs": [
    {
     "data": {
      "text/html": [
       "<div>\n",
       "<style scoped>\n",
       "    .dataframe tbody tr th:only-of-type {\n",
       "        vertical-align: middle;\n",
       "    }\n",
       "\n",
       "    .dataframe tbody tr th {\n",
       "        vertical-align: top;\n",
       "    }\n",
       "\n",
       "    .dataframe thead th {\n",
       "        text-align: right;\n",
       "    }\n",
       "</style>\n",
       "<table border=\"1\" class=\"dataframe\">\n",
       "  <thead>\n",
       "    <tr style=\"text-align: right;\">\n",
       "      <th></th>\n",
       "      <th>Downvotes</th>\n",
       "      <th>Reputation</th>\n",
       "      <th>SOUrlCount</th>\n",
       "      <th>Upvotes</th>\n",
       "      <th>Views</th>\n",
       "      <th>bodyWordCount</th>\n",
       "      <th>codeLength</th>\n",
       "      <th>colemanLiauIndex</th>\n",
       "      <th>countOfInterrogativeSent</th>\n",
       "      <th>daleChallReadabilityScore</th>\n",
       "      <th>...</th>\n",
       "      <th>sentenceCount</th>\n",
       "      <th>sentencesStartWithICount</th>\n",
       "      <th>sentencesStartWithYouCount</th>\n",
       "      <th>shortWordCount</th>\n",
       "      <th>smogIndex</th>\n",
       "      <th>tagCount</th>\n",
       "      <th>tagWeightSum</th>\n",
       "      <th>titleLengthInChars</th>\n",
       "      <th>urlCount</th>\n",
       "      <th>userProfileFilled</th>\n",
       "    </tr>\n",
       "  </thead>\n",
       "  <tbody>\n",
       "    <tr>\n",
       "      <th>0</th>\n",
       "      <td>-0.065531</td>\n",
       "      <td>-0.185878</td>\n",
       "      <td>-0.090472</td>\n",
       "      <td>-0.291145</td>\n",
       "      <td>-0.170705</td>\n",
       "      <td>-0.997364</td>\n",
       "      <td>-0.394312</td>\n",
       "      <td>-0.014251</td>\n",
       "      <td>-0.556730</td>\n",
       "      <td>-0.244526</td>\n",
       "      <td>...</td>\n",
       "      <td>-0.447533</td>\n",
       "      <td>-1.207846</td>\n",
       "      <td>-0.081616</td>\n",
       "      <td>-1.003151</td>\n",
       "      <td>-1.016662</td>\n",
       "      <td>-0.738430</td>\n",
       "      <td>0.627543</td>\n",
       "      <td>-0.908449</td>\n",
       "      <td>-0.206204</td>\n",
       "      <td>-0.486306</td>\n",
       "    </tr>\n",
       "    <tr>\n",
       "      <th>1</th>\n",
       "      <td>-0.065531</td>\n",
       "      <td>-0.185878</td>\n",
       "      <td>-0.090472</td>\n",
       "      <td>-0.291145</td>\n",
       "      <td>-0.170705</td>\n",
       "      <td>-0.647346</td>\n",
       "      <td>-0.394312</td>\n",
       "      <td>1.480356</td>\n",
       "      <td>-0.091010</td>\n",
       "      <td>1.056856</td>\n",
       "      <td>...</td>\n",
       "      <td>0.274178</td>\n",
       "      <td>0.581119</td>\n",
       "      <td>-0.081616</td>\n",
       "      <td>-0.401065</td>\n",
       "      <td>-1.016662</td>\n",
       "      <td>0.892056</td>\n",
       "      <td>0.409787</td>\n",
       "      <td>-1.306714</td>\n",
       "      <td>1.942402</td>\n",
       "      <td>-0.486306</td>\n",
       "    </tr>\n",
       "    <tr>\n",
       "      <th>2</th>\n",
       "      <td>7.158006</td>\n",
       "      <td>2.941328</td>\n",
       "      <td>-0.090472</td>\n",
       "      <td>1.734620</td>\n",
       "      <td>1.244755</td>\n",
       "      <td>-0.224408</td>\n",
       "      <td>12.474829</td>\n",
       "      <td>0.913614</td>\n",
       "      <td>-0.091010</td>\n",
       "      <td>1.759276</td>\n",
       "      <td>...</td>\n",
       "      <td>-0.357319</td>\n",
       "      <td>-1.207846</td>\n",
       "      <td>-0.081616</td>\n",
       "      <td>-0.458407</td>\n",
       "      <td>-1.016662</td>\n",
       "      <td>0.076813</td>\n",
       "      <td>-0.162810</td>\n",
       "      <td>4.119649</td>\n",
       "      <td>-0.206204</td>\n",
       "      <td>2.213327</td>\n",
       "    </tr>\n",
       "    <tr>\n",
       "      <th>3</th>\n",
       "      <td>-0.056550</td>\n",
       "      <td>-0.050632</td>\n",
       "      <td>-0.090472</td>\n",
       "      <td>0.174755</td>\n",
       "      <td>0.006373</td>\n",
       "      <td>-0.880691</td>\n",
       "      <td>-0.394312</td>\n",
       "      <td>0.619877</td>\n",
       "      <td>0.840431</td>\n",
       "      <td>0.517790</td>\n",
       "      <td>...</td>\n",
       "      <td>-0.267105</td>\n",
       "      <td>-1.207846</td>\n",
       "      <td>-0.081616</td>\n",
       "      <td>-0.888468</td>\n",
       "      <td>-1.016662</td>\n",
       "      <td>1.707299</td>\n",
       "      <td>0.046640</td>\n",
       "      <td>1.331793</td>\n",
       "      <td>-0.206204</td>\n",
       "      <td>1.313449</td>\n",
       "    </tr>\n",
       "    <tr>\n",
       "      <th>4</th>\n",
       "      <td>0.164976</td>\n",
       "      <td>0.829025</td>\n",
       "      <td>-0.090472</td>\n",
       "      <td>0.055062</td>\n",
       "      <td>0.213158</td>\n",
       "      <td>-0.224408</td>\n",
       "      <td>-0.394312</td>\n",
       "      <td>-0.193950</td>\n",
       "      <td>-0.091010</td>\n",
       "      <td>-0.032167</td>\n",
       "      <td>...</td>\n",
       "      <td>-0.176891</td>\n",
       "      <td>-0.015203</td>\n",
       "      <td>-0.081616</td>\n",
       "      <td>-0.171699</td>\n",
       "      <td>0.871773</td>\n",
       "      <td>0.892056</td>\n",
       "      <td>-1.315867</td>\n",
       "      <td>0.385913</td>\n",
       "      <td>-0.206204</td>\n",
       "      <td>-1.386184</td>\n",
       "    </tr>\n",
       "  </tbody>\n",
       "</table>\n",
       "<p>5 rows × 28 columns</p>\n",
       "</div>"
      ],
      "text/plain": [
       "   Downvotes  Reputation  SOUrlCount   Upvotes     Views  bodyWordCount  \\\n",
       "0  -0.065531   -0.185878   -0.090472 -0.291145 -0.170705      -0.997364   \n",
       "1  -0.065531   -0.185878   -0.090472 -0.291145 -0.170705      -0.647346   \n",
       "2   7.158006    2.941328   -0.090472  1.734620  1.244755      -0.224408   \n",
       "3  -0.056550   -0.050632   -0.090472  0.174755  0.006373      -0.880691   \n",
       "4   0.164976    0.829025   -0.090472  0.055062  0.213158      -0.224408   \n",
       "\n",
       "   codeLength  colemanLiauIndex  countOfInterrogativeSent  \\\n",
       "0   -0.394312         -0.014251                 -0.556730   \n",
       "1   -0.394312          1.480356                 -0.091010   \n",
       "2   12.474829          0.913614                 -0.091010   \n",
       "3   -0.394312          0.619877                  0.840431   \n",
       "4   -0.394312         -0.193950                 -0.091010   \n",
       "\n",
       "   daleChallReadabilityScore  ...  sentenceCount  sentencesStartWithICount  \\\n",
       "0                  -0.244526  ...      -0.447533                 -1.207846   \n",
       "1                   1.056856  ...       0.274178                  0.581119   \n",
       "2                   1.759276  ...      -0.357319                 -1.207846   \n",
       "3                   0.517790  ...      -0.267105                 -1.207846   \n",
       "4                  -0.032167  ...      -0.176891                 -0.015203   \n",
       "\n",
       "   sentencesStartWithYouCount  shortWordCount  smogIndex  tagCount  \\\n",
       "0                   -0.081616       -1.003151  -1.016662 -0.738430   \n",
       "1                   -0.081616       -0.401065  -1.016662  0.892056   \n",
       "2                   -0.081616       -0.458407  -1.016662  0.076813   \n",
       "3                   -0.081616       -0.888468  -1.016662  1.707299   \n",
       "4                   -0.081616       -0.171699   0.871773  0.892056   \n",
       "\n",
       "   tagWeightSum  titleLengthInChars  urlCount  userProfileFilled  \n",
       "0      0.627543           -0.908449 -0.206204          -0.486306  \n",
       "1      0.409787           -1.306714  1.942402          -0.486306  \n",
       "2     -0.162810            4.119649 -0.206204           2.213327  \n",
       "3      0.046640            1.331793 -0.206204           1.313449  \n",
       "4     -1.315867            0.385913 -0.206204          -1.386184  \n",
       "\n",
       "[5 rows x 28 columns]"
      ]
     },
     "execution_count": 16,
     "metadata": {},
     "output_type": "execute_result"
    }
   ],
   "source": [
    "X.head()"
   ]
  },
  {
   "cell_type": "markdown",
   "metadata": {},
   "source": [
    "#### Train/Test Split  "
   ]
  },
  {
   "cell_type": "code",
   "execution_count": 17,
   "metadata": {},
   "outputs": [
    {
     "name": "stdout",
     "output_type": "stream",
     "text": [
      "(111997, 28)\n",
      "(111997,)\n",
      "(47999, 28)\n",
      "(47999,)\n"
     ]
    }
   ],
   "source": [
    "X_train,X_test,y_train,y_test=train_test_split(X,y,test_size=0.3,random_state=42)\n",
    "print(X_train.shape)\n",
    "print(y_train.shape)\n",
    "print(X_test.shape)\n",
    "print(y_test.shape)"
   ]
  },
  {
   "cell_type": "code",
   "execution_count": 18,
   "metadata": {},
   "outputs": [
    {
     "name": "stderr",
     "output_type": "stream",
     "text": [
      "C:\\Users\\Lenovo\\Anaconda3\\lib\\site-packages\\ipykernel_launcher.py:2: FutureWarning: The signature of `Series.to_csv` was aligned to that of `DataFrame.to_csv`, and argument 'header' will change its default value from False to True: please pass an explicit value to suppress this warning.\n",
      "  \n"
     ]
    }
   ],
   "source": [
    "X_test.to_csv(\"test.csv\")\n",
    "y_test.to_csv(\"actual.csv\")"
   ]
  },
  {
   "cell_type": "code",
   "execution_count": 19,
   "metadata": {},
   "outputs": [
    {
     "data": {
      "text/html": [
       "<div>\n",
       "<style scoped>\n",
       "    .dataframe tbody tr th:only-of-type {\n",
       "        vertical-align: middle;\n",
       "    }\n",
       "\n",
       "    .dataframe tbody tr th {\n",
       "        vertical-align: top;\n",
       "    }\n",
       "\n",
       "    .dataframe thead th {\n",
       "        text-align: right;\n",
       "    }\n",
       "</style>\n",
       "<table border=\"1\" class=\"dataframe\">\n",
       "  <thead>\n",
       "    <tr style=\"text-align: right;\">\n",
       "      <th></th>\n",
       "      <th>Downvotes</th>\n",
       "      <th>Reputation</th>\n",
       "      <th>SOUrlCount</th>\n",
       "      <th>Upvotes</th>\n",
       "      <th>Views</th>\n",
       "      <th>bodyWordCount</th>\n",
       "      <th>codeLength</th>\n",
       "      <th>colemanLiauIndex</th>\n",
       "      <th>countOfInterrogativeSent</th>\n",
       "      <th>daleChallReadabilityScore</th>\n",
       "      <th>...</th>\n",
       "      <th>sentenceCount</th>\n",
       "      <th>sentencesStartWithICount</th>\n",
       "      <th>sentencesStartWithYouCount</th>\n",
       "      <th>shortWordCount</th>\n",
       "      <th>smogIndex</th>\n",
       "      <th>tagCount</th>\n",
       "      <th>tagWeightSum</th>\n",
       "      <th>titleLengthInChars</th>\n",
       "      <th>urlCount</th>\n",
       "      <th>userProfileFilled</th>\n",
       "    </tr>\n",
       "  </thead>\n",
       "  <tbody>\n",
       "    <tr>\n",
       "      <th>29416</th>\n",
       "      <td>-0.065531</td>\n",
       "      <td>-0.186063</td>\n",
       "      <td>-0.090472</td>\n",
       "      <td>-0.291145</td>\n",
       "      <td>-0.168376</td>\n",
       "      <td>-0.136904</td>\n",
       "      <td>2.121950</td>\n",
       "      <td>-0.993953</td>\n",
       "      <td>-0.091010</td>\n",
       "      <td>-0.745477</td>\n",
       "      <td>...</td>\n",
       "      <td>-0.086677</td>\n",
       "      <td>-0.611525</td>\n",
       "      <td>-0.081616</td>\n",
       "      <td>0.143679</td>\n",
       "      <td>0.695284</td>\n",
       "      <td>1.707299</td>\n",
       "      <td>-0.265550</td>\n",
       "      <td>-1.505846</td>\n",
       "      <td>-0.206204</td>\n",
       "      <td>-0.486306</td>\n",
       "    </tr>\n",
       "    <tr>\n",
       "      <th>58063</th>\n",
       "      <td>-0.065531</td>\n",
       "      <td>-0.186340</td>\n",
       "      <td>-0.090472</td>\n",
       "      <td>-0.291145</td>\n",
       "      <td>-0.175365</td>\n",
       "      <td>-0.414001</td>\n",
       "      <td>-0.385296</td>\n",
       "      <td>-0.375376</td>\n",
       "      <td>-0.556730</td>\n",
       "      <td>-0.179185</td>\n",
       "      <td>...</td>\n",
       "      <td>-0.176891</td>\n",
       "      <td>-0.015203</td>\n",
       "      <td>-0.081616</td>\n",
       "      <td>-0.515748</td>\n",
       "      <td>0.659986</td>\n",
       "      <td>0.076813</td>\n",
       "      <td>-0.479731</td>\n",
       "      <td>-0.012352</td>\n",
       "      <td>-0.206204</td>\n",
       "      <td>-0.486306</td>\n",
       "    </tr>\n",
       "    <tr>\n",
       "      <th>62206</th>\n",
       "      <td>-0.059543</td>\n",
       "      <td>-0.170266</td>\n",
       "      <td>-0.090472</td>\n",
       "      <td>-0.249961</td>\n",
       "      <td>-0.166046</td>\n",
       "      <td>3.567450</td>\n",
       "      <td>0.739670</td>\n",
       "      <td>1.551198</td>\n",
       "      <td>-0.556730</td>\n",
       "      <td>0.261869</td>\n",
       "      <td>...</td>\n",
       "      <td>5.687009</td>\n",
       "      <td>1.177441</td>\n",
       "      <td>-0.081616</td>\n",
       "      <td>3.154105</td>\n",
       "      <td>1.224751</td>\n",
       "      <td>0.892056</td>\n",
       "      <td>-0.017494</td>\n",
       "      <td>-1.207148</td>\n",
       "      <td>-0.206204</td>\n",
       "      <td>-0.486306</td>\n",
       "    </tr>\n",
       "    <tr>\n",
       "      <th>14790</th>\n",
       "      <td>-0.065531</td>\n",
       "      <td>-0.182922</td>\n",
       "      <td>-0.090472</td>\n",
       "      <td>-0.273127</td>\n",
       "      <td>-0.170123</td>\n",
       "      <td>-0.078567</td>\n",
       "      <td>0.218801</td>\n",
       "      <td>-0.342546</td>\n",
       "      <td>-0.556730</td>\n",
       "      <td>-0.429660</td>\n",
       "      <td>...</td>\n",
       "      <td>-0.357319</td>\n",
       "      <td>-0.611525</td>\n",
       "      <td>-0.081616</td>\n",
       "      <td>-0.200370</td>\n",
       "      <td>1.277698</td>\n",
       "      <td>1.707299</td>\n",
       "      <td>-0.384663</td>\n",
       "      <td>-0.958232</td>\n",
       "      <td>-0.206204</td>\n",
       "      <td>-0.486306</td>\n",
       "    </tr>\n",
       "    <tr>\n",
       "      <th>152752</th>\n",
       "      <td>-0.065531</td>\n",
       "      <td>-0.182737</td>\n",
       "      <td>-0.090472</td>\n",
       "      <td>-0.284710</td>\n",
       "      <td>-0.168376</td>\n",
       "      <td>0.621468</td>\n",
       "      <td>-0.394312</td>\n",
       "      <td>0.498926</td>\n",
       "      <td>0.374711</td>\n",
       "      <td>0.888057</td>\n",
       "      <td>...</td>\n",
       "      <td>0.003536</td>\n",
       "      <td>-0.015203</td>\n",
       "      <td>-0.081616</td>\n",
       "      <td>0.430386</td>\n",
       "      <td>1.507134</td>\n",
       "      <td>1.707299</td>\n",
       "      <td>-0.231941</td>\n",
       "      <td>-0.161702</td>\n",
       "      <td>-0.206204</td>\n",
       "      <td>1.313449</td>\n",
       "    </tr>\n",
       "  </tbody>\n",
       "</table>\n",
       "<p>5 rows × 28 columns</p>\n",
       "</div>"
      ],
      "text/plain": [
       "        Downvotes  Reputation  SOUrlCount   Upvotes     Views  bodyWordCount  \\\n",
       "29416   -0.065531   -0.186063   -0.090472 -0.291145 -0.168376      -0.136904   \n",
       "58063   -0.065531   -0.186340   -0.090472 -0.291145 -0.175365      -0.414001   \n",
       "62206   -0.059543   -0.170266   -0.090472 -0.249961 -0.166046       3.567450   \n",
       "14790   -0.065531   -0.182922   -0.090472 -0.273127 -0.170123      -0.078567   \n",
       "152752  -0.065531   -0.182737   -0.090472 -0.284710 -0.168376       0.621468   \n",
       "\n",
       "        codeLength  colemanLiauIndex  countOfInterrogativeSent  \\\n",
       "29416     2.121950         -0.993953                 -0.091010   \n",
       "58063    -0.385296         -0.375376                 -0.556730   \n",
       "62206     0.739670          1.551198                 -0.556730   \n",
       "14790     0.218801         -0.342546                 -0.556730   \n",
       "152752   -0.394312          0.498926                  0.374711   \n",
       "\n",
       "        daleChallReadabilityScore  ...  sentenceCount  \\\n",
       "29416                   -0.745477  ...      -0.086677   \n",
       "58063                   -0.179185  ...      -0.176891   \n",
       "62206                    0.261869  ...       5.687009   \n",
       "14790                   -0.429660  ...      -0.357319   \n",
       "152752                   0.888057  ...       0.003536   \n",
       "\n",
       "        sentencesStartWithICount  sentencesStartWithYouCount  shortWordCount  \\\n",
       "29416                  -0.611525                   -0.081616        0.143679   \n",
       "58063                  -0.015203                   -0.081616       -0.515748   \n",
       "62206                   1.177441                   -0.081616        3.154105   \n",
       "14790                  -0.611525                   -0.081616       -0.200370   \n",
       "152752                 -0.015203                   -0.081616        0.430386   \n",
       "\n",
       "        smogIndex  tagCount  tagWeightSum  titleLengthInChars  urlCount  \\\n",
       "29416    0.695284  1.707299     -0.265550           -1.505846 -0.206204   \n",
       "58063    0.659986  0.076813     -0.479731           -0.012352 -0.206204   \n",
       "62206    1.224751  0.892056     -0.017494           -1.207148 -0.206204   \n",
       "14790    1.277698  1.707299     -0.384663           -0.958232 -0.206204   \n",
       "152752   1.507134  1.707299     -0.231941           -0.161702 -0.206204   \n",
       "\n",
       "        userProfileFilled  \n",
       "29416           -0.486306  \n",
       "58063           -0.486306  \n",
       "62206           -0.486306  \n",
       "14790           -0.486306  \n",
       "152752           1.313449  \n",
       "\n",
       "[5 rows x 28 columns]"
      ]
     },
     "execution_count": 19,
     "metadata": {},
     "output_type": "execute_result"
    }
   ],
   "source": [
    "X_train.head()"
   ]
  },
  {
   "cell_type": "markdown",
   "metadata": {},
   "source": [
    "### LOGISTIC REGRESSION"
   ]
  },
  {
   "cell_type": "code",
   "execution_count": 20,
   "metadata": {},
   "outputs": [
    {
     "data": {
      "text/plain": [
       "LogisticRegression(C=1.0, class_weight=None, dual=False, fit_intercept=True,\n",
       "          intercept_scaling=1, max_iter=100, multi_class='ovr', n_jobs=1,\n",
       "          penalty='l2', random_state=None, solver='liblinear', tol=0.0001,\n",
       "          verbose=0, warm_start=False)"
      ]
     },
     "execution_count": 20,
     "metadata": {},
     "output_type": "execute_result"
    }
   ],
   "source": [
    "logreg=LogisticRegression()\n",
    "logreg.fit(X_train,y_train)"
   ]
  },
  {
   "cell_type": "code",
   "execution_count": 21,
   "metadata": {},
   "outputs": [
    {
     "name": "stdout",
     "output_type": "stream",
     "text": [
      "(47999,)\n"
     ]
    }
   ],
   "source": [
    "y_pred=logreg.predict(X_test)\n",
    "print(y_pred.shape)"
   ]
  },
  {
   "cell_type": "code",
   "execution_count": 22,
   "metadata": {},
   "outputs": [
    {
     "data": {
      "text/plain": [
       "0.8904352174003625"
      ]
     },
     "execution_count": 22,
     "metadata": {},
     "output_type": "execute_result"
    }
   ],
   "source": [
    "#Accuracy\n",
    "np.mean(y_pred==y_test)\n",
    "\n",
    "#26 columns with Scaling: 0.8864976353674034"
   ]
  },
  {
   "cell_type": "code",
   "execution_count": 23,
   "metadata": {},
   "outputs": [
    {
     "data": {
      "text/plain": [
       "['logreg1.joblib']"
      ]
     },
     "execution_count": 23,
     "metadata": {},
     "output_type": "execute_result"
    }
   ],
   "source": [
    "#https://scikit-learn.org/stable/modules/model_persistence.html\n",
    "#EXPORTING RANDOM FOREST\n",
    "from joblib import dump, load\n",
    "dump(logreg, 'logreg1.joblib') "
   ]
  },
  {
   "cell_type": "code",
   "execution_count": 24,
   "metadata": {},
   "outputs": [
    {
     "name": "stdout",
     "output_type": "stream",
     "text": [
      "             precision    recall  f1-score   support\n",
      "\n",
      "          0       0.89      0.89      0.89     23916\n",
      "          1       0.89      0.89      0.89     24083\n",
      "\n",
      "avg / total       0.89      0.89      0.89     47999\n",
      "\n",
      "Precision: 0.8904463838444653\n",
      "Recall: 0.8904259900586182\n",
      "F1 Score:0.8904315946440138\n",
      "(0.8904463838444653, 0.8904259900586182, 0.8904315946440138, None)\n"
     ]
    }
   ],
   "source": [
    "print(classification_report(y_test,y_pred) )\n",
    "print(\"Precision: \"+str(precision_score(y_test, y_pred, average='macro')) )\n",
    "print(\"Recall: \"+str(recall_score(y_test, y_pred, average='macro')) )\n",
    "print(\"F1 Score:\"+str(f1_score(y_test, y_pred, average='macro')) )\n",
    "print(precision_recall_fscore_support(y_test, y_pred, average='macro') )\n",
    "# Precision, recall, fscore, support in order\n",
    "\n",
    "#26 cols with Scaling:\n",
    "# Precision: 0.8873913633946493\n",
    "# Recall: 0.8873865140134614\n",
    "# F1 Score:0.8873725937122617\n",
    "\n",
    "# precision    recall  f1-score   support\n",
    "\n",
    "#           0       0.89      0.88      0.89     24085\n",
    "#           1       0.88      0.89      0.89     23914\n",
    "\n",
    "# avg / total       0.89      0.89      0.89     47999\n",
    "\n",
    "# Precision: 0.8865374593942957\n",
    "# Recall: 0.886516977164158\n",
    "# F1 Score:0.8864970500441661\n",
    "# (0.8865374593942957, 0.886516977164158, 0.8864970500441661, None)"
   ]
  },
  {
   "cell_type": "markdown",
   "metadata": {},
   "source": [
    "### LASSO REGULARIZATION"
   ]
  },
  {
   "cell_type": "code",
   "execution_count": 25,
   "metadata": {},
   "outputs": [
    {
     "name": "stdout",
     "output_type": "stream",
     "text": [
      "[0.01, 0.1, 1, 10, 100]\n",
      "0.01\n",
      "lambda=0.01 c=100.0 Accuracy:0.8905810537719536\n",
      "F1 Score:0.8905769764071205\n",
      "0.1\n",
      "lambda=0.1 c=10.0 Accuracy:0.8905602200045835\n",
      "F1 Score:0.8905562249503287\n",
      "1\n",
      "lambda=1 c=1.0 Accuracy:0.8906018875393238\n",
      "F1 Score:0.890597838730921\n",
      "10\n",
      "lambda=10 c=0.1 Accuracy:0.8905810537719536\n",
      "F1 Score:0.8905772499855884\n",
      "100\n",
      "lambda=100 c=0.01 Accuracy:0.8907893914456552\n",
      "F1 Score:0.8907859100540796\n"
     ]
    }
   ],
   "source": [
    "#lambdas=list(range(1,50,1))\n",
    "lambdas=[0.01,0.1,1,10,100]\n",
    "print(lambdas)\n",
    "for l in lambdas:\n",
    "    print(l)\n",
    "    lassoLogReg=LogisticRegression(penalty=\"l1\",C=1/l)\n",
    "    lassoLogReg.fit(X_train,y_train)\n",
    "    y_pred=lassoLogReg.predict(X_test)\n",
    "    #print(y_pred.shape)\n",
    "    #Accuracy\n",
    "    print(\"lambda=\"+str(l)+\" c=\"+str(1/l)+\" Accuracy:\"+str(np.mean(y_pred==y_test)))\n",
    "    print(\"F1 Score:\"+str(f1_score(y_test, y_pred, average='macro')) )\n",
    "#for 23 features: highest accuracy obt was for lambda=650 c=0.0015384615384615385 Accuracy:0.8463926331798579\n",
    "#for 24 features: highest accuracy obt was for lambda=500 c=0.002 Accuracy:0.8551636492426925\n",
    "#if we increase lambda very much then too accuracy will reduce because of underfitting\n",
    "\n",
    "#After scaling:\n",
    "#29 features: \n"
   ]
  },
  {
   "cell_type": "code",
   "execution_count": null,
   "metadata": {},
   "outputs": [],
   "source": [
    "#print(classification_report(y_test,y_pred))"
   ]
  },
  {
   "cell_type": "markdown",
   "metadata": {},
   "source": [
    "### RIGDE REGULARIZATION"
   ]
  },
  {
   "cell_type": "code",
   "execution_count": 26,
   "metadata": {},
   "outputs": [
    {
     "name": "stdout",
     "output_type": "stream",
     "text": [
      "[0.001, 0.01, 0.1, 1, 10, 100]\n",
      "lambda=0.001 c=1000.0 Accuracy:0.8905185524698431\n",
      "F1 Score:0.8905145558945321\n",
      "lambda=0.01 c=100.0 Accuracy:0.8905185524698431\n",
      "F1 Score:0.8905145558945321\n",
      "lambda=0.1 c=10.0 Accuracy:0.8905393862372133\n",
      "F1 Score:0.8905355270261466\n",
      "lambda=1 c=1.0 Accuracy:0.8904352174003625\n",
      "F1 Score:0.8904315946440138\n",
      "lambda=10 c=0.1 Accuracy:0.8894768641013354\n",
      "F1 Score:0.8894744570003263\n",
      "lambda=100 c=0.01 Accuracy:0.8836850767724328\n",
      "F1 Score:0.8836848827038819\n"
     ]
    }
   ],
   "source": [
    "#lambdas=list(range(1,50,2))\n",
    "lambdas=[0.001, 0.01, 0.1, 1, 10, 100]\n",
    "print(lambdas)\n",
    "for l in lambdas:\n",
    "    ridgeLogReg=LogisticRegression(penalty=\"l2\",C=1/l)\n",
    "    ridgeLogReg.fit(X_train,y_train)\n",
    "    y_pred=ridgeLogReg.predict(X_test)\n",
    "    #print(y_pred.shape)\n",
    "    #Accuracy\n",
    "    print(\"lambda=\"+str(l)+\" c=\"+str(1/l)+\" Accuracy:\"+str(np.mean(y_pred==y_test)))\n",
    "    print(\"F1 Score:\"+str(f1_score(y_test, y_pred, average='macro')) )\n",
    "#for 24 features: highest accuracy obt was for:lambda=0.01 c=100.0 Accuracy:0.8533927790162295\n",
    "\n",
    "#After PCA: \n",
    "# 29 features to 26 features: lambda=0.001 c=1000.0 Accuracy:0.8504343840496676"
   ]
  },
  {
   "cell_type": "markdown",
   "metadata": {},
   "source": [
    "### GRID SEARCH CV"
   ]
  },
  {
   "cell_type": "code",
   "execution_count": null,
   "metadata": {},
   "outputs": [],
   "source": [
    "# from sklearn.model_selection import GridSearchCV\n",
    "# param_grid={'C': [0.001, 0.01, 0.1, 1, 10, 100, 1000],'penalty':['l1','l2'] }\n",
    "# gridSearch=GridSearchCV(LogisticRegression(), param_grid,cv=5) #5 fold cross validation\n",
    "# gridSearch.fit(X_train,y_train) \n",
    "# print(gridSearch.best_params_)"
   ]
  },
  {
   "cell_type": "code",
   "execution_count": null,
   "metadata": {},
   "outputs": [],
   "source": [
    "# #print(gridSearch.best_score_)\n",
    "# y_pred=gridSearch.predict(X_test)\n",
    "# #Accuracy on never seen before test set\n",
    "# print(np.mean(y_pred==y_test))"
   ]
  },
  {
   "cell_type": "code",
   "execution_count": null,
   "metadata": {},
   "outputs": [],
   "source": [
    "#Best params obtained: {'C': 0.01, 'penalty': 'l1'}\n",
    "#Accuracy obt: 0.845038438300798\n",
    "#Accuracy obt for 24 features: 0.8547469738952895"
   ]
  },
  {
   "cell_type": "markdown",
   "metadata": {},
   "source": [
    "### STOCHASTIC GRADIENT DESCENT"
   ]
  },
  {
   "cell_type": "code",
   "execution_count": 27,
   "metadata": {},
   "outputs": [
    {
     "data": {
      "text/plain": [
       "SGDClassifier(alpha=0.0001, average=False, class_weight=None, epsilon=0.1,\n",
       "       eta0=0.0, fit_intercept=True, l1_ratio=0.15,\n",
       "       learning_rate='optimal', loss='log', max_iter=5000, n_iter=None,\n",
       "       n_jobs=1, penalty='l2', power_t=0.5, random_state=None,\n",
       "       shuffle=True, tol=None, verbose=0, warm_start=False)"
      ]
     },
     "execution_count": 27,
     "metadata": {},
     "output_type": "execute_result"
    }
   ],
   "source": [
    "#https://scikit-learn.org/stable/modules/generated/sklearn.linear_model.SGDClassifier.html#sklearn.linear_model.SGDClassifier\n",
    "from sklearn.linear_model import SGDClassifier\n",
    "sgd=SGDClassifier(loss=\"log\",max_iter=5000) #logistic regression\n",
    "sgd.fit(X_train,y_train)"
   ]
  },
  {
   "cell_type": "code",
   "execution_count": 28,
   "metadata": {},
   "outputs": [
    {
     "name": "stdout",
     "output_type": "stream",
     "text": [
      "(47999,)\n"
     ]
    }
   ],
   "source": [
    "y_pred=sgd.predict(X_test)\n",
    "print(y_pred.shape)"
   ]
  },
  {
   "cell_type": "code",
   "execution_count": 29,
   "metadata": {},
   "outputs": [
    {
     "data": {
      "text/plain": [
       "0.8893726952644847"
      ]
     },
     "execution_count": 29,
     "metadata": {},
     "output_type": "execute_result"
    }
   ],
   "source": [
    "#Accuracy\n",
    "np.mean(y_pred==y_test)\n",
    "#for 23 features: with max_iter=5000 Accuracy is:0.8080793349861456\n",
    "#for 24 features: with max_iter=5000 Accuracy is:0.8219962915894081\n",
    "#After scaling:\n",
    "#24 features: with max_iter=5000 Accuracy is: 0.8508718931644409\n",
    "#29 features: with max_iter=5000 Accuracy is: 0.8507260567928498\n",
    "\n",
    "#PCA: \n",
    "#29 features to 26 features: 0.8446634304881352\n"
   ]
  },
  {
   "cell_type": "code",
   "execution_count": 30,
   "metadata": {},
   "outputs": [
    {
     "name": "stdout",
     "output_type": "stream",
     "text": [
      "             precision    recall  f1-score   support\n",
      "\n",
      "          0       0.89      0.89      0.89     23916\n",
      "          1       0.89      0.89      0.89     24083\n",
      "\n",
      "avg / total       0.89      0.89      0.89     47999\n",
      "\n",
      "Precision: 0.8893757391833765\n",
      "Recall: 0.8893672968470798\n",
      "F1 Score:0.8893703073594404\n",
      "(0.8893757391833765, 0.8893672968470798, 0.8893703073594404, None)\n"
     ]
    }
   ],
   "source": [
    "print(classification_report(y_test,y_pred) )\n",
    "print(\"Precision: \"+str(precision_score(y_test, y_pred, average='macro')) )\n",
    "print(\"Recall: \"+str(recall_score(y_test, y_pred, average='macro')) )\n",
    "print(\"F1 Score:\"+str(f1_score(y_test, y_pred, average='macro')) )\n",
    "print(precision_recall_fscore_support(y_test, y_pred, average='macro') )\n",
    "# Precision, recall, fscore, support in order\n",
    "\n",
    "#  precision    recall  f1-score   support\n",
    "\n",
    "#           0       0.88      0.81      0.84     24085\n",
    "#           1       0.82      0.89      0.86     23914\n",
    "\n",
    "# avg / total       0.85      0.85      0.85     47999\n",
    "\n",
    "# Precision: 0.8533320912052453\n",
    "# Recall: 0.8508790651450169\n",
    "# F1 Score:0.850487823093065\n",
    "# (0.8533320912052453, 0.8508790651450169, 0.850487823093065, None)"
   ]
  },
  {
   "cell_type": "code",
   "execution_count": null,
   "metadata": {
    "scrolled": true
   },
   "outputs": [],
   "source": [
    "sgd.get_params() "
   ]
  },
  {
   "cell_type": "code",
   "execution_count": null,
   "metadata": {},
   "outputs": [],
   "source": [
    "sgd.coef_"
   ]
  },
  {
   "cell_type": "code",
   "execution_count": null,
   "metadata": {},
   "outputs": [],
   "source": [
    "whos"
   ]
  },
  {
   "cell_type": "code",
   "execution_count": null,
   "metadata": {},
   "outputs": [],
   "source": []
  }
 ],
 "metadata": {
  "kernelspec": {
   "display_name": "Python 3",
   "language": "python",
   "name": "python3"
  },
  "language_info": {
   "codemirror_mode": {
    "name": "ipython",
    "version": 3
   },
   "file_extension": ".py",
   "mimetype": "text/x-python",
   "name": "python",
   "nbconvert_exporter": "python",
   "pygments_lexer": "ipython3",
   "version": "3.6.5"
  }
 },
 "nbformat": 4,
 "nbformat_minor": 2
}
