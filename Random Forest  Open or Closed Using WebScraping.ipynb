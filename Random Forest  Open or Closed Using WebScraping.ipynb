{
 "cells": [
  {
   "cell_type": "code",
   "execution_count": 2,
   "metadata": {},
   "outputs": [
    {
     "name": "stderr",
     "output_type": "stream",
     "text": [
      "/home/cody/miniconda3/lib/python3.6/importlib/_bootstrap.py:219: RuntimeWarning: numpy.dtype size changed, may indicate binary incompatibility. Expected 96, got 88\n",
      "  return f(*args, **kwds)\n",
      "/home/cody/miniconda3/lib/python3.6/importlib/_bootstrap.py:219: RuntimeWarning: numpy.dtype size changed, may indicate binary incompatibility. Expected 96, got 88\n",
      "  return f(*args, **kwds)\n"
     ]
    }
   ],
   "source": [
    "import pandas as pd\n",
    "import numpy as np\n",
    "from sklearn.linear_model import LogisticRegression\n",
    "from sklearn.model_selection import train_test_split\n",
    "from sklearn.metrics import classification_report\n",
    "from sklearn.metrics import precision_score\n",
    "from sklearn.metrics import recall_score\n",
    "from sklearn.metrics import f1_score\n",
    "from sklearn.metrics import precision_recall_fscore_support"
   ]
  },
  {
   "cell_type": "code",
   "execution_count": 3,
   "metadata": {},
   "outputs": [
    {
     "data": {
      "text/html": [
       "<div>\n",
       "<style scoped>\n",
       "    .dataframe tbody tr th:only-of-type {\n",
       "        vertical-align: middle;\n",
       "    }\n",
       "\n",
       "    .dataframe tbody tr th {\n",
       "        vertical-align: top;\n",
       "    }\n",
       "\n",
       "    .dataframe thead th {\n",
       "        text-align: right;\n",
       "    }\n",
       "</style>\n",
       "<table border=\"1\" class=\"dataframe\">\n",
       "  <thead>\n",
       "    <tr style=\"text-align: right;\">\n",
       "      <th></th>\n",
       "      <th>Unnamed: 0</th>\n",
       "      <th>AboutMe</th>\n",
       "      <th>Body</th>\n",
       "      <th>Comment</th>\n",
       "      <th>Downvotes</th>\n",
       "      <th>Location</th>\n",
       "      <th>PostId</th>\n",
       "      <th>ProfileImageUrl</th>\n",
       "      <th>Reputation</th>\n",
       "      <th>SOUrlCount</th>\n",
       "      <th>...</th>\n",
       "      <th>sentencesStartWithICount</th>\n",
       "      <th>sentencesStartWithYouCount</th>\n",
       "      <th>shortWordCount</th>\n",
       "      <th>smogIndex</th>\n",
       "      <th>tagCount</th>\n",
       "      <th>tagWeightSum</th>\n",
       "      <th>titleLengthInChars</th>\n",
       "      <th>urlCount</th>\n",
       "      <th>userProfileFilled</th>\n",
       "      <th>websiteUrlFilled</th>\n",
       "    </tr>\n",
       "  </thead>\n",
       "  <tbody>\n",
       "    <tr>\n",
       "      <th>0</th>\n",
       "      <td>0</td>\n",
       "      <td>NaN</td>\n",
       "      <td>&lt;p&gt;Please someone explain complete step by ste...</td>\n",
       "      <td>100</td>\n",
       "      <td>0</td>\n",
       "      <td>NaN</td>\n",
       "      <td>32203002</td>\n",
       "      <td>https://lh4.googleusercontent.com/-_GtduZ_HroM...</td>\n",
       "      <td>6</td>\n",
       "      <td>0</td>\n",
       "      <td>...</td>\n",
       "      <td>0</td>\n",
       "      <td>0</td>\n",
       "      <td>6</td>\n",
       "      <td>0.0</td>\n",
       "      <td>2</td>\n",
       "      <td>-110.462467</td>\n",
       "      <td>33</td>\n",
       "      <td>0</td>\n",
       "      <td>1</td>\n",
       "      <td>0</td>\n",
       "    </tr>\n",
       "    <tr>\n",
       "      <th>1</th>\n",
       "      <td>1</td>\n",
       "      <td>NaN</td>\n",
       "      <td>&lt;p&gt;I've used SFST language for my project on N...</td>\n",
       "      <td>100</td>\n",
       "      <td>0</td>\n",
       "      <td>NaN</td>\n",
       "      <td>31961877</td>\n",
       "      <td>https://lh4.googleusercontent.com/-_GtduZ_HroM...</td>\n",
       "      <td>6</td>\n",
       "      <td>0</td>\n",
       "      <td>...</td>\n",
       "      <td>3</td>\n",
       "      <td>0</td>\n",
       "      <td>27</td>\n",
       "      <td>0.0</td>\n",
       "      <td>4</td>\n",
       "      <td>-157.135019</td>\n",
       "      <td>25</td>\n",
       "      <td>2</td>\n",
       "      <td>1</td>\n",
       "      <td>0</td>\n",
       "    </tr>\n",
       "    <tr>\n",
       "      <th>2</th>\n",
       "      <td>2</td>\n",
       "      <td>&lt;p&gt;Currently a software developer at HiQ Finla...</td>\n",
       "      <td>&lt;p&gt;The following JSON is returned from SharePo...</td>\n",
       "      <td>100</td>\n",
       "      <td>2413</td>\n",
       "      <td>Helsinki, Finland</td>\n",
       "      <td>22080350</td>\n",
       "      <td>https://i.stack.imgur.com/w2whQ.png</td>\n",
       "      <td>33857</td>\n",
       "      <td>0</td>\n",
       "      <td>...</td>\n",
       "      <td>0</td>\n",
       "      <td>0</td>\n",
       "      <td>25</td>\n",
       "      <td>0.0</td>\n",
       "      <td>3</td>\n",
       "      <td>-279.862500</td>\n",
       "      <td>134</td>\n",
       "      <td>0</td>\n",
       "      <td>4</td>\n",
       "      <td>1</td>\n",
       "    </tr>\n",
       "    <tr>\n",
       "      <th>3</th>\n",
       "      <td>3</td>\n",
       "      <td>&lt;p&gt;Love the computer science &amp;amp; technology ...</td>\n",
       "      <td>&lt;p&gt;What's the benifit of allocating a chunk of...</td>\n",
       "      <td>100</td>\n",
       "      <td>3</td>\n",
       "      <td>中国Shanghai Shi</td>\n",
       "      <td>28019349</td>\n",
       "      <td>https://www.gravatar.com/avatar/a33ac21cad99e5...</td>\n",
       "      <td>1470</td>\n",
       "      <td>0</td>\n",
       "      <td>...</td>\n",
       "      <td>0</td>\n",
       "      <td>0</td>\n",
       "      <td>10</td>\n",
       "      <td>0.0</td>\n",
       "      <td>5</td>\n",
       "      <td>-234.970000</td>\n",
       "      <td>78</td>\n",
       "      <td>0</td>\n",
       "      <td>3</td>\n",
       "      <td>0</td>\n",
       "    </tr>\n",
       "    <tr>\n",
       "      <th>4</th>\n",
       "      <td>4</td>\n",
       "      <td>NaN</td>\n",
       "      <td>&lt;p&gt;I'm using an S3 bucket as the origin or a C...</td>\n",
       "      <td>100</td>\n",
       "      <td>77</td>\n",
       "      <td>NaN</td>\n",
       "      <td>32211159</td>\n",
       "      <td>NaN</td>\n",
       "      <td>10992</td>\n",
       "      <td>0</td>\n",
       "      <td>...</td>\n",
       "      <td>2</td>\n",
       "      <td>0</td>\n",
       "      <td>35</td>\n",
       "      <td>10.7</td>\n",
       "      <td>4</td>\n",
       "      <td>-527.002535</td>\n",
       "      <td>59</td>\n",
       "      <td>0</td>\n",
       "      <td>0</td>\n",
       "      <td>0</td>\n",
       "    </tr>\n",
       "  </tbody>\n",
       "</table>\n",
       "<p>5 rows × 47 columns</p>\n",
       "</div>"
      ],
      "text/plain": [
       "   Unnamed: 0                                            AboutMe  \\\n",
       "0           0                                                NaN   \n",
       "1           1                                                NaN   \n",
       "2           2  <p>Currently a software developer at HiQ Finla...   \n",
       "3           3  <p>Love the computer science &amp; technology ...   \n",
       "4           4                                                NaN   \n",
       "\n",
       "                                                Body  Comment  Downvotes  \\\n",
       "0  <p>Please someone explain complete step by ste...      100          0   \n",
       "1  <p>I've used SFST language for my project on N...      100          0   \n",
       "2  <p>The following JSON is returned from SharePo...      100       2413   \n",
       "3  <p>What's the benifit of allocating a chunk of...      100          3   \n",
       "4  <p>I'm using an S3 bucket as the origin or a C...      100         77   \n",
       "\n",
       "            Location    PostId  \\\n",
       "0                NaN  32203002   \n",
       "1                NaN  31961877   \n",
       "2  Helsinki, Finland  22080350   \n",
       "3     中国Shanghai Shi  28019349   \n",
       "4                NaN  32211159   \n",
       "\n",
       "                                     ProfileImageUrl  Reputation  SOUrlCount  \\\n",
       "0  https://lh4.googleusercontent.com/-_GtduZ_HroM...           6           0   \n",
       "1  https://lh4.googleusercontent.com/-_GtduZ_HroM...           6           0   \n",
       "2                https://i.stack.imgur.com/w2whQ.png       33857           0   \n",
       "3  https://www.gravatar.com/avatar/a33ac21cad99e5...        1470           0   \n",
       "4                                                NaN       10992           0   \n",
       "\n",
       "         ...        sentencesStartWithICount sentencesStartWithYouCount  \\\n",
       "0        ...                               0                          0   \n",
       "1        ...                               3                          0   \n",
       "2        ...                               0                          0   \n",
       "3        ...                               0                          0   \n",
       "4        ...                               2                          0   \n",
       "\n",
       "   shortWordCount  smogIndex  tagCount  tagWeightSum titleLengthInChars  \\\n",
       "0               6        0.0         2   -110.462467                 33   \n",
       "1              27        0.0         4   -157.135019                 25   \n",
       "2              25        0.0         3   -279.862500                134   \n",
       "3              10        0.0         5   -234.970000                 78   \n",
       "4              35       10.7         4   -527.002535                 59   \n",
       "\n",
       "   urlCount  userProfileFilled  websiteUrlFilled  \n",
       "0         0                  1                 0  \n",
       "1         2                  1                 0  \n",
       "2         0                  4                 1  \n",
       "3         0                  3                 0  \n",
       "4         0                  0                 0  \n",
       "\n",
       "[5 rows x 47 columns]"
      ]
     },
     "execution_count": 3,
     "metadata": {},
     "output_type": "execute_result"
    }
   ],
   "source": [
    "#3 rows deleted:\n",
    "#20484\t,RegEx used to extract tokens from an ASCIIMath expression\"\t11\t\t1\t0\t0\thttps://i.stack.imgur.com/6VcaB.png\t\t\t\t\t\t\t\t\t0\t1\t\t0\t0\t0\t0\t0\t1\t0\t0\t0\t1\t1\t0\t0\t0\t0\t0\n",
    "#71350\t,Bootstrap modal wont trigger on mobile\"\t443\tLake Mary, FL, United States\t85\t165\t11\thttps://i.stack.imgur.com/TLzJW.png?s=128&g=1\t\t\t\t\t\t\t\t\t0\t1\t\t0\t0\t0\t0\t0\t3\t0\t0\t0\t1\t1\t0\t0\t0\t0\t0\n",
    "#60036\t<p>from group \"\"Value\"\" i can get the value of hour and it gives output as 1\t3\t2\t4\t5\t6 and so on for each generator name but since no of hour is common to all i need that i get it only once that is i should get 1\t2\t5\t6 only once</p>\t\t\t\t\t\t\t0\t1\t\t0\t0\t0\t0\t0\t1\t0\t0\t0\t1\t1\t0\t1\t0\t0\t0\n",
    "\n",
    "openCloseData=pd.read_csv(\"openCloseData9.csv\")\n",
    "openCloseData.head()\n",
    "\n",
    "#openCloseData.drop(20484,inplace=True)\n",
    "#openCloseData.drop(71350,inplace=True)\n",
    "#openCloseData.drop(60036,inplace=True)\n",
    "#print(20484 in openCloseData.iloc[:,1])"
   ]
  },
  {
   "cell_type": "code",
   "execution_count": 4,
   "metadata": {},
   "outputs": [
    {
     "name": "stdout",
     "output_type": "stream",
     "text": [
      "(159996, 47)\n",
      "(159996, 46)\n"
     ]
    }
   ],
   "source": [
    "print(openCloseData.shape)\n",
    "openCloseData.drop(['Unnamed: 0'],inplace=True,axis=1)\n",
    "print(openCloseData.shape)\n",
    "#Actually 4 rows are removed"
   ]
  },
  {
   "cell_type": "code",
   "execution_count": 5,
   "metadata": {},
   "outputs": [
    {
     "data": {
      "text/plain": [
       "Index(['AboutMe', 'Body', 'Comment', 'Downvotes', 'Location', 'PostId',\n",
       "       'ProfileImageUrl', 'Reputation', 'SOUrlCount', 'Tags', 'Title',\n",
       "       'Unnamed: 0.1', 'Upvotes', 'UserId', 'Views', 'WebsiteUrl',\n",
       "       'aboutMeFilled', 'bodyWordCount', 'closed', 'codeLength',\n",
       "       'colemanLiauIndex', 'countOfInterrogativeSent',\n",
       "       'daleChallReadabilityScore', 'experienceInTime', 'firstLineLength',\n",
       "       'fleschReadingEase', 'gunningFog', 'locationFilled', 'lowerUpperRatio',\n",
       "       'numAns', 'numPR', 'numPeopleReached', 'numQues',\n",
       "       'profileImageUrlFilled', 'punctuationCount', 'sentenceCount',\n",
       "       'sentencesStartWithICount', 'sentencesStartWithYouCount',\n",
       "       'shortWordCount', 'smogIndex', 'tagCount', 'tagWeightSum',\n",
       "       'titleLengthInChars', 'urlCount', 'userProfileFilled',\n",
       "       'websiteUrlFilled'],\n",
       "      dtype='object')"
      ]
     },
     "execution_count": 5,
     "metadata": {},
     "output_type": "execute_result"
    }
   ],
   "source": [
    "openCloseData.columns"
   ]
  },
  {
   "cell_type": "code",
   "execution_count": 6,
   "metadata": {},
   "outputs": [
    {
     "data": {
      "text/html": [
       "<div>\n",
       "<style scoped>\n",
       "    .dataframe tbody tr th:only-of-type {\n",
       "        vertical-align: middle;\n",
       "    }\n",
       "\n",
       "    .dataframe tbody tr th {\n",
       "        vertical-align: top;\n",
       "    }\n",
       "\n",
       "    .dataframe thead th {\n",
       "        text-align: right;\n",
       "    }\n",
       "</style>\n",
       "<table border=\"1\" class=\"dataframe\">\n",
       "  <thead>\n",
       "    <tr style=\"text-align: right;\">\n",
       "      <th></th>\n",
       "      <th>AboutMe</th>\n",
       "      <th>Body</th>\n",
       "      <th>Comment</th>\n",
       "      <th>Downvotes</th>\n",
       "      <th>Location</th>\n",
       "      <th>PostId</th>\n",
       "      <th>ProfileImageUrl</th>\n",
       "      <th>Reputation</th>\n",
       "      <th>SOUrlCount</th>\n",
       "      <th>Tags</th>\n",
       "      <th>...</th>\n",
       "      <th>sentencesStartWithICount</th>\n",
       "      <th>sentencesStartWithYouCount</th>\n",
       "      <th>shortWordCount</th>\n",
       "      <th>smogIndex</th>\n",
       "      <th>tagCount</th>\n",
       "      <th>tagWeightSum</th>\n",
       "      <th>titleLengthInChars</th>\n",
       "      <th>urlCount</th>\n",
       "      <th>userProfileFilled</th>\n",
       "      <th>websiteUrlFilled</th>\n",
       "    </tr>\n",
       "  </thead>\n",
       "  <tbody>\n",
       "    <tr>\n",
       "      <th>0</th>\n",
       "      <td>NaN</td>\n",
       "      <td>&lt;p&gt;Please someone explain complete step by ste...</td>\n",
       "      <td>100</td>\n",
       "      <td>0</td>\n",
       "      <td>NaN</td>\n",
       "      <td>32203002</td>\n",
       "      <td>https://lh4.googleusercontent.com/-_GtduZ_HroM...</td>\n",
       "      <td>6</td>\n",
       "      <td>0</td>\n",
       "      <td>kernel|minix</td>\n",
       "      <td>...</td>\n",
       "      <td>0</td>\n",
       "      <td>0</td>\n",
       "      <td>6</td>\n",
       "      <td>0.0</td>\n",
       "      <td>2</td>\n",
       "      <td>-110.462467</td>\n",
       "      <td>33</td>\n",
       "      <td>0</td>\n",
       "      <td>1</td>\n",
       "      <td>0</td>\n",
       "    </tr>\n",
       "    <tr>\n",
       "      <th>1</th>\n",
       "      <td>NaN</td>\n",
       "      <td>&lt;p&gt;I've used SFST language for my project on N...</td>\n",
       "      <td>100</td>\n",
       "      <td>0</td>\n",
       "      <td>NaN</td>\n",
       "      <td>31961877</td>\n",
       "      <td>https://lh4.googleusercontent.com/-_GtduZ_HroM...</td>\n",
       "      <td>6</td>\n",
       "      <td>0</td>\n",
       "      <td>python|nlp|transducer|fst</td>\n",
       "      <td>...</td>\n",
       "      <td>3</td>\n",
       "      <td>0</td>\n",
       "      <td>27</td>\n",
       "      <td>0.0</td>\n",
       "      <td>4</td>\n",
       "      <td>-157.135019</td>\n",
       "      <td>25</td>\n",
       "      <td>2</td>\n",
       "      <td>1</td>\n",
       "      <td>0</td>\n",
       "    </tr>\n",
       "    <tr>\n",
       "      <th>2</th>\n",
       "      <td>&lt;p&gt;Currently a software developer at HiQ Finla...</td>\n",
       "      <td>&lt;p&gt;The following JSON is returned from SharePo...</td>\n",
       "      <td>100</td>\n",
       "      <td>2413</td>\n",
       "      <td>Helsinki, Finland</td>\n",
       "      <td>22080350</td>\n",
       "      <td>https://i.stack.imgur.com/w2whQ.png</td>\n",
       "      <td>33857</td>\n",
       "      <td>0</td>\n",
       "      <td>json|rest|powershell</td>\n",
       "      <td>...</td>\n",
       "      <td>0</td>\n",
       "      <td>0</td>\n",
       "      <td>25</td>\n",
       "      <td>0.0</td>\n",
       "      <td>3</td>\n",
       "      <td>-279.862500</td>\n",
       "      <td>134</td>\n",
       "      <td>0</td>\n",
       "      <td>4</td>\n",
       "      <td>1</td>\n",
       "    </tr>\n",
       "    <tr>\n",
       "      <th>3</th>\n",
       "      <td>&lt;p&gt;Love the computer science &amp;amp; technology ...</td>\n",
       "      <td>&lt;p&gt;What's the benifit of allocating a chunk of...</td>\n",
       "      <td>100</td>\n",
       "      <td>3</td>\n",
       "      <td>中国Shanghai Shi</td>\n",
       "      <td>28019349</td>\n",
       "      <td>https://www.gravatar.com/avatar/a33ac21cad99e5...</td>\n",
       "      <td>1470</td>\n",
       "      <td>0</td>\n",
       "      <td>linux|memory-management|linux-kernel|memory-ad...</td>\n",
       "      <td>...</td>\n",
       "      <td>0</td>\n",
       "      <td>0</td>\n",
       "      <td>10</td>\n",
       "      <td>0.0</td>\n",
       "      <td>5</td>\n",
       "      <td>-234.970000</td>\n",
       "      <td>78</td>\n",
       "      <td>0</td>\n",
       "      <td>3</td>\n",
       "      <td>0</td>\n",
       "    </tr>\n",
       "    <tr>\n",
       "      <th>4</th>\n",
       "      <td>NaN</td>\n",
       "      <td>&lt;p&gt;I'm using an S3 bucket as the origin or a C...</td>\n",
       "      <td>100</td>\n",
       "      <td>77</td>\n",
       "      <td>NaN</td>\n",
       "      <td>32211159</td>\n",
       "      <td>NaN</td>\n",
       "      <td>10992</td>\n",
       "      <td>0</td>\n",
       "      <td>amazon-web-services|amazon-s3|cdn|amazon-cloud...</td>\n",
       "      <td>...</td>\n",
       "      <td>2</td>\n",
       "      <td>0</td>\n",
       "      <td>35</td>\n",
       "      <td>10.7</td>\n",
       "      <td>4</td>\n",
       "      <td>-527.002535</td>\n",
       "      <td>59</td>\n",
       "      <td>0</td>\n",
       "      <td>0</td>\n",
       "      <td>0</td>\n",
       "    </tr>\n",
       "  </tbody>\n",
       "</table>\n",
       "<p>5 rows × 46 columns</p>\n",
       "</div>"
      ],
      "text/plain": [
       "                                             AboutMe  \\\n",
       "0                                                NaN   \n",
       "1                                                NaN   \n",
       "2  <p>Currently a software developer at HiQ Finla...   \n",
       "3  <p>Love the computer science &amp; technology ...   \n",
       "4                                                NaN   \n",
       "\n",
       "                                                Body  Comment  Downvotes  \\\n",
       "0  <p>Please someone explain complete step by ste...      100          0   \n",
       "1  <p>I've used SFST language for my project on N...      100          0   \n",
       "2  <p>The following JSON is returned from SharePo...      100       2413   \n",
       "3  <p>What's the benifit of allocating a chunk of...      100          3   \n",
       "4  <p>I'm using an S3 bucket as the origin or a C...      100         77   \n",
       "\n",
       "            Location    PostId  \\\n",
       "0                NaN  32203002   \n",
       "1                NaN  31961877   \n",
       "2  Helsinki, Finland  22080350   \n",
       "3     中国Shanghai Shi  28019349   \n",
       "4                NaN  32211159   \n",
       "\n",
       "                                     ProfileImageUrl  Reputation  SOUrlCount  \\\n",
       "0  https://lh4.googleusercontent.com/-_GtduZ_HroM...           6           0   \n",
       "1  https://lh4.googleusercontent.com/-_GtduZ_HroM...           6           0   \n",
       "2                https://i.stack.imgur.com/w2whQ.png       33857           0   \n",
       "3  https://www.gravatar.com/avatar/a33ac21cad99e5...        1470           0   \n",
       "4                                                NaN       10992           0   \n",
       "\n",
       "                                                Tags        ...         \\\n",
       "0                                       kernel|minix        ...          \n",
       "1                          python|nlp|transducer|fst        ...          \n",
       "2                               json|rest|powershell        ...          \n",
       "3  linux|memory-management|linux-kernel|memory-ad...        ...          \n",
       "4  amazon-web-services|amazon-s3|cdn|amazon-cloud...        ...          \n",
       "\n",
       "  sentencesStartWithICount  sentencesStartWithYouCount  shortWordCount  \\\n",
       "0                        0                           0               6   \n",
       "1                        3                           0              27   \n",
       "2                        0                           0              25   \n",
       "3                        0                           0              10   \n",
       "4                        2                           0              35   \n",
       "\n",
       "   smogIndex  tagCount tagWeightSum  titleLengthInChars  urlCount  \\\n",
       "0        0.0         2  -110.462467                  33         0   \n",
       "1        0.0         4  -157.135019                  25         2   \n",
       "2        0.0         3  -279.862500                 134         0   \n",
       "3        0.0         5  -234.970000                  78         0   \n",
       "4       10.7         4  -527.002535                  59         0   \n",
       "\n",
       "   userProfileFilled  websiteUrlFilled  \n",
       "0                  1                 0  \n",
       "1                  1                 0  \n",
       "2                  4                 1  \n",
       "3                  3                 0  \n",
       "4                  0                 0  \n",
       "\n",
       "[5 rows x 46 columns]"
      ]
     },
     "execution_count": 6,
     "metadata": {},
     "output_type": "execute_result"
    }
   ],
   "source": [
    "openCloseData.head()"
   ]
  },
  {
   "cell_type": "code",
   "execution_count": 7,
   "metadata": {},
   "outputs": [
    {
     "name": "stdout",
     "output_type": "stream",
     "text": [
      "(159996, 29)\n",
      "<class 'pandas.core.frame.DataFrame'>\n"
     ]
    }
   ],
   "source": [
    "X = openCloseData.loc[:,['Reputation',\n",
    "       'experienceInTime', 'Views',\n",
    "       'Upvotes', 'Downvotes', 'tagCount', 'closed',\n",
    "       'lowerUpperRatio','numAns','numQues',\n",
    "       'sentenceCount', 'firstLineLength', 'codeLength',\n",
    "       'urlCount', 'SOUrlCount', 'titleLengthInChars',\n",
    "       'countOfInterrogativeSent', 'sentencesStartWithYouCount',\n",
    "       'sentencesStartWithICount', 'shortWordCount', 'bodyWordCount',\n",
    "       'punctuationCount', 'tagWeightSum', 'gunningFog',\n",
    "       'fleschReadingEase', 'daleChallReadabilityScore', 'smogIndex',\n",
    "       'colemanLiauIndex', 'userProfileFilled'] ]\n",
    "\n",
    "\n",
    "X.replace(np.nan,0,inplace=True)  #replacing NaN to 0\n",
    "X.lowerUpperRatio.replace(np.inf,0,inplace=True)  #replacing infinity to 0\n",
    "print(X.shape)\n",
    "print(type(X))"
   ]
  },
  {
   "cell_type": "code",
   "execution_count": 8,
   "metadata": {},
   "outputs": [
    {
     "data": {
      "text/html": [
       "<div>\n",
       "<style scoped>\n",
       "    .dataframe tbody tr th:only-of-type {\n",
       "        vertical-align: middle;\n",
       "    }\n",
       "\n",
       "    .dataframe tbody tr th {\n",
       "        vertical-align: top;\n",
       "    }\n",
       "\n",
       "    .dataframe thead th {\n",
       "        text-align: right;\n",
       "    }\n",
       "</style>\n",
       "<table border=\"1\" class=\"dataframe\">\n",
       "  <thead>\n",
       "    <tr style=\"text-align: right;\">\n",
       "      <th></th>\n",
       "      <th>Reputation</th>\n",
       "      <th>experienceInTime</th>\n",
       "      <th>Views</th>\n",
       "      <th>Upvotes</th>\n",
       "      <th>Downvotes</th>\n",
       "      <th>tagCount</th>\n",
       "      <th>closed</th>\n",
       "      <th>lowerUpperRatio</th>\n",
       "      <th>numAns</th>\n",
       "      <th>numQues</th>\n",
       "      <th>...</th>\n",
       "      <th>shortWordCount</th>\n",
       "      <th>bodyWordCount</th>\n",
       "      <th>punctuationCount</th>\n",
       "      <th>tagWeightSum</th>\n",
       "      <th>gunningFog</th>\n",
       "      <th>fleschReadingEase</th>\n",
       "      <th>daleChallReadabilityScore</th>\n",
       "      <th>smogIndex</th>\n",
       "      <th>colemanLiauIndex</th>\n",
       "      <th>userProfileFilled</th>\n",
       "    </tr>\n",
       "  </thead>\n",
       "  <tbody>\n",
       "    <tr>\n",
       "      <th>0</th>\n",
       "      <td>6</td>\n",
       "      <td>13</td>\n",
       "      <td>8</td>\n",
       "      <td>0</td>\n",
       "      <td>0</td>\n",
       "      <td>2</td>\n",
       "      <td>0</td>\n",
       "      <td>25.333333</td>\n",
       "      <td>0</td>\n",
       "      <td>2</td>\n",
       "      <td>...</td>\n",
       "      <td>6</td>\n",
       "      <td>17</td>\n",
       "      <td>1</td>\n",
       "      <td>-110.462467</td>\n",
       "      <td>13.86</td>\n",
       "      <td>71.14</td>\n",
       "      <td>7.27</td>\n",
       "      <td>0.0</td>\n",
       "      <td>9.74</td>\n",
       "      <td>1</td>\n",
       "    </tr>\n",
       "    <tr>\n",
       "      <th>1</th>\n",
       "      <td>6</td>\n",
       "      <td>0</td>\n",
       "      <td>8</td>\n",
       "      <td>0</td>\n",
       "      <td>0</td>\n",
       "      <td>4</td>\n",
       "      <td>0</td>\n",
       "      <td>9.500000</td>\n",
       "      <td>0</td>\n",
       "      <td>2</td>\n",
       "      <td>...</td>\n",
       "      <td>27</td>\n",
       "      <td>41</td>\n",
       "      <td>28</td>\n",
       "      <td>-157.135019</td>\n",
       "      <td>20.88</td>\n",
       "      <td>25.29</td>\n",
       "      <td>9.66</td>\n",
       "      <td>0.0</td>\n",
       "      <td>18.39</td>\n",
       "      <td>1</td>\n",
       "    </tr>\n",
       "    <tr>\n",
       "      <th>2</th>\n",
       "      <td>33857</td>\n",
       "      <td>664</td>\n",
       "      <td>2438</td>\n",
       "      <td>1574</td>\n",
       "      <td>2413</td>\n",
       "      <td>3</td>\n",
       "      <td>0</td>\n",
       "      <td>9.027027</td>\n",
       "      <td>1403</td>\n",
       "      <td>5</td>\n",
       "      <td>...</td>\n",
       "      <td>25</td>\n",
       "      <td>70</td>\n",
       "      <td>14</td>\n",
       "      <td>-279.862500</td>\n",
       "      <td>37.46</td>\n",
       "      <td>-7.03</td>\n",
       "      <td>10.95</td>\n",
       "      <td>0.0</td>\n",
       "      <td>15.11</td>\n",
       "      <td>4</td>\n",
       "    </tr>\n",
       "    <tr>\n",
       "      <th>3</th>\n",
       "      <td>1470</td>\n",
       "      <td>816</td>\n",
       "      <td>312</td>\n",
       "      <td>362</td>\n",
       "      <td>3</td>\n",
       "      <td>5</td>\n",
       "      <td>0</td>\n",
       "      <td>42.666667</td>\n",
       "      <td>25</td>\n",
       "      <td>108</td>\n",
       "      <td>...</td>\n",
       "      <td>10</td>\n",
       "      <td>25</td>\n",
       "      <td>4</td>\n",
       "      <td>-234.970000</td>\n",
       "      <td>19.60</td>\n",
       "      <td>29.18</td>\n",
       "      <td>8.67</td>\n",
       "      <td>0.0</td>\n",
       "      <td>13.41</td>\n",
       "      <td>3</td>\n",
       "    </tr>\n",
       "    <tr>\n",
       "      <th>4</th>\n",
       "      <td>10992</td>\n",
       "      <td>1846</td>\n",
       "      <td>667</td>\n",
       "      <td>269</td>\n",
       "      <td>77</td>\n",
       "      <td>4</td>\n",
       "      <td>0</td>\n",
       "      <td>27.727273</td>\n",
       "      <td>331</td>\n",
       "      <td>174</td>\n",
       "      <td>...</td>\n",
       "      <td>35</td>\n",
       "      <td>70</td>\n",
       "      <td>7</td>\n",
       "      <td>-527.002535</td>\n",
       "      <td>15.00</td>\n",
       "      <td>70.63</td>\n",
       "      <td>7.66</td>\n",
       "      <td>10.7</td>\n",
       "      <td>8.70</td>\n",
       "      <td>0</td>\n",
       "    </tr>\n",
       "  </tbody>\n",
       "</table>\n",
       "<p>5 rows × 29 columns</p>\n",
       "</div>"
      ],
      "text/plain": [
       "   Reputation  experienceInTime  Views  Upvotes  Downvotes  tagCount  closed  \\\n",
       "0           6                13      8        0          0         2       0   \n",
       "1           6                 0      8        0          0         4       0   \n",
       "2       33857               664   2438     1574       2413         3       0   \n",
       "3        1470               816    312      362          3         5       0   \n",
       "4       10992              1846    667      269         77         4       0   \n",
       "\n",
       "   lowerUpperRatio  numAns  numQues        ...          shortWordCount  \\\n",
       "0        25.333333       0        2        ...                       6   \n",
       "1         9.500000       0        2        ...                      27   \n",
       "2         9.027027    1403        5        ...                      25   \n",
       "3        42.666667      25      108        ...                      10   \n",
       "4        27.727273     331      174        ...                      35   \n",
       "\n",
       "   bodyWordCount  punctuationCount  tagWeightSum  gunningFog  \\\n",
       "0             17                 1   -110.462467       13.86   \n",
       "1             41                28   -157.135019       20.88   \n",
       "2             70                14   -279.862500       37.46   \n",
       "3             25                 4   -234.970000       19.60   \n",
       "4             70                 7   -527.002535       15.00   \n",
       "\n",
       "   fleschReadingEase  daleChallReadabilityScore  smogIndex  colemanLiauIndex  \\\n",
       "0              71.14                       7.27        0.0              9.74   \n",
       "1              25.29                       9.66        0.0             18.39   \n",
       "2              -7.03                      10.95        0.0             15.11   \n",
       "3              29.18                       8.67        0.0             13.41   \n",
       "4              70.63                       7.66       10.7              8.70   \n",
       "\n",
       "   userProfileFilled  \n",
       "0                  1  \n",
       "1                  1  \n",
       "2                  4  \n",
       "3                  3  \n",
       "4                  0  \n",
       "\n",
       "[5 rows x 29 columns]"
      ]
     },
     "execution_count": 8,
     "metadata": {},
     "output_type": "execute_result"
    }
   ],
   "source": [
    "X.head()"
   ]
  },
  {
   "cell_type": "code",
   "execution_count": 9,
   "metadata": {},
   "outputs": [
    {
     "data": {
      "text/html": [
       "<div>\n",
       "<style scoped>\n",
       "    .dataframe tbody tr th:only-of-type {\n",
       "        vertical-align: middle;\n",
       "    }\n",
       "\n",
       "    .dataframe tbody tr th {\n",
       "        vertical-align: top;\n",
       "    }\n",
       "\n",
       "    .dataframe thead th {\n",
       "        text-align: right;\n",
       "    }\n",
       "</style>\n",
       "<table border=\"1\" class=\"dataframe\">\n",
       "  <thead>\n",
       "    <tr style=\"text-align: right;\">\n",
       "      <th></th>\n",
       "      <th>Reputation</th>\n",
       "      <th>experienceInTime</th>\n",
       "      <th>Views</th>\n",
       "      <th>Upvotes</th>\n",
       "      <th>Downvotes</th>\n",
       "      <th>tagCount</th>\n",
       "      <th>closed</th>\n",
       "      <th>lowerUpperRatio</th>\n",
       "      <th>numAns</th>\n",
       "      <th>numQues</th>\n",
       "      <th>...</th>\n",
       "      <th>shortWordCount</th>\n",
       "      <th>bodyWordCount</th>\n",
       "      <th>punctuationCount</th>\n",
       "      <th>tagWeightSum</th>\n",
       "      <th>gunningFog</th>\n",
       "      <th>fleschReadingEase</th>\n",
       "      <th>daleChallReadabilityScore</th>\n",
       "      <th>smogIndex</th>\n",
       "      <th>colemanLiauIndex</th>\n",
       "      <th>userProfileFilled</th>\n",
       "    </tr>\n",
       "  </thead>\n",
       "  <tbody>\n",
       "  </tbody>\n",
       "</table>\n",
       "<p>0 rows × 29 columns</p>\n",
       "</div>"
      ],
      "text/plain": [
       "Empty DataFrame\n",
       "Columns: [Reputation, experienceInTime, Views, Upvotes, Downvotes, tagCount, closed, lowerUpperRatio, numAns, numQues, sentenceCount, firstLineLength, codeLength, urlCount, SOUrlCount, titleLengthInChars, countOfInterrogativeSent, sentencesStartWithYouCount, sentencesStartWithICount, shortWordCount, bodyWordCount, punctuationCount, tagWeightSum, gunningFog, fleschReadingEase, daleChallReadabilityScore, smogIndex, colemanLiauIndex, userProfileFilled]\n",
       "Index: []\n",
       "\n",
       "[0 rows x 29 columns]"
      ]
     },
     "execution_count": 9,
     "metadata": {},
     "output_type": "execute_result"
    }
   ],
   "source": [
    "X[np.isinf(X).any(axis=1)]"
   ]
  },
  {
   "cell_type": "code",
   "execution_count": 10,
   "metadata": {},
   "outputs": [
    {
     "name": "stdout",
     "output_type": "stream",
     "text": [
      "(159996,)\n"
     ]
    }
   ],
   "source": [
    "y = X.closed\n",
    "X.drop(['closed'],inplace=True,axis=1)\n",
    "print(y.shape)"
   ]
  },
  {
   "cell_type": "code",
   "execution_count": 11,
   "metadata": {},
   "outputs": [
    {
     "data": {
      "text/plain": [
       "Index(['Reputation', 'experienceInTime', 'Views', 'Upvotes', 'Downvotes',\n",
       "       'tagCount', 'lowerUpperRatio', 'numAns', 'numQues', 'sentenceCount',\n",
       "       'firstLineLength', 'codeLength', 'urlCount', 'SOUrlCount',\n",
       "       'titleLengthInChars', 'countOfInterrogativeSent',\n",
       "       'sentencesStartWithYouCount', 'sentencesStartWithICount',\n",
       "       'shortWordCount', 'bodyWordCount', 'punctuationCount', 'tagWeightSum',\n",
       "       'gunningFog', 'fleschReadingEase', 'daleChallReadabilityScore',\n",
       "       'smogIndex', 'colemanLiauIndex', 'userProfileFilled'],\n",
       "      dtype='object')"
      ]
     },
     "execution_count": 11,
     "metadata": {},
     "output_type": "execute_result"
    }
   ],
   "source": [
    "X.columns"
   ]
  },
  {
   "cell_type": "code",
   "execution_count": 12,
   "metadata": {},
   "outputs": [
    {
     "name": "stdout",
     "output_type": "stream",
     "text": [
      "<class 'numpy.ndarray'>\n"
     ]
    }
   ],
   "source": [
    "# x=(x-u)/std\n",
    "\n",
    "from sklearn.preprocessing import StandardScaler\n",
    "scaler = StandardScaler()\n",
    "#print(scaler.fit(X))\n",
    "#print(scaler.mean_)\n",
    "X=scaler.fit_transform(X)\n",
    "print(type(X))\n",
    "X = pd.DataFrame(X, columns=['Reputation', 'experienceInTime', 'Views', 'Upvotes', 'Downvotes',\n",
    "       'tagCount', 'lowerUpperRatio','numAns','numQues', 'sentenceCount', 'firstLineLength',\n",
    "       'codeLength', 'urlCount', 'SOUrlCount', 'titleLengthInChars',\n",
    "       'countOfInterrogativeSent', 'sentencesStartWithYouCount',\n",
    "       'sentencesStartWithICount', 'shortWordCount', 'bodyWordCount',\n",
    "       'punctuationCount', 'tagWeightSum', 'gunningFog',\n",
    "       'fleschReadingEase', 'daleChallReadabilityScore', 'smogIndex',\n",
    "       'colemanLiauIndex', 'userProfileFilled'])"
   ]
  },
  {
   "cell_type": "markdown",
   "metadata": {},
   "source": [
    "### Splitting data to Train - Test sets"
   ]
  },
  {
   "cell_type": "code",
   "execution_count": 13,
   "metadata": {},
   "outputs": [
    {
     "name": "stdout",
     "output_type": "stream",
     "text": [
      "(111997, 28)\n",
      "(111997,)\n",
      "(47999, 28)\n",
      "(47999,)\n"
     ]
    }
   ],
   "source": [
    "#Train/Test Split\n",
    "X_train,X_test,y_train,y_test=train_test_split(X,y,test_size=0.3,random_state=42)\n",
    "print(X_train.shape)\n",
    "print(y_train.shape)\n",
    "print(X_test.shape)\n",
    "print(y_test.shape)"
   ]
  },
  {
   "cell_type": "markdown",
   "metadata": {},
   "source": [
    "### Training Random Forest Classifier"
   ]
  },
  {
   "cell_type": "code",
   "execution_count": 14,
   "metadata": {},
   "outputs": [
    {
     "name": "stderr",
     "output_type": "stream",
     "text": [
      "/home/cody/miniconda3/lib/python3.6/site-packages/sklearn/ensemble/weight_boosting.py:29: DeprecationWarning: numpy.core.umath_tests is an internal NumPy module and should not be imported. It will be removed in a future NumPy release.\n",
      "  from numpy.core.umath_tests import inner1d\n"
     ]
    }
   ],
   "source": [
    "from sklearn.ensemble import RandomForestClassifier\n",
    "from sklearn.metrics import precision_recall_fscore_support as score\n",
    "from sklearn.model_selection import train_test_split\n",
    "\n",
    "\n",
    "rf = RandomForestClassifier(n_estimators=50, max_depth = 20 , n_jobs = -1)\n",
    "rf_model = rf.fit(X_train,y_train)"
   ]
  },
  {
   "cell_type": "code",
   "execution_count": 15,
   "metadata": {},
   "outputs": [
    {
     "name": "stdout",
     "output_type": "stream",
     "text": [
      "Precision : 0.883 / Recall : 0.927 / Accuracy : 0.901 / \n"
     ]
    }
   ],
   "source": [
    "y_pred = rf_model.predict(X_test)\n",
    "\n",
    "precision,recall,fscore,support = score(y_test,y_pred,pos_label=1,average='binary')\n",
    "print(\"Precision : {} / Recall : {} / Accuracy : {} / \".format(round(precision,3),\n",
    "                                                                round(recall,3),\n",
    "                                                                round((y_pred==y_test).sum()/len(y_pred),3)))"
   ]
  },
  {
   "cell_type": "markdown",
   "metadata": {},
   "source": [
    "### Evaluating Model's Performance"
   ]
  },
  {
   "cell_type": "code",
   "execution_count": 16,
   "metadata": {},
   "outputs": [
    {
     "data": {
      "text/plain": [
       "0.9013937790370633"
      ]
     },
     "execution_count": 16,
     "metadata": {},
     "output_type": "execute_result"
    }
   ],
   "source": [
    "#Accuracy\n",
    "np.mean(y_pred==y_test)"
   ]
  },
  {
   "cell_type": "code",
   "execution_count": 17,
   "metadata": {},
   "outputs": [
    {
     "name": "stdout",
     "output_type": "stream",
     "text": [
      "             precision    recall  f1-score   support\n",
      "\n",
      "          0       0.92      0.88      0.90     23916\n",
      "          1       0.88      0.93      0.90     24083\n",
      "\n",
      "avg / total       0.90      0.90      0.90     47999\n",
      "\n",
      "Precision: 0.9024569970477725\n",
      "Recall: 0.9013053840804788\n",
      "F1 Score:0.9013133829304992\n",
      "(0.9024569970477725, 0.9013053840804788, 0.9013133829304992, None)\n"
     ]
    }
   ],
   "source": [
    "print(classification_report(y_test,y_pred) )\n",
    "print(\"Precision: \"+str(precision_score(y_test, y_pred, average='macro')) )\n",
    "print(\"Recall: \"+str(recall_score(y_test, y_pred, average='macro')) )\n",
    "print(\"F1 Score:\"+str(f1_score(y_test, y_pred, average='macro')) )\n",
    "print(precision_recall_fscore_support(y_test, y_pred, average='macro') )\n",
    "# Precision, recall, fscore, support in order"
   ]
  },
  {
   "cell_type": "code",
   "execution_count": 16,
   "metadata": {},
   "outputs": [],
   "source": [
    "#print(classification_report(y_test,y_pred))"
   ]
  },
  {
   "cell_type": "markdown",
   "metadata": {},
   "source": [
    "### 5 Fold Cross Validation"
   ]
  },
  {
   "cell_type": "code",
   "execution_count": 18,
   "metadata": {},
   "outputs": [
    {
     "data": {
      "text/plain": [
       "array([0.82090625, 0.81202538, 0.89896559, 0.87771493, 0.78133692])"
      ]
     },
     "execution_count": 18,
     "metadata": {},
     "output_type": "execute_result"
    }
   ],
   "source": [
    "from sklearn.model_selection import GridSearchCV\n",
    "from sklearn.model_selection import KFold,cross_val_score\n",
    "k_fold = KFold(n_splits=5)\n",
    "    \n",
    "cross_val_score(rf,X,y,cv=k_fold,scoring='accuracy',n_jobs=-1)"
   ]
  },
  {
   "cell_type": "markdown",
   "metadata": {},
   "source": [
    "### Inspecting feature importance "
   ]
  },
  {
   "cell_type": "code",
   "execution_count": 20,
   "metadata": {},
   "outputs": [
    {
     "data": {
      "text/plain": [
       "[(0.18429871502429152, 'codeLength'),\n",
       " (0.18226156735717733, 'punctuationCount'),\n",
       " (0.1299188666458687, 'colemanLiauIndex'),\n",
       " (0.06087973539062523, 'tagWeightSum'),\n",
       " (0.05207683857631808, 'smogIndex'),\n",
       " (0.05039793631971837, 'fleschReadingEase'),\n",
       " (0.04741476596724372, 'gunningFog'),\n",
       " (0.02746863519439113, 'bodyWordCount'),\n",
       " (0.02641879041124213, 'experienceInTime'),\n",
       " (0.02606178834980176, 'daleChallReadabilityScore')]"
      ]
     },
     "execution_count": 20,
     "metadata": {},
     "output_type": "execute_result"
    }
   ],
   "source": [
    "sorted(zip(rf_model.feature_importances_,X_train.columns),reverse=True)[0:10]"
   ]
  },
  {
   "cell_type": "code",
   "execution_count": 22,
   "metadata": {},
   "outputs": [
    {
     "data": {
      "image/png": "[encoded data removed]",
      "text/plain": [
       "<Figure size 432x288 with 1 Axes>"
      ]
     },
     "metadata": {
      "needs_background": "light"
     },
     "output_type": "display_data"
    }
   ],
   "source": [
    "import matplotlib.pyplot as plt\n",
    "features = X_train.columns\n",
    "importances = rf_model.feature_importances_\n",
    "indices = np.argsort(importances)\n",
    "\n",
    "plt.title('Feature Importance')\n",
    "plt.bar(range(len(indices)), importances[indices], color='b', align='center')\n",
    "plt.xticks(range(len(indices)), [features[i] for i in indices],rotation='vertical')\n",
    "plt.ylabel('Relative Importance')\n",
    "plt.show()"
   ]
  },
  {
   "cell_type": "code",
   "execution_count": 41,
   "metadata": {},
   "outputs": [
    {
     "data": {
      "image/png": "[encoded data removed]",
      "text/plain": [
       "<Figure size 432x288 with 1 Axes>"
      ]
     },
     "metadata": {
      "needs_background": "light"
     },
     "output_type": "display_data"
    }
   ],
   "source": [
    "plt.hist(openCloseData[openCloseData['closed']==1]['punctuationCount'],bins=np.linspace(0,400,40),normed=True,label='Closed',alpha=0.5)\n",
    "plt.hist(openCloseData[openCloseData['closed']==0]['punctuationCount'],bins=np.linspace(0,400,40),normed=True,label='Not Closed',alpha=0.7)\n",
    "\n",
    "plt.show()"
   ]
  },
  {
   "cell_type": "code",
   "execution_count": null,
   "metadata": {},
   "outputs": [],
   "source": []
  }
 ],
 "metadata": {
  "kernelspec": {
   "display_name": "Python 3",
   "language": "python",
   "name": "python3"
  },
  "language_info": {
   "codemirror_mode": {
    "name": "ipython",
    "version": 3
   },
   "file_extension": ".py",
   "mimetype": "text/x-python",
   "name": "python",
   "nbconvert_exporter": "python",
   "pygments_lexer": "ipython3",
   "version": "3.6.5"
  }
 },
 "nbformat": 4,
 "nbformat_minor": 2
}
