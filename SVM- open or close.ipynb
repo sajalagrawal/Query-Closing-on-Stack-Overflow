{
 "cells": [
  {
   "cell_type": "markdown",
   "metadata": {},
   "source": [
    "### SVM Classifiers for classification of open/close questions"
   ]
  },
  {
   "cell_type": "code",
   "execution_count": 1,
   "metadata": {
    "scrolled": false
   },
   "outputs": [],
   "source": [
    "import pandas as pd\n",
    "import numpy as np\n",
    "from sklearn.svm import LinearSVC\n",
    "from sklearn.model_selection import train_test_split\n",
    "from sklearn.metrics import classification_report\n",
    "import matplotlib.pyplot as plt"
   ]
  },
  {
   "cell_type": "code",
   "execution_count": 2,
   "metadata": {
    "scrolled": false
   },
   "outputs": [],
   "source": [
    "openCloseData = pd.read_csv('openCloseData8.csv')"
   ]
  },
  {
   "cell_type": "code",
   "execution_count": 3,
   "metadata": {
    "scrolled": false
   },
   "outputs": [
    {
     "data": {
      "text/plain": [
       "Index(['Unnamed: 0', 'PostId', 'UserId', 'Comment', 'Body', 'Title', 'Tags',\n",
       "       'Reputation', 'experienceInTime', 'WebsiteUrl', 'Location', 'AboutMe',\n",
       "       'Views', 'Upvotes', 'Downvotes', 'ProfileImageUrl', 'tagCount',\n",
       "       'closed', 'lowerUpperRatio', 'sentenceCount', 'firstLineLength',\n",
       "       'codeLength', 'urlCount', 'SOUrlCount', 'titleLengthInChars',\n",
       "       'countOfInterrogativeSent', 'sentencesStartWithYouCount',\n",
       "       'sentencesStartWithICount', 'shortWordCount', 'bodyWordCount',\n",
       "       'punctuationCount', 'websiteUrlFilled', 'locationFilled',\n",
       "       'aboutMeFilled', 'profileImageUrlFilled', 'tagWeightSum', 'gunningFog',\n",
       "       'fleschReadingEase', 'daleChallReadabilityScore', 'smogIndex',\n",
       "       'colemanLiauIndex', 'userProfileFilled'],\n",
       "      dtype='object')"
      ]
     },
     "execution_count": 3,
     "metadata": {},
     "output_type": "execute_result"
    }
   ],
   "source": [
    "openCloseData.columns"
   ]
  },
  {
   "cell_type": "code",
   "execution_count": 4,
   "metadata": {
    "scrolled": false
   },
   "outputs": [
    {
     "name": "stdout",
     "output_type": "stream",
     "text": [
      "(159996, 42)\n",
      "(159996, 41)\n"
     ]
    }
   ],
   "source": [
    "print(openCloseData.shape)\n",
    "openCloseData.drop(['Unnamed: 0'],inplace=True,axis=1)\n",
    "print(openCloseData.shape)"
   ]
  },
  {
   "cell_type": "code",
   "execution_count": 5,
   "metadata": {
    "scrolled": false
   },
   "outputs": [
    {
     "name": "stdout",
     "output_type": "stream",
     "text": [
      "(159996, 27)\n",
      "<class 'pandas.core.frame.DataFrame'>\n"
     ]
    }
   ],
   "source": [
    "X = openCloseData.loc[:,['Reputation',\n",
    "       'experienceInTime', 'Views',\n",
    "       'Upvotes', 'Downvotes', 'tagCount', 'closed',\n",
    "       'lowerUpperRatio', 'sentenceCount', 'firstLineLength', 'codeLength',\n",
    "       'urlCount', 'SOUrlCount', 'titleLengthInChars',\n",
    "       'countOfInterrogativeSent', 'sentencesStartWithYouCount',\n",
    "       'sentencesStartWithICount', 'shortWordCount', 'bodyWordCount',\n",
    "       'punctuationCount', 'tagWeightSum', 'gunningFog',\n",
    "       'fleschReadingEase', 'daleChallReadabilityScore', 'smogIndex',\n",
    "       'colemanLiauIndex', 'userProfileFilled'] ]\n",
    "\n",
    "\n",
    "X.replace(np.nan,0,inplace=True)  #replacing NaN to 0\n",
    "X.lowerUpperRatio.replace(np.inf,0,inplace=True)  #replacing infinity to 0\n",
    "print(X.shape)\n",
    "print(type(X))"
   ]
  },
  {
   "cell_type": "code",
   "execution_count": 6,
   "metadata": {
    "scrolled": false
   },
   "outputs": [],
   "source": [
    "# X.dtypes"
   ]
  },
  {
   "cell_type": "code",
   "execution_count": 7,
   "metadata": {
    "scrolled": false
   },
   "outputs": [
    {
     "name": "stdout",
     "output_type": "stream",
     "text": [
      "(159996,)\n",
      "(159996, 26)\n"
     ]
    }
   ],
   "source": [
    "y = X.closed\n",
    "X.drop(['closed'],inplace=True,axis=1)\n",
    "print(y.shape)\n",
    "print(X.shape)"
   ]
  },
  {
   "cell_type": "code",
   "execution_count": 8,
   "metadata": {
    "scrolled": false
   },
   "outputs": [
    {
     "name": "stdout",
     "output_type": "stream",
     "text": [
      "<class 'numpy.ndarray'>\n"
     ]
    }
   ],
   "source": [
    "# x=(x-u)/std\n",
    "\n",
    "from sklearn.preprocessing import StandardScaler\n",
    "scaler = StandardScaler()\n",
    "#print(scaler.fit(X))\n",
    "#print(scaler.mean_)\n",
    "X=scaler.fit_transform(X)\n",
    "print(type(X))\n",
    "X = pd.DataFrame(X, columns=['Reputation', 'experienceInTime', 'Views', 'Upvotes', 'Downvotes',\n",
    "       'tagCount', 'lowerUpperRatio', 'sentenceCount', 'firstLineLength',\n",
    "       'codeLength', 'urlCount', 'SOUrlCount', 'titleLengthInChars',\n",
    "       'countOfInterrogativeSent', 'sentencesStartWithYouCount',\n",
    "       'sentencesStartWithICount', 'shortWordCount', 'bodyWordCount',\n",
    "       'punctuationCount', 'tagWeightSum', 'gunningFog',\n",
    "       'fleschReadingEase', 'daleChallReadabilityScore', 'smogIndex',\n",
    "       'colemanLiauIndex', 'userProfileFilled'])"
   ]
  },
  {
   "cell_type": "markdown",
   "metadata": {},
   "source": [
    "#### Splitting Data to Training and Testing Data"
   ]
  },
  {
   "cell_type": "code",
   "execution_count": 9,
   "metadata": {
    "scrolled": false
   },
   "outputs": [],
   "source": [
    "#Train/Test Split\n",
    "X_train,X_test,y_train,y_test=train_test_split(X,y,test_size=0.3,random_state=42)"
   ]
  },
  {
   "cell_type": "code",
   "execution_count": 10,
   "metadata": {
    "scrolled": true
   },
   "outputs": [
    {
     "name": "stdout",
     "output_type": "stream",
     "text": [
      "        Reputation  experienceInTime     Views   Upvotes  Downvotes  tagCount  \\\n",
      "29416    -0.115114          0.452619 -0.010520  0.398696  -0.053556 -0.738430   \n",
      "58063    -0.183569          0.678131 -0.169540 -0.230655  -0.065531 -1.553673   \n",
      "62206    -0.116962          0.013553 -0.106049 -0.059482   0.003322  0.892056   \n",
      "14790    -0.178488         -0.871412 -0.170123 -0.291145  -0.065531 -1.553673   \n",
      "152752   -0.172206         -0.000114 -0.132261 -0.273127  -0.062537  1.707299   \n",
      "\n",
      "        lowerUpperRatio  sentenceCount  firstLineLength  codeLength  \\\n",
      "29416          0.363113      -0.447533         0.536288   -0.049610   \n",
      "58063         -0.593793      -0.447533        -0.532632   -0.394312   \n",
      "62206          1.022602       0.364392        -0.286780   -0.394312   \n",
      "14790         -0.373039      -0.086677         0.322504   -0.394312   \n",
      "152752         0.170762      -0.176891        -0.190577   -0.345069   \n",
      "\n",
      "              ...          shortWordCount  bodyWordCount  punctuationCount  \\\n",
      "29416         ...               -0.773785      -0.749435          0.579190   \n",
      "58063         ...               -1.060492      -1.099452         -0.296994   \n",
      "62206         ...               -0.429736      -0.428585         -0.086710   \n",
      "14790         ...               -0.143029      -0.224408         -0.226899   \n",
      "152752        ...               -0.487078      -0.399417         -0.275965   \n",
      "\n",
      "        tagWeightSum  gunningFog  fleschReadingEase  \\\n",
      "29416       0.783278   -0.080018           0.246750   \n",
      "58063       0.772687   -0.264766           0.648524   \n",
      "62206      -0.013216    1.259180          -1.268874   \n",
      "14790       0.813817    1.125801          -0.994729   \n",
      "152752     -0.997714   -0.326949           0.165531   \n",
      "\n",
      "        daleChallReadabilityScore  smogIndex  colemanLiauIndex  \\\n",
      "29416                   -0.288087  -1.016662         -0.021163   \n",
      "58063                    0.626692  -1.016662          1.374955   \n",
      "62206                    1.606812  -1.016662          2.776257   \n",
      "14790                    0.403442  -1.016662         -0.028074   \n",
      "152752                  -0.070283   0.960018          0.206916   \n",
      "\n",
      "        userProfileFilled  \n",
      "29416            1.313449  \n",
      "58063           -0.486306  \n",
      "62206            1.313449  \n",
      "14790           -0.486306  \n",
      "152752           1.313449  \n",
      "\n",
      "[5 rows x 26 columns]\n"
     ]
    }
   ],
   "source": [
    "print(X_train.head())"
   ]
  },
  {
   "cell_type": "code",
   "execution_count": 11,
   "metadata": {
    "scrolled": false
   },
   "outputs": [
    {
     "name": "stdout",
     "output_type": "stream",
     "text": [
      "(111997, 26)\n"
     ]
    }
   ],
   "source": [
    "print(X_train.shape)"
   ]
  },
  {
   "cell_type": "markdown",
   "metadata": {},
   "source": [
    "### Training LinearSVC"
   ]
  },
  {
   "cell_type": "markdown",
   "metadata": {},
   "source": [
    "#### Tuning value of C"
   ]
  },
  {
   "cell_type": "code",
   "execution_count": 12,
   "metadata": {
    "scrolled": false
   },
   "outputs": [
    {
     "name": "stdout",
     "output_type": "stream",
     "text": [
      "Accuracy for C = 0.5 is : 0.8754\n",
      "Accuracy for C = 1.0 is : 0.8784\n",
      "Accuracy for C = 1.5 is : 0.8797\n",
      "Accuracy for C = 2.0 is : 0.8808\n",
      "Accuracy for C = 2.5 is : 0.8812\n",
      "Accuracy for C = 3.0 is : 0.8821\n",
      "Accuracy for C = 3.5 is : 0.8832\n",
      "Accuracy for C = 4.0 is : 0.8820\n",
      "Accuracy for C = 4.5 is : 0.8832\n",
      "Accuracy for C = 5.0 is : 0.8831\n",
      "Accuracy for C = 5.5 is : 0.8827\n",
      "Accuracy for C = 6.0 is : 0.8838\n",
      "Accuracy for C = 6.5 is : 0.8830\n",
      "Accuracy for C = 7.0 is : 0.8841\n",
      "Accuracy for C = 7.5 is : 0.8841\n",
      "Accuracy for C = 8.0 is : 0.8839\n",
      "Accuracy for C = 8.5 is : 0.8784\n",
      "Accuracy for C = 9.0 is : 0.8825\n",
      "Accuracy for C = 9.5 is : 0.8833\n",
      "Accuracy for C = 10.0 is : 0.8846\n",
      "Accuracy for C = 10.5 is : 0.8823\n",
      "Accuracy for C = 11.0 is : 0.8835\n",
      "Accuracy for C = 11.5 is : 0.8810\n",
      "Accuracy for C = 12.0 is : 0.8332\n",
      "Accuracy for C = 12.5 is : 0.8808\n",
      "Accuracy for C = 13.0 is : 0.8852\n",
      "Accuracy for C = 13.5 is : 0.8850\n",
      "Accuracy for C = 14.0 is : 0.8860\n",
      "Accuracy for C = 14.5 is : 0.8840\n",
      "Accuracy for C = 15.0 is : 0.8817\n",
      "Accuracy for C = 15.5 is : 0.8837\n",
      "Accuracy for C = 16.0 is : 0.8860\n",
      "Accuracy for C = 16.5 is : 0.8813\n",
      "Accuracy for C = 17.0 is : 0.8787\n",
      "Accuracy for C = 17.5 is : 0.8820\n",
      "Accuracy for C = 18.0 is : 0.8829\n",
      "Accuracy for C = 18.5 is : 0.8824\n",
      "Accuracy for C = 19.0 is : 0.8815\n",
      "Accuracy for C = 19.5 is : 0.8808\n"
     ]
    }
   ],
   "source": [
    "c = list(np.arange(0.5, 20, 0.5))\n",
    "accuracy = []\n",
    "y_predicted = np.zeros((y_test.shape))\n",
    "max_accuracy = 0.0\n",
    "linear_svm_classifier = LinearSVC()\n",
    "\n",
    "for i in c:\n",
    "    classifier = LinearSVC(C = i)\n",
    "    classifier.fit(X_train, y_train)\n",
    "    predicted_y = classifier.predict(X_test)\n",
    "    accuracy.append(np.mean(y_test==predicted_y))\n",
    "    print('Accuracy for C = {} is : {:.4f}'.format(i, accuracy[-1]))\n",
    "    if(accuracy[-1] > max_accuracy):\n",
    "        y_predicted = predicted_y\n",
    "        max_accuracy = accuracy[-1]\n",
    "        linear_svm_classifier = classifier"
   ]
  },
  {
   "cell_type": "code",
   "execution_count": 13,
   "metadata": {
    "scrolled": false
   },
   "outputs": [
    {
     "data": {
      "image/png": "[encoded data removed]",
      "text/plain": [
       "<Figure size 720x504 with 1 Axes>"
      ]
     },
     "metadata": {},
     "output_type": "display_data"
    }
   ],
   "source": [
    "plt.figure(figsize=(10,7))\n",
    "plt.plot(c, accuracy)\n",
    "plt.scatter(c, accuracy)\n",
    "plt.title('Accuracy vs C')\n",
    "plt.xlabel('C')\n",
    "plt.ylabel('Accuracy')\n",
    "plt.grid(True)\n",
    "plt.show()"
   ]
  },
  {
   "cell_type": "markdown",
   "metadata": {},
   "source": [
    "#### Evaluating Performance"
   ]
  },
  {
   "cell_type": "code",
   "execution_count": 14,
   "metadata": {
    "scrolled": false
   },
   "outputs": [
    {
     "name": "stdout",
     "output_type": "stream",
     "text": [
      "             precision    recall  f1-score   support\n",
      "\n",
      "          0       0.89      0.88      0.89     24085\n",
      "          1       0.88      0.89      0.89     23914\n",
      "\n",
      "avg / total       0.89      0.89      0.89     47999\n",
      "\n"
     ]
    }
   ],
   "source": [
    "print(classification_report(y_test,y_predicted))"
   ]
  },
  {
   "cell_type": "code",
   "execution_count": 15,
   "metadata": {},
   "outputs": [],
   "source": [
    "from sklearn.model_selection import GridSearchCV\n",
    "from sklearn.model_selection import KFold,cross_val_score\n",
    "k_fold = KFold(n_splits=5)"
   ]
  },
  {
   "cell_type": "code",
   "execution_count": 16,
   "metadata": {
    "scrolled": false
   },
   "outputs": [
    {
     "data": {
      "text/plain": [
       "array([ 0.8525    ,  0.78833714,  0.85724554,  0.82521329,  0.79636864])"
      ]
     },
     "execution_count": 16,
     "metadata": {},
     "output_type": "execute_result"
    }
   ],
   "source": [
    "cross_val_score(linear_svm_classifier,X,y,cv=k_fold,scoring='accuracy',n_jobs=-1)\n",
    "# array([ 0.82046875,  0.57536173,  0.80533767,  0.6511141 ,  0.65498922])"
   ]
  },
  {
   "cell_type": "code",
   "execution_count": 17,
   "metadata": {
    "scrolled": false
   },
   "outputs": [],
   "source": [
    "## Yet to run with openCloseData8.csv\n",
    "\n",
    "# c = list(np.arange(0.1, 1.0, 0.050))\n",
    "# accuracy = []\n",
    "# y_predicted = np.zeros((y_test.shape))\n",
    "# max_accuracy = 0.0\n",
    "# linear_svm_classifier = LinearSVC()\n",
    "\n",
    "# for i in c:\n",
    "#     classifier = LinearSVC(C = i)\n",
    "#     classifier.fit(X_train, y_train)\n",
    "#     predicted_y = classifier.predict(X_test)\n",
    "#     accuracy.append(np.mean(y_test==predicted_y))\n",
    "#     print('Accuracy for C = {:.2f} is : {:.4f}'.format(i, accuracy[-1]))\n",
    "#     if(accuracy[-1] > max_accuracy):\n",
    "#         y_predicted = predicted_y\n",
    "#         max_accuracy = accuracy[-1]\n",
    "#         linear_svm_classifier = classifier"
   ]
  },
  {
   "cell_type": "markdown",
   "metadata": {},
   "source": [
    "### Training RBF kernel"
   ]
  },
  {
   "cell_type": "code",
   "execution_count": 18,
   "metadata": {
    "scrolled": false
   },
   "outputs": [],
   "source": [
    "from sklearn.svm import SVC"
   ]
  },
  {
   "cell_type": "code",
   "execution_count": 19,
   "metadata": {
    "scrolled": false
   },
   "outputs": [
    {
     "data": {
      "text/plain": [
       "SVC(C=1.0, cache_size=200, class_weight=None, coef0=0.0,\n",
       "  decision_function_shape='ovr', degree=3, gamma='auto', kernel='rbf',\n",
       "  max_iter=-1, probability=False, random_state=None, shrinking=True,\n",
       "  tol=0.001, verbose=False)"
      ]
     },
     "execution_count": 19,
     "metadata": {},
     "output_type": "execute_result"
    }
   ],
   "source": [
    "rbf_svm_classifier = SVC(kernel = 'rbf')\n",
    "rbf_svm_classifier.fit(X_train, y_train)"
   ]
  },
  {
   "cell_type": "code",
   "execution_count": 20,
   "metadata": {
    "scrolled": false
   },
   "outputs": [
    {
     "name": "stdout",
     "output_type": "stream",
     "text": [
      "Accuracy: 0.904289672702\n",
      "             precision    recall  f1-score   support\n",
      "\n",
      "          0       0.91      0.90      0.90     24085\n",
      "          1       0.90      0.91      0.90     23914\n",
      "\n",
      "avg / total       0.90      0.90      0.90     47999\n",
      "\n"
     ]
    }
   ],
   "source": [
    "predicted_y = rbf_svm_classifier.predict(X_test)\n",
    "print('Accuracy: ' + str(np.mean(y_test==predicted_y)))\n",
    "print(classification_report(y_test,predicted_y))"
   ]
  },
  {
   "cell_type": "code",
   "execution_count": null,
   "metadata": {
    "scrolled": false
   },
   "outputs": [],
   "source": [
    "# cross_val_score(rbf_svm_classifier,X,y,cv=k_fold,scoring='accuracy',n_jobs=-1)"
   ]
  },
  {
   "cell_type": "markdown",
   "metadata": {},
   "source": [
    "#### Trying different values of C"
   ]
  },
  {
   "cell_type": "code",
   "execution_count": 21,
   "metadata": {
    "scrolled": false
   },
   "outputs": [
    {
     "name": "stdout",
     "output_type": "stream",
     "text": [
      "Accuracy for C = 2.00 is : 0.9082\n",
      "Accuracy for C = 3.00 is : 0.9092\n",
      "Accuracy for C = 4.00 is : 0.9098\n",
      "Accuracy for C = 5.00 is : 0.9101\n",
      "Accuracy for C = 6.00 is : 0.9101\n",
      "Accuracy for C = 7.00 is : 0.9102\n",
      "Accuracy for C = 8.00 is : 0.9104\n",
      "Accuracy for C = 9.00 is : 0.9105\n",
      "Accuracy for C = 10.00 is : 0.9110\n"
     ]
    }
   ],
   "source": [
    "c_rbf = list(np.arange(2, 11))\n",
    "accuracy_rbf = []\n",
    "y_predicted = np.zeros((y_test.shape))\n",
    "max_accuracy_rbf = 0.0\n",
    "rbf_svm_classifier = SVC(kernel = 'rbf')\n",
    "\n",
    "for i in c_rbf:\n",
    "    classifier = SVC(kernel = 'rbf', C = i)\n",
    "    classifier.fit(X_train, y_train)\n",
    "    predicted_y = classifier.predict(X_test)\n",
    "    accuracy_rbf.append(np.mean(y_test==predicted_y))\n",
    "    print('Accuracy for C = {:.2f} is : {:.4f}'.format(i, accuracy_rbf[-1]))\n",
    "    if(accuracy_rbf[-1] > max_accuracy_rbf):\n",
    "        y_predicted = predicted_y\n",
    "        max_accuracy_rbf = accuracy_rbf[-1]\n",
    "        rbf_svm_classifier = classifier\n"
   ]
  },
  {
   "cell_type": "code",
   "execution_count": 22,
   "metadata": {},
   "outputs": [
    {
     "data": {
      "image/png": "[encoded data removed]",
      "text/plain": [
       "<Figure size 720x504 with 1 Axes>"
      ]
     },
     "metadata": {},
     "output_type": "display_data"
    }
   ],
   "source": [
    "plt.figure(figsize=(10,7))\n",
    "plt.plot(c_rbf, accuracy_rbf)\n",
    "plt.scatter(c_rbf, accuracy_rbf)\n",
    "plt.title('Accuracy vs C')\n",
    "plt.xlabel('C')\n",
    "plt.ylabel('Accuracy')\n",
    "plt.grid(True)\n",
    "plt.show()"
   ]
  },
  {
   "cell_type": "code",
   "execution_count": 23,
   "metadata": {},
   "outputs": [
    {
     "name": "stdout",
     "output_type": "stream",
     "text": [
      "             precision    recall  f1-score   support\n",
      "\n",
      "          0       0.92      0.90      0.91     24085\n",
      "          1       0.90      0.92      0.91     23914\n",
      "\n",
      "avg / total       0.91      0.91      0.91     47999\n",
      "\n"
     ]
    }
   ],
   "source": [
    "print(classification_report(y_test,y_predicted))"
   ]
  },
  {
   "cell_type": "code",
   "execution_count": null,
   "metadata": {
    "scrolled": false
   },
   "outputs": [],
   "source": [
    "# TODO\n",
    "# try different values of gamma "
   ]
  },
  {
   "cell_type": "markdown",
   "metadata": {},
   "source": [
    "### Training poly kernel"
   ]
  },
  {
   "cell_type": "code",
   "execution_count": 24,
   "metadata": {
    "scrolled": false
   },
   "outputs": [
    {
     "data": {
      "text/plain": [
       "SVC(C=1.0, cache_size=200, class_weight=None, coef0=0.0,\n",
       "  decision_function_shape='ovr', degree=3, gamma='auto', kernel='poly',\n",
       "  max_iter=-1, probability=False, random_state=None, shrinking=True,\n",
       "  tol=0.001, verbose=False)"
      ]
     },
     "execution_count": 24,
     "metadata": {},
     "output_type": "execute_result"
    }
   ],
   "source": [
    "poly_svm_classifier = SVC(kernel = 'poly')\n",
    "poly_svm_classifier.fit(X_train, y_train)"
   ]
  },
  {
   "cell_type": "code",
   "execution_count": 25,
   "metadata": {
    "scrolled": false
   },
   "outputs": [
    {
     "name": "stdout",
     "output_type": "stream",
     "text": [
      "Accuracy: 0.878101627117\n",
      "             precision    recall  f1-score   support\n",
      "\n",
      "          0       0.86      0.91      0.88     24085\n",
      "          1       0.90      0.85      0.87     23914\n",
      "\n",
      "avg / total       0.88      0.88      0.88     47999\n",
      "\n"
     ]
    }
   ],
   "source": [
    "predicted_y = poly_svm_classifier.predict(X_test)\n",
    "print('Accuracy: ' + str(np.mean(y_test==predicted_y)))\n",
    "print(classification_report(y_test,predicted_y))"
   ]
  },
  {
   "cell_type": "code",
   "execution_count": 26,
   "metadata": {
    "scrolled": false
   },
   "outputs": [],
   "source": [
    "# cross_val_score(poly_svm_classifier,X,y,cv=k_fold,scoring='accuracy',n_jobs=-1)"
   ]
  },
  {
   "cell_type": "markdown",
   "metadata": {},
   "source": [
    "#### Using sigmoid kernel"
   ]
  },
  {
   "cell_type": "code",
   "execution_count": 28,
   "metadata": {
    "scrolled": false
   },
   "outputs": [],
   "source": [
    "# sigmoid_svm_classifier = SVC(kernel = 'sigmoid')\n",
    "# sigmoid_svm_classifier.fit(X_train, y_train)"
   ]
  },
  {
   "cell_type": "code",
   "execution_count": 29,
   "metadata": {
    "scrolled": false
   },
   "outputs": [],
   "source": [
    "# predicted_y = sigmoid_svm_classifier.predict(X_test)\n",
    "# print('Accuracy: ' + str(np.mean(y_test==predicted_y)))\n",
    "# print(classification_report(y_test,predicted_y))"
   ]
  }
 ],
 "metadata": {
  "kernelspec": {
   "display_name": "Python 3",
   "language": "python",
   "name": "python3"
  },
  "language_info": {
   "codemirror_mode": {
    "name": "ipython",
    "version": 3
   },
   "file_extension": ".py",
   "mimetype": "text/x-python",
   "name": "python",
   "nbconvert_exporter": "python",
   "pygments_lexer": "ipython3",
   "version": "3.6.8"
  }
 },
 "nbformat": 4,
 "nbformat_minor": 2
}
