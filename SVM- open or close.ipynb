{
 "cells": [
  {
   "cell_type": "markdown",
   "metadata": {},
   "source": [
    "### SVM Classifiers for classification of open/close questions"
   ]
  },
  {
   "cell_type": "code",
   "execution_count": 1,
   "metadata": {
    "scrolled": false
   },
   "outputs": [],
   "source": [
    "import pandas as pd\n",
    "import numpy as np\n",
    "from sklearn.svm import LinearSVC\n",
    "from sklearn.model_selection import train_test_split\n",
    "from sklearn.metrics import classification_report\n",
    "import matplotlib.pyplot as plt"
   ]
  },
  {
   "cell_type": "code",
   "execution_count": 2,
   "metadata": {
    "scrolled": false
   },
   "outputs": [],
   "source": [
    "openCloseData = pd.read_csv('openCloseData9.csv')"
   ]
  },
  {
   "cell_type": "code",
   "execution_count": 3,
   "metadata": {
    "scrolled": false
   },
   "outputs": [
    {
     "data": {
      "text/plain": [
       "Index(['Unnamed: 0', 'AboutMe', 'Body', 'Comment', 'Downvotes', 'Location',\n",
       "       'PostId', 'ProfileImageUrl', 'Reputation', 'SOUrlCount', 'Tags',\n",
       "       'Title', 'Unnamed: 0.1', 'Upvotes', 'UserId', 'Views', 'WebsiteUrl',\n",
       "       'aboutMeFilled', 'bodyWordCount', 'closed', 'codeLength',\n",
       "       'colemanLiauIndex', 'countOfInterrogativeSent',\n",
       "       'daleChallReadabilityScore', 'experienceInTime', 'firstLineLength',\n",
       "       'fleschReadingEase', 'gunningFog', 'locationFilled', 'lowerUpperRatio',\n",
       "       'numAns', 'numPR', 'numPeopleReached', 'numQues',\n",
       "       'profileImageUrlFilled', 'punctuationCount', 'sentenceCount',\n",
       "       'sentencesStartWithICount', 'sentencesStartWithYouCount',\n",
       "       'shortWordCount', 'smogIndex', 'tagCount', 'tagWeightSum',\n",
       "       'titleLengthInChars', 'urlCount', 'userProfileFilled',\n",
       "       'websiteUrlFilled'],\n",
       "      dtype='object')"
      ]
     },
     "execution_count": 3,
     "metadata": {},
     "output_type": "execute_result"
    }
   ],
   "source": [
    "openCloseData.columns"
   ]
  },
  {
   "cell_type": "code",
   "execution_count": 4,
   "metadata": {
    "scrolled": false
   },
   "outputs": [
    {
     "name": "stdout",
     "output_type": "stream",
     "text": [
      "(159996, 47)\n",
      "(159996, 46)\n"
     ]
    }
   ],
   "source": [
    "print(openCloseData.shape)\n",
    "openCloseData.drop(['Unnamed: 0'],inplace=True,axis=1)\n",
    "print(openCloseData.shape)"
   ]
  },
  {
   "cell_type": "code",
   "execution_count": 5,
   "metadata": {
    "scrolled": false
   },
   "outputs": [
    {
     "name": "stdout",
     "output_type": "stream",
     "text": [
      "(159996, 29)\n",
      "<class 'pandas.core.frame.DataFrame'>\n"
     ]
    }
   ],
   "source": [
    "X = openCloseData.loc[:,['Reputation',\n",
    "       'experienceInTime', 'Views',\n",
    "       'Upvotes', 'Downvotes', 'tagCount', 'closed',\n",
    "       'lowerUpperRatio', 'sentenceCount', 'firstLineLength', 'codeLength',\n",
    "       'urlCount', 'SOUrlCount', 'titleLengthInChars',\n",
    "       'countOfInterrogativeSent', 'sentencesStartWithYouCount',\n",
    "       'sentencesStartWithICount', 'shortWordCount', 'bodyWordCount',\n",
    "       'punctuationCount', 'tagWeightSum', 'gunningFog',\n",
    "       'fleschReadingEase', 'daleChallReadabilityScore', 'smogIndex',\n",
    "       'colemanLiauIndex', 'userProfileFilled', 'numAns', 'numQues'] ]\n",
    "\n",
    "\n",
    "X.replace(np.nan,0,inplace=True)  #replacing NaN to 0\n",
    "X.lowerUpperRatio.replace(np.inf,0,inplace=True)  #replacing infinity to 0\n",
    "print(X.shape)\n",
    "print(type(X))"
   ]
  },
  {
   "cell_type": "code",
   "execution_count": 6,
   "metadata": {
    "scrolled": false
   },
   "outputs": [],
   "source": [
    "# X.dtypes"
   ]
  },
  {
   "cell_type": "code",
   "execution_count": 6,
   "metadata": {
    "scrolled": false
   },
   "outputs": [
    {
     "name": "stdout",
     "output_type": "stream",
     "text": [
      "(159996,)\n",
      "(159996, 28)\n"
     ]
    }
   ],
   "source": [
    "y = X.closed\n",
    "X.drop(['closed'],inplace=True,axis=1)\n",
    "print(y.shape)\n",
    "print(X.shape)"
   ]
  },
  {
   "cell_type": "code",
   "execution_count": 8,
   "metadata": {
    "scrolled": false
   },
   "outputs": [
    {
     "name": "stdout",
     "output_type": "stream",
     "text": [
      "<class 'numpy.ndarray'>\n"
     ]
    }
   ],
   "source": [
    "# x=(x-u)/std\n",
    "\n",
    "from sklearn.preprocessing import StandardScaler\n",
    "scaler = StandardScaler()\n",
    "#print(scaler.fit(X))\n",
    "#print(scaler.mean_)\n",
    "X=scaler.fit_transform(X)\n",
    "print(type(X))\n",
    "X = pd.DataFrame(X, columns=['Reputation', 'experienceInTime', 'Views', 'Upvotes', 'Downvotes',\n",
    "       'tagCount', 'lowerUpperRatio', 'sentenceCount', 'firstLineLength',\n",
    "       'codeLength', 'urlCount', 'SOUrlCount', 'titleLengthInChars',\n",
    "       'countOfInterrogativeSent', 'sentencesStartWithYouCount',\n",
    "       'sentencesStartWithICount', 'shortWordCount', 'bodyWordCount',\n",
    "       'punctuationCount', 'tagWeightSum', 'gunningFog',\n",
    "       'fleschReadingEase', 'daleChallReadabilityScore', 'smogIndex',\n",
    "       'colemanLiauIndex', 'userProfileFilled', 'numAns', 'numQues'])"
   ]
  },
  {
   "cell_type": "markdown",
   "metadata": {},
   "source": [
    "#### Splitting Data to Training and Testing Data"
   ]
  },
  {
   "cell_type": "code",
   "execution_count": 9,
   "metadata": {
    "scrolled": false
   },
   "outputs": [],
   "source": [
    "#Train/Test Split\n",
    "X_train,X_test,y_train,y_test=train_test_split(X,y,test_size=0.3,random_state=42)"
   ]
  },
  {
   "cell_type": "code",
   "execution_count": 10,
   "metadata": {
    "scrolled": true
   },
   "outputs": [
    {
     "name": "stdout",
     "output_type": "stream",
     "text": [
      "        Reputation  experienceInTime     Views   Upvotes  Downvotes  tagCount  \\\n",
      "29416    -0.186063         -0.804784 -0.168376 -0.291145  -0.065531  1.707299   \n",
      "58063    -0.186340         -0.871412 -0.175365 -0.291145  -0.065531  0.076813   \n",
      "62206    -0.170266         -0.364009 -0.166046 -0.249961  -0.059543  0.892056   \n",
      "14790    -0.182922         -0.796241 -0.170123 -0.273127  -0.065531  1.707299   \n",
      "152752   -0.182737         -0.866287 -0.168376 -0.284710  -0.065531  1.707299   \n",
      "\n",
      "        lowerUpperRatio  sentenceCount  firstLineLength  codeLength    ...     \\\n",
      "29416         -0.146375      -0.086677        -0.511253    2.121950    ...      \n",
      "58063          0.421303      -0.176891        -0.350915   -0.385296    ...      \n",
      "62206         -0.925224       5.687009        -0.201267    0.739670    ...      \n",
      "14790          0.004567      -0.357319         1.476937    0.218801    ...      \n",
      "152752         0.094962       0.003536         0.354572   -0.394312    ...      \n",
      "\n",
      "        punctuationCount  tagWeightSum  gunningFog  fleschReadingEase  \\\n",
      "29416          -0.247927     -0.265550   -0.469341           0.465850   \n",
      "58063          -0.275965     -0.479731   -0.495476           0.302334   \n",
      "62206           0.572181     -0.017494   -0.215199          -0.489341   \n",
      "14790          -0.268956     -0.384663   -0.293605          -0.037379   \n",
      "152752         -0.191852     -0.231941    0.229998          -0.235433   \n",
      "\n",
      "        daleChallReadabilityScore  smogIndex  colemanLiauIndex  \\\n",
      "29416                   -0.745477   0.695284         -0.993953   \n",
      "58063                   -0.179185   0.659986         -0.375376   \n",
      "62206                    0.261869   1.224751          1.551198   \n",
      "14790                   -0.429660   1.277698         -0.342546   \n",
      "152752                   0.888057   1.507134          0.498926   \n",
      "\n",
      "        userProfileFilled    numAns   numQues  \n",
      "29416           -0.486306 -0.166139 -0.354123  \n",
      "58063           -0.486306 -0.171410 -0.378421  \n",
      "62206           -0.486306 -0.108165 -0.305527  \n",
      "14790           -0.486306 -0.155598 -0.297428  \n",
      "152752           1.313449 -0.160869 -0.329825  \n",
      "\n",
      "[5 rows x 28 columns]\n"
     ]
    }
   ],
   "source": [
    "print(X_train.head())"
   ]
  },
  {
   "cell_type": "code",
   "execution_count": 11,
   "metadata": {
    "scrolled": false
   },
   "outputs": [
    {
     "name": "stdout",
     "output_type": "stream",
     "text": [
      "(111997, 28)\n"
     ]
    }
   ],
   "source": [
    "print(X_train.shape)"
   ]
  },
  {
   "cell_type": "markdown",
   "metadata": {},
   "source": [
    "### Training LinearSVC"
   ]
  },
  {
   "cell_type": "markdown",
   "metadata": {},
   "source": [
    "#### Tuning value of C"
   ]
  },
  {
   "cell_type": "code",
   "execution_count": 12,
   "metadata": {
    "scrolled": false
   },
   "outputs": [
    {
     "name": "stdout",
     "output_type": "stream",
     "text": [
      "Accuracy for C = 0.5 is : 0.8796\n",
      "Accuracy for C = 1.0 is : 0.8817\n",
      "Accuracy for C = 1.5 is : 0.8830\n",
      "Accuracy for C = 2.0 is : 0.8840\n",
      "Accuracy for C = 2.5 is : 0.8845\n",
      "Accuracy for C = 3.0 is : 0.8855\n",
      "Accuracy for C = 3.5 is : 0.8852\n",
      "Accuracy for C = 4.0 is : 0.8862\n",
      "Accuracy for C = 4.5 is : 0.8860\n",
      "Accuracy for C = 5.0 is : 0.8853\n",
      "Accuracy for C = 5.5 is : 0.8860\n",
      "Accuracy for C = 6.0 is : 0.8859\n",
      "Accuracy for C = 6.5 is : 0.8864\n",
      "Accuracy for C = 7.0 is : 0.8862\n",
      "Accuracy for C = 7.5 is : 0.8861\n",
      "Accuracy for C = 8.0 is : 0.8865\n",
      "Accuracy for C = 8.5 is : 0.8842\n",
      "Accuracy for C = 9.0 is : 0.8879\n",
      "Accuracy for C = 9.5 is : 0.8858\n",
      "Accuracy for C = 10.0 is : 0.8856\n",
      "Accuracy for C = 10.5 is : 0.8837\n",
      "Accuracy for C = 11.0 is : 0.8853\n",
      "Accuracy for C = 11.5 is : 0.8859\n",
      "Accuracy for C = 12.0 is : 0.8855\n",
      "Accuracy for C = 12.5 is : 0.8858\n",
      "Accuracy for C = 13.0 is : 0.8878\n",
      "Accuracy for C = 13.5 is : 0.8855\n",
      "Accuracy for C = 14.0 is : 0.8847\n",
      "Accuracy for C = 14.5 is : 0.8865\n",
      "Accuracy for C = 15.0 is : 0.8837\n",
      "Accuracy for C = 15.5 is : 0.8879\n"
     ]
    }
   ],
   "source": [
    "c = list(np.arange(0.5, 16, 0.5))\n",
    "accuracy = []\n",
    "y_predicted = np.zeros((y_test.shape))\n",
    "max_accuracy = 0.0\n",
    "linear_svm_classifier = LinearSVC()\n",
    "\n",
    "for i in c:\n",
    "    classifier = LinearSVC(C = i)\n",
    "    classifier.fit(X_train, y_train)\n",
    "    predicted_y = classifier.predict(X_test)\n",
    "    accuracy.append(np.mean(y_test==predicted_y))\n",
    "    print('Accuracy for C = {} is : {:.4f}'.format(i, accuracy[-1]))\n",
    "    if(accuracy[-1] > max_accuracy):\n",
    "        y_predicted = predicted_y\n",
    "        max_accuracy = accuracy[-1]\n",
    "        linear_svm_classifier = classifier"
   ]
  },
  {
   "cell_type": "code",
   "execution_count": 13,
   "metadata": {
    "scrolled": false
   },
   "outputs": [
    {
     "data": {
      "image/png": "[encoded data removed]",
      "text/plain": [
       "<Figure size 720x504 with 1 Axes>"
      ]
     },
     "metadata": {},
     "output_type": "display_data"
    }
   ],
   "source": [
    "plt.figure(figsize=(10,7))\n",
    "plt.plot(c, accuracy)\n",
    "plt.scatter(c, accuracy)\n",
    "plt.title('Accuracy vs C')\n",
    "plt.xlabel('C')\n",
    "plt.ylabel('Accuracy')\n",
    "plt.grid(True)\n",
    "plt.show()"
   ]
  },
  {
   "cell_type": "markdown",
   "metadata": {},
   "source": [
    "#### Evaluating Performance"
   ]
  },
  {
   "cell_type": "code",
   "execution_count": 14,
   "metadata": {
    "scrolled": false
   },
   "outputs": [
    {
     "name": "stdout",
     "output_type": "stream",
     "text": [
      "             precision    recall  f1-score   support\n",
      "\n",
      "          0       0.89      0.89      0.89     23916\n",
      "          1       0.89      0.89      0.89     24083\n",
      "\n",
      "avg / total       0.89      0.89      0.89     47999\n",
      "\n"
     ]
    }
   ],
   "source": [
    "print(classification_report(y_test,y_predicted))"
   ]
  },
  {
   "cell_type": "code",
   "execution_count": 15,
   "metadata": {},
   "outputs": [],
   "source": [
    "from sklearn.model_selection import GridSearchCV\n",
    "from sklearn.model_selection import KFold,cross_val_score\n",
    "k_fold = KFold(n_splits=5)"
   ]
  },
  {
   "cell_type": "code",
   "execution_count": 16,
   "metadata": {
    "scrolled": false
   },
   "outputs": [
    {
     "data": {
      "text/plain": [
       "array([ 0.818625  ,  0.80780649,  0.89365293,  0.82686959,  0.69105285])"
      ]
     },
     "execution_count": 16,
     "metadata": {},
     "output_type": "execute_result"
    }
   ],
   "source": [
    "cross_val_score(linear_svm_classifier,X,y,cv=k_fold,scoring='accuracy',n_jobs=-1)\n",
    "# array([ 0.8525    ,  0.78833714,  0.85724554,  0.82521329,  0.79636864])"
   ]
  },
  {
   "cell_type": "code",
   "execution_count": 17,
   "metadata": {
    "scrolled": false
   },
   "outputs": [],
   "source": [
    "## Yet to run with openCloseData9.csv\n",
    "\n",
    "# c = list(np.arange(0.1, 1.0, 0.050))\n",
    "# accuracy = []\n",
    "# y_predicted = np.zeros((y_test.shape))\n",
    "# max_accuracy = 0.0\n",
    "# linear_svm_classifier = LinearSVC()\n",
    "\n",
    "# for i in c:\n",
    "#     classifier = LinearSVC(C = i)\n",
    "#     classifier.fit(X_train, y_train)\n",
    "#     predicted_y = classifier.predict(X_test)\n",
    "#     accuracy.append(np.mean(y_test==predicted_y))\n",
    "#     print('Accuracy for C = {:.2f} is : {:.4f}'.format(i, accuracy[-1]))\n",
    "#     if(accuracy[-1] > max_accuracy):\n",
    "#         y_predicted = predicted_y\n",
    "#         max_accuracy = accuracy[-1]\n",
    "#         linear_svm_classifier = classifier"
   ]
  },
  {
   "cell_type": "markdown",
   "metadata": {},
   "source": [
    "### Training RBF kernel"
   ]
  },
  {
   "cell_type": "code",
   "execution_count": 17,
   "metadata": {
    "scrolled": false
   },
   "outputs": [],
   "source": [
    "from sklearn.svm import SVC"
   ]
  },
  {
   "cell_type": "code",
   "execution_count": 18,
   "metadata": {
    "scrolled": false
   },
   "outputs": [
    {
     "data": {
      "text/plain": [
       "SVC(C=1.0, cache_size=200, class_weight=None, coef0=0.0,\n",
       "  decision_function_shape='ovr', degree=3, gamma='auto', kernel='rbf',\n",
       "  max_iter=-1, probability=False, random_state=None, shrinking=True,\n",
       "  tol=0.001, verbose=False)"
      ]
     },
     "execution_count": 18,
     "metadata": {},
     "output_type": "execute_result"
    }
   ],
   "source": [
    "rbf_svm_classifier = SVC(kernel = 'rbf')\n",
    "rbf_svm_classifier.fit(X_train, y_train)"
   ]
  },
  {
   "cell_type": "code",
   "execution_count": 19,
   "metadata": {
    "scrolled": false
   },
   "outputs": [
    {
     "name": "stdout",
     "output_type": "stream",
     "text": [
      "Accuracy: 0.906893893623\n",
      "             precision    recall  f1-score   support\n",
      "\n",
      "          0       0.91      0.90      0.91     23916\n",
      "          1       0.90      0.91      0.91     24083\n",
      "\n",
      "avg / total       0.91      0.91      0.91     47999\n",
      "\n"
     ]
    }
   ],
   "source": [
    "predicted_y = rbf_svm_classifier.predict(X_test)\n",
    "print('Accuracy: ' + str(np.mean(y_test==predicted_y)))\n",
    "print(classification_report(y_test,predicted_y))\n",
    "# Accuracy: 0.904289672702\n",
    "#              precision    recall  f1-score   support\n",
    "\n",
    "#           0       0.91      0.90      0.90     24085\n",
    "#           1       0.90      0.91      0.90     23914\n",
    "\n",
    "# avg / total       0.90      0.90      0.90     47999"
   ]
  },
  {
   "cell_type": "code",
   "execution_count": null,
   "metadata": {
    "scrolled": false
   },
   "outputs": [],
   "source": [
    "# cross_val_score(rbf_svm_classifier,X,y,cv=k_fold,scoring='accuracy',n_jobs=-1)"
   ]
  },
  {
   "cell_type": "markdown",
   "metadata": {},
   "source": [
    "#### Trying different values of C"
   ]
  },
  {
   "cell_type": "code",
   "execution_count": 20,
   "metadata": {
    "scrolled": false
   },
   "outputs": [
    {
     "name": "stdout",
     "output_type": "stream",
     "text": [
      "Accuracy for C = 2.00 is : 0.9100\n",
      "Accuracy for C = 3.00 is : 0.9109\n",
      "Accuracy for C = 4.00 is : 0.9115\n",
      "Accuracy for C = 5.00 is : 0.9120\n",
      "Accuracy for C = 6.00 is : 0.9120\n",
      "Accuracy for C = 7.00 is : 0.9122\n",
      "Accuracy for C = 8.00 is : 0.9127\n",
      "Accuracy for C = 9.00 is : 0.9130\n",
      "Accuracy for C = 10.00 is : 0.9130\n"
     ]
    }
   ],
   "source": [
    "c_rbf = list(np.arange(2, 11))\n",
    "accuracy_rbf = []\n",
    "y_predicted = np.zeros((y_test.shape))\n",
    "max_accuracy_rbf = 0.0\n",
    "rbf_svm_classifier = SVC(kernel = 'rbf')\n",
    "\n",
    "for i in c_rbf:\n",
    "    classifier = SVC(kernel = 'rbf', C = i)\n",
    "    classifier.fit(X_train, y_train)\n",
    "    predicted_y = classifier.predict(X_test)\n",
    "    accuracy_rbf.append(np.mean(y_test==predicted_y))\n",
    "    print('Accuracy for C = {:.2f} is : {:.4f}'.format(i, accuracy_rbf[-1]))\n",
    "    if(accuracy_rbf[-1] > max_accuracy_rbf):\n",
    "        y_predicted = predicted_y\n",
    "        max_accuracy_rbf = accuracy_rbf[-1]\n",
    "        rbf_svm_classifier = classifier\n"
   ]
  },
  {
   "cell_type": "code",
   "execution_count": 21,
   "metadata": {},
   "outputs": [
    {
     "data": {
      "image/png": "[encoded data removed]",
      "text/plain": [
       "<Figure size 720x504 with 1 Axes>"
      ]
     },
     "metadata": {},
     "output_type": "display_data"
    }
   ],
   "source": [
    "plt.figure(figsize=(10,7))\n",
    "plt.plot(c_rbf, accuracy_rbf)\n",
    "plt.scatter(c_rbf, accuracy_rbf)\n",
    "plt.title('Accuracy vs C')\n",
    "plt.xlabel('C')\n",
    "plt.ylabel('Accuracy')\n",
    "plt.grid(True)\n",
    "plt.show()"
   ]
  },
  {
   "cell_type": "code",
   "execution_count": 22,
   "metadata": {},
   "outputs": [
    {
     "name": "stdout",
     "output_type": "stream",
     "text": [
      "             precision    recall  f1-score   support\n",
      "\n",
      "          0       0.92      0.91      0.91     23916\n",
      "          1       0.91      0.92      0.91     24083\n",
      "\n",
      "avg / total       0.91      0.91      0.91     47999\n",
      "\n"
     ]
    }
   ],
   "source": [
    "print(classification_report(y_test,y_predicted))"
   ]
  },
  {
   "cell_type": "markdown",
   "metadata": {},
   "source": [
    "### Training poly kernel"
   ]
  },
  {
   "cell_type": "code",
   "execution_count": 23,
   "metadata": {
    "scrolled": false
   },
   "outputs": [
    {
     "data": {
      "text/plain": [
       "SVC(C=1.0, cache_size=200, class_weight=None, coef0=0.0,\n",
       "  decision_function_shape='ovr', degree=3, gamma='auto', kernel='poly',\n",
       "  max_iter=-1, probability=False, random_state=None, shrinking=True,\n",
       "  tol=0.001, verbose=False)"
      ]
     },
     "execution_count": 23,
     "metadata": {},
     "output_type": "execute_result"
    }
   ],
   "source": [
    "poly_svm_classifier = SVC(kernel = 'poly')\n",
    "poly_svm_classifier.fit(X_train, y_train)"
   ]
  },
  {
   "cell_type": "code",
   "execution_count": 24,
   "metadata": {
    "scrolled": false
   },
   "outputs": [
    {
     "name": "stdout",
     "output_type": "stream",
     "text": [
      "Accuracy: 0.880997520782\n",
      "             precision    recall  f1-score   support\n",
      "\n",
      "          0       0.86      0.91      0.88     23916\n",
      "          1       0.91      0.85      0.88     24083\n",
      "\n",
      "avg / total       0.88      0.88      0.88     47999\n",
      "\n"
     ]
    }
   ],
   "source": [
    "predicted_y = poly_svm_classifier.predict(X_test)\n",
    "print('Accuracy: ' + str(np.mean(y_test==predicted_y)))\n",
    "print(classification_report(y_test,predicted_y))\n",
    "# Accuracy: 0.878101627117\n",
    "#              precision    recall  f1-score   support\n",
    "\n",
    "#           0       0.86      0.91      0.88     24085\n",
    "#           1       0.90      0.85      0.87     23914\n",
    "\n",
    "# avg / total       0.88      0.88      0.88     47999"
   ]
  },
  {
   "cell_type": "code",
   "execution_count": 26,
   "metadata": {
    "scrolled": false
   },
   "outputs": [],
   "source": [
    "# cross_val_score(poly_svm_classifier,X,y,cv=k_fold,scoring='accuracy',n_jobs=-1)"
   ]
  },
  {
   "cell_type": "markdown",
   "metadata": {},
   "source": [
    "#### Using sigmoid kernel"
   ]
  },
  {
   "cell_type": "code",
   "execution_count": 28,
   "metadata": {
    "scrolled": false
   },
   "outputs": [],
   "source": [
    "# sigmoid_svm_classifier = SVC(kernel = 'sigmoid')\n",
    "# sigmoid_svm_classifier.fit(X_train, y_train)"
   ]
  },
  {
   "cell_type": "code",
   "execution_count": 29,
   "metadata": {
    "scrolled": false
   },
   "outputs": [],
   "source": [
    "# predicted_y = sigmoid_svm_classifier.predict(X_test)\n",
    "# print('Accuracy: ' + str(np.mean(y_test==predicted_y)))\n",
    "# print(classification_report(y_test,predicted_y))"
   ]
  }
 ],
 "metadata": {
  "kernelspec": {
   "display_name": "Python 3",
   "language": "python",
   "name": "python3"
  },
  "language_info": {
   "codemirror_mode": {
    "name": "ipython",
    "version": 3
   },
   "file_extension": ".py",
   "mimetype": "text/x-python",
   "name": "python",
   "nbconvert_exporter": "python",
   "pygments_lexer": "ipython3",
   "version": "3.6.8"
  }
 },
 "nbformat": 4,
 "nbformat_minor": 2
}
