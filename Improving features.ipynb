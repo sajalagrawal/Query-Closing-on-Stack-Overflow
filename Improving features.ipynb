{
 "cells": [
  {
   "cell_type": "markdown",
   "metadata": {},
   "source": [
    "Sentence count after removing code  \n",
    "first line length  after removing code  \n",
    "shortWordCount    \n",
    "bodyWordCount  \n",
    "lowerupperratio  \n",
    "punctuation Count  "
   ]
  },
  {
   "cell_type": "code",
   "execution_count": 1,
   "metadata": {},
   "outputs": [],
   "source": [
    "import numpy as np\n",
    "import pandas as pd\n",
    "import math\n",
    "import nltk\n",
    "import re\n",
    "import string"
   ]
  },
  {
   "cell_type": "code",
   "execution_count": 2,
   "metadata": {},
   "outputs": [],
   "source": [
    "#Count of sentences in the post body\n",
    "def getSentenceCount(text):\n",
    "    text=removeCode(text)\n",
    "    return len(split_into_sentences(text))\n",
    "\n",
    "def getFirstLineLength(text):\n",
    "    text=removeCode(text)\n",
    "    sentences=split_into_sentences(text)\n",
    "    #print(len(sentences))\n",
    "    if(len(sentences)==0):\n",
    "        #print(text)\n",
    "        return 0\n",
    "    firstLine=sentences[0]\n",
    "    return len(firstLine)\n",
    " \n",
    "#Removes all occurence of <code>    \n",
    "def removeCode(text):\n",
    "    #make sure you don't strip HTML beforehand\n",
    "    textWithoutCode=re.sub(r\"<code>(.*?)</code>\",\"\",text,flags= re.DOTALL)\n",
    "    #print(codes)\n",
    "    return textWithoutCode\n",
    "\n",
    "#Removes HTML from query data but doesn't remove the content bw opening and closing tag\n",
    "#Attributes are removed eg:<a href=\"this is all removed\">not removed</a>\n",
    "#https://stackoverflow.com/questions/3398852/using-python-remove-html-tags-formatting-from-a-string\n",
    "def striphtml(data):\n",
    "    p = re.compile(r'<.*?>')\n",
    "    return p.sub('', data)\n",
    "   "
   ]
  },
  {
   "cell_type": "code",
   "execution_count": 3,
   "metadata": {},
   "outputs": [],
   "source": [
    "#Credits: https://stackoverflow.com/questions/4576077/python-split-text-on-sentences\n",
    "\n",
    "alphabets= \"([A-Za-z])\"\n",
    "prefixes = \"(Mr|St|Mrs|Ms|Dr)[.]\"\n",
    "suffixes = \"(Inc|Ltd|Jr|Sr|Co)\"\n",
    "starters = \"(Mr|Mrs|Ms|Dr|He\\s|She\\s|It\\s|They\\s|Their\\s|Our\\s|We\\s|But\\s|However\\s|That\\s|This\\s|Wherever)\"\n",
    "acronyms = \"([A-Z][.][A-Z][.](?:[A-Z][.])?)\"\n",
    "websites = \"[.](com|net|org|io|gov)\"\n",
    "digits = \"([0-9])\" \n",
    "\n",
    "def split_into_sentences(text):\n",
    "    #text=body\n",
    "    text=striphtml(text)\n",
    "    text = \" \" + text + \"  \"\n",
    "    text = text.replace(\"\\n\",\" \")\n",
    "    text = re.sub(prefixes,\"\\\\1<prd>\",text)\n",
    "    text = re.sub(websites,\"<prd>\\\\1\",text)\n",
    "    if \"Ph.D\" in text: text = text.replace(\"Ph.D.\",\"Ph<prd>D<prd>\")\n",
    "    text = re.sub(\"\\s\" + alphabets + \"[.] \",\" \\\\1<prd> \",text)\n",
    "    text = re.sub(acronyms+\" \"+starters,\"\\\\1<stop> \\\\2\",text)\n",
    "    text = re.sub(alphabets + \"[.]\" + alphabets + \"[.]\" + alphabets + \"[.]\",\"\\\\1<prd>\\\\2<prd>\\\\3<prd>\",text)\n",
    "    text = re.sub(alphabets + \"[.]\" + alphabets + \"[.]\",\"\\\\1<prd>\\\\2<prd>\",text)\n",
    "    text = re.sub(\" \"+suffixes+\"[.] \"+starters,\" \\\\1<stop> \\\\2\",text)\n",
    "    text = re.sub(\" \"+suffixes+\"[.]\",\" \\\\1<prd>\",text)\n",
    "    text = re.sub(\" \" + alphabets + \"[.]\",\" \\\\1<prd>\",text)\n",
    "    text = re.sub(digits + \"[.]\" + digits,\"\\\\1<prd>\\\\2\",text)\n",
    "    if \"”\" in text: text = text.replace(\".”\",\"”.\")\n",
    "    if \"\\\"\" in text: text = text.replace(\".\\\"\",\"\\\".\")\n",
    "    if \"!\" in text: text = text.replace(\"!\\\"\",\"\\\"!\")\n",
    "    if \"?\" in text: text = text.replace(\"?\\\"\",\"\\\"?\")\n",
    "    text = text.replace(\".\",\".<stop>\")\n",
    "    text = text.replace(\"?\",\"?<stop>\")\n",
    "    text = text.replace(\"!\",\"!<stop>\")\n",
    "    text = text.replace(\"<prd>\",\".\")\n",
    "    sentences = text.split(\"<stop>\")\n",
    "    sentences = sentences[:-1]\n",
    "    sentences = [s.strip() for s in sentences]\n",
    "    #print(text)\n",
    "    return sentences"
   ]
  },
  {
   "cell_type": "code",
   "execution_count": 26,
   "metadata": {},
   "outputs": [],
   "source": [
    "openCloseData=pd.read_csv(\"openCloseData7.csv\")"
   ]
  },
  {
   "cell_type": "code",
   "execution_count": 27,
   "metadata": {},
   "outputs": [
    {
     "name": "stdout",
     "output_type": "stream",
     "text": [
      "Index(['Unnamed: 0', 'PostId', 'UserId', 'Comment', 'Body', 'Title', 'Tags',\n",
      "       'Reputation', 'experienceInTime', 'WebsiteUrl', 'Location', 'AboutMe',\n",
      "       'Views', 'Upvotes', 'Downvotes', 'ProfileImageUrl', 'tagCount',\n",
      "       'closed', 'lowerUpperRatio', 'sentenceCount', 'firstLineLength',\n",
      "       'codeLength', 'urlCount', 'SOUrlCount', 'titleLengthInChars',\n",
      "       'countOfInterrogativeSent', 'sentencesStartWithYouCount',\n",
      "       'sentencesStartWithICount', 'shortWordCount', 'bodyWordCount',\n",
      "       'punctuationCount', 'websiteUrlFilled', 'locationFilled',\n",
      "       'aboutMeFilled', 'profileImageUrlFilled', 'tagWeightSum', 'gunningFog',\n",
      "       'fleschReadingEase', 'daleChallReadabilityScore', 'smogIndex',\n",
      "       'colemanLiauIndex'],\n",
      "      dtype='object')\n"
     ]
    }
   ],
   "source": [
    "print(openCloseData.columns)"
   ]
  },
  {
   "cell_type": "code",
   "execution_count": 28,
   "metadata": {},
   "outputs": [
    {
     "name": "stdout",
     "output_type": "stream",
     "text": [
      "(159996, 41)\n",
      "(159996, 40)\n"
     ]
    }
   ],
   "source": [
    "print(openCloseData.shape)\n",
    "openCloseData.drop(['Unnamed: 0'],inplace=True,axis=1)\n",
    "print(openCloseData.shape)"
   ]
  },
  {
   "cell_type": "code",
   "execution_count": 14,
   "metadata": {},
   "outputs": [
    {
     "data": {
      "text/plain": [
       "'<pre><code>$bot = file_get_contents(\"http://answers.yahooapis.com/AnswersService/V1/questionSearch?appid=API_KEY&amp;query=\".$q1.\"\");\\r\\r\\r\\r\\necho $bot-&gt;Question[0]-&gt;ChosenAnswer;\\r\\r\\r\\r\\n</code></pre>\\r\\r\\r\\r\\n\\r\\r\\r\\r\\n<p>For some reason, the script isn\\'t returning anything.</p>\\r\\r\\r\\r\\n'"
      ]
     },
     "execution_count": 14,
     "metadata": {},
     "output_type": "execute_result"
    }
   ],
   "source": [
    "openCloseData.iloc[9,3]"
   ]
  },
  {
   "cell_type": "code",
   "execution_count": 15,
   "metadata": {},
   "outputs": [
    {
     "data": {
      "text/plain": [
       "\"<pre></pre>\\r\\r\\r\\r\\n\\r\\r\\r\\r\\n<p>For some reason, the script isn't returning anything.</p>\\r\\r\\r\\r\\n\""
      ]
     },
     "execution_count": 15,
     "metadata": {},
     "output_type": "execute_result"
    }
   ],
   "source": [
    "removeCode(openCloseData.iloc[9,3])"
   ]
  },
  {
   "cell_type": "code",
   "execution_count": 16,
   "metadata": {},
   "outputs": [
    {
     "data": {
      "text/plain": [
       "1"
      ]
     },
     "execution_count": 16,
     "metadata": {},
     "output_type": "execute_result"
    }
   ],
   "source": [
    "getSentenceCount(openCloseData.iloc[9,3])"
   ]
  },
  {
   "cell_type": "code",
   "execution_count": 17,
   "metadata": {},
   "outputs": [
    {
     "data": {
      "text/plain": [
       "53"
      ]
     },
     "execution_count": 17,
     "metadata": {},
     "output_type": "execute_result"
    }
   ],
   "source": [
    "getFirstLineLength(openCloseData.iloc[9,3])"
   ]
  },
  {
   "cell_type": "code",
   "execution_count": 18,
   "metadata": {},
   "outputs": [],
   "source": [
    "openCloseData['sentenceCount']=openCloseData['Body'].apply(getSentenceCount)"
   ]
  },
  {
   "cell_type": "code",
   "execution_count": 19,
   "metadata": {},
   "outputs": [
    {
     "name": "stdout",
     "output_type": "stream",
     "text": [
      "(159996, 40)\n"
     ]
    }
   ],
   "source": [
    "print(openCloseData.shape)"
   ]
  },
  {
   "cell_type": "code",
   "execution_count": 20,
   "metadata": {},
   "outputs": [],
   "source": [
    "#openCloseData.to_csv(\"openCloseData1.csv\")"
   ]
  },
  {
   "cell_type": "code",
   "execution_count": 20,
   "metadata": {},
   "outputs": [
    {
     "data": {
      "text/plain": [
       "Index(['PostId', 'UserId', 'Comment', 'Body', 'Title', 'Tags', 'Reputation',\n",
       "       'experienceInTime', 'WebsiteUrl', 'Location', 'AboutMe', 'Views',\n",
       "       'Upvotes', 'Downvotes', 'ProfileImageUrl', 'tagCount', 'closed',\n",
       "       'lowerUpperRatio', 'sentenceCount', 'firstLineLength', 'codeLength',\n",
       "       'urlCount', 'SOUrlCount', 'titleLengthInChars',\n",
       "       'countOfInterrogativeSent', 'sentencesStartWithYouCount',\n",
       "       'sentencesStartWithICount', 'shortWordCount', 'bodyWordCount',\n",
       "       'punctuationCount', 'websiteUrlFilled', 'locationFilled',\n",
       "       'aboutMeFilled', 'profileImageUrlFilled', 'tagWeightSum', 'gunningFog',\n",
       "       'fleschReadingEase', 'daleChallReadabilityScore', 'smogIndex',\n",
       "       'colemanLiauIndex'],\n",
       "      dtype='object')"
      ]
     },
     "execution_count": 20,
     "metadata": {},
     "output_type": "execute_result"
    }
   ],
   "source": [
    "openCloseData.columns"
   ]
  },
  {
   "cell_type": "code",
   "execution_count": 22,
   "metadata": {},
   "outputs": [],
   "source": [
    "openCloseData['firstLineLength']=openCloseData['Body'].apply(getFirstLineLength)"
   ]
  },
  {
   "cell_type": "code",
   "execution_count": 35,
   "metadata": {},
   "outputs": [
    {
     "name": "stdout",
     "output_type": "stream",
     "text": [
      "210\n",
      "\n",
      "<<<<end>>>\n",
      "\n",
      "210\n"
     ]
    }
   ],
   "source": [
    "print( len(split_into_sentences( removeCode(openCloseData.iloc[3,3]) )[0]) )\n",
    "print(\"\\n<<<<end>>>\\n\")\n",
    "print( len(split_into_sentences(openCloseData.iloc[3,3])[0])  )"
   ]
  },
  {
   "cell_type": "code",
   "execution_count": 36,
   "metadata": {},
   "outputs": [],
   "source": [
    "#openCloseData.to_csv(\"openCloseData2.csv\")"
   ]
  },
  {
   "cell_type": "code",
   "execution_count": 37,
   "metadata": {},
   "outputs": [
    {
     "name": "stdout",
     "output_type": "stream",
     "text": [
      "(159996, 40)\n"
     ]
    }
   ],
   "source": [
    "print(openCloseData.shape)"
   ]
  },
  {
   "cell_type": "code",
   "execution_count": 38,
   "metadata": {},
   "outputs": [],
   "source": [
    "#https://stackoverflow.com/questions/12628958/remove-small-words-using-python\n",
    "def countShortWords(text):\n",
    "    text=removeCode(text)\n",
    "    text=striphtml(text)\n",
    "    shortwords = re.findall(r'\\W*\\b\\w{1,3}\\b',text)\n",
    "    #print(shortwords)\n",
    "    return len(shortwords)\n"
   ]
  },
  {
   "cell_type": "code",
   "execution_count": 39,
   "metadata": {},
   "outputs": [],
   "source": [
    "openCloseData['shortWordCount']=openCloseData['Body'].apply(countShortWords)"
   ]
  },
  {
   "cell_type": "code",
   "execution_count": 42,
   "metadata": {},
   "outputs": [],
   "source": [
    "#openCloseData.to_csv(\"openCloseData3.csv\")"
   ]
  },
  {
   "cell_type": "code",
   "execution_count": 43,
   "metadata": {},
   "outputs": [
    {
     "name": "stdout",
     "output_type": "stream",
     "text": [
      "(159996, 40)\n"
     ]
    }
   ],
   "source": [
    "print(openCloseData.shape)"
   ]
  },
  {
   "cell_type": "code",
   "execution_count": 44,
   "metadata": {},
   "outputs": [
    {
     "data": {
      "text/plain": [
       "Index(['PostId', 'UserId', 'Comment', 'Body', 'Title', 'Tags', 'Reputation',\n",
       "       'experienceInTime', 'WebsiteUrl', 'Location', 'AboutMe', 'Views',\n",
       "       'Upvotes', 'Downvotes', 'ProfileImageUrl', 'tagCount', 'closed',\n",
       "       'lowerUpperRatio', 'sentenceCount', 'firstLineLength', 'codeLength',\n",
       "       'urlCount', 'SOUrlCount', 'titleLengthInChars',\n",
       "       'countOfInterrogativeSent', 'sentencesStartWithYouCount',\n",
       "       'sentencesStartWithICount', 'shortWordCount', 'bodyWordCount',\n",
       "       'punctuationCount', 'websiteUrlFilled', 'locationFilled',\n",
       "       'aboutMeFilled', 'profileImageUrlFilled', 'tagWeightSum', 'gunningFog',\n",
       "       'fleschReadingEase', 'daleChallReadabilityScore', 'smogIndex',\n",
       "       'colemanLiauIndex'],\n",
       "      dtype='object')"
      ]
     },
     "execution_count": 44,
     "metadata": {},
     "output_type": "execute_result"
    }
   ],
   "source": [
    "openCloseData.columns"
   ]
  },
  {
   "cell_type": "code",
   "execution_count": 45,
   "metadata": {},
   "outputs": [],
   "source": [
    "#Returns count of total number of words in the query\n",
    "#https://stackoverflow.com/questions/19410018/how-to-count-the-number-of-words-in-a-sentence-ignoring-numbers-punctuation-an\n",
    "def countWords(text):\n",
    "    text=removeCode(text)\n",
    "    text=striphtml(text)\n",
    "    return len(text.split())\n"
   ]
  },
  {
   "cell_type": "code",
   "execution_count": 46,
   "metadata": {},
   "outputs": [],
   "source": [
    "openCloseData['bodyWordCount']=openCloseData['Body'].apply(countWords)"
   ]
  },
  {
   "cell_type": "code",
   "execution_count": 48,
   "metadata": {},
   "outputs": [],
   "source": [
    "#openCloseData.to_csv(\"openCloseData4.csv\")"
   ]
  },
  {
   "cell_type": "code",
   "execution_count": 29,
   "metadata": {},
   "outputs": [
    {
     "name": "stdout",
     "output_type": "stream",
     "text": [
      "(159996, 40)\n"
     ]
    }
   ],
   "source": [
    "print(openCloseData.shape)"
   ]
  },
  {
   "cell_type": "code",
   "execution_count": 49,
   "metadata": {},
   "outputs": [],
   "source": [
    "#Returns number of lowercase chars in the text\n",
    "def lowercaseCount(text):\n",
    "    text=removeCode(text)\n",
    "    text=striphtml(text)\n",
    "    lowercount=0\n",
    "    try:\n",
    "        for w in text:\n",
    "            for char in w:\n",
    "                if(char.islower()):\n",
    "                    lowercount+=1\n",
    "        return lowercount\n",
    "    except:\n",
    "        #print(type(text))\n",
    "        print(text)\n",
    "\n",
    "#Returns number of uppercase chars in the text\n",
    "def uppercaseCount(text):\n",
    "    text=removeCode(text)\n",
    "    text=striphtml(text)\n",
    "    uppercount=0\n",
    "    try:    \n",
    "        for w in text:\n",
    "            for char in w:\n",
    "                if(char.isupper()):\n",
    "                    uppercount+=1\n",
    "        return uppercount\n",
    "    except:\n",
    "        print(text)\n",
    "    "
   ]
  },
  {
   "cell_type": "code",
   "execution_count": 50,
   "metadata": {},
   "outputs": [],
   "source": [
    "openCloseData['lowerUpperRatio']=(openCloseData['Body'].apply(lowercaseCount))/(openCloseData['Body'].apply(uppercaseCount))"
   ]
  },
  {
   "cell_type": "code",
   "execution_count": 53,
   "metadata": {},
   "outputs": [],
   "source": [
    "#openCloseData.to_csv(\"openCloseData5.csv\")"
   ]
  },
  {
   "cell_type": "code",
   "execution_count": 55,
   "metadata": {},
   "outputs": [
    {
     "name": "stdout",
     "output_type": "stream",
     "text": [
      "<p>I have the sample console application whose code is given below</p> <pre><code> static void Main(string[] args) { Console.Writeline( Enter any value ); int x = int.Parse(Console.Readline()); if( x%2 == 0) Console.Writeline( Even Value ); else Console.Writeline( ODD Value ); } </code></pre> <p>I want to display the console of this app in simple window form I have displayed the output line but was unable to figure out sending input to the console application the code for window form</p> <pre><code>var info= new ProcessStartInfo( console.exe ) { UseShellExecute = false RedirectStandardError = true RedirectStandardInput = true RedirectStandardOutput = true } string line= ; using (Process process= Process.Start(info)) { using (StreamReader reader = process.StandardOutput) { while((line = reader.Readline()) != null) Console.Writeline(line); } } </code></pre>\n",
      "0\n"
     ]
    }
   ],
   "source": [
    "#Returns count of punctuations in the post body\n",
    "#https://stackoverflow.com/questions/265960/best-way-to-strip-punctuation-from-a-string-in-python\n",
    "def countPunctuations(text):\n",
    "    #remove all code in the post\n",
    "    text=removeCode(text)\n",
    "    #print(text)\n",
    "    text=striphtml(text)  #will also remove all URLs as URL is mentioned in href=\" \" attribute\n",
    "    puncs=re.findall(r'[^\\w\\s]',text)\n",
    "    #print(puncs)\n",
    "    return len(puncs)\n",
    "\n",
    "print(openCloseData.iloc[104587,3])\n",
    "print(countPunctuations(openCloseData.iloc[104587,3]))"
   ]
  },
  {
   "cell_type": "code",
   "execution_count": 56,
   "metadata": {},
   "outputs": [],
   "source": [
    "openCloseData['punctuationCount']=openCloseData['Body'].apply(countPunctuations)"
   ]
  },
  {
   "cell_type": "code",
   "execution_count": 58,
   "metadata": {},
   "outputs": [
    {
     "data": {
      "text/plain": [
       "(159996, 40)"
      ]
     },
     "execution_count": 58,
     "metadata": {},
     "output_type": "execute_result"
    }
   ],
   "source": [
    "openCloseData.shape"
   ]
  },
  {
   "cell_type": "code",
   "execution_count": 59,
   "metadata": {},
   "outputs": [],
   "source": [
    "#openCloseData.to_csv('openCloseData6.csv')"
   ]
  },
  {
   "cell_type": "code",
   "execution_count": 14,
   "metadata": {},
   "outputs": [
    {
     "data": {
      "text/plain": [
       "PostId                                                                 20462653\n",
       "UserId                                                                  3081439\n",
       "Comment                                                                     103\n",
       "Body                          <p>In Visual Basic 2010. I have two textbox an...\n",
       "Title                         how to set a code so that mouse is clicked in ...\n",
       "Tags                                                                   <vb.net>\n",
       "Reputation                                                                    3\n",
       "experienceInTime                                                              0\n",
       "WebsiteUrl                                                                  NaN\n",
       "Location                                                                    NaN\n",
       "AboutMe                                                                     NaN\n",
       "Views                                                                         1\n",
       "Upvotes                                                                       0\n",
       "Downvotes                                                                     0\n",
       "ProfileImageUrl               https://www.gravatar.com/avatar/?s=128&d=ident...\n",
       "tagCount                                                                      1\n",
       "closed                                                                        1\n",
       "lowerUpperRatio                                                              19\n",
       "sentenceCount                                                                10\n",
       "firstLineLength                                                              21\n",
       "codeLength                                                                  489\n",
       "urlCount                                                                      0\n",
       "SOUrlCount                                                                    0\n",
       "titleLengthInChars                                                           72\n",
       "countOfInterrogativeSent                                                      2\n",
       "sentencesStartWithYouCount                                                    0\n",
       "sentencesStartWithICount                                                      1\n",
       "shortWordCount                                                               39\n",
       "bodyWordCount                                                                77\n",
       "punctuationCount                                                             11\n",
       "websiteUrlFilled                                                              0\n",
       "locationFilled                                                                0\n",
       "aboutMeFilled                                                                 0\n",
       "profileImageUrlFilled                                                         1\n",
       "tagWeightSum                                                           -81.7778\n",
       "gunningFog                                                                13.01\n",
       "fleschReadingEase                                                         43.73\n",
       "daleChallReadabilityScore                                                  6.72\n",
       "smogIndex                                                                  11.5\n",
       "colemanLiauIndex                                                          13.34\n",
       "Name: 27744, dtype: object"
      ]
     },
     "execution_count": 14,
     "metadata": {},
     "output_type": "execute_result"
    }
   ],
   "source": [
    "openCloseData.iloc[27744,:]"
   ]
  },
  {
   "cell_type": "code",
   "execution_count": 16,
   "metadata": {},
   "outputs": [
    {
     "data": {
      "text/html": [
       "<div>\n",
       "<style scoped>\n",
       "    .dataframe tbody tr th:only-of-type {\n",
       "        vertical-align: middle;\n",
       "    }\n",
       "\n",
       "    .dataframe tbody tr th {\n",
       "        vertical-align: top;\n",
       "    }\n",
       "\n",
       "    .dataframe thead th {\n",
       "        text-align: right;\n",
       "    }\n",
       "</style>\n",
       "<table border=\"1\" class=\"dataframe\">\n",
       "  <thead>\n",
       "    <tr style=\"text-align: right;\">\n",
       "      <th></th>\n",
       "      <th>PostId</th>\n",
       "      <th>UserId</th>\n",
       "      <th>Comment</th>\n",
       "      <th>Body</th>\n",
       "      <th>Title</th>\n",
       "      <th>Tags</th>\n",
       "      <th>Reputation</th>\n",
       "      <th>experienceInTime</th>\n",
       "      <th>WebsiteUrl</th>\n",
       "      <th>Location</th>\n",
       "      <th>...</th>\n",
       "      <th>websiteUrlFilled</th>\n",
       "      <th>locationFilled</th>\n",
       "      <th>aboutMeFilled</th>\n",
       "      <th>profileImageUrlFilled</th>\n",
       "      <th>tagWeightSum</th>\n",
       "      <th>gunningFog</th>\n",
       "      <th>fleschReadingEase</th>\n",
       "      <th>daleChallReadabilityScore</th>\n",
       "      <th>smogIndex</th>\n",
       "      <th>colemanLiauIndex</th>\n",
       "    </tr>\n",
       "  </thead>\n",
       "  <tbody>\n",
       "    <tr>\n",
       "      <th>0</th>\n",
       "      <td>21170255</td>\n",
       "      <td>5921</td>\n",
       "      <td>102</td>\n",
       "      <td>&lt;p&gt;I tried to Google for this, but was (surpri...</td>\n",
       "      <td>Can anyone point me to (or post) an array of e...</td>\n",
       "      <td>&lt;javascript&gt;&lt;html&gt;&lt;arrays&gt;&lt;tags&gt;</td>\n",
       "      <td>17527</td>\n",
       "      <td>1953</td>\n",
       "      <td>NaN</td>\n",
       "      <td>Mountain View, CA</td>\n",
       "      <td>...</td>\n",
       "      <td>0</td>\n",
       "      <td>1</td>\n",
       "      <td>1</td>\n",
       "      <td>0</td>\n",
       "      <td>-207.161031</td>\n",
       "      <td>74.89</td>\n",
       "      <td>-88.22</td>\n",
       "      <td>14.35</td>\n",
       "      <td>0.0</td>\n",
       "      <td>10.18</td>\n",
       "    </tr>\n",
       "    <tr>\n",
       "      <th>1</th>\n",
       "      <td>38290647</td>\n",
       "      <td>1601251</td>\n",
       "      <td>102</td>\n",
       "      <td>&lt;p&gt;I am at a decision fork where i have to pic...</td>\n",
       "      <td>RESTful API with either Tomcat or Node.js?</td>\n",
       "      <td>&lt;java&gt;&lt;node.js&gt;&lt;rest&gt;&lt;tomcat&gt;&lt;typescript&gt;</td>\n",
       "      <td>151</td>\n",
       "      <td>1425</td>\n",
       "      <td>NaN</td>\n",
       "      <td>NaN</td>\n",
       "      <td>...</td>\n",
       "      <td>0</td>\n",
       "      <td>0</td>\n",
       "      <td>0</td>\n",
       "      <td>0</td>\n",
       "      <td>-536.990588</td>\n",
       "      <td>54.66</td>\n",
       "      <td>-31.38</td>\n",
       "      <td>12.43</td>\n",
       "      <td>0.0</td>\n",
       "      <td>11.45</td>\n",
       "    </tr>\n",
       "    <tr>\n",
       "      <th>2</th>\n",
       "      <td>6496114</td>\n",
       "      <td>52924</td>\n",
       "      <td>102</td>\n",
       "      <td>&lt;p&gt;Does anyone know of a good tool to test Sch...</td>\n",
       "      <td>Tool for testing Schema.org markup</td>\n",
       "      <td>&lt;testing&gt;&lt;markup&gt;&lt;schema.org&gt;</td>\n",
       "      <td>1639</td>\n",
       "      <td>900</td>\n",
       "      <td>http://www.agendarecife.com</td>\n",
       "      <td>Recife, Brazil</td>\n",
       "      <td>...</td>\n",
       "      <td>1</td>\n",
       "      <td>1</td>\n",
       "      <td>1</td>\n",
       "      <td>0</td>\n",
       "      <td>-160.004636</td>\n",
       "      <td>18.80</td>\n",
       "      <td>37.64</td>\n",
       "      <td>8.35</td>\n",
       "      <td>0.0</td>\n",
       "      <td>24.66</td>\n",
       "    </tr>\n",
       "    <tr>\n",
       "      <th>3</th>\n",
       "      <td>25982771</td>\n",
       "      <td>1968462</td>\n",
       "      <td>102</td>\n",
       "      <td>&lt;p&gt;The &lt;a href=\"http://www.postgresql.org/docs...</td>\n",
       "      <td>Inserting into simple Postgres views</td>\n",
       "      <td>&lt;sql&gt;&lt;postgresql&gt;</td>\n",
       "      <td>2669</td>\n",
       "      <td>620</td>\n",
       "      <td>https://katrinahoffert.github.io/</td>\n",
       "      <td>Saskatchewan, Canada</td>\n",
       "      <td>...</td>\n",
       "      <td>1</td>\n",
       "      <td>1</td>\n",
       "      <td>1</td>\n",
       "      <td>1</td>\n",
       "      <td>-188.646160</td>\n",
       "      <td>46.32</td>\n",
       "      <td>-66.24</td>\n",
       "      <td>11.74</td>\n",
       "      <td>0.0</td>\n",
       "      <td>23.40</td>\n",
       "    </tr>\n",
       "    <tr>\n",
       "      <th>4</th>\n",
       "      <td>10142243</td>\n",
       "      <td>383479</td>\n",
       "      <td>102</td>\n",
       "      <td>&lt;p&gt;Which frameworks would you recommend for wr...</td>\n",
       "      <td>Frameworks for Unittests for Multithreading in...</td>\n",
       "      <td>&lt;java&gt;&lt;multithreading&gt;&lt;unit-testing&gt;&lt;concurrency&gt;</td>\n",
       "      <td>245</td>\n",
       "      <td>648</td>\n",
       "      <td>NaN</td>\n",
       "      <td>NaN</td>\n",
       "      <td>...</td>\n",
       "      <td>0</td>\n",
       "      <td>0</td>\n",
       "      <td>0</td>\n",
       "      <td>0</td>\n",
       "      <td>-274.409048</td>\n",
       "      <td>21.25</td>\n",
       "      <td>45.43</td>\n",
       "      <td>8.34</td>\n",
       "      <td>0.0</td>\n",
       "      <td>9.47</td>\n",
       "    </tr>\n",
       "  </tbody>\n",
       "</table>\n",
       "<p>5 rows × 40 columns</p>\n",
       "</div>"
      ],
      "text/plain": [
       "     PostId   UserId  Comment  \\\n",
       "0  21170255     5921      102   \n",
       "1  38290647  1601251      102   \n",
       "2   6496114    52924      102   \n",
       "3  25982771  1968462      102   \n",
       "4  10142243   383479      102   \n",
       "\n",
       "                                                Body  \\\n",
       "0  <p>I tried to Google for this, but was (surpri...   \n",
       "1  <p>I am at a decision fork where i have to pic...   \n",
       "2  <p>Does anyone know of a good tool to test Sch...   \n",
       "3  <p>The <a href=\"http://www.postgresql.org/docs...   \n",
       "4  <p>Which frameworks would you recommend for wr...   \n",
       "\n",
       "                                               Title  \\\n",
       "0  Can anyone point me to (or post) an array of e...   \n",
       "1         RESTful API with either Tomcat or Node.js?   \n",
       "2                 Tool for testing Schema.org markup   \n",
       "3               Inserting into simple Postgres views   \n",
       "4  Frameworks for Unittests for Multithreading in...   \n",
       "\n",
       "                                                Tags  Reputation  \\\n",
       "0                   <javascript><html><arrays><tags>       17527   \n",
       "1          <java><node.js><rest><tomcat><typescript>         151   \n",
       "2                      <testing><markup><schema.org>        1639   \n",
       "3                                  <sql><postgresql>        2669   \n",
       "4  <java><multithreading><unit-testing><concurrency>         245   \n",
       "\n",
       "   experienceInTime                         WebsiteUrl              Location  \\\n",
       "0              1953                                NaN     Mountain View, CA   \n",
       "1              1425                                NaN                   NaN   \n",
       "2               900        http://www.agendarecife.com        Recife, Brazil   \n",
       "3               620  https://katrinahoffert.github.io/  Saskatchewan, Canada   \n",
       "4               648                                NaN                   NaN   \n",
       "\n",
       "         ...        websiteUrlFilled  locationFilled  aboutMeFilled  \\\n",
       "0        ...                       0               1              1   \n",
       "1        ...                       0               0              0   \n",
       "2        ...                       1               1              1   \n",
       "3        ...                       1               1              1   \n",
       "4        ...                       0               0              0   \n",
       "\n",
       "   profileImageUrlFilled tagWeightSum  gunningFog  fleschReadingEase  \\\n",
       "0                      0  -207.161031       74.89             -88.22   \n",
       "1                      0  -536.990588       54.66             -31.38   \n",
       "2                      0  -160.004636       18.80              37.64   \n",
       "3                      1  -188.646160       46.32             -66.24   \n",
       "4                      0  -274.409048       21.25              45.43   \n",
       "\n",
       "   daleChallReadabilityScore  smogIndex  colemanLiauIndex  \n",
       "0                      14.35        0.0             10.18  \n",
       "1                      12.43        0.0             11.45  \n",
       "2                       8.35        0.0             24.66  \n",
       "3                      11.74        0.0             23.40  \n",
       "4                       8.34        0.0              9.47  \n",
       "\n",
       "[5 rows x 40 columns]"
      ]
     },
     "execution_count": 16,
     "metadata": {},
     "output_type": "execute_result"
    }
   ],
   "source": [
    "openCloseData.head()"
   ]
  },
  {
   "cell_type": "code",
   "execution_count": 10,
   "metadata": {},
   "outputs": [
    {
     "name": "stdout",
     "output_type": "stream",
     "text": [
      " hell2o \n"
     ]
    }
   ],
   "source": [
    "import re\n",
    "#Removes all occurence of <code>    \n",
    "def removeCode(text):\n",
    "    #make sure you don't strip HTML beforehand\n",
    "    textWithoutCode=re.sub(r\"<code>(.*?)</code>\",\"\",text,flags= re.DOTALL)\n",
    "    #print(codes)\n",
    "    return textWithoutCode\n",
    "\n",
    "\n",
    "test=\"<code>hello</code> hell2o <code>hello2</code>\"\n",
    "print(removeCode(test))"
   ]
  },
  {
   "cell_type": "code",
   "execution_count": 33,
   "metadata": {},
   "outputs": [],
   "source": [
    "#Returns count of punctuations in the post body\n",
    "#https://stackoverflow.com/questions/265960/best-way-to-strip-punctuation-from-a-string-in-python\n",
    "def countPunctuations(text):\n",
    "    #remove all code in the post\n",
    "    #text=removeCode(text)\n",
    "    text=re.sub('<code>(.*?)</code>','',text,flags= re.DOTALL)\n",
    "    #print(text)\n",
    "    text=striphtml(text)  #will also remove all URLs as URL is mentioned in href=\" \" attribute\n",
    "    puncs=re.findall(r'[^\\w\\s]',text)\n",
    "    print(puncs)\n",
    "    return len(puncs)\n",
    "\n",
    "\n",
    "import pandas as pd\n",
    "#openCloseData=pd.read_csv(\"openCloseData.csv\")\n"
   ]
  },
  {
   "cell_type": "code",
   "execution_count": 34,
   "metadata": {},
   "outputs": [
    {
     "data": {
      "text/plain": [
       "'<p>I have imported both ArrayList and Integer. In my code I use the symbols in multiple places but I only get an error on one line.</p>\\r\\r\\r\\r\\n\\r\\r\\r\\r\\n<p>Here are the import statements:</p>\\r\\r\\r\\r\\n\\r\\r\\r\\r\\n<pre><code>import java.util.ArrayList;  \\r\\r\\r\\r\\nimport java.lang.Integer;\\r\\r\\r\\r\\n</code></pre>\\r\\r\\r\\r\\n\\r\\r\\r\\r\\n<p>Here are the pieces of code that compile properly:</p>\\r\\r\\r\\r\\n\\r\\r\\r\\r\\n<pre><code>ArrayList&lt;Integer&gt; primes = new ArrayList&lt;Integer&gt;();\\r\\r\\r\\r\\nprimes.add(2);\\r\\r\\r\\r\\nprimes.add(3);\\r\\r\\r\\r\\nprimes.add(5);\\r\\r\\r\\r\\nprimes.add(7);\\r\\r\\r\\r\\n\\r\\r\\r\\r\\nprivate static void addPrime(ArrayList&lt;Integer&gt; primes)\\r\\r\\r\\r\\n{\\r\\r\\r\\r\\n    int newNumber;\\r\\r\\r\\r\\n    int x;\\r\\r\\r\\r\\n}\\r\\r\\r\\r\\n</code></pre>\\r\\r\\r\\r\\n\\r\\r\\r\\r\\n<p>This piece of code return the symbol errors listed above:</p>\\r\\r\\r\\r\\n\\r\\r\\r\\r\\n<pre><code>while (lastValue &lt; half)\\r\\r\\r\\r\\n{\\r\\r\\r\\r\\n    addPrime(ArrayList&lt;Integer&gt; primes);\\r\\r\\r\\r\\n    lastValue = primes.get(primes.size()-1);\\r\\r\\r\\r\\n}\\r\\r\\r\\r\\n</code></pre>\\r\\r\\r\\r\\n\\r\\r\\r\\r\\n<p>I have done research on the problem but the only answer I can find is that the symbols were not imported properly at the beginning of the program.</p>\\r\\r\\r\\r\\n'"
      ]
     },
     "execution_count": 34,
     "metadata": {},
     "output_type": "execute_result"
    }
   ],
   "source": [
    "openCloseData.iloc[6,4]"
   ]
  },
  {
   "cell_type": "code",
   "execution_count": 35,
   "metadata": {},
   "outputs": [
    {
     "name": "stdout",
     "output_type": "stream",
     "text": [
      "['.', '.', ':', ':', ':', '.']\n"
     ]
    },
    {
     "data": {
      "text/plain": [
       "6"
      ]
     },
     "execution_count": 35,
     "metadata": {},
     "output_type": "execute_result"
    }
   ],
   "source": [
    "countPunctuations(openCloseData.iloc[6,4])"
   ]
  },
  {
   "cell_type": "code",
   "execution_count": 7,
   "metadata": {},
   "outputs": [
    {
     "data": {
      "text/plain": [
       "0         0\n",
       "1         0\n",
       "2         0\n",
       "3         0\n",
       "4         0\n",
       "5         0\n",
       "6         0\n",
       "7         0\n",
       "8         0\n",
       "9         0\n",
       "10        0\n",
       "11        0\n",
       "12        0\n",
       "13        0\n",
       "14        0\n",
       "15        0\n",
       "16        0\n",
       "17        0\n",
       "18        0\n",
       "19        0\n",
       "20        0\n",
       "21        0\n",
       "22        0\n",
       "23        0\n",
       "24        0\n",
       "25        0\n",
       "26        0\n",
       "27        0\n",
       "28        0\n",
       "29        0\n",
       "         ..\n",
       "159966    0\n",
       "159967    0\n",
       "159968    0\n",
       "159969    0\n",
       "159970    0\n",
       "159971    0\n",
       "159972    0\n",
       "159973    0\n",
       "159974    0\n",
       "159975    0\n",
       "159976    0\n",
       "159977    0\n",
       "159978    0\n",
       "159979    0\n",
       "159980    0\n",
       "159981    0\n",
       "159982    0\n",
       "159983    0\n",
       "159984    0\n",
       "159985    0\n",
       "159986    0\n",
       "159987    0\n",
       "159988    0\n",
       "159989    0\n",
       "159990    0\n",
       "159991    0\n",
       "159992    0\n",
       "159993    0\n",
       "159994    0\n",
       "159995    0\n",
       "Name: sentencesStartWithYouCount, Length: 159996, dtype: int64"
      ]
     },
     "execution_count": 7,
     "metadata": {},
     "output_type": "execute_result"
    }
   ],
   "source": [
    "openCloseData['sentencesStartWithYouCount']"
   ]
  },
  {
   "cell_type": "code",
   "execution_count": 8,
   "metadata": {},
   "outputs": [
    {
     "data": {
      "text/plain": [
       "0         3\n",
       "1         1\n",
       "2         0\n",
       "3         2\n",
       "4         0\n",
       "5         2\n",
       "6         1\n",
       "7         3\n",
       "8         1\n",
       "9         0\n",
       "10        0\n",
       "11        2\n",
       "12        0\n",
       "13        1\n",
       "14        2\n",
       "15        1\n",
       "16        1\n",
       "17        0\n",
       "18        1\n",
       "19        2\n",
       "20        1\n",
       "21        2\n",
       "22        1\n",
       "23        0\n",
       "24        1\n",
       "25        0\n",
       "26        2\n",
       "27        1\n",
       "28        1\n",
       "29        2\n",
       "         ..\n",
       "159966    2\n",
       "159967    2\n",
       "159968    2\n",
       "159969    0\n",
       "159970    1\n",
       "159971    0\n",
       "159972    0\n",
       "159973    3\n",
       "159974    1\n",
       "159975    2\n",
       "159976    0\n",
       "159977    3\n",
       "159978    1\n",
       "159979    6\n",
       "159980    1\n",
       "159981    4\n",
       "159982    1\n",
       "159983    1\n",
       "159984    3\n",
       "159985    3\n",
       "159986    2\n",
       "159987    1\n",
       "159988    0\n",
       "159989    0\n",
       "159990    0\n",
       "159991    1\n",
       "159992    1\n",
       "159993    1\n",
       "159994    4\n",
       "159995    2\n",
       "Name: sentencesStartWithICount, Length: 159996, dtype: int64"
      ]
     },
     "execution_count": 8,
     "metadata": {},
     "output_type": "execute_result"
    }
   ],
   "source": [
    "openCloseData['sentencesStartWithICount']"
   ]
  },
  {
   "cell_type": "code",
   "execution_count": 21,
   "metadata": {},
   "outputs": [],
   "source": [
    "def sentencesStartWithYouCount(text):\n",
    "    count=0\n",
    "    text=text.lower()\n",
    "    #text=re.sub('<.*>','',text)\n",
    "    text=removeCode(text)\n",
    "    text=striphtml(text)\n",
    "    sentences=split_into_sentences(text)\n",
    "    for sentence in sentences:\n",
    "        tokens=re.split('[\\s;\\',.\\-\\%]',sentence)\n",
    "        #print(tokens)\n",
    "        if(tokens[0]==\"you\"):\n",
    "            #print(\"token0=\"+tokens[0])\n",
    "            count+=1\n",
    "    return count;\n",
    "\n",
    "def sentencesStartWithICount(text):\n",
    "    count=0\n",
    "    text=text.lower()\n",
    "    text=removeCode(text)\n",
    "    text=striphtml(text)\n",
    "    sentences=split_into_sentences(text)\n",
    "    for sentence in sentences:\n",
    "        tokens=re.split('[\\s;\\',.\\-\\%]',sentence)\n",
    "        #print(tokens)\n",
    "        if(tokens[0]==\"i\"):\n",
    "            #print(\"token0=\"+tokens[0])\n",
    "            count+=1\n",
    "        if(len(tokens)>=2): #But I don't have, So I switched \n",
    "            if(tokens[1]==\"i\"):\n",
    "                count+=1\n",
    "        if(len(tokens)>=3):\n",
    "            if(tokens[2]==\"i\"): #As such I had amended...\n",
    "                count+=1\n",
    "    return count;"
   ]
  },
  {
   "cell_type": "code",
   "execution_count": 10,
   "metadata": {},
   "outputs": [],
   "source": [
    "openCloseData['sentencesStartWithYouCount']=openCloseData['Body'].apply(sentencesStartWithYouCount)"
   ]
  },
  {
   "cell_type": "code",
   "execution_count": 22,
   "metadata": {},
   "outputs": [],
   "source": [
    "openCloseData['sentencesStartWithICount']=openCloseData['Body'].apply(sentencesStartWithICount)"
   ]
  },
  {
   "cell_type": "code",
   "execution_count": 24,
   "metadata": {},
   "outputs": [
    {
     "data": {
      "text/plain": [
       "Index(['PostId', 'UserId', 'Comment', 'Body', 'Title', 'Tags', 'Reputation',\n",
       "       'experienceInTime', 'WebsiteUrl', 'Location', 'AboutMe', 'Views',\n",
       "       'Upvotes', 'Downvotes', 'ProfileImageUrl', 'tagCount', 'closed',\n",
       "       'lowerUpperRatio', 'sentenceCount', 'firstLineLength', 'codeLength',\n",
       "       'urlCount', 'SOUrlCount', 'titleLengthInChars',\n",
       "       'countOfInterrogativeSent', 'sentencesStartWithYouCount',\n",
       "       'sentencesStartWithICount', 'shortWordCount', 'bodyWordCount',\n",
       "       'punctuationCount', 'websiteUrlFilled', 'locationFilled',\n",
       "       'aboutMeFilled', 'profileImageUrlFilled', 'tagWeightSum', 'gunningFog',\n",
       "       'fleschReadingEase', 'daleChallReadabilityScore', 'smogIndex',\n",
       "       'colemanLiauIndex'],\n",
       "      dtype='object')"
      ]
     },
     "execution_count": 24,
     "metadata": {},
     "output_type": "execute_result"
    }
   ],
   "source": [
    "openCloseData.columns"
   ]
  },
  {
   "cell_type": "code",
   "execution_count": 25,
   "metadata": {},
   "outputs": [],
   "source": [
    "#openCloseData.to_csv('openCloseData7.csv')"
   ]
  },
  {
   "cell_type": "code",
   "execution_count": 29,
   "metadata": {},
   "outputs": [
    {
     "data": {
      "text/plain": [
       "Index(['PostId', 'UserId', 'Comment', 'Body', 'Title', 'Tags', 'Reputation',\n",
       "       'experienceInTime', 'WebsiteUrl', 'Location', 'AboutMe', 'Views',\n",
       "       'Upvotes', 'Downvotes', 'ProfileImageUrl', 'tagCount', 'closed',\n",
       "       'lowerUpperRatio', 'sentenceCount', 'firstLineLength', 'codeLength',\n",
       "       'urlCount', 'SOUrlCount', 'titleLengthInChars',\n",
       "       'countOfInterrogativeSent', 'sentencesStartWithYouCount',\n",
       "       'sentencesStartWithICount', 'shortWordCount', 'bodyWordCount',\n",
       "       'punctuationCount', 'websiteUrlFilled', 'locationFilled',\n",
       "       'aboutMeFilled', 'profileImageUrlFilled', 'tagWeightSum', 'gunningFog',\n",
       "       'fleschReadingEase', 'daleChallReadabilityScore', 'smogIndex',\n",
       "       'colemanLiauIndex'],\n",
       "      dtype='object')"
      ]
     },
     "execution_count": 29,
     "metadata": {},
     "output_type": "execute_result"
    }
   ],
   "source": [
    "openCloseData.columns"
   ]
  },
  {
   "cell_type": "code",
   "execution_count": 30,
   "metadata": {},
   "outputs": [],
   "source": [
    "openCloseData['userProfileFilled']=openCloseData['websiteUrlFilled']+openCloseData['locationFilled']+openCloseData['aboutMeFilled']+openCloseData['profileImageUrlFilled']"
   ]
  },
  {
   "cell_type": "code",
   "execution_count": 31,
   "metadata": {},
   "outputs": [],
   "source": [
    "#openCloseData.to_csv('openCloseData8.csv')"
   ]
  },
  {
   "cell_type": "code",
   "execution_count": null,
   "metadata": {},
   "outputs": [],
   "source": []
  }
 ],
 "metadata": {
  "kernelspec": {
   "display_name": "Python 3",
   "language": "python",
   "name": "python3"
  },
  "language_info": {
   "codemirror_mode": {
    "name": "ipython",
    "version": 3
   },
   "file_extension": ".py",
   "mimetype": "text/x-python",
   "name": "python",
   "nbconvert_exporter": "python",
   "pygments_lexer": "ipython3",
   "version": "3.6.5"
  }
 },
 "nbformat": 4,
 "nbformat_minor": 2
}
