{
 "cells": [
  {
   "cell_type": "code",
   "execution_count": 1,
   "metadata": {},
   "outputs": [],
   "source": [
    "#import matplotlib.pyplot as plt\n",
    "import numpy as np\n",
    "import pandas as pd\n",
    "import math\n",
    "import nltk\n",
    "import re\n",
    "import string"
   ]
  },
  {
   "cell_type": "markdown",
   "metadata": {},
   "source": [
    "### Features for classifiers\n",
    "(&)in data (+) calculate\n",
    "\n",
    "#### Query Content:  \n",
    "&Date of creation of post-User account creation date  \n",
    "+Count of lowercase chars in body  \n",
    "+Count of uppercase chars in body  \n",
    "+lowercase to uppercase ratio in body  \n",
    "+character count in body  (removed)  \n",
    "+word count in body  \n",
    "+code length in body  \n",
    "+length of first line in body   \n",
    "+punctuations count  \n",
    "+sentence count in body  \n",
    "+count of sentences starting with you  \n",
    "+count of sentences starting with i  \n",
    "+count of interrogative sentences  \n",
    "+count of URLs in body  \n",
    "+count of stackoverflow URLs in body  \n",
    "+count of short words in body  \n",
    "+count of tags  \n",
    "+tags weight(to be worked upon)  \n",
    "\n",
    "+character count in title  \n",
    "+word count in title     \n",
    "+title starting with what/which/how (useful for opinion based questions) or use interrogative words check\n",
    "\n",
    "\n",
    "#### User profile\n",
    "\n",
    "&Reputation  \n",
    "&View count  \n",
    "&upvotes received  \n",
    "&downvotes received   \n",
    "&about me filled  \n",
    "&website url filled  \n",
    "&location filled  \n",
    "&profile image url filled    \n",
    "questions asked by user  \n",
    "answers posted by user  \n",
    "CloseVotesReceived: The number of close votes received by the user for his posts  \n",
    "Previous Questions with -ve score  \n",
    "Previous Questions with +ve score  \n",
    "Previous Questions with 0 score  \n",
    "Previous Answers with -ve score  \n",
    "Previous Answers with +ve score  \n",
    "Previous Answers with 0 score  "
   ]
  },
  {
   "cell_type": "markdown",
   "metadata": {},
   "source": [
    "##### URL count\n",
    "https://codeblog.jonskeet.uk/2010/08/29/writing-the-perfect-question/\n",
    "Often there will be other people in a similar situation, but the answers didn’t quite match your situation. Just like the above point about unusual constraints, it saves time if you can point out differences between your situation and other common ones. It’s even worth referring to other related questions explicitly – particularly if they’re on the same forum. Aside from anything else, this shows a certain amount of “due diligence” – people are generally more willing to help you if can show you’ve already put some effort in.  \n",
    "\n",
    "Sharing your research helps everyone. Tell us what you found and why it didn’t meet your needs. This demonstrates that you’ve taken the time to try to help yourself, it saves us from reiterating obvious answers, and above all, it helps you get a more specific and relevant answer!"
   ]
  },
  {
   "cell_type": "markdown",
   "metadata": {},
   "source": [
    "##### Title length\n",
    "Write a title that summarizes the specific problem\n",
    "At the same time a “question” title of “Please help” is unlikely to do well"
   ]
  },
  {
   "cell_type": "markdown",
   "metadata": {},
   "source": [
    "#### Count of interrogative words\n",
    "Make sure it’s obvious what you’re trying to get out of the question. Too many “questions” are actually just statements: when I do X, something goes wrong. Well, what did you expect it to do? What are you trying to accomplish? What have you already tried? What happened in those attempts?"
   ]
  },
  {
   "cell_type": "markdown",
   "metadata": {},
   "source": [
    "#### code length\n",
    "Shows effort done on the part of asker.  \n",
    "BUT  \n",
    "Be as short as possible. If I have to wade through hundreds of lines of code to find the problem, I’m doing work that you should be doing\n"
   ]
  },
  {
   "cell_type": "markdown",
   "metadata": {},
   "source": [
    "#### length of first sentence\n",
    "There’s no need to include greetings and sign-offs such as “Hi everyone!” and “Thanks – hope to get an answer soon” in the question. These will often be edited out by other users, as they’re basically a distraction. Greetings at the start of a question are particularly useless as they can take up valuable space in the snippet displayed in the question list."
   ]
  },
  {
   "cell_type": "markdown",
   "metadata": {},
   "source": [
    "##### some closing weight for tags such as homework?"
   ]
  },
  {
   "cell_type": "code",
   "execution_count": 2,
   "metadata": {},
   "outputs": [],
   "source": [
    "#Resources for text cleaning: \n",
    "#https://machinelearningmastery.com/clean-text-machine-learning-python/\n",
    "#https://github.com/SudalaiRajkumar/NLP/blob/master/src/Text%20Cleaning.ipynb\n",
    "#https://docs.python.org/3/library/re.html\n",
    "\n",
    "#Returns number of lowercase chars in the text\n",
    "def lowercaseCount(text):\n",
    "    lowercount=0\n",
    "    try:\n",
    "        for w in text:\n",
    "            for char in w:\n",
    "                if(char.islower()):\n",
    "                    lowercount+=1\n",
    "        return lowercount\n",
    "    except:\n",
    "        #print(type(text))\n",
    "        print(text)\n",
    "\n",
    "#Returns number of uppercase chars in the text\n",
    "def uppercaseCount(text):\n",
    "    uppercount=0\n",
    "    try:    \n",
    "        for w in text:\n",
    "            for char in w:\n",
    "                if(char.isupper()):\n",
    "                    uppercount+=1\n",
    "        return uppercount\n",
    "    except:\n",
    "        print(text)\n",
    "    \n",
    "#Returns count of total number of words in the query\n",
    "#https://stackoverflow.com/questions/19410018/how-to-count-the-number-of-words-in-a-sentence-ignoring-numbers-punctuation-an\n",
    "def countWords(text):\n",
    "    return len(text.split())\n",
    "\n",
    "#Removes HTML from query data but doesn't remove the content bw opening and closing tag\n",
    "#Attributes are removed eg:<a href=\"this is all removed\">not removed</a>\n",
    "#https://stackoverflow.com/questions/3398852/using-python-remove-html-tags-formatting-from-a-string\n",
    "def striphtml(data):\n",
    "    p = re.compile(r'<.*?>')\n",
    "    return p.sub('', data)\n",
    "    \n",
    "#Sentence tokenization\n",
    "from nltk import sent_tokenize\n",
    "#Tokenizes sentences into sentence list\n",
    "def getSentTokens(sentences):\n",
    "    return sent_tokenize(sentences)\n",
    "\n",
    "#Count of sentences in the post body\n",
    "def getSentenceCount(text):\n",
    "    return len(split_into_sentences(text))\n",
    "\n",
    "def getFirstLineLength(text):\n",
    "    sentences=split_into_sentences(text)\n",
    "    #print(len(sentences))\n",
    "    if(len(sentences)==0):\n",
    "        #print(text)\n",
    "        return 0\n",
    "    firstLine=sentences[0]\n",
    "    return len(firstLine)\n",
    "    \n",
    "def countOfInterrogativeSent(text):\n",
    "    text=text.lower()\n",
    "    #tokens=text.split() #1D list of words \n",
    "    interrogatives=re.findall(r'\\b[a-z]*[^.!][?]',text)\n",
    "    return len(interrogatives)\n",
    "    \n",
    "#Word tokenization\n",
    "from nltk import word_tokenize\n",
    "#Tokenizes sentence 1D list into words 2D list\n",
    "def getWordTokens(sentenceList):\n",
    "    return [word_tokenize(s) for s in sentenceList]\n",
    "\n",
    "#Punctuations removal\n",
    "def removePunctuations(word):\n",
    "    return re.sub(r'\\W+', '', word)\n",
    "\n",
    "#Stop words removal from list of words\n",
    "from nltk.corpus import stopwords\n",
    "eng_stop=set(stopwords.words('english'))\n",
    "#print(eng_stop)\n",
    "def removeStopwords(text):\n",
    "    return [word for word in text if word not in eng_stop]\n",
    "\n",
    "def sentencesStartWithYouCount(text):\n",
    "    count=0\n",
    "    text=text.lower()\n",
    "    text=re.sub('<.*>','',text)\n",
    "    sentences=split_into_sentences(text)\n",
    "    for sentence in sentences:\n",
    "        tokens=re.split('[\\s;\\',.\\-\\%]',sentence)\n",
    "        #print(tokens)\n",
    "        if(tokens[0]==\"you\"):\n",
    "            #print(\"token0=\"+tokens[0])\n",
    "            count+=1\n",
    "    return count;\n",
    "\n",
    "def sentencesStartWithICount(text):\n",
    "    count=0\n",
    "    text=text.lower()\n",
    "    sentences=split_into_sentences(text)\n",
    "    for sentence in sentences:\n",
    "        tokens=re.split('[\\s;\\',.\\-\\%]',sentence)\n",
    "        #print(tokens)\n",
    "        if(tokens[0]==\"i\"):\n",
    "            #print(\"token0=\"+tokens[0])\n",
    "            count+=1\n",
    "    return count;\n",
    "\n",
    "#https://stackoverflow.com/questions/6883049/regex-to-extract-urls-from-href-attribute-in-html-with-python\n",
    "#https://stackoverflow.com/questions/1374457/find-out-how-many-times-a-regex-matches-in-a-string-in-python\n",
    "#Returns count of url in a given post\n",
    "def urlCount(text):\n",
    "    urls=re.findall(r'https://?|ftp://',text)\n",
    "    #print(urls)\n",
    "    return len(urls)\n",
    "\n",
    "#Returns count of URls pointing to Stack Overflow \n",
    "def SOUrlCount(text):\n",
    "    SOUrls=re.findall(r'https://stackoverflow.com',text)\n",
    "    #print(SOUrls)\n",
    "    return len(SOUrls)\n",
    "    \n",
    "#Returns the length of total code present in the post\n",
    "def codeLength(text):\n",
    "    #make sure you don't strip HTML beforehand\n",
    "    codes=re.findall(r\"<code>(.*?)</code>\",text,flags= re.DOTALL)\n",
    "    #print(codes)\n",
    "    return len(''.join(codes))\n",
    "\n",
    "def makeBinary(text):\n",
    "    if(pd.isnull(text)):\n",
    "        return 0\n",
    "    return 1\n",
    "\n",
    "#https://stackoverflow.com/questions/12628958/remove-small-words-using-python\n",
    "def countShortWords(text):\n",
    "    text=striphtml(text)\n",
    "    shortwords = re.findall(r'\\W*\\b\\w{1,3}\\b',text)\n",
    "    #print(shortwords)\n",
    "    return len(shortwords)\n",
    "\n",
    "#Returns the count of tags in the post\n",
    "#https://stackoverflow.com/questions/11301387/python-regex-first-shortest-match\n",
    "def countTagsForClosed(text):\n",
    "    tagList=re.findall('<.*?>',text)\n",
    "    #print(tagList)\n",
    "    return len(tagList)\n",
    "\n",
    "def countTagsForOpen(text):\n",
    "    tagList=text.split('|')\n",
    "    #print(tagList)\n",
    "    return len(tagList)\n",
    "\n",
    ","
   ]
  },
  {
   "cell_type": "code",
   "execution_count": 3,
   "metadata": {},
   "outputs": [],
   "source": [
    "#Credits: https://stackoverflow.com/questions/4576077/python-split-text-on-sentences\n",
    "\n",
    "alphabets= \"([A-Za-z])\"\n",
    "prefixes = \"(Mr|St|Mrs|Ms|Dr)[.]\"\n",
    "suffixes = \"(Inc|Ltd|Jr|Sr|Co)\"\n",
    "starters = \"(Mr|Mrs|Ms|Dr|He\\s|She\\s|It\\s|They\\s|Their\\s|Our\\s|We\\s|But\\s|However\\s|That\\s|This\\s|Wherever)\"\n",
    "acronyms = \"([A-Z][.][A-Z][.](?:[A-Z][.])?)\"\n",
    "websites = \"[.](com|net|org|io|gov)\"\n",
    "digits = \"([0-9])\" \n",
    "\n",
    "def split_into_sentences(text):\n",
    "    #text=body\n",
    "    text=striphtml(text)\n",
    "    text = \" \" + text + \"  \"\n",
    "    text = text.replace(\"\\n\",\" \")\n",
    "    text = re.sub(prefixes,\"\\\\1<prd>\",text)\n",
    "    text = re.sub(websites,\"<prd>\\\\1\",text)\n",
    "    if \"Ph.D\" in text: text = text.replace(\"Ph.D.\",\"Ph<prd>D<prd>\")\n",
    "    text = re.sub(\"\\s\" + alphabets + \"[.] \",\" \\\\1<prd> \",text)\n",
    "    text = re.sub(acronyms+\" \"+starters,\"\\\\1<stop> \\\\2\",text)\n",
    "    text = re.sub(alphabets + \"[.]\" + alphabets + \"[.]\" + alphabets + \"[.]\",\"\\\\1<prd>\\\\2<prd>\\\\3<prd>\",text)\n",
    "    text = re.sub(alphabets + \"[.]\" + alphabets + \"[.]\",\"\\\\1<prd>\\\\2<prd>\",text)\n",
    "    text = re.sub(\" \"+suffixes+\"[.] \"+starters,\" \\\\1<stop> \\\\2\",text)\n",
    "    text = re.sub(\" \"+suffixes+\"[.]\",\" \\\\1<prd>\",text)\n",
    "    text = re.sub(\" \" + alphabets + \"[.]\",\" \\\\1<prd>\",text)\n",
    "    text = re.sub(digits + \"[.]\" + digits,\"\\\\1<prd>\\\\2\",text)\n",
    "    if \"”\" in text: text = text.replace(\".”\",\"”.\")\n",
    "    if \"\\\"\" in text: text = text.replace(\".\\\"\",\"\\\".\")\n",
    "    if \"!\" in text: text = text.replace(\"!\\\"\",\"\\\"!\")\n",
    "    if \"?\" in text: text = text.replace(\"?\\\"\",\"\\\"?\")\n",
    "    text = text.replace(\".\",\".<stop>\")\n",
    "    text = text.replace(\"?\",\"?<stop>\")\n",
    "    text = text.replace(\"!\",\"!<stop>\")\n",
    "    text = text.replace(\"<prd>\",\".\")\n",
    "    sentences = text.split(\"<stop>\")\n",
    "    sentences = sentences[:-1]\n",
    "    sentences = [s.strip() for s in sentences]\n",
    "    #print(text)\n",
    "    return sentences"
   ]
  },
  {
   "cell_type": "code",
   "execution_count": 64,
   "metadata": {},
   "outputs": [],
   "source": [
    "# text = (\"This's is@ 9 short, sentence. Amazing! I have tried an approach. I am trying this. I'm trying. \" \n",
    "#        \"You should suggest some, too. You've done this before?\")\n",
    "# text=text.lower()\n",
    "# print(split_into_sentences(text))\n",
    "# print(\"Lowercase count:\"+str(lowercaseCount(text)))\n",
    "# print(\"Uppercase count:\"+str(uppercaseCount(text)))\n",
    "# #print(\"Lowercase chars to Upper chars ratio:\"+str( lowercaseCount(text)/uppercaseCount(text) ))\n",
    "# text=text.lower()\n",
    "# print(text);"
   ]
  },
  {
   "cell_type": "code",
   "execution_count": 65,
   "metadata": {
    "scrolled": true
   },
   "outputs": [],
   "source": [
    "# text2=(\"<p>Are there any free web based service to manage/use your remote computers?</p> \"\n",
    "# \"<p>I use <a href=\\\"https://secure.logmein.com/home.asp\\\" rel=\\\"nofollow noreferrer\\\">Logmein</a> free. \"\n",
    "# \"It solves the purpose. But wondering any other free services available.</p> \"\n",
    "# \"<p>Heard <a href=\\\"https://www.copilot.com/\\\" rel=\\\"nofollow noreferrer\\\">Copilot</a> is great but not free!\"\n",
    "#        \"<a href=\\\"https://stackoverflow.com/questions/51884419/how-to-paginate-stack-exchange-data-explorer-sede-results\\\" \"\n",
    "#       )\n",
    "# print(urlCount(text2))\n",
    "# print(SOUrlCount(text2))"
   ]
  },
  {
   "cell_type": "code",
   "execution_count": 66,
   "metadata": {},
   "outputs": [],
   "source": [
    "# text3=(\"some text <code> something here </code> some text <code>hello\"\n",
    "# \"world</code>\")\n",
    "# print(codeLength(text3))"
   ]
  },
  {
   "cell_type": "code",
   "execution_count": 67,
   "metadata": {},
   "outputs": [],
   "source": [
    "# sentences=getSentTokens(text)\n",
    "# print(\"Sentence count:\"+str(len(sentences)))\n",
    "# print(sentences)"
   ]
  },
  {
   "cell_type": "code",
   "execution_count": 68,
   "metadata": {},
   "outputs": [],
   "source": [
    "# tokens=getWordTokens(sentences)\n",
    "# #tokens is 2D list\n",
    "# for sentence in tokens:\n",
    "#     print(sentence)"
   ]
  },
  {
   "cell_type": "code",
   "execution_count": 69,
   "metadata": {},
   "outputs": [],
   "source": [
    "# print(text)\n",
    "# print(\"Number of sentences starting with you:\"+str(sentencesStartWithYouCount(text)) )\n",
    "# print(\"Number of sentences starting with i:\"+str(sentencesStartWithICount(text)) ) "
   ]
  },
  {
   "cell_type": "code",
   "execution_count": 70,
   "metadata": {},
   "outputs": [],
   "source": [
    "# tokens=[removePunctuations(w) for s in tokens for w in s]\n",
    "# tokens=list( filter(None,tokens) )\n",
    "# print(tokens)\n",
    "# print(len(tokens))"
   ]
  },
  {
   "cell_type": "code",
   "execution_count": 71,
   "metadata": {},
   "outputs": [],
   "source": [
    "# tokens=removeStopwords(tokens)\n",
    "# print(tokens)\n",
    "# print(len(tokens))"
   ]
  },
  {
   "cell_type": "code",
   "execution_count": 72,
   "metadata": {},
   "outputs": [],
   "source": [
    "# print(string.punctuation)"
   ]
  },
  {
   "cell_type": "markdown",
   "metadata": {},
   "source": [
    "If HistoryClosedDate is not null and ClosedDate is null\n",
    "then the post might be protected\n",
    "PostId=151969"
   ]
  },
  {
   "cell_type": "markdown",
   "metadata": {},
   "source": [
    "Multiple rows for same PostId=101754 in Off topic closed question database"
   ]
  },
  {
   "cell_type": "code",
   "execution_count": 73,
   "metadata": {},
   "outputs": [],
   "source": [
    "# data=pd.read_csv(\"OffTopic1.csv\")\n",
    "# print(data.head())"
   ]
  },
  {
   "cell_type": "code",
   "execution_count": 74,
   "metadata": {},
   "outputs": [],
   "source": [
    "# #Adding necessary feature columns\n",
    "# #https://stackoverflow.com/questions/40045632/adding-a-column-in-pandas-df-using-a-function\n",
    "\n",
    "# data['lowerUpperRatio']=data['Body'].apply(lowercaseCount)/data['Body'].apply(uppercaseCount)\n",
    "# data['sentenceCount']=data['Body'].apply(getSentenceCount)\n",
    "# data['firstLineLength']=data['Body'].apply(getFirstLineLength)\n",
    "# data['codeLength']=data['Body'].apply(codeLength)\n",
    "# data['urlCount']=data['Body'].apply(urlCount)\n",
    "# data['SOUrlCount']=data['Body'].apply(SOUrlCount)\n",
    "# data['titleLengthInChars']=data['Title'].apply(len)\n",
    "# data['countOfInterrogativeSent']=data['Body'].apply(countOfInterrogativeSent)\n",
    "# data['sentencesStartWithYouCount']=data['Body'].apply(sentencesStartWithYouCount)\n",
    "# data['sentencesStartWithICount']=data['Body'].apply(sentencesStartWithICount)\n",
    "# data['shortWordCount']=data['Body'].apply(countShortWords)\n",
    "# data['bodyWordCount']=data['Body'].apply(countWords)\n",
    "# data['tagCount']=data['Tags'].apply(countTags)\n",
    "# data['punctuationCount']=data['Body'].apply(countPunctuations)\n",
    "\n",
    "# data['websiteUrlFilled']=data['WebsiteUrl'].apply(makeBinary)\n",
    "# data['locationFilled']=data['Location'].apply(makeBinary)\n",
    "# data['aboutMeFilled']=data['AboutMe'].apply(makeBinary)\n",
    "# data['profileImageUrlFilled']=data['ProfileImageUrl'].apply(makeBinary)\n",
    "\n",
    "# print(data.head())"
   ]
  },
  {
   "cell_type": "code",
   "execution_count": 75,
   "metadata": {},
   "outputs": [],
   "source": [
    "# data.columns"
   ]
  },
  {
   "cell_type": "code",
   "execution_count": 76,
   "metadata": {},
   "outputs": [],
   "source": [
    "# removeTags=data.iloc[2].Body\n",
    "# print(data.iloc[2].Body)\n",
    "# removeTags=striphtml(removeTags)\n",
    "# print(removeTags)\n",
    "# print(countShortWords(removeTags))\n",
    "# print(split_into_sentences(removeTags))"
   ]
  },
  {
   "cell_type": "code",
   "execution_count": 77,
   "metadata": {},
   "outputs": [],
   "source": [
    "# text5=\"I am Ph.D and A.B.c.de. He said, \\\"Hello!\\\"\"\n",
    "# print((text5))\n",
    "# text5 = re.sub(alphabets + \"[.]\" + alphabets + \"[.]\" + alphabets + \"[.]\",\"\\\\1<prd>\\\\2<prd>\\\\3<prd>\",text5)\n",
    "# if \"Ph.D\" in text5: text5 = text5.replace(\"Ph.D.\",\"Ph<prd>D<prd>\")\n",
    "# print((text5))\n",
    "# if \"”\" in text5: text5 = text5.replace(\".”\",\"”.\")\n",
    "# print((text5))\n",
    "# if \"\\\"\" in text5: text5 = text5.replace(\".\\\"\",\"\\\".\")\n",
    "# if \"!\" in text5: text5 = text5.replace(\"!\\\"\",\"\\\"!\")\n",
    "# print((text5))\n",
    "# if \"?\" in text5: text5 = text5.replace(\"?\\\"\",\"\\\"?\")\n",
    "# text5 = text5.replace(\".\",\".<stop>\")\n",
    "# text5 = text5.replace(\"?\",\"?<stop>\")\n",
    "# text5 = text5.replace(\"!\",\"!<stop>\")\n",
    "# text5 = text5.replace(\"<prd>\",\".\")\n",
    "# print(text5)\n",
    "# sentences = text5.split(\"<stop>\")\n",
    "# print(sentences)"
   ]
  },
  {
   "cell_type": "code",
   "execution_count": 78,
   "metadata": {},
   "outputs": [],
   "source": [
    "# text6=(\"Hello everyone! \\n\"\n",
    "# \"I want to ask a question.\")\n",
    "# print(text6)\n",
    "# print(getFirstLineLength(text6))\n",
    "# print(text6)"
   ]
  },
  {
   "cell_type": "code",
   "execution_count": 79,
   "metadata": {},
   "outputs": [],
   "source": [
    "# re.findall(r'[!\"#$%&\\'()*+,-./:;<=>?@[\\]^_`{|}~]',\"hello! he\\ @\")"
   ]
  },
  {
   "cell_type": "code",
   "execution_count": 21,
   "metadata": {},
   "outputs": [
    {
     "name": "stdout",
     "output_type": "stream",
     "text": [
      "2\n"
     ]
    }
   ],
   "source": [
    "# print(countTags(data.iloc[2].Tags))"
   ]
  },
  {
   "cell_type": "code",
   "execution_count": 81,
   "metadata": {},
   "outputs": [],
   "source": [
    "# punc=data.iloc[11].Body\n",
    "# print(punc)\n",
    "# print( countPunctuations(punc) )"
   ]
  },
  {
   "cell_type": "code",
   "execution_count": 4,
   "metadata": {},
   "outputs": [
    {
     "name": "stderr",
     "output_type": "stream",
     "text": [
      "C:\\Users\\Lenovo\\Anaconda3\\lib\\site-packages\\IPython\\core\\interactiveshell.py:2785: DtypeWarning: Columns (0,1,3,7) have mixed types. Specify dtype option on import or set low_memory=False.\n",
      "  interactivity=interactivity, compiler=compiler, result=result)\n",
      "C:\\Users\\Lenovo\\Anaconda3\\lib\\site-packages\\IPython\\core\\interactiveshell.py:2785: DtypeWarning: Columns (1,3) have mixed types. Specify dtype option on import or set low_memory=False.\n",
      "  interactivity=interactivity, compiler=compiler, result=result)\n"
     ]
    },
    {
     "name": "stdout",
     "output_type": "stream",
     "text": [
      "   PostId UserId        ClosedDate Comment  \\\n",
      "0  106963      4   21/03/2018 7:42     102   \n",
      "1   33242      5  12/08/2017 17:30     102   \n",
      "2   53802     20  19/02/2014 14:01     102   \n",
      "3      72     25   20/04/2017 7:24     102   \n",
      "4   15731     26   16/03/2015 1:49     102   \n",
      "\n",
      "                                                Body  \\\n",
      "0  <p>I'm building the world's simplest library a...   \n",
      "1  <p>Is there method (other than trial and error...   \n",
      "2  <p>I'm currently working on a JavaScript tool ...   \n",
      "3  <p>I want to format my existing comments as 'R...   \n",
      "4  <p>I am looking for either a FireFox extension...   \n",
      "\n",
      "                                               Title  \\\n",
      "0  How can I lookup data about a book from its ba...   \n",
      "1  How can I find unused images and CSS styles in...   \n",
      "2  What is the best tool to benchmark my JavaScript?   \n",
      "3    How do I add existing comments to RDoc in Ruby?   \n",
      "4  Looking for a specific FireFox extension / pro...   \n",
      "\n",
      "                                        Tags Reputation  experienceInTime  \\\n",
      "0  <api><language-agnostic><amazon><barcode>      29023              51.0   \n",
      "1                                <html><css>      39678              28.0   \n",
      "2                          <javascript><dom>       8705              40.0   \n",
      "3                               <ruby><rdoc>      17356               0.0   \n",
      "4                         <javascript><html>      11546              18.0   \n",
      "\n",
      "                             WebsiteUrl                           Location  \\\n",
      "0        http://www.joelonsoftware.com/                       New York, NY   \n",
      "1     http://weblogs.asp.net/jgalloway/                      San Diego, CA   \n",
      "2                http://tommcfarlin.com                        Atlanta, GA   \n",
      "3  http://www.codingwithoutcomments.com  Seattle, Washington United States   \n",
      "4                                   NaN                  San Francisco, CA   \n",
      "\n",
      "                                             AboutMe    Views  Upvotes  \\\n",
      "0  <p>I am:</p>\\n\\n<ul>\\n<li>the co-founder and C...  74674.0    799.0   \n",
      "1  <p>Technical Evangelist at Microsoft, speciali...  11989.0    782.0   \n",
      "2                                                NaN   1686.0    370.0   \n",
      "3            <p>a man, a plan, a canal, panama</p>\\n   3925.0    539.0   \n",
      "4  <p>a long time ago i found an xss vuln here an...   3426.0    565.0   \n",
      "\n",
      "   Downvotes                                    ProfileImageUrl  \n",
      "0       96.0      https://i.stack.imgur.com/C5gBG.jpg?s=128&g=1  \n",
      "1       34.0                                                NaN  \n",
      "2       38.0                                                NaN  \n",
      "3       83.0                                                NaN  \n",
      "4       67.0  https://www.gravatar.com/avatar/?s=128&d=ident...  \n"
     ]
    }
   ],
   "source": [
    "#READING CSV Files\n",
    "offTopic=pd.read_csv(\"102_OffTopic.csv\")\n",
    "unclear=pd.read_csv(\"103_Unclear.csv\")\n",
    "tooBroad=pd.read_csv(\"104_TooBroad.csv\")\n",
    "opinionBased=pd.read_csv(\"105_OpinionBased.csv\")\n",
    "openQues=pd.read_csv(\"open.csv\")\n",
    "#https://stackoverflow.com/questions/24251219/pandas-read-csv-low-memory-and-dtype-options\n",
    "print(offTopic.head())"
   ]
  },
  {
   "cell_type": "code",
   "execution_count": 5,
   "metadata": {
    "scrolled": true
   },
   "outputs": [
    {
     "name": "stdout",
     "output_type": "stream",
     "text": [
      "offTopic before sampling: (125000, 16)\n",
      "unclear before sampling: (53821, 16)\n",
      "tooBroad before sampling: (53374, 16)\n",
      "opinionBased before sampling: (22808, 16)\n",
      "open questions data before sampling: (112860, 14)\n",
      "\n",
      "<<< removing rows with NaN >>>\n",
      "\n",
      "cleaned offTopic before sampling: (117067, 16)\n",
      "cleaned unclear before sampling: (48803, 16)\n",
      "cleaned tooBroad before sampling: (50440, 16)\n",
      "cleaned opinionBased before sampling: (22018, 16)\n",
      "cleaned open questions data before sampling: (112860, 14)\n"
     ]
    }
   ],
   "source": [
    "print(\"offTopic before sampling: \"+str(offTopic.shape))\n",
    "print(\"unclear before sampling: \"+str(unclear.shape))\n",
    "print(\"tooBroad before sampling: \"+str(tooBroad.shape))\n",
    "print(\"opinionBased before sampling: \"+str(opinionBased.shape))\n",
    "print(\"open questions data before sampling: \"+str(openQues.shape))\n",
    "\n",
    "#Cleaning data\n",
    "#Dropping those examples where ClosedDate=NAN(signifies the question wasn't actually closed but locked, protected)\n",
    "#https://stackoverflow.com/questions/36370839/better-way-to-drop-nan-rows-in-pandas?\n",
    "print(\"\\n<<< removing rows with NaN >>>\\n\")\n",
    "offTopic.dropna(subset=['ClosedDate','Body','Title'],inplace = True) \n",
    "unclear.dropna(subset=['ClosedDate','Body','Title'],inplace = True) \n",
    "tooBroad.dropna(subset=['ClosedDate','Body','Title'],inplace = True) \n",
    "opinionBased.dropna(subset=['ClosedDate','Body','Title'],inplace = True) \n",
    "openQues.dropna(subset=['Body','Title'],inplace = True) \n",
    "\n",
    "print(\"cleaned offTopic before sampling: \"+str(offTopic.shape))\n",
    "print(\"cleaned unclear before sampling: \"+str(unclear.shape))\n",
    "print(\"cleaned tooBroad before sampling: \"+str(tooBroad.shape))\n",
    "print(\"cleaned opinionBased before sampling: \"+str(opinionBased.shape))\n",
    "print(\"cleaned open questions data before sampling: \"+str(openQues.shape))"
   ]
  },
  {
   "cell_type": "code",
   "execution_count": 6,
   "metadata": {},
   "outputs": [],
   "source": [
    "#Sampling 20k rows from each close reason type\n",
    "#https://stackoverflow.com/questions/15923826/random-row-selection-in-pandas-dataframe\n",
    "\n",
    "#Every run will generate new random samples\n",
    "offTopicSample=offTopic.sample(n=20000)  #n=20k \n",
    "unclearSample=unclear.sample(n=20000)  #n=20k \n",
    "tooBroadSample=tooBroad.sample(n=20000)  #n=20k \n",
    "opinionBasedSample=opinionBased.sample(n=20000)  #n=20k \n",
    "openQuesSample=openQues.sample(n=80000) #n=80k (sum total of all closed questions)\n",
    "\n",
    "#print(offTopicSample.head())\n",
    "#print( unclearSample.head() )\n",
    "#print( tooBroadSample.head() )\n",
    "#print( opinionBasedSample.head() )\n",
    "#print( openQuesSample.head() )"
   ]
  },
  {
   "cell_type": "code",
   "execution_count": 51,
   "metadata": {},
   "outputs": [],
   "source": [
    "offTopicSample.to_csv('offTopicSample.csv')\n",
    "unclearSample.to_csv('unclearSample.csv')\n",
    "tooBroadSample.to_csv('tooBroadSample.csv')\n",
    "opinionBasedSample.to_csv('opinionBasedSample.csv')\n",
    "openQuesSample.to_csv('openQuesSample.csv')"
   ]
  },
  {
   "cell_type": "code",
   "execution_count": 52,
   "metadata": {},
   "outputs": [],
   "source": [
    "offTopicSample=pd.read_csv(\"offTopicSample.csv\")\n",
    "unclearSample=pd.read_csv(\"unclearSample.csv\")\n",
    "tooBroadSample=pd.read_csv(\"tooBroadSample.csv\")\n",
    "opinionBasedSample=pd.read_csv(\"opinionBasedSample.csv\")\n",
    "openQuesSample=pd.read_csv(\"openQuesSample.csv\")"
   ]
  },
  {
   "cell_type": "markdown",
   "metadata": {},
   "source": [
    "### CLASSIFIER FOR OPEN/CLOSED QUESTIONS"
   ]
  },
  {
   "cell_type": "code",
   "execution_count": 7,
   "metadata": {},
   "outputs": [
    {
     "name": "stdout",
     "output_type": "stream",
     "text": [
      "offTopicSample: (20000, 16)\n",
      "unclearSample: (20000, 16)\n",
      "tooBroadSample: (20000, 16)\n",
      "opinionBasedSample: (20000, 16)\n",
      "openQuesSample: (80000, 14)\n"
     ]
    }
   ],
   "source": [
    "print(\"offTopicSample: \"+str(offTopicSample.shape))\n",
    "print(\"unclearSample: \"+str(unclearSample.shape))\n",
    "print(\"tooBroadSample: \"+str(tooBroadSample.shape))\n",
    "print(\"opinionBasedSample: \"+str(opinionBasedSample.shape))\n",
    "print(\"openQuesSample: \"+str(openQuesSample.shape))"
   ]
  },
  {
   "cell_type": "code",
   "execution_count": 9,
   "metadata": {},
   "outputs": [
    {
     "name": "stdout",
     "output_type": "stream",
     "text": [
      "closedQuesSample: (80000, 16)\n"
     ]
    }
   ],
   "source": [
    "#Merging dataframes into a single one\n",
    "closedQuesSample=pd.concat([offTopicSample,unclearSample,tooBroadSample,opinionBasedSample])\n",
    "\n",
    "print(\"closedQuesSample: \"+str(closedQuesSample.shape))"
   ]
  },
  {
   "cell_type": "code",
   "execution_count": 10,
   "metadata": {},
   "outputs": [
    {
     "data": {
      "text/plain": [
       "Index(['PostId', 'UserId', 'ClosedDate', 'Comment', 'Body', 'Title', 'Tags',\n",
       "       'Reputation', 'experienceInTime', 'WebsiteUrl', 'Location', 'AboutMe',\n",
       "       'Views', 'Upvotes', 'Downvotes', 'ProfileImageUrl'],\n",
       "      dtype='object')"
      ]
     },
     "execution_count": 10,
     "metadata": {},
     "output_type": "execute_result"
    }
   ],
   "source": [
    "# closedQuesSample.columns"
   ]
  },
  {
   "cell_type": "code",
   "execution_count": 11,
   "metadata": {},
   "outputs": [
    {
     "data": {
      "text/plain": [
       "Index(['PostId', 'UserId', 'Body', 'Title', 'Tags', 'Reputation',\n",
       "       'experienceInTime', 'WebsiteUrl', 'Location', 'AboutMe', 'Views',\n",
       "       'Upvotes', 'Downvotes', 'ProfileImageUrl'],\n",
       "      dtype='object')"
      ]
     },
     "execution_count": 11,
     "metadata": {},
     "output_type": "execute_result"
    }
   ],
   "source": [
    "# openQuesSample.columns"
   ]
  },
  {
   "cell_type": "code",
   "execution_count": 13,
   "metadata": {},
   "outputs": [],
   "source": [
    "closedQuesSample['tagCount']=closedQuesSample['Tags'].apply(countTagsForClosed)\n",
    "openQuesSample['tagCount']=openQuesSample['Tags'].apply(countTagsForOpen)"
   ]
  },
  {
   "cell_type": "code",
   "execution_count": 14,
   "metadata": {},
   "outputs": [
    {
     "data": {
      "text/plain": [
       "Index(['PostId', 'UserId', 'ClosedDate', 'Comment', 'Body', 'Title', 'Tags',\n",
       "       'Reputation', 'experienceInTime', 'WebsiteUrl', 'Location', 'AboutMe',\n",
       "       'Views', 'Upvotes', 'Downvotes', 'ProfileImageUrl', 'tagCount'],\n",
       "      dtype='object')"
      ]
     },
     "execution_count": 14,
     "metadata": {},
     "output_type": "execute_result"
    }
   ],
   "source": [
    "closedQuesSample.columns"
   ]
  },
  {
   "cell_type": "code",
   "execution_count": 15,
   "metadata": {},
   "outputs": [
    {
     "data": {
      "text/plain": [
       "Index(['PostId', 'UserId', 'Body', 'Title', 'Tags', 'Reputation',\n",
       "       'experienceInTime', 'WebsiteUrl', 'Location', 'AboutMe', 'Views',\n",
       "       'Upvotes', 'Downvotes', 'ProfileImageUrl', 'tagCount'],\n",
       "      dtype='object')"
      ]
     },
     "execution_count": 15,
     "metadata": {},
     "output_type": "execute_result"
    }
   ],
   "source": [
    "openQuesSample.columns"
   ]
  },
  {
   "cell_type": "code",
   "execution_count": 12,
   "metadata": {},
   "outputs": [],
   "source": [
    "# tagsx=\"android|c++|android-ndk|build.gradle\"\n",
    "# print(countTagsForOpen(tagsx))"
   ]
  },
  {
   "cell_type": "code",
   "execution_count": 16,
   "metadata": {},
   "outputs": [
    {
     "name": "stdout",
     "output_type": "stream",
     "text": [
      "Index(['PostId', 'UserId', 'ClosedDate', 'Comment', 'Body', 'Title', 'Tags',\n",
      "       'Reputation', 'experienceInTime', 'WebsiteUrl', 'Location', 'AboutMe',\n",
      "       'Views', 'Upvotes', 'Downvotes', 'ProfileImageUrl', 'tagCount',\n",
      "       'closed'],\n",
      "      dtype='object')\n",
      "Index(['PostId', 'UserId', 'Body', 'Title', 'Tags', 'Reputation',\n",
      "       'experienceInTime', 'WebsiteUrl', 'Location', 'AboutMe', 'Views',\n",
      "       'Upvotes', 'Downvotes', 'ProfileImageUrl', 'tagCount', 'closed'],\n",
      "      dtype='object')\n"
     ]
    }
   ],
   "source": [
    "#Adding a column for classifying between open and closed data\n",
    "closedQuesSample['closed']=1\n",
    "openQuesSample['closed']=0\n",
    "\n",
    "# print(closedQuesSample.columns)\n",
    "# print(openQuesSample.columns)"
   ]
  },
  {
   "cell_type": "code",
   "execution_count": 20,
   "metadata": {},
   "outputs": [
    {
     "name": "stdout",
     "output_type": "stream",
     "text": [
      "(80000, 17)\n",
      "(80000, 17)\n"
     ]
    }
   ],
   "source": [
    "#Removing unnecessary columns(PostId, UserId, ClosedDate etc) and streamlining all data for one dataframe\n",
    "closedQuesSample.drop(['ClosedDate'],inplace=True,axis=1)\n",
    "\n",
    "#Adding a 'Comment' column in Open Questions with value=100 \n",
    "openQuesSample['Comment']=100\n",
    "\n",
    "print(closedQuesSample.shape)\n",
    "print(openQuesSample.shape)"
   ]
  },
  {
   "cell_type": "code",
   "execution_count": 26,
   "metadata": {},
   "outputs": [
    {
     "data": {
      "text/html": [
       "<div>\n",
       "<style scoped>\n",
       "    .dataframe tbody tr th:only-of-type {\n",
       "        vertical-align: middle;\n",
       "    }\n",
       "\n",
       "    .dataframe tbody tr th {\n",
       "        vertical-align: top;\n",
       "    }\n",
       "\n",
       "    .dataframe thead th {\n",
       "        text-align: right;\n",
       "    }\n",
       "</style>\n",
       "<table border=\"1\" class=\"dataframe\">\n",
       "  <thead>\n",
       "    <tr style=\"text-align: right;\">\n",
       "      <th></th>\n",
       "      <th>PostId</th>\n",
       "      <th>UserId</th>\n",
       "      <th>Comment</th>\n",
       "      <th>Body</th>\n",
       "      <th>Title</th>\n",
       "      <th>Tags</th>\n",
       "      <th>Reputation</th>\n",
       "      <th>experienceInTime</th>\n",
       "      <th>WebsiteUrl</th>\n",
       "      <th>Location</th>\n",
       "      <th>AboutMe</th>\n",
       "      <th>Views</th>\n",
       "      <th>Upvotes</th>\n",
       "      <th>Downvotes</th>\n",
       "      <th>ProfileImageUrl</th>\n",
       "      <th>tagCount</th>\n",
       "      <th>closed</th>\n",
       "    </tr>\n",
       "  </thead>\n",
       "  <tbody>\n",
       "    <tr>\n",
       "      <th>8287</th>\n",
       "      <td>32203002</td>\n",
       "      <td>5218650</td>\n",
       "      <td>100</td>\n",
       "      <td>&lt;p&gt;Please someone explain complete step by ste...</td>\n",
       "      <td>How to build a kernel in Minix 3?</td>\n",
       "      <td>kernel|minix</td>\n",
       "      <td>6</td>\n",
       "      <td>13</td>\n",
       "      <td>NaN</td>\n",
       "      <td>NaN</td>\n",
       "      <td>NaN</td>\n",
       "      <td>8</td>\n",
       "      <td>0</td>\n",
       "      <td>0</td>\n",
       "      <td>https://lh4.googleusercontent.com/-_GtduZ_HroM...</td>\n",
       "      <td>2</td>\n",
       "      <td>0</td>\n",
       "    </tr>\n",
       "    <tr>\n",
       "      <th>34655</th>\n",
       "      <td>22080350</td>\n",
       "      <td>1375553</td>\n",
       "      <td>100</td>\n",
       "      <td>&lt;p&gt;The following JSON is returned from SharePo...</td>\n",
       "      <td>ConvertFrom-Json : Cannot convert the JSON str...</td>\n",
       "      <td>json|rest|powershell</td>\n",
       "      <td>33857</td>\n",
       "      <td>664</td>\n",
       "      <td>http://blog.vgrem.com/</td>\n",
       "      <td>Helsinki, Finland</td>\n",
       "      <td>&lt;p&gt;Currently a software developer at HiQ Finla...</td>\n",
       "      <td>2438</td>\n",
       "      <td>1574</td>\n",
       "      <td>2413</td>\n",
       "      <td>https://i.stack.imgur.com/w2whQ.png</td>\n",
       "      <td>3</td>\n",
       "      <td>0</td>\n",
       "    </tr>\n",
       "    <tr>\n",
       "      <th>1593</th>\n",
       "      <td>28019349</td>\n",
       "      <td>1774679</td>\n",
       "      <td>100</td>\n",
       "      <td>&lt;p&gt;What's the benifit of allocating a chunk of...</td>\n",
       "      <td>Is it faster when access the contiguous physic...</td>\n",
       "      <td>linux|memory-management|linux-kernel|memory-ad...</td>\n",
       "      <td>1470</td>\n",
       "      <td>816</td>\n",
       "      <td>NaN</td>\n",
       "      <td>中国Shanghai Shi</td>\n",
       "      <td>&lt;p&gt;Love the computer science &amp;amp; technology ...</td>\n",
       "      <td>312</td>\n",
       "      <td>362</td>\n",
       "      <td>3</td>\n",
       "      <td>https://www.gravatar.com/avatar/a33ac21cad99e5...</td>\n",
       "      <td>5</td>\n",
       "      <td>0</td>\n",
       "    </tr>\n",
       "    <tr>\n",
       "      <th>76697</th>\n",
       "      <td>32211159</td>\n",
       "      <td>411954</td>\n",
       "      <td>100</td>\n",
       "      <td>&lt;p&gt;I'm using an S3 bucket as the origin or a C...</td>\n",
       "      <td>Possible to force CloudFront to sync with enti...</td>\n",
       "      <td>amazon-web-services|amazon-s3|cdn|amazon-cloud...</td>\n",
       "      <td>10992</td>\n",
       "      <td>1846</td>\n",
       "      <td>NaN</td>\n",
       "      <td>NaN</td>\n",
       "      <td>NaN</td>\n",
       "      <td>667</td>\n",
       "      <td>269</td>\n",
       "      <td>77</td>\n",
       "      <td>NaN</td>\n",
       "      <td>4</td>\n",
       "      <td>0</td>\n",
       "    </tr>\n",
       "    <tr>\n",
       "      <th>91724</th>\n",
       "      <td>29798226</td>\n",
       "      <td>4819459</td>\n",
       "      <td>100</td>\n",
       "      <td>&lt;p&gt;I am making a chat app with AngularJs and I...</td>\n",
       "      <td>Add class to newest items that are added into ...</td>\n",
       "      <td>javascript|arrays|angularjs</td>\n",
       "      <td>34</td>\n",
       "      <td>0</td>\n",
       "      <td>NaN</td>\n",
       "      <td>Somewhere</td>\n",
       "      <td>NaN</td>\n",
       "      <td>15</td>\n",
       "      <td>8</td>\n",
       "      <td>0</td>\n",
       "      <td>https://www.gravatar.com/avatar/3e58774529ac97...</td>\n",
       "      <td>3</td>\n",
       "      <td>0</td>\n",
       "    </tr>\n",
       "  </tbody>\n",
       "</table>\n",
       "</div>"
      ],
      "text/plain": [
       "         PostId   UserId  Comment  \\\n",
       "8287   32203002  5218650      100   \n",
       "34655  22080350  1375553      100   \n",
       "1593   28019349  1774679      100   \n",
       "76697  32211159   411954      100   \n",
       "91724  29798226  4819459      100   \n",
       "\n",
       "                                                    Body  \\\n",
       "8287   <p>Please someone explain complete step by ste...   \n",
       "34655  <p>The following JSON is returned from SharePo...   \n",
       "1593   <p>What's the benifit of allocating a chunk of...   \n",
       "76697  <p>I'm using an S3 bucket as the origin or a C...   \n",
       "91724  <p>I am making a chat app with AngularJs and I...   \n",
       "\n",
       "                                                   Title  \\\n",
       "8287                   How to build a kernel in Minix 3?   \n",
       "34655  ConvertFrom-Json : Cannot convert the JSON str...   \n",
       "1593   Is it faster when access the contiguous physic...   \n",
       "76697  Possible to force CloudFront to sync with enti...   \n",
       "91724  Add class to newest items that are added into ...   \n",
       "\n",
       "                                                    Tags  Reputation  \\\n",
       "8287                                        kernel|minix           6   \n",
       "34655                               json|rest|powershell       33857   \n",
       "1593   linux|memory-management|linux-kernel|memory-ad...        1470   \n",
       "76697  amazon-web-services|amazon-s3|cdn|amazon-cloud...       10992   \n",
       "91724                        javascript|arrays|angularjs          34   \n",
       "\n",
       "       experienceInTime              WebsiteUrl           Location  \\\n",
       "8287                 13                     NaN                NaN   \n",
       "34655               664  http://blog.vgrem.com/  Helsinki, Finland   \n",
       "1593                816                     NaN     中国Shanghai Shi   \n",
       "76697              1846                     NaN                NaN   \n",
       "91724                 0                     NaN          Somewhere   \n",
       "\n",
       "                                                 AboutMe  Views  Upvotes  \\\n",
       "8287                                                 NaN      8        0   \n",
       "34655  <p>Currently a software developer at HiQ Finla...   2438     1574   \n",
       "1593   <p>Love the computer science &amp; technology ...    312      362   \n",
       "76697                                                NaN    667      269   \n",
       "91724                                                NaN     15        8   \n",
       "\n",
       "       Downvotes                                    ProfileImageUrl  tagCount  \\\n",
       "8287           0  https://lh4.googleusercontent.com/-_GtduZ_HroM...         2   \n",
       "34655       2413                https://i.stack.imgur.com/w2whQ.png         3   \n",
       "1593           3  https://www.gravatar.com/avatar/a33ac21cad99e5...         5   \n",
       "76697         77                                                NaN         4   \n",
       "91724          0  https://www.gravatar.com/avatar/3e58774529ac97...         3   \n",
       "\n",
       "       closed  \n",
       "8287        0  \n",
       "34655       0  \n",
       "1593        0  \n",
       "76697       0  \n",
       "91724       0  "
      ]
     },
     "execution_count": 26,
     "metadata": {},
     "output_type": "execute_result"
    }
   ],
   "source": [
    "openQuesSample.head()"
   ]
  },
  {
   "cell_type": "code",
   "execution_count": 27,
   "metadata": {},
   "outputs": [
    {
     "name": "stdout",
     "output_type": "stream",
     "text": [
      "Index(['PostId', 'UserId', 'Comment', 'Body', 'Title', 'Tags', 'Reputation',\n",
      "       'experienceInTime', 'WebsiteUrl', 'Location', 'AboutMe', 'Views',\n",
      "       'Upvotes', 'Downvotes', 'ProfileImageUrl', 'tagCount', 'closed'],\n",
      "      dtype='object')\n",
      "Index(['PostId', 'UserId', 'Comment', 'Body', 'Title', 'Tags', 'Reputation',\n",
      "       'experienceInTime', 'WebsiteUrl', 'Location', 'AboutMe', 'Views',\n",
      "       'Upvotes', 'Downvotes', 'ProfileImageUrl', 'tagCount', 'closed'],\n",
      "      dtype='object')\n",
      "['PostId', 'UserId', 'Comment', 'Body', 'Title', 'Tags', 'Reputation', 'experienceInTime', 'WebsiteUrl', 'Location', 'AboutMe', 'Views', 'Upvotes', 'Downvotes', 'ProfileImageUrl', 'tagCount', 'closed']\n",
      "Index(['PostId', 'UserId', 'Comment', 'Body', 'Title', 'Tags', 'Reputation',\n",
      "       'experienceInTime', 'WebsiteUrl', 'Location', 'AboutMe', 'Views',\n",
      "       'Upvotes', 'Downvotes', 'ProfileImageUrl', 'tagCount', 'closed'],\n",
      "      dtype='object')\n",
      "Index(['PostId', 'UserId', 'Comment', 'Body', 'Title', 'Tags', 'Reputation',\n",
      "       'experienceInTime', 'WebsiteUrl', 'Location', 'AboutMe', 'Views',\n",
      "       'Upvotes', 'Downvotes', 'ProfileImageUrl', 'tagCount', 'closed'],\n",
      "      dtype='object')\n"
     ]
    }
   ],
   "source": [
    "print(closedQuesSample.columns)\n",
    "print(openQuesSample.columns)\n",
    "\n",
    "#Rearranging openQuesSample dataframe columns\n",
    "#https://stackoverflow.com/questions/13148429/how-to-change-the-order-of-dataframe-columns\n",
    "cols = list(openQuesSample.columns.values)\n",
    "print(cols)\n",
    "cols=['PostId', 'UserId', 'Comment', 'Body', 'Title', 'Tags', 'Reputation', 'experienceInTime', 'WebsiteUrl', 'Location', 'AboutMe', 'Views', 'Upvotes', 'Downvotes', 'ProfileImageUrl', 'tagCount', 'closed']\n",
    "openQuesSample=openQuesSample[cols]\n",
    "print(closedQuesSample.columns)\n",
    "print(openQuesSample.columns)"
   ]
  },
  {
   "cell_type": "code",
   "execution_count": 28,
   "metadata": {},
   "outputs": [
    {
     "data": {
      "text/html": [
       "<div>\n",
       "<style scoped>\n",
       "    .dataframe tbody tr th:only-of-type {\n",
       "        vertical-align: middle;\n",
       "    }\n",
       "\n",
       "    .dataframe tbody tr th {\n",
       "        vertical-align: top;\n",
       "    }\n",
       "\n",
       "    .dataframe thead th {\n",
       "        text-align: right;\n",
       "    }\n",
       "</style>\n",
       "<table border=\"1\" class=\"dataframe\">\n",
       "  <thead>\n",
       "    <tr style=\"text-align: right;\">\n",
       "      <th></th>\n",
       "      <th>PostId</th>\n",
       "      <th>UserId</th>\n",
       "      <th>Comment</th>\n",
       "      <th>Body</th>\n",
       "      <th>Title</th>\n",
       "      <th>Tags</th>\n",
       "      <th>Reputation</th>\n",
       "      <th>experienceInTime</th>\n",
       "      <th>WebsiteUrl</th>\n",
       "      <th>Location</th>\n",
       "      <th>AboutMe</th>\n",
       "      <th>Views</th>\n",
       "      <th>Upvotes</th>\n",
       "      <th>Downvotes</th>\n",
       "      <th>ProfileImageUrl</th>\n",
       "      <th>tagCount</th>\n",
       "      <th>closed</th>\n",
       "    </tr>\n",
       "  </thead>\n",
       "  <tbody>\n",
       "    <tr>\n",
       "      <th>8287</th>\n",
       "      <td>32203002</td>\n",
       "      <td>5218650</td>\n",
       "      <td>100</td>\n",
       "      <td>&lt;p&gt;Please someone explain complete step by ste...</td>\n",
       "      <td>How to build a kernel in Minix 3?</td>\n",
       "      <td>kernel|minix</td>\n",
       "      <td>6</td>\n",
       "      <td>13</td>\n",
       "      <td>NaN</td>\n",
       "      <td>NaN</td>\n",
       "      <td>NaN</td>\n",
       "      <td>8</td>\n",
       "      <td>0</td>\n",
       "      <td>0</td>\n",
       "      <td>https://lh4.googleusercontent.com/-_GtduZ_HroM...</td>\n",
       "      <td>2</td>\n",
       "      <td>0</td>\n",
       "    </tr>\n",
       "    <tr>\n",
       "      <th>34655</th>\n",
       "      <td>22080350</td>\n",
       "      <td>1375553</td>\n",
       "      <td>100</td>\n",
       "      <td>&lt;p&gt;The following JSON is returned from SharePo...</td>\n",
       "      <td>ConvertFrom-Json : Cannot convert the JSON str...</td>\n",
       "      <td>json|rest|powershell</td>\n",
       "      <td>33857</td>\n",
       "      <td>664</td>\n",
       "      <td>http://blog.vgrem.com/</td>\n",
       "      <td>Helsinki, Finland</td>\n",
       "      <td>&lt;p&gt;Currently a software developer at HiQ Finla...</td>\n",
       "      <td>2438</td>\n",
       "      <td>1574</td>\n",
       "      <td>2413</td>\n",
       "      <td>https://i.stack.imgur.com/w2whQ.png</td>\n",
       "      <td>3</td>\n",
       "      <td>0</td>\n",
       "    </tr>\n",
       "    <tr>\n",
       "      <th>1593</th>\n",
       "      <td>28019349</td>\n",
       "      <td>1774679</td>\n",
       "      <td>100</td>\n",
       "      <td>&lt;p&gt;What's the benifit of allocating a chunk of...</td>\n",
       "      <td>Is it faster when access the contiguous physic...</td>\n",
       "      <td>linux|memory-management|linux-kernel|memory-ad...</td>\n",
       "      <td>1470</td>\n",
       "      <td>816</td>\n",
       "      <td>NaN</td>\n",
       "      <td>中国Shanghai Shi</td>\n",
       "      <td>&lt;p&gt;Love the computer science &amp;amp; technology ...</td>\n",
       "      <td>312</td>\n",
       "      <td>362</td>\n",
       "      <td>3</td>\n",
       "      <td>https://www.gravatar.com/avatar/a33ac21cad99e5...</td>\n",
       "      <td>5</td>\n",
       "      <td>0</td>\n",
       "    </tr>\n",
       "    <tr>\n",
       "      <th>76697</th>\n",
       "      <td>32211159</td>\n",
       "      <td>411954</td>\n",
       "      <td>100</td>\n",
       "      <td>&lt;p&gt;I'm using an S3 bucket as the origin or a C...</td>\n",
       "      <td>Possible to force CloudFront to sync with enti...</td>\n",
       "      <td>amazon-web-services|amazon-s3|cdn|amazon-cloud...</td>\n",
       "      <td>10992</td>\n",
       "      <td>1846</td>\n",
       "      <td>NaN</td>\n",
       "      <td>NaN</td>\n",
       "      <td>NaN</td>\n",
       "      <td>667</td>\n",
       "      <td>269</td>\n",
       "      <td>77</td>\n",
       "      <td>NaN</td>\n",
       "      <td>4</td>\n",
       "      <td>0</td>\n",
       "    </tr>\n",
       "    <tr>\n",
       "      <th>91724</th>\n",
       "      <td>29798226</td>\n",
       "      <td>4819459</td>\n",
       "      <td>100</td>\n",
       "      <td>&lt;p&gt;I am making a chat app with AngularJs and I...</td>\n",
       "      <td>Add class to newest items that are added into ...</td>\n",
       "      <td>javascript|arrays|angularjs</td>\n",
       "      <td>34</td>\n",
       "      <td>0</td>\n",
       "      <td>NaN</td>\n",
       "      <td>Somewhere</td>\n",
       "      <td>NaN</td>\n",
       "      <td>15</td>\n",
       "      <td>8</td>\n",
       "      <td>0</td>\n",
       "      <td>https://www.gravatar.com/avatar/3e58774529ac97...</td>\n",
       "      <td>3</td>\n",
       "      <td>0</td>\n",
       "    </tr>\n",
       "  </tbody>\n",
       "</table>\n",
       "</div>"
      ],
      "text/plain": [
       "         PostId   UserId  Comment  \\\n",
       "8287   32203002  5218650      100   \n",
       "34655  22080350  1375553      100   \n",
       "1593   28019349  1774679      100   \n",
       "76697  32211159   411954      100   \n",
       "91724  29798226  4819459      100   \n",
       "\n",
       "                                                    Body  \\\n",
       "8287   <p>Please someone explain complete step by ste...   \n",
       "34655  <p>The following JSON is returned from SharePo...   \n",
       "1593   <p>What's the benifit of allocating a chunk of...   \n",
       "76697  <p>I'm using an S3 bucket as the origin or a C...   \n",
       "91724  <p>I am making a chat app with AngularJs and I...   \n",
       "\n",
       "                                                   Title  \\\n",
       "8287                   How to build a kernel in Minix 3?   \n",
       "34655  ConvertFrom-Json : Cannot convert the JSON str...   \n",
       "1593   Is it faster when access the contiguous physic...   \n",
       "76697  Possible to force CloudFront to sync with enti...   \n",
       "91724  Add class to newest items that are added into ...   \n",
       "\n",
       "                                                    Tags  Reputation  \\\n",
       "8287                                        kernel|minix           6   \n",
       "34655                               json|rest|powershell       33857   \n",
       "1593   linux|memory-management|linux-kernel|memory-ad...        1470   \n",
       "76697  amazon-web-services|amazon-s3|cdn|amazon-cloud...       10992   \n",
       "91724                        javascript|arrays|angularjs          34   \n",
       "\n",
       "       experienceInTime              WebsiteUrl           Location  \\\n",
       "8287                 13                     NaN                NaN   \n",
       "34655               664  http://blog.vgrem.com/  Helsinki, Finland   \n",
       "1593                816                     NaN     中国Shanghai Shi   \n",
       "76697              1846                     NaN                NaN   \n",
       "91724                 0                     NaN          Somewhere   \n",
       "\n",
       "                                                 AboutMe  Views  Upvotes  \\\n",
       "8287                                                 NaN      8        0   \n",
       "34655  <p>Currently a software developer at HiQ Finla...   2438     1574   \n",
       "1593   <p>Love the computer science &amp; technology ...    312      362   \n",
       "76697                                                NaN    667      269   \n",
       "91724                                                NaN     15        8   \n",
       "\n",
       "       Downvotes                                    ProfileImageUrl  tagCount  \\\n",
       "8287           0  https://lh4.googleusercontent.com/-_GtduZ_HroM...         2   \n",
       "34655       2413                https://i.stack.imgur.com/w2whQ.png         3   \n",
       "1593           3  https://www.gravatar.com/avatar/a33ac21cad99e5...         5   \n",
       "76697         77                                                NaN         4   \n",
       "91724          0  https://www.gravatar.com/avatar/3e58774529ac97...         3   \n",
       "\n",
       "       closed  \n",
       "8287        0  \n",
       "34655       0  \n",
       "1593        0  \n",
       "76697       0  \n",
       "91724       0  "
      ]
     },
     "execution_count": 28,
     "metadata": {},
     "output_type": "execute_result"
    }
   ],
   "source": [
    "openQuesSample.head()"
   ]
  },
  {
   "cell_type": "code",
   "execution_count": 29,
   "metadata": {},
   "outputs": [
    {
     "name": "stdout",
     "output_type": "stream",
     "text": [
      "openCloseData: (160000, 17)\n"
     ]
    }
   ],
   "source": [
    "#Merging open and closed questions\n",
    "openCloseData=pd.concat([closedQuesSample,openQuesSample])\n",
    "print(\"openCloseData: \"+str(openCloseData.shape))"
   ]
  },
  {
   "cell_type": "code",
   "execution_count": 30,
   "metadata": {},
   "outputs": [],
   "source": [
    "#Exporting dataframe before adding columns, Now: 17 columns\n",
    "openCloseData.to_csv('openCloseData.csv')"
   ]
  },
  {
   "cell_type": "code",
   "execution_count": 31,
   "metadata": {},
   "outputs": [],
   "source": [
    "#Adding necessary feature cJolumns\n",
    "#https://stackoverflow.com/questions/40045632/adding-a-column-in-pandas-df-using-a-function\n",
    "\n",
    "openCloseData['lowerUpperRatio']=(openCloseData['Body'].apply(lowercaseCount))/(openCloseData['Body'].apply(uppercaseCount))"
   ]
  },
  {
   "cell_type": "code",
   "execution_count": 32,
   "metadata": {},
   "outputs": [],
   "source": [
    "openCloseData['sentenceCount']=openCloseData['Body'].apply(getSentenceCount)"
   ]
  },
  {
   "cell_type": "code",
   "execution_count": 33,
   "metadata": {},
   "outputs": [],
   "source": [
    "openCloseData['firstLineLength']=openCloseData['Body'].apply(getFirstLineLength)"
   ]
  },
  {
   "cell_type": "code",
   "execution_count": 34,
   "metadata": {},
   "outputs": [],
   "source": [
    "openCloseData['codeLength']=openCloseData['Body'].apply(codeLength)"
   ]
  },
  {
   "cell_type": "code",
   "execution_count": 35,
   "metadata": {},
   "outputs": [],
   "source": [
    "openCloseData['urlCount']=openCloseData['Body'].apply(urlCount)"
   ]
  },
  {
   "cell_type": "code",
   "execution_count": 36,
   "metadata": {},
   "outputs": [],
   "source": [
    "openCloseData['SOUrlCount']=openCloseData['Body'].apply(SOUrlCount)"
   ]
  },
  {
   "cell_type": "code",
   "execution_count": 37,
   "metadata": {},
   "outputs": [],
   "source": [
    "openCloseData['titleLengthInChars']=openCloseData['Title'].apply(len)"
   ]
  },
  {
   "cell_type": "code",
   "execution_count": 38,
   "metadata": {},
   "outputs": [],
   "source": [
    "openCloseData['countOfInterrogativeSent']=openCloseData['Body'].apply(countOfInterrogativeSent)"
   ]
  },
  {
   "cell_type": "code",
   "execution_count": 39,
   "metadata": {},
   "outputs": [],
   "source": [
    "openCloseData['sentencesStartWithYouCount']=openCloseData['Body'].apply(sentencesStartWithYouCount)\n",
    "openCloseData['sentencesStartWithICount']=openCloseData['Body'].apply(sentencesStartWithICount)"
   ]
  },
  {
   "cell_type": "code",
   "execution_count": 40,
   "metadata": {},
   "outputs": [],
   "source": [
    "openCloseData['shortWordCount']=openCloseData['Body'].apply(countShortWords)\n",
    "openCloseData['bodyWordCount']=openCloseData['Body'].apply(countWords)\n",
    "#openCloseData['tagCount']=openCloseData['Tags'].apply(countTags) #Done already \n",
    "openCloseData['punctuationCount']=openCloseData['Body'].apply(countPunctuations)"
   ]
  },
  {
   "cell_type": "code",
   "execution_count": 41,
   "metadata": {},
   "outputs": [
    {
     "name": "stdout",
     "output_type": "stream",
     "text": [
      "         PostId   UserId Comment  \\\n",
      "948    21170255     5921     102   \n",
      "36870  38290647  1601251     102   \n",
      "3788    6496114    52924     102   \n",
      "42882  25982771  1968462     102   \n",
      "14338  10142243   383479     102   \n",
      "\n",
      "                                                    Body  \\\n",
      "948    <p>I tried to Google for this, but was (surpri...   \n",
      "36870  <p>I am at a decision fork where i have to pic...   \n",
      "3788   <p>Does anyone know of a good tool to test Sch...   \n",
      "42882  <p>The <a href=\"http://www.postgresql.org/docs...   \n",
      "14338  <p>Which frameworks would you recommend for wr...   \n",
      "\n",
      "                                                   Title  \\\n",
      "948    Can anyone point me to (or post) an array of e...   \n",
      "36870         RESTful API with either Tomcat or Node.js?   \n",
      "3788                  Tool for testing Schema.org markup   \n",
      "42882               Inserting into simple Postgres views   \n",
      "14338  Frameworks for Unittests for Multithreading in...   \n",
      "\n",
      "                                                    Tags Reputation  \\\n",
      "948                     <javascript><html><arrays><tags>      17527   \n",
      "36870          <java><node.js><rest><tomcat><typescript>        151   \n",
      "3788                       <testing><markup><schema.org>       1639   \n",
      "42882                                  <sql><postgresql>       2669   \n",
      "14338  <java><multithreading><unit-testing><concurrency>        245   \n",
      "\n",
      "       experienceInTime                         WebsiteUrl  \\\n",
      "948              1953.0                                NaN   \n",
      "36870            1425.0                                NaN   \n",
      "3788              900.0        http://www.agendarecife.com   \n",
      "42882             620.0  https://katrinahoffert.github.io/   \n",
      "14338             648.0                                NaN   \n",
      "\n",
      "                   Location          ...           countOfInterrogativeSent  \\\n",
      "948       Mountain View, CA          ...                                  1   \n",
      "36870                   NaN          ...                                  5   \n",
      "3788         Recife, Brazil          ...                                  1   \n",
      "42882  Saskatchewan, Canada          ...                                  1   \n",
      "14338                   NaN          ...                                  1   \n",
      "\n",
      "       sentencesStartWithYouCount  sentencesStartWithICount  shortWordCount  \\\n",
      "948                             0                         3              87   \n",
      "36870                           0                         1              51   \n",
      "3788                            0                         0              15   \n",
      "42882                           0                         2              70   \n",
      "14338                           0                         0              31   \n",
      "\n",
      "      bodyWordCount  punctuationCount  websiteUrlFilled  locationFilled  \\\n",
      "948             176                50                 0               1   \n",
      "36870           118                19                 0               0   \n",
      "3788             50                17                 1               1   \n",
      "42882           189                45                 1               1   \n",
      "14338            68                11                 0               0   \n",
      "\n",
      "       aboutMeFilled  profileImageUrlFilled  \n",
      "948                1                      0  \n",
      "36870              0                      0  \n",
      "3788               1                      0  \n",
      "42882              1                      1  \n",
      "14338              0                      0  \n",
      "\n",
      "[5 rows x 34 columns]\n"
     ]
    }
   ],
   "source": [
    "openCloseData['websiteUrlFilled']=openCloseData['WebsiteUrl'].apply(makeBinary)\n",
    "openCloseData['locationFilled']=openCloseData['Location'].apply(makeBinary) \n",
    "openCloseData['aboutMeFilled']=openCloseData['AboutMe'].apply(makeBinary)\n",
    "openCloseData['profileImageUrlFilled']=openCloseData['ProfileImageUrl'].apply(makeBinary)\n",
    "\n",
    "print(openCloseData.head())"
   ]
  },
  {
   "cell_type": "code",
   "execution_count": 42,
   "metadata": {},
   "outputs": [
    {
     "name": "stdout",
     "output_type": "stream",
     "text": [
      "openCloseData shape after adding features:(160000, 34)\n",
      "Index(['PostId', 'UserId', 'Comment', 'Body', 'Title', 'Tags', 'Reputation',\n",
      "       'experienceInTime', 'WebsiteUrl', 'Location', 'AboutMe', 'Views',\n",
      "       'Upvotes', 'Downvotes', 'ProfileImageUrl', 'tagCount', 'closed',\n",
      "       'lowerUpperRatio', 'sentenceCount', 'firstLineLength', 'codeLength',\n",
      "       'urlCount', 'SOUrlCount', 'titleLengthInChars',\n",
      "       'countOfInterrogativeSent', 'sentencesStartWithYouCount',\n",
      "       'sentencesStartWithICount', 'shortWordCount', 'bodyWordCount',\n",
      "       'punctuationCount', 'websiteUrlFilled', 'locationFilled',\n",
      "       'aboutMeFilled', 'profileImageUrlFilled'],\n",
      "      dtype='object')\n"
     ]
    }
   ],
   "source": [
    "print(\"openCloseData shape after adding features:\"+str(openCloseData.shape))\n",
    "print(openCloseData.columns)"
   ]
  },
  {
   "cell_type": "code",
   "execution_count": 43,
   "metadata": {},
   "outputs": [],
   "source": [
    "#Exporting dataframe after adding columns, Now: 34 columns\n",
    "openCloseData.to_csv('openCloseData.csv')"
   ]
  },
  {
   "cell_type": "code",
   "execution_count": null,
   "metadata": {},
   "outputs": [],
   "source": [
    "#https://www.ritchieng.com/pandas-scikit-learn/\n",
    "\n",
    "print(openCloseData.shape)\n",
    "openCloseData.dropna(subset=['Reputation', 'experienceInTime', 'Views', 'Upvotes', 'Downvotes',\n",
    "       'lowerUpperRatio', 'sentenceCount',\n",
    "       'firstLineLength', 'codeLength', 'urlCount', 'SOUrlCount',\n",
    "       'titleLengthInChars', 'countOfInterrogativeSent',\n",
    "       'sentencesStartWithYouCount', 'sentencesStartWithICount',\n",
    "       'shortWordCount', 'bodyWordCount', 'tagCount', 'punctuationCount',\n",
    "       'websiteUrlFilled', 'locationFilled', 'aboutMeFilled',\n",
    "       'profileImageUrlFilled'],inplace = True,axis=0) \n",
    "print(openCloseData.shape)\n",
    "\n",
    "X = openCloseData.loc[:, ['Reputation', 'experienceInTime', 'Views', 'Upvotes', 'Downvotes',\n",
    "       'lowerUpperRatio', 'sentenceCount',\n",
    "       'firstLineLength', 'codeLength', 'urlCount', 'SOUrlCount',\n",
    "       'titleLengthInChars', 'countOfInterrogativeSent',\n",
    "       'sentencesStartWithYouCount', 'sentencesStartWithICount',\n",
    "       'shortWordCount', 'bodyWordCount', 'tagCount', 'punctuationCount',\n",
    "       'websiteUrlFilled', 'locationFilled', 'aboutMeFilled',\n",
    "       'profileImageUrlFilled']]\n",
    "y = openCloseData.closed\n",
    "print(type(X))\n",
    "print(X.shape)\n",
    "print(y.shape)\n",
    "print(y)"
   ]
  },
  {
   "cell_type": "code",
   "execution_count": null,
   "metadata": {},
   "outputs": [],
   "source": [
    "X.isnull()"
   ]
  },
  {
   "cell_type": "code",
   "execution_count": null,
   "metadata": {},
   "outputs": [],
   "source": [
    "from sklearn.linear_model import LogisticRegression\n",
    "logreg=LogisticRegression()\n",
    "logreg.fit(X,y)"
   ]
  },
  {
   "cell_type": "code",
   "execution_count": null,
   "metadata": {},
   "outputs": [],
   "source": [
    "#TRAIN/CV/TEST SPLIT\n"
   ]
  },
  {
   "cell_type": "code",
   "execution_count": null,
   "metadata": {},
   "outputs": [],
   "source": [
    "import matplotlib.pyplot as plt\n",
    "import numpy as np\n",
    "%matplotlib inline\n",
    "\n",
    "bins = np.linspace(0,100,20)\n",
    "#plt.hist(openCloseData[openCloseData['closed']==1]['Reputation'],bins,normed=True)\n",
    "plt.hist(openCloseData[openCloseData['closed']==1]['titleLengthInChars'],bins,normed=True,label='Title_length')\n",
    "#plt.hist(openCloseData['bodyWordCount'],bins,label='BodyWordCount')\n",
    "#plt.xlabel('')\n",
    "#plt.ylabel(\"Number of users\")\n",
    "\n",
    "#plt.legend(loc='upper right')\n",
    "plt.show()"
   ]
  },
  {
   "cell_type": "code",
   "execution_count": null,
   "metadata": {},
   "outputs": [],
   "source": [
    "#plt.hist(openCloseData[openCloseData['closed']==1]['Reputation'],bins=np.linspace(0,400,40),normed=True,label='Reputation')\n",
    "\n",
    "#plt.show()"
   ]
  },
  {
   "cell_type": "code",
   "execution_count": null,
   "metadata": {},
   "outputs": [],
   "source": [
    "X.drop(['lowerUpperRatio'], axis = 1, inplace = True)\n",
    "X.dtypes\n",
    "y.dtypes"
   ]
  },
  {
   "cell_type": "code",
   "execution_count": null,
   "metadata": {},
   "outputs": [],
   "source": [
    "from sklearn.ensemble import RandomForestClassifier\n",
    "from sklearn.metrics import precision_recall_fscore_support as score\n",
    "from sklearn.model_selection import train_test_split\n",
    "\n",
    "#np.nan_to_num(X['lowerUpperRatio'])\n",
    "\n",
    "X_train , X_test , y_train , y_test = train_test_split(X,y,test_size=0.2)\n",
    "rf = RandomForestClassifier(n_estimators=50, max_depth = 20 , n_jobs = -1)\n",
    "rf_model = rf.fit(X_train,y_train)\n",
    "print(X_train)\n",
    "print(y_train)\n",
    "print(y_test)\n",
    "#k_fold = KFold(n_splits=5)\n",
    "    \n",
    "#cross_val_score(rf,)"
   ]
  },
  {
   "cell_type": "code",
   "execution_count": null,
   "metadata": {},
   "outputs": [],
   "source": [
    "sorted(zip(rf_model.feature_importances_,X_train.columns),reverse=True)[0:10]"
   ]
  },
  {
   "cell_type": "code",
   "execution_count": null,
   "metadata": {},
   "outputs": [],
   "source": [
    "y_pred = rf_model.predict(X_test)\n",
    "\n",
    "precision,recall,fscore,support = score(y_test,y_pred,pos_label=1,average='binary')\n",
    "print(\"Precision : {} / Recall : {} / Accuracy : {} / \".format(round(precision,3),\n",
    "                                                               round(recall,3),\n",
    "                                                               round((y_pred==y_test).sum()/len(y_pred),3)))"
   ]
  },
  {
   "cell_type": "code",
   "execution_count": null,
   "metadata": {},
   "outputs": [],
   "source": [
    "print(len(y_pred))\n",
    "\n",
    "for a,b in zip(y_pred,y_test):\n",
    "    print(str(a)+\"==\"+str(b))"
   ]
  },
  {
   "cell_type": "code",
   "execution_count": null,
   "metadata": {},
   "outputs": [],
   "source": [
    "from sklearn.model_selection import KFold,cross_val_score\n",
    "k_fold = KFold(n_splits=5)\n",
    "    \n",
    "cross_val_score(rf,X,y,cv=k_fold,scoring='accuracy',n_jobs=-1)"
   ]
  },
  {
   "cell_type": "markdown",
   "metadata": {},
   "source": [
    "## CLASSIFIER FOR REASON FOR CLOSURE"
   ]
  },
  {
   "cell_type": "code",
   "execution_count": null,
   "metadata": {},
   "outputs": [],
   "source": []
  }
 ],
 "metadata": {
  "kernelspec": {
   "display_name": "Python 3",
   "language": "python",
   "name": "python3"
  },
  "language_info": {
   "codemirror_mode": {
    "name": "ipython",
    "version": 3
   },
   "file_extension": ".py",
   "mimetype": "text/x-python",
   "name": "python",
   "nbconvert_exporter": "python",
   "pygments_lexer": "ipython3",
   "version": "3.6.5"
  }
 },
 "nbformat": 4,
 "nbformat_minor": 2
}
