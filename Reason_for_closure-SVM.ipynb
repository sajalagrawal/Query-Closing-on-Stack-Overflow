{
 "cells": [
  {
   "cell_type": "code",
   "execution_count": 1,
   "metadata": {},
   "outputs": [],
   "source": [
    "import pandas as pd\n",
    "import numpy as np\n",
    "from sklearn.svm import SVC\n",
    "from sklearn.svm import LinearSVC\n",
    "from sklearn.model_selection import train_test_split\n",
    "from sklearn.metrics import classification_report\n",
    "from sklearn.metrics import precision_score\n",
    "from sklearn.model_selection import GridSearchCV\n",
    "from sklearn.model_selection import KFold,cross_val_score\n",
    "from sklearn.preprocessing import StandardScaler"
   ]
  },
  {
   "cell_type": "code",
   "execution_count": 2,
   "metadata": {},
   "outputs": [
    {
     "data": {
      "text/html": [
       "<div>\n",
       "<style scoped>\n",
       "    .dataframe tbody tr th:only-of-type {\n",
       "        vertical-align: middle;\n",
       "    }\n",
       "\n",
       "    .dataframe tbody tr th {\n",
       "        vertical-align: top;\n",
       "    }\n",
       "\n",
       "    .dataframe thead th {\n",
       "        text-align: right;\n",
       "    }\n",
       "</style>\n",
       "<table border=\"1\" class=\"dataframe\">\n",
       "  <thead>\n",
       "    <tr style=\"text-align: right;\">\n",
       "      <th></th>\n",
       "      <th>Unnamed: 0</th>\n",
       "      <th>AboutMe</th>\n",
       "      <th>Body</th>\n",
       "      <th>Comment</th>\n",
       "      <th>Downvotes</th>\n",
       "      <th>Location</th>\n",
       "      <th>PostId</th>\n",
       "      <th>ProfileImageUrl</th>\n",
       "      <th>Reputation</th>\n",
       "      <th>SOUrlCount</th>\n",
       "      <th>...</th>\n",
       "      <th>sentencesStartWithICount</th>\n",
       "      <th>sentencesStartWithYouCount</th>\n",
       "      <th>shortWordCount</th>\n",
       "      <th>smogIndex</th>\n",
       "      <th>tagCount</th>\n",
       "      <th>tagWeightSum</th>\n",
       "      <th>titleLengthInChars</th>\n",
       "      <th>urlCount</th>\n",
       "      <th>userProfileFilled</th>\n",
       "      <th>websiteUrlFilled</th>\n",
       "    </tr>\n",
       "  </thead>\n",
       "  <tbody>\n",
       "    <tr>\n",
       "      <th>0</th>\n",
       "      <td>0</td>\n",
       "      <td>NaN</td>\n",
       "      <td>&lt;p&gt;Please someone explain complete step by ste...</td>\n",
       "      <td>100</td>\n",
       "      <td>0</td>\n",
       "      <td>NaN</td>\n",
       "      <td>32203002</td>\n",
       "      <td>https://lh4.googleusercontent.com/-_GtduZ_HroM...</td>\n",
       "      <td>6</td>\n",
       "      <td>0</td>\n",
       "      <td>...</td>\n",
       "      <td>0</td>\n",
       "      <td>0</td>\n",
       "      <td>6</td>\n",
       "      <td>0.0</td>\n",
       "      <td>2</td>\n",
       "      <td>-110.462467</td>\n",
       "      <td>33</td>\n",
       "      <td>0</td>\n",
       "      <td>1</td>\n",
       "      <td>0</td>\n",
       "    </tr>\n",
       "    <tr>\n",
       "      <th>1</th>\n",
       "      <td>1</td>\n",
       "      <td>NaN</td>\n",
       "      <td>&lt;p&gt;I've used SFST language for my project on N...</td>\n",
       "      <td>100</td>\n",
       "      <td>0</td>\n",
       "      <td>NaN</td>\n",
       "      <td>31961877</td>\n",
       "      <td>https://lh4.googleusercontent.com/-_GtduZ_HroM...</td>\n",
       "      <td>6</td>\n",
       "      <td>0</td>\n",
       "      <td>...</td>\n",
       "      <td>3</td>\n",
       "      <td>0</td>\n",
       "      <td>27</td>\n",
       "      <td>0.0</td>\n",
       "      <td>4</td>\n",
       "      <td>-157.135019</td>\n",
       "      <td>25</td>\n",
       "      <td>2</td>\n",
       "      <td>1</td>\n",
       "      <td>0</td>\n",
       "    </tr>\n",
       "    <tr>\n",
       "      <th>2</th>\n",
       "      <td>2</td>\n",
       "      <td>&lt;p&gt;Currently a software developer at HiQ Finla...</td>\n",
       "      <td>&lt;p&gt;The following JSON is returned from SharePo...</td>\n",
       "      <td>100</td>\n",
       "      <td>2413</td>\n",
       "      <td>Helsinki, Finland</td>\n",
       "      <td>22080350</td>\n",
       "      <td>https://i.stack.imgur.com/w2whQ.png</td>\n",
       "      <td>33857</td>\n",
       "      <td>0</td>\n",
       "      <td>...</td>\n",
       "      <td>0</td>\n",
       "      <td>0</td>\n",
       "      <td>25</td>\n",
       "      <td>0.0</td>\n",
       "      <td>3</td>\n",
       "      <td>-279.862500</td>\n",
       "      <td>134</td>\n",
       "      <td>0</td>\n",
       "      <td>4</td>\n",
       "      <td>1</td>\n",
       "    </tr>\n",
       "    <tr>\n",
       "      <th>3</th>\n",
       "      <td>3</td>\n",
       "      <td>&lt;p&gt;Love the computer science &amp;amp; technology ...</td>\n",
       "      <td>&lt;p&gt;What's the benifit of allocating a chunk of...</td>\n",
       "      <td>100</td>\n",
       "      <td>3</td>\n",
       "      <td>中国Shanghai Shi</td>\n",
       "      <td>28019349</td>\n",
       "      <td>https://www.gravatar.com/avatar/a33ac21cad99e5...</td>\n",
       "      <td>1470</td>\n",
       "      <td>0</td>\n",
       "      <td>...</td>\n",
       "      <td>0</td>\n",
       "      <td>0</td>\n",
       "      <td>10</td>\n",
       "      <td>0.0</td>\n",
       "      <td>5</td>\n",
       "      <td>-234.970000</td>\n",
       "      <td>78</td>\n",
       "      <td>0</td>\n",
       "      <td>3</td>\n",
       "      <td>0</td>\n",
       "    </tr>\n",
       "    <tr>\n",
       "      <th>4</th>\n",
       "      <td>4</td>\n",
       "      <td>NaN</td>\n",
       "      <td>&lt;p&gt;I'm using an S3 bucket as the origin or a C...</td>\n",
       "      <td>100</td>\n",
       "      <td>77</td>\n",
       "      <td>NaN</td>\n",
       "      <td>32211159</td>\n",
       "      <td>NaN</td>\n",
       "      <td>10992</td>\n",
       "      <td>0</td>\n",
       "      <td>...</td>\n",
       "      <td>2</td>\n",
       "      <td>0</td>\n",
       "      <td>35</td>\n",
       "      <td>10.7</td>\n",
       "      <td>4</td>\n",
       "      <td>-527.002535</td>\n",
       "      <td>59</td>\n",
       "      <td>0</td>\n",
       "      <td>0</td>\n",
       "      <td>0</td>\n",
       "    </tr>\n",
       "  </tbody>\n",
       "</table>\n",
       "<p>5 rows × 47 columns</p>\n",
       "</div>"
      ],
      "text/plain": [
       "   Unnamed: 0                                            AboutMe  \\\n",
       "0           0                                                NaN   \n",
       "1           1                                                NaN   \n",
       "2           2  <p>Currently a software developer at HiQ Finla...   \n",
       "3           3  <p>Love the computer science &amp; technology ...   \n",
       "4           4                                                NaN   \n",
       "\n",
       "                                                Body  Comment  Downvotes  \\\n",
       "0  <p>Please someone explain complete step by ste...      100          0   \n",
       "1  <p>I've used SFST language for my project on N...      100          0   \n",
       "2  <p>The following JSON is returned from SharePo...      100       2413   \n",
       "3  <p>What's the benifit of allocating a chunk of...      100          3   \n",
       "4  <p>I'm using an S3 bucket as the origin or a C...      100         77   \n",
       "\n",
       "            Location    PostId  \\\n",
       "0                NaN  32203002   \n",
       "1                NaN  31961877   \n",
       "2  Helsinki, Finland  22080350   \n",
       "3     中国Shanghai Shi  28019349   \n",
       "4                NaN  32211159   \n",
       "\n",
       "                                     ProfileImageUrl  Reputation  SOUrlCount  \\\n",
       "0  https://lh4.googleusercontent.com/-_GtduZ_HroM...           6           0   \n",
       "1  https://lh4.googleusercontent.com/-_GtduZ_HroM...           6           0   \n",
       "2                https://i.stack.imgur.com/w2whQ.png       33857           0   \n",
       "3  https://www.gravatar.com/avatar/a33ac21cad99e5...        1470           0   \n",
       "4                                                NaN       10992           0   \n",
       "\n",
       "         ...        sentencesStartWithICount sentencesStartWithYouCount  \\\n",
       "0        ...                               0                          0   \n",
       "1        ...                               3                          0   \n",
       "2        ...                               0                          0   \n",
       "3        ...                               0                          0   \n",
       "4        ...                               2                          0   \n",
       "\n",
       "   shortWordCount  smogIndex  tagCount  tagWeightSum titleLengthInChars  \\\n",
       "0               6        0.0         2   -110.462467                 33   \n",
       "1              27        0.0         4   -157.135019                 25   \n",
       "2              25        0.0         3   -279.862500                134   \n",
       "3              10        0.0         5   -234.970000                 78   \n",
       "4              35       10.7         4   -527.002535                 59   \n",
       "\n",
       "   urlCount  userProfileFilled  websiteUrlFilled  \n",
       "0         0                  1                 0  \n",
       "1         2                  1                 0  \n",
       "2         0                  4                 1  \n",
       "3         0                  3                 0  \n",
       "4         0                  0                 0  \n",
       "\n",
       "[5 rows x 47 columns]"
      ]
     },
     "execution_count": 2,
     "metadata": {},
     "output_type": "execute_result"
    }
   ],
   "source": [
    "openCloseData=pd.read_csv(\"openCloseData9.csv\")\n",
    "openCloseData.head()"
   ]
  },
  {
   "cell_type": "code",
   "execution_count": 3,
   "metadata": {},
   "outputs": [
    {
     "name": "stdout",
     "output_type": "stream",
     "text": [
      "(159996, 47)\n",
      "(159996, 46)\n"
     ]
    }
   ],
   "source": [
    "print(openCloseData.shape)\n",
    "openCloseData.drop(['Unnamed: 0'],inplace=True,axis=1)\n",
    "print(openCloseData.shape)"
   ]
  },
  {
   "cell_type": "code",
   "execution_count": 4,
   "metadata": {},
   "outputs": [
    {
     "data": {
      "text/plain": [
       "Index(['AboutMe', 'Body', 'Comment', 'Downvotes', 'Location', 'PostId',\n",
       "       'ProfileImageUrl', 'Reputation', 'SOUrlCount', 'Tags', 'Title',\n",
       "       'Unnamed: 0.1', 'Upvotes', 'UserId', 'Views', 'WebsiteUrl',\n",
       "       'aboutMeFilled', 'bodyWordCount', 'closed', 'codeLength',\n",
       "       'colemanLiauIndex', 'countOfInterrogativeSent',\n",
       "       'daleChallReadabilityScore', 'experienceInTime', 'firstLineLength',\n",
       "       'fleschReadingEase', 'gunningFog', 'locationFilled', 'lowerUpperRatio',\n",
       "       'numAns', 'numPR', 'numPeopleReached', 'numQues',\n",
       "       'profileImageUrlFilled', 'punctuationCount', 'sentenceCount',\n",
       "       'sentencesStartWithICount', 'sentencesStartWithYouCount',\n",
       "       'shortWordCount', 'smogIndex', 'tagCount', 'tagWeightSum',\n",
       "       'titleLengthInChars', 'urlCount', 'userProfileFilled',\n",
       "       'websiteUrlFilled'],\n",
       "      dtype='object')"
      ]
     },
     "execution_count": 4,
     "metadata": {},
     "output_type": "execute_result"
    }
   ],
   "source": [
    "openCloseData.columns"
   ]
  },
  {
   "cell_type": "code",
   "execution_count": 5,
   "metadata": {},
   "outputs": [
    {
     "name": "stdout",
     "output_type": "stream",
     "text": [
      "                                             AboutMe  \\\n",
      "0                                                NaN   \n",
      "1                                                NaN   \n",
      "2  <p>Currently a software developer at HiQ Finla...   \n",
      "3  <p>Love the computer science &amp; technology ...   \n",
      "4                                                NaN   \n",
      "\n",
      "                                                Body  Comment  Downvotes  \\\n",
      "0  <p>Please someone explain complete step by ste...      100          0   \n",
      "1  <p>I've used SFST language for my project on N...      100          0   \n",
      "2  <p>The following JSON is returned from SharePo...      100       2413   \n",
      "3  <p>What's the benifit of allocating a chunk of...      100          3   \n",
      "4  <p>I'm using an S3 bucket as the origin or a C...      100         77   \n",
      "\n",
      "            Location    PostId  \\\n",
      "0                NaN  32203002   \n",
      "1                NaN  31961877   \n",
      "2  Helsinki, Finland  22080350   \n",
      "3     中国Shanghai Shi  28019349   \n",
      "4                NaN  32211159   \n",
      "\n",
      "                                     ProfileImageUrl  Reputation  SOUrlCount  \\\n",
      "0  https://lh4.googleusercontent.com/-_GtduZ_HroM...           6           0   \n",
      "1  https://lh4.googleusercontent.com/-_GtduZ_HroM...           6           0   \n",
      "2                https://i.stack.imgur.com/w2whQ.png       33857           0   \n",
      "3  https://www.gravatar.com/avatar/a33ac21cad99e5...        1470           0   \n",
      "4                                                NaN       10992           0   \n",
      "\n",
      "                                                Tags        ...         \\\n",
      "0                                       kernel|minix        ...          \n",
      "1                          python|nlp|transducer|fst        ...          \n",
      "2                               json|rest|powershell        ...          \n",
      "3  linux|memory-management|linux-kernel|memory-ad...        ...          \n",
      "4  amazon-web-services|amazon-s3|cdn|amazon-cloud...        ...          \n",
      "\n",
      "  sentencesStartWithICount  sentencesStartWithYouCount  shortWordCount  \\\n",
      "0                        0                           0               6   \n",
      "1                        3                           0              27   \n",
      "2                        0                           0              25   \n",
      "3                        0                           0              10   \n",
      "4                        2                           0              35   \n",
      "\n",
      "   smogIndex  tagCount tagWeightSum  titleLengthInChars  urlCount  \\\n",
      "0        0.0         2  -110.462467                  33         0   \n",
      "1        0.0         4  -157.135019                  25         2   \n",
      "2        0.0         3  -279.862500                 134         0   \n",
      "3        0.0         5  -234.970000                  78         0   \n",
      "4       10.7         4  -527.002535                  59         0   \n",
      "\n",
      "   userProfileFilled  websiteUrlFilled  \n",
      "0                  1                 0  \n",
      "1                  1                 0  \n",
      "2                  4                 1  \n",
      "3                  3                 0  \n",
      "4                  0                 0  \n",
      "\n",
      "[5 rows x 46 columns]\n"
     ]
    }
   ],
   "source": [
    "print(openCloseData.head())"
   ]
  },
  {
   "cell_type": "code",
   "execution_count": 6,
   "metadata": {},
   "outputs": [],
   "source": [
    "closeData = openCloseData[openCloseData['closed'] == 1]"
   ]
  },
  {
   "cell_type": "code",
   "execution_count": 7,
   "metadata": {},
   "outputs": [
    {
     "data": {
      "text/plain": [
       "(79996, 46)"
      ]
     },
     "execution_count": 7,
     "metadata": {},
     "output_type": "execute_result"
    }
   ],
   "source": [
    "closeData.shape"
   ]
  },
  {
   "cell_type": "code",
   "execution_count": 8,
   "metadata": {},
   "outputs": [
    {
     "name": "stdout",
     "output_type": "stream",
     "text": [
      "(79996, 28)\n",
      "<class 'pandas.core.frame.DataFrame'>\n"
     ]
    }
   ],
   "source": [
    "X = closeData.loc[:,['Comment', 'Reputation', 'experienceInTime', 'Views', 'Upvotes', 'Downvotes',\n",
    "        'tagCount', 'lowerUpperRatio', 'sentenceCount', 'firstLineLength', 'codeLength',\n",
    "       'urlCount', 'SOUrlCount', 'titleLengthInChars', 'countOfInterrogativeSent', 'sentencesStartWithYouCount',\n",
    "       'sentencesStartWithICount', 'shortWordCount', 'bodyWordCount', 'punctuationCount', 'gunningFog',\n",
    "       'fleschReadingEase', 'daleChallReadabilityScore', 'smogIndex',\n",
    "       'colemanLiauIndex', 'userProfileFilled', 'numAns', 'numQues'] ]\n",
    "\n",
    "X.replace(np.nan,0,inplace=True)  #replacing NaN to 0\n",
    "X.lowerUpperRatio.replace(np.inf,0,inplace=True)  #replacing infinity to 0\n",
    "print(X.shape)\n",
    "print(type(X))"
   ]
  },
  {
   "cell_type": "code",
   "execution_count": 9,
   "metadata": {},
   "outputs": [],
   "source": [
    "X.reset_index(inplace = True)\n",
    "X.drop(['index'],inplace=True,axis=1)"
   ]
  },
  {
   "cell_type": "code",
   "execution_count": 10,
   "metadata": {},
   "outputs": [
    {
     "name": "stdout",
     "output_type": "stream",
     "text": [
      "False\n"
     ]
    },
    {
     "data": {
      "text/html": [
       "<div>\n",
       "<style scoped>\n",
       "    .dataframe tbody tr th:only-of-type {\n",
       "        vertical-align: middle;\n",
       "    }\n",
       "\n",
       "    .dataframe tbody tr th {\n",
       "        vertical-align: top;\n",
       "    }\n",
       "\n",
       "    .dataframe thead th {\n",
       "        text-align: right;\n",
       "    }\n",
       "</style>\n",
       "<table border=\"1\" class=\"dataframe\">\n",
       "  <thead>\n",
       "    <tr style=\"text-align: right;\">\n",
       "      <th></th>\n",
       "      <th>Comment</th>\n",
       "      <th>Reputation</th>\n",
       "      <th>experienceInTime</th>\n",
       "      <th>Views</th>\n",
       "      <th>Upvotes</th>\n",
       "      <th>Downvotes</th>\n",
       "      <th>tagCount</th>\n",
       "      <th>lowerUpperRatio</th>\n",
       "      <th>sentenceCount</th>\n",
       "      <th>firstLineLength</th>\n",
       "      <th>...</th>\n",
       "      <th>bodyWordCount</th>\n",
       "      <th>punctuationCount</th>\n",
       "      <th>gunningFog</th>\n",
       "      <th>fleschReadingEase</th>\n",
       "      <th>daleChallReadabilityScore</th>\n",
       "      <th>smogIndex</th>\n",
       "      <th>colemanLiauIndex</th>\n",
       "      <th>userProfileFilled</th>\n",
       "      <th>numAns</th>\n",
       "      <th>numQues</th>\n",
       "    </tr>\n",
       "  </thead>\n",
       "  <tbody>\n",
       "    <tr>\n",
       "      <th>0</th>\n",
       "      <td>102</td>\n",
       "      <td>17527</td>\n",
       "      <td>1953</td>\n",
       "      <td>2765</td>\n",
       "      <td>2005</td>\n",
       "      <td>119</td>\n",
       "      <td>4</td>\n",
       "      <td>26.153846</td>\n",
       "      <td>6</td>\n",
       "      <td>69</td>\n",
       "      <td>...</td>\n",
       "      <td>168</td>\n",
       "      <td>50</td>\n",
       "      <td>71.70</td>\n",
       "      <td>-80.10</td>\n",
       "      <td>13.96</td>\n",
       "      <td>0.0</td>\n",
       "      <td>9.83</td>\n",
       "      <td>2</td>\n",
       "      <td>583</td>\n",
       "      <td>209</td>\n",
       "    </tr>\n",
       "    <tr>\n",
       "      <th>1</th>\n",
       "      <td>102</td>\n",
       "      <td>151</td>\n",
       "      <td>1425</td>\n",
       "      <td>32</td>\n",
       "      <td>16</td>\n",
       "      <td>0</td>\n",
       "      <td>5</td>\n",
       "      <td>16.448276</td>\n",
       "      <td>10</td>\n",
       "      <td>75</td>\n",
       "      <td>...</td>\n",
       "      <td>113</td>\n",
       "      <td>19</td>\n",
       "      <td>52.99</td>\n",
       "      <td>-26.31</td>\n",
       "      <td>12.32</td>\n",
       "      <td>0.0</td>\n",
       "      <td>11.98</td>\n",
       "      <td>0</td>\n",
       "      <td>0</td>\n",
       "      <td>0</td>\n",
       "    </tr>\n",
       "    <tr>\n",
       "      <th>2</th>\n",
       "      <td>102</td>\n",
       "      <td>1639</td>\n",
       "      <td>900</td>\n",
       "      <td>208</td>\n",
       "      <td>75</td>\n",
       "      <td>1</td>\n",
       "      <td>3</td>\n",
       "      <td>18.916667</td>\n",
       "      <td>4</td>\n",
       "      <td>79</td>\n",
       "      <td>...</td>\n",
       "      <td>47</td>\n",
       "      <td>17</td>\n",
       "      <td>17.06</td>\n",
       "      <td>64.54</td>\n",
       "      <td>7.83</td>\n",
       "      <td>0.0</td>\n",
       "      <td>14.97</td>\n",
       "      <td>3</td>\n",
       "      <td>20</td>\n",
       "      <td>13</td>\n",
       "    </tr>\n",
       "    <tr>\n",
       "      <th>3</th>\n",
       "      <td>102</td>\n",
       "      <td>2669</td>\n",
       "      <td>620</td>\n",
       "      <td>658</td>\n",
       "      <td>282</td>\n",
       "      <td>11</td>\n",
       "      <td>2</td>\n",
       "      <td>12.272727</td>\n",
       "      <td>5</td>\n",
       "      <td>210</td>\n",
       "      <td>...</td>\n",
       "      <td>94</td>\n",
       "      <td>45</td>\n",
       "      <td>26.89</td>\n",
       "      <td>32.23</td>\n",
       "      <td>9.16</td>\n",
       "      <td>0.0</td>\n",
       "      <td>17.02</td>\n",
       "      <td>4</td>\n",
       "      <td>43</td>\n",
       "      <td>70</td>\n",
       "    </tr>\n",
       "    <tr>\n",
       "      <th>4</th>\n",
       "      <td>105</td>\n",
       "      <td>2669</td>\n",
       "      <td>369</td>\n",
       "      <td>658</td>\n",
       "      <td>282</td>\n",
       "      <td>11</td>\n",
       "      <td>2</td>\n",
       "      <td>32.714286</td>\n",
       "      <td>10</td>\n",
       "      <td>35</td>\n",
       "      <td>...</td>\n",
       "      <td>104</td>\n",
       "      <td>128</td>\n",
       "      <td>20.32</td>\n",
       "      <td>53.58</td>\n",
       "      <td>7.94</td>\n",
       "      <td>11.9</td>\n",
       "      <td>15.97</td>\n",
       "      <td>4</td>\n",
       "      <td>43</td>\n",
       "      <td>70</td>\n",
       "    </tr>\n",
       "  </tbody>\n",
       "</table>\n",
       "<p>5 rows × 28 columns</p>\n",
       "</div>"
      ],
      "text/plain": [
       "   Comment  Reputation  experienceInTime  Views  Upvotes  Downvotes  tagCount  \\\n",
       "0      102       17527              1953   2765     2005        119         4   \n",
       "1      102         151              1425     32       16          0         5   \n",
       "2      102        1639               900    208       75          1         3   \n",
       "3      102        2669               620    658      282         11         2   \n",
       "4      105        2669               369    658      282         11         2   \n",
       "\n",
       "   lowerUpperRatio  sentenceCount  firstLineLength   ...     bodyWordCount  \\\n",
       "0        26.153846              6               69   ...               168   \n",
       "1        16.448276             10               75   ...               113   \n",
       "2        18.916667              4               79   ...                47   \n",
       "3        12.272727              5              210   ...                94   \n",
       "4        32.714286             10               35   ...               104   \n",
       "\n",
       "   punctuationCount  gunningFog  fleschReadingEase  daleChallReadabilityScore  \\\n",
       "0                50       71.70             -80.10                      13.96   \n",
       "1                19       52.99             -26.31                      12.32   \n",
       "2                17       17.06              64.54                       7.83   \n",
       "3                45       26.89              32.23                       9.16   \n",
       "4               128       20.32              53.58                       7.94   \n",
       "\n",
       "   smogIndex  colemanLiauIndex  userProfileFilled  numAns  numQues  \n",
       "0        0.0              9.83                  2     583      209  \n",
       "1        0.0             11.98                  0       0        0  \n",
       "2        0.0             14.97                  3      20       13  \n",
       "3        0.0             17.02                  4      43       70  \n",
       "4       11.9             15.97                  4      43       70  \n",
       "\n",
       "[5 rows x 28 columns]"
      ]
     },
     "execution_count": 10,
     "metadata": {},
     "output_type": "execute_result"
    }
   ],
   "source": [
    "print(X.isnull().values.any())\n",
    "X.head()"
   ]
  },
  {
   "cell_type": "code",
   "execution_count": 11,
   "metadata": {},
   "outputs": [
    {
     "name": "stdout",
     "output_type": "stream",
     "text": [
      "(79996, 28)\n"
     ]
    }
   ],
   "source": [
    "X['Comment']=X['Comment']-102\n",
    "#print(offTopic.head())\n",
    "print(X.shape)"
   ]
  },
  {
   "cell_type": "code",
   "execution_count": 12,
   "metadata": {},
   "outputs": [
    {
     "name": "stdout",
     "output_type": "stream",
     "text": [
      "(79996,)\n"
     ]
    }
   ],
   "source": [
    "# print(X[np.isinf(X).any(axis=1)])\n",
    "y = X.Comment\n",
    "X.drop(['Comment'],inplace=True,axis=1)\n",
    "print(y.shape)"
   ]
  },
  {
   "cell_type": "code",
   "execution_count": 13,
   "metadata": {},
   "outputs": [
    {
     "name": "stdout",
     "output_type": "stream",
     "text": [
      "(79996, 27)\n",
      "Index(['Reputation', 'experienceInTime', 'Views', 'Upvotes', 'Downvotes',\n",
      "       'tagCount', 'lowerUpperRatio', 'sentenceCount', 'firstLineLength',\n",
      "       'codeLength', 'urlCount', 'SOUrlCount', 'titleLengthInChars',\n",
      "       'countOfInterrogativeSent', 'sentencesStartWithYouCount',\n",
      "       'sentencesStartWithICount', 'shortWordCount', 'bodyWordCount',\n",
      "       'punctuationCount', 'gunningFog', 'fleschReadingEase',\n",
      "       'daleChallReadabilityScore', 'smogIndex', 'colemanLiauIndex',\n",
      "       'userProfileFilled', 'numAns', 'numQues'],\n",
      "      dtype='object')\n"
     ]
    }
   ],
   "source": [
    "print(X.shape)\n",
    "print(X.columns)"
   ]
  },
  {
   "cell_type": "code",
   "execution_count": 14,
   "metadata": {},
   "outputs": [
    {
     "name": "stdout",
     "output_type": "stream",
     "text": [
      "0\n",
      "1\n",
      "2\n",
      "3\n"
     ]
    }
   ],
   "source": [
    "print(y[0])\n",
    "print(y[25000])\n",
    "print(y[45000])\n",
    "print(y[65000])"
   ]
  },
  {
   "cell_type": "code",
   "execution_count": 15,
   "metadata": {},
   "outputs": [
    {
     "name": "stdout",
     "output_type": "stream",
     "text": [
      "<class 'numpy.ndarray'>\n"
     ]
    }
   ],
   "source": [
    "# x=(x-u)/std\n",
    "scaler = StandardScaler()\n",
    "#print(scaler.fit(X))\n",
    "#print(scaler.mean_)\n",
    "X=scaler.fit_transform(X)\n",
    "print(type(X))\n",
    "X = pd.DataFrame(X, columns=['Reputation', 'experienceInTime', 'Views', 'Upvotes', 'Downvotes',\n",
    "       'tagCount', 'lowerUpperRatio', 'sentenceCount', 'firstLineLength',\n",
    "       'codeLength', 'urlCount', 'SOUrlCount', 'titleLengthInChars',\n",
    "       'countOfInterrogativeSent', 'sentencesStartWithYouCount',\n",
    "       'sentencesStartWithICount', 'shortWordCount', 'bodyWordCount',\n",
    "       'punctuationCount', 'gunningFog', 'fleschReadingEase',\n",
    "       'daleChallReadabilityScore', 'smogIndex', 'colemanLiauIndex',\n",
    "       'userProfileFilled', 'numAns', 'numQues'])"
   ]
  },
  {
   "cell_type": "code",
   "execution_count": 16,
   "metadata": {},
   "outputs": [
    {
     "name": "stdout",
     "output_type": "stream",
     "text": [
      "(55997, 27)\n",
      "(55997,)\n",
      "(23999, 27)\n",
      "(23999,)\n"
     ]
    }
   ],
   "source": [
    "#Train/Test Split\n",
    "X_train,X_test,y_train,y_test=train_test_split(X,y,test_size=0.3,random_state=42)\n",
    "print(X_train.shape)\n",
    "print(y_train.shape)\n",
    "print(X_test.shape)\n",
    "print(y_test.shape)"
   ]
  },
  {
   "cell_type": "markdown",
   "metadata": {},
   "source": [
    "### SVM Classifier"
   ]
  },
  {
   "cell_type": "markdown",
   "metadata": {},
   "source": [
    "#### 1. With RBF Kernel"
   ]
  },
  {
   "cell_type": "code",
   "execution_count": null,
   "metadata": {},
   "outputs": [
    {
     "name": "stdout",
     "output_type": "stream",
     "text": [
      "Accuracy for C = 0.01 is : 0.3390\n",
      "Accuracy for C = 0.1 is : 0.3903\n",
      "Accuracy for C = 1 is : 0.4106\n"
     ]
    }
   ],
   "source": [
    "# c = [0.01,0.1,1,10,100,1000]\n",
    "# accuracy = []\n",
    "# y_predicted = np.zeros((y_test.shape))\n",
    "# max_accuracy = 0.0\n",
    "# rbf_svm_classifier = SVC(kernel = 'rbf')\n",
    "\n",
    "# for i in c:\n",
    "#     classifier = SVC(kernel = 'rbf', gamma = 0.25, C = i)\n",
    "#     classifier.fit(X_train, y_train)\n",
    "#     predicted_y = classifier.predict(X_test)\n",
    "#     accuracy.append(np.mean(y_test==predicted_y))\n",
    "#     print('Accuracy for C = {} is : {:.4f}'.format(i, accuracy[-1]))\n",
    "#     if(accuracy[-1] > max_accuracy):\n",
    "#         y_predicted = predicted_y\n",
    "#         max_accuracy = accuracy[-1]\n",
    "#         rbf_svm_classifier = classifier"
   ]
  },
  {
   "cell_type": "code",
   "execution_count": null,
   "metadata": {},
   "outputs": [
    {
     "name": "stdout",
     "output_type": "stream",
     "text": [
      "Accuracy for C = 10 is : 0.3712\n"
     ]
    }
   ],
   "source": [
    "# c = [10,100,1000]\n",
    "# accuracy = []\n",
    "# y_predicted = np.zeros((y_test.shape))\n",
    "# max_accuracy = 0.0\n",
    "# rbf_svm_classifier = SVC(kernel = 'rbf')\n",
    "\n",
    "# for i in c:\n",
    "#     classifier = SVC(kernel = 'rbf', gamma = 0.25, C = i)\n",
    "#     classifier.fit(X_train, y_train)\n",
    "#     predicted_y = classifier.predict(X_test)\n",
    "#     accuracy.append(np.mean(y_test==predicted_y))\n",
    "#     print('Accuracy for C = {} is : {:.4f}'.format(i, accuracy[-1]))\n",
    "#     if(accuracy[-1] > max_accuracy):\n",
    "#         y_predicted = predicted_y\n",
    "#         max_accuracy = accuracy[-1]\n",
    "#         rbf_svm_classifier = classifier"
   ]
  },
  {
   "cell_type": "code",
   "execution_count": 17,
   "metadata": {},
   "outputs": [
    {
     "data": {
      "text/plain": [
       "SVC(C=1.0, cache_size=200, class_weight=None, coef0=0.0,\n",
       "  decision_function_shape='ovr', degree=3, gamma='auto', kernel='rbf',\n",
       "  max_iter=-1, probability=False, random_state=None, shrinking=True,\n",
       "  tol=0.001, verbose=False)"
      ]
     },
     "execution_count": 17,
     "metadata": {},
     "output_type": "execute_result"
    }
   ],
   "source": [
    "rbf_svm_classifier = SVC(kernel = 'rbf')\n",
    "rbf_svm_classifier.fit(X_train, y_train)"
   ]
  },
  {
   "cell_type": "code",
   "execution_count": 18,
   "metadata": {},
   "outputs": [
    {
     "name": "stdout",
     "output_type": "stream",
     "text": [
      "Train Accuracy: 0.45564940979\n",
      "\n",
      "\n",
      "             precision    recall  f1-score   support\n",
      "\n",
      "          0       0.44      0.26      0.33     14081\n",
      "          1       0.44      0.53      0.48     13884\n",
      "          2       0.41      0.38      0.39     14084\n",
      "          3       0.52      0.66      0.58     13948\n",
      "\n",
      "avg / total       0.45      0.46      0.44     55997\n",
      "\n"
     ]
    }
   ],
   "source": [
    "y_pred = rbf_svm_classifier.predict(X_train)\n",
    "print('Train Accuracy: ' + str(np.mean(y_train==y_pred)))\n",
    "print(\"\\n\")\n",
    "print(classification_report(y_train,y_pred))"
   ]
  },
  {
   "cell_type": "code",
   "execution_count": 19,
   "metadata": {},
   "outputs": [
    {
     "name": "stdout",
     "output_type": "stream",
     "text": [
      "Test Accuracy: 0.424059335806\n",
      "\n",
      "\n",
      "             precision    recall  f1-score   support\n",
      "\n",
      "          0       0.36      0.20      0.26      5916\n",
      "          1       0.42      0.49      0.45      6116\n",
      "          2       0.37      0.34      0.35      5915\n",
      "          3       0.50      0.65      0.56      6052\n",
      "\n",
      "avg / total       0.41      0.42      0.41     23999\n",
      "\n"
     ]
    }
   ],
   "source": [
    "y_pred = rbf_svm_classifier.predict(X_test)\n",
    "print('Test Accuracy: ' + str(np.mean(y_test==y_pred)))\n",
    "print(\"\\n\")\n",
    "print(classification_report(y_test,y_pred))\n",
    "\n",
    "# Test Accuracy: 0.424059335806\n",
    "\n",
    "\n",
    "#              precision    recall  f1-score   support\n",
    "\n",
    "#           0       0.36      0.20      0.26      5916\n",
    "#           1       0.42      0.49      0.45      6116\n",
    "#           2       0.37      0.34      0.35      5915\n",
    "#           3       0.50      0.65      0.56      6052\n",
    "\n",
    "# avg / total       0.41      0.42      0.41     23999\n"
   ]
  },
  {
   "cell_type": "code",
   "execution_count": 20,
   "metadata": {},
   "outputs": [
    {
     "data": {
      "text/plain": [
       "['rbf_svm_2.joblib']"
      ]
     },
     "execution_count": 20,
     "metadata": {},
     "output_type": "execute_result"
    }
   ],
   "source": [
    "#https://scikit-learn.org/stable/modules/model_persistence.html\n",
    "#EXPORTING RBF SVM\n",
    "from joblib import dump, load\n",
    "dump(rbf_svm_classifier, 'rbf_svm_2.joblib') "
   ]
  },
  {
   "cell_type": "code",
   "execution_count": 22,
   "metadata": {},
   "outputs": [
    {
     "name": "stdout",
     "output_type": "stream",
     "text": [
      "Collecting joblib\n",
      "  Downloading https://files.pythonhosted.org/packages/cd/c1/50a758e8247561e58cb87305b1e90b171b8c767b15b12a1734001f41d356/joblib-0.13.2-py2.py3-none-any.whl (278kB)\n",
      "Installing collected packages: joblib\n",
      "Successfully installed joblib-0.13.2\n"
     ]
    }
   ],
   "source": [
    "#!pip install joblib"
   ]
  },
  {
   "cell_type": "markdown",
   "metadata": {},
   "source": [
    "#### 5-FOLD CV"
   ]
  },
  {
   "cell_type": "code",
   "execution_count": 21,
   "metadata": {},
   "outputs": [],
   "source": [
    "k_fold = KFold(n_splits=5)"
   ]
  },
  {
   "cell_type": "code",
   "execution_count": 22,
   "metadata": {},
   "outputs": [],
   "source": [
    "val_score = cross_val_score(rbf_svm_classifier,X,y,cv=k_fold,scoring='accuracy',n_jobs=-1)"
   ]
  },
  {
   "cell_type": "code",
   "execution_count": 23,
   "metadata": {},
   "outputs": [
    {
     "name": "stdout",
     "output_type": "stream",
     "text": [
      "[ 0.08425     0.21082568  0.09963123  0.07225452  0.02500156]\n"
     ]
    }
   ],
   "source": [
    "print(val_score)"
   ]
  },
  {
   "cell_type": "markdown",
   "metadata": {},
   "source": [
    "#### 2. With Linear Kernel"
   ]
  },
  {
   "cell_type": "code",
   "execution_count": 24,
   "metadata": {},
   "outputs": [
    {
     "name": "stdout",
     "output_type": "stream",
     "text": [
      "Accuracy for C = 0.1 is : 0.4047\n",
      "Accuracy for C = 1.1 is : 0.4057\n",
      "Accuracy for C = 2.1 is : 0.4069\n",
      "Accuracy for C = 3.1 is : 0.4048\n",
      "Accuracy for C = 4.1 is : 0.4050\n",
      "Accuracy for C = 5.1 is : 0.4065\n",
      "Accuracy for C = 6.1 is : 0.4043\n",
      "Accuracy for C = 7.1 is : 0.4082\n",
      "Accuracy for C = 8.1 is : 0.4066\n",
      "Accuracy for C = 9.1 is : 0.4052\n",
      "Accuracy for C = 10.1 is : 0.3980\n",
      "Accuracy for C = 11.1 is : 0.3962\n",
      "Accuracy for C = 12.1 is : 0.4010\n",
      "Accuracy for C = 13.1 is : 0.4024\n",
      "Accuracy for C = 14.1 is : 0.4000\n"
     ]
    }
   ],
   "source": [
    "c = list(np.arange(0.1, 15, 1.0))\n",
    "# c=[0.01,0.1,1,10,100,1000]\n",
    "accuracy = []\n",
    "y_predicted = np.zeros((y_test.shape))\n",
    "max_accuracy = 0.0\n",
    "linear_svm_classifier = LinearSVC()\n",
    "\n",
    "for i in c:\n",
    "    classifier = LinearSVC(C = i)\n",
    "    classifier.fit(X_train, y_train)\n",
    "    predicted_y = classifier.predict(X_test)\n",
    "    accuracy.append(np.mean(y_test==predicted_y))\n",
    "    print('Accuracy for C = {} is : {:.4f}'.format(i, accuracy[-1]))\n",
    "    if(accuracy[-1] > max_accuracy):\n",
    "        y_predicted = predicted_y\n",
    "        max_accuracy = accuracy[-1]\n",
    "        linear_svm_classifier = classifier\n",
    "        \n",
    "# Accuracy for C = 0.01 is : 0.4034\n",
    "# Accuracy for C = 0.1 is : 0.4052\n",
    "# Accuracy for C = 1 is : 0.4057\n",
    "# Accuracy for C = 10 is : 0.4057\n",
    "# Accuracy for C = 100 is : 0.3188\n",
    "# Accuracy for C = 1000 is : 0.2889\n"
   ]
  },
  {
   "cell_type": "code",
   "execution_count": 25,
   "metadata": {},
   "outputs": [
    {
     "name": "stdout",
     "output_type": "stream",
     "text": [
      "LinearSVC(C=7.0999999999999996, class_weight=None, dual=True,\n",
      "     fit_intercept=True, intercept_scaling=1, loss='squared_hinge',\n",
      "     max_iter=1000, multi_class='ovr', penalty='l2', random_state=None,\n",
      "     tol=0.0001, verbose=0)\n"
     ]
    }
   ],
   "source": [
    "print(linear_svm_classifier)"
   ]
  },
  {
   "cell_type": "code",
   "execution_count": 27,
   "metadata": {},
   "outputs": [
    {
     "data": {
      "image/png": "[encoded data removed]",
      "text/plain": [
       "<Figure size 720x504 with 1 Axes>"
      ]
     },
     "metadata": {},
     "output_type": "display_data"
    }
   ],
   "source": [
    "import matplotlib.pyplot as plt\n",
    "\n",
    "plt.figure(figsize=(10,7))\n",
    "plt.plot(c, accuracy)\n",
    "plt.scatter(c, accuracy)\n",
    "plt.title('Accuracy vs C')\n",
    "plt.xlabel('C')\n",
    "plt.ylabel('Accuracy')\n",
    "plt.grid(True)\n",
    "plt.show()"
   ]
  },
  {
   "cell_type": "code",
   "execution_count": 28,
   "metadata": {},
   "outputs": [
    {
     "data": {
      "text/plain": [
       "array([ 0.079375  ,  0.15332208,  0.06819176,  0.07562973,  0.02650166])"
      ]
     },
     "execution_count": 28,
     "metadata": {},
     "output_type": "execute_result"
    }
   ],
   "source": [
    "cross_val_score(linear_svm_classifier,X,y,cv=k_fold,scoring='accuracy',n_jobs=-1)"
   ]
  },
  {
   "cell_type": "code",
   "execution_count": 29,
   "metadata": {},
   "outputs": [
    {
     "name": "stdout",
     "output_type": "stream",
     "text": [
      "Train Accurcay:  0.404164508813\n"
     ]
    }
   ],
   "source": [
    "y_train_pred = linear_svm_classifier.predict(X_train)\n",
    "print('Train Accurcay: ', np.mean(y_train == y_train_pred))"
   ]
  },
  {
   "cell_type": "code",
   "execution_count": 30,
   "metadata": {},
   "outputs": [
    {
     "name": "stdout",
     "output_type": "stream",
     "text": [
      "             precision    recall  f1-score   support\n",
      "\n",
      "          0       0.36      0.20      0.26      5916\n",
      "          1       0.42      0.49      0.45      6116\n",
      "          2       0.37      0.34      0.35      5915\n",
      "          3       0.50      0.65      0.56      6052\n",
      "\n",
      "avg / total       0.41      0.42      0.41     23999\n",
      "\n"
     ]
    }
   ],
   "source": [
    "print(classification_report(y_test,y_pred))"
   ]
  },
  {
   "cell_type": "code",
   "execution_count": null,
   "metadata": {},
   "outputs": [],
   "source": []
  }
 ],
 "metadata": {
  "kernelspec": {
   "display_name": "Python 3",
   "language": "python",
   "name": "python3"
  },
  "language_info": {
   "codemirror_mode": {
    "name": "ipython",
    "version": 3
   },
   "file_extension": ".py",
   "mimetype": "text/x-python",
   "name": "python",
   "nbconvert_exporter": "python",
   "pygments_lexer": "ipython3",
   "version": "3.6.8"
  }
 },
 "nbformat": 4,
 "nbformat_minor": 2
}
